{
 "cells": [
  {
   "cell_type": "code",
   "execution_count": 249,
   "id": "49b8e331-b2eb-456c-8a21-753aa51d495b",
   "metadata": {},
   "outputs": [],
   "source": [
    "#Importing some important libraries for further use\n",
    "\n",
    "import pandas as pd\n",
    "import numpy as np\n",
    "import matplotlib.pyplot as plt\n",
    "from IPython.display import display\n",
    "import plotly.express as px"
   ]
  },
  {
   "cell_type": "raw",
   "id": "f294c9e2-d3d7-44c3-a5da-07b761880409",
   "metadata": {},
   "source": []
  },
  {
   "cell_type": "code",
   "execution_count": 250,
   "id": "21cd6ca3-c66c-409b-b555-c4f1fe2c03a3",
   "metadata": {},
   "outputs": [],
   "source": [
    "#Reading the csv files\n",
    "\n",
    "article_df = pd.read_csv(r\"D:\\Skills-Assessment 2\\Group 2\\articles.B2M.csv\")\n",
    "authors_df = pd.read_csv(r\"D:\\Skills-Assessment 2\\Group 2\\authors.B2M.csv\")\n",
    "pap_counts_df = pd.read_csv(r\"D:\\Skills-Assessment 2\\Group 2\\paper_counts.csv\")"
   ]
  },
  {
   "cell_type": "code",
   "execution_count": 251,
   "id": "626bfb51-7b82-4fc0-992b-729c44075502",
   "metadata": {},
   "outputs": [
    {
     "data": {
      "text/html": [
       "<div>\n",
       "<style scoped>\n",
       "    .dataframe tbody tr th:only-of-type {\n",
       "        vertical-align: middle;\n",
       "    }\n",
       "\n",
       "    .dataframe tbody tr th {\n",
       "        vertical-align: top;\n",
       "    }\n",
       "\n",
       "    .dataframe thead th {\n",
       "        text-align: right;\n",
       "    }\n",
       "</style>\n",
       "<table border=\"1\" class=\"dataframe\">\n",
       "  <thead>\n",
       "    <tr style=\"text-align: right;\">\n",
       "      <th></th>\n",
       "      <th>PMID</th>\n",
       "      <th>Title</th>\n",
       "      <th>Abstract</th>\n",
       "      <th>ISSN</th>\n",
       "      <th>Journal</th>\n",
       "      <th>Location</th>\n",
       "      <th>Year</th>\n",
       "      <th>FirstAuthorForename</th>\n",
       "      <th>FirstAuthorLastname</th>\n",
       "      <th>FirstAuthorInitials</th>\n",
       "      <th>FirstAuthorAffiliation</th>\n",
       "    </tr>\n",
       "  </thead>\n",
       "  <tbody>\n",
       "    <tr>\n",
       "      <th>0</th>\n",
       "      <td>10575721</td>\n",
       "      <td>[Computer-assisted preoperative planning of knee replacement arthroplasty].</td>\n",
       "      <td>The general configuration of replaced knee is difficult to anticipate because of the large number of geometrical parameters related to morphology, prosthetic implants and pre-operative choices (such as ligament release). This article features the studies achieved in order to create a decision aiding computer tool dedicated to total knee prosthesis. METHOD AND MODEL: We have built a geometrical modelling of the physiological knee and prosthesis elements association. A numerical processing through biomechanical laws permitted to simulate the geometrical and mechanical behaviour of the whole for different flexing angle.</td>\n",
       "      <td>0035-1040</td>\n",
       "      <td>Revue de chirurgie orthopedique et reparatrice de l'appareil moteur</td>\n",
       "      <td>(85) 591-600</td>\n",
       "      <td>1999</td>\n",
       "      <td>E</td>\n",
       "      <td>Nerkowski</td>\n",
       "      <td>E</td>\n",
       "      <td>Equipe B2M, ENSAM, Aix-en-Provence.</td>\n",
       "    </tr>\n",
       "    <tr>\n",
       "      <th>1</th>\n",
       "      <td>10617805</td>\n",
       "      <td>[Urogenital amyloidosis: clinico-pathological study of 8 cases].</td>\n",
       "      <td>Amyloidosis of the genito-urinary tract is uncommon. We report 8 cases, often misdiagnosed as a neoplastic process (6/8). Amyloidosis was localized in the bladder (3 cases), in the ureter (1 case) and in the prostate and/or seminal vesicles (4 cases). The amyloid protein was characterized in 7 cases by immunohistochemistry. Among the bladder and ureter amyloidosis, 2 cases were classified as AL lambda amyloidosis and one case as AA amyloidosis in a patient with long history of chronic arthritis. In the fourth case, the deposits could not be identified. Nevertheless an AL amyloidosis might be suggested. Two cases of prostate and/or seminal vesicles amyloidosis were stained with an anti-B2M antibody, in hemodialyzed patients. The 2 others, positive with the anti-Transthyretina antibody, were classified as senile amyloidosis. This small series illustrated the heterogeneous pathogenic types of amyloidosis in the urogenital tract and emphasized the interest of immunohistochemistry to identify the chemical composition of these deposits.</td>\n",
       "      <td>0242-6498</td>\n",
       "      <td>Annales de pathologie</td>\n",
       "      <td>(19) 487-91</td>\n",
       "      <td>1999</td>\n",
       "      <td>M</td>\n",
       "      <td>Esslimani</td>\n",
       "      <td>M</td>\n",
       "      <td>Service d'Anatomie Pathologique, Hôpital Gui de Chauliac, 34295 Montpellier Cedex 5.</td>\n",
       "    </tr>\n",
       "    <tr>\n",
       "      <th>2</th>\n",
       "      <td>10656443</td>\n",
       "      <td>Serum beta-2 microglobulin levels are a significant prognostic factor in Philadelphia chromosome-positive chronic myelogenous leukemia.</td>\n",
       "      <td>Our objective was to investigate the prognostic significance of serum beta-2 microglobulin (B2M) levels among patients with chronic myelogenous leukemia (CML). All patients with Philadelphia chromosome-positive early chronic phase CML (i.e., within 1 year of diagnosis) treated with IFN alpha-based therapy at the M. D. Anderson Cancer Center between 1980 and 1997, in whom pretreatment B2M levels were available, were investigated. Two hundred one patients were evaluable. Their median B2M was 2.2 mg/dl (range, 1.1-20 mg/dl). Serum B2M levels were associated with other variables of prognostic significance, including age, spleen size, WBC count, percentage of peripheral and marrow blasts, and percentage of marrow basophils. Patients with B2M levels &gt;2.9 mg/dl (ie., the upper quartile of the distribution) had a significantly lower rate of major cytogenetic response compared to those in the lower three quartiles (20 versus 52%; P &lt; 0.01). They also had a shorter survival, with a 5-year survival rate of 48%, compared with 75% for those in the lower quartiles (P = 0.01). High B2M levels (&gt;2.9 mg/dl) could identify a group of patients with an adverse outcome within patients in stage I disease (P = 0.02). Results for patients in stages 2-4 were inconclusive because of the small number of patients in these groups. We conclude that serum B2M levels are an important, and probably independent, prognostic factor for patients with CML in early chronic phase treated with IFN-based therapy.</td>\n",
       "      <td>1078-0432</td>\n",
       "      <td>Clinical cancer research : an official journal of the American Association for Cancer Research</td>\n",
       "      <td>(6) 147-52</td>\n",
       "      <td>2000</td>\n",
       "      <td>J</td>\n",
       "      <td>Rodriguez</td>\n",
       "      <td>J</td>\n",
       "      <td>Department of Leukemia, University of Texas M.D. Anderson Cancer Center, Houston 77030, USA.</td>\n",
       "    </tr>\n",
       "    <tr>\n",
       "      <th>3</th>\n",
       "      <td>10790290</td>\n",
       "      <td>Exposure of Daudi cells to low-frequency magnetic fields does not elevate MYC steady-state mRNA levels.</td>\n",
       "      <td>The effect of extremely low-frequency electromagnetic field (ELF EMF) exposures to human health has been widely debated. Epidemiological studies have found a possible correlation between increased cancer incidence and environmental ELF EMF exposures. Results from in vitro studies performed to examine the possible underlying bioeffects of ELF EMFs have varied greatly. Reported effects range from robust and reproducible effects to undetectable. In this study, Daudi cells were exposed to 60 Hz magnetic fields for 20, 40 or 60 min at flux densities of 12.5, 50, 100 or 500 microT. Exposures were performed in the Regional ELF-EMF Exposure Facility (Rockville, MD) to minimize variables that might contribute to a false positive effect. Exposures included sham/sham, exposed/sham or sham/exposed, and were performed with blinding with respect to type of exposure. 12-O-Tetradecanoylphorbol-13-acetate (TPA) treatment was used as a positive control. Total cellular RNA was isolated using a single-step technique. Human MYC expression was measured by northern blot hybridization as an indicator of the responsiveness of Daudi cells to experimental conditions. Beta-2-microglobulin (B2M) expression was measured simultaneously as an internal control. Exposure to a 60 Hz magnetic field did not significantly alter MYC expression in Daudi cells under any of the exposure conditions.</td>\n",
       "      <td>0033-7587</td>\n",
       "      <td>Radiation research</td>\n",
       "      <td>(153) 663-9</td>\n",
       "      <td>2000</td>\n",
       "      <td>C A</td>\n",
       "      <td>Morehouse</td>\n",
       "      <td>CA</td>\n",
       "      <td>FDA Center for Devices and Radiological Health, Rockville, Maryland 20850, USA.</td>\n",
       "    </tr>\n",
       "    <tr>\n",
       "      <th>4</th>\n",
       "      <td>10793017</td>\n",
       "      <td>Effects of dialyzer reuse on the permeability of low-flux membranes.</td>\n",
       "      <td>Little attention has been given to the effects of reuse on the permeability of low-flux membranes, especially regarding middle molecules. We studied two different types of low-flux membranes at reuses 0, 6, and 12 in five patients undergoing hemodialysis with the following combinations of membrane and sterilant: cellulose diacetate membrane and formaldehyde, polysulfone membrane and formaldehyde, cellulose diacetate membrane and peracetic acid, and polysulfone and peracetic acid. The permeability of the membranes was assessed through the hydraulic ultrafiltration coefficient (K(UF)), sieving coefficient for beta(2)-microglobulin (B2M), and vitamin B(12) and albumin concentrations in ultrafiltrate. After 12 reuses, total cell volume (TCV) tended to be reduced in both cellulose diacetate and polysulfone dialyzers irrespective of the sterilant used, but significance was only found for the first set of dialyzers. Cellulose diacetate dialyzers reprocessed with either formaldehyde or peracetic acid showed an important reduction in K(UF) (31% [P &lt; 0.05] and 23% [P &lt; 0.05], respectively). A significant elevation in K(UF) was found in polysulfone membranes reprocessed with peracetic acid (41%; P &lt; 0.05), but no alterations in K(UF) were found in polysulfone membranes reprocessed with formaldehyde. Cellulose diacetate membranes were intrinsically more permeable to B2M than polysulfone membranes (sieving coefficient, 6. 85 +/- 2.53 versus 0.04 +/- 0.02 x 10(-2); P &lt; 0.001), which was not modified by any of the sterilants. Vitamin B(12) levels in ultrafiltrate decreased to an undetectable level in four of five samples collected after 12 reuses in polysulfone membranes reprocessed with peracetic acid (90 +/- 71 to 3 +/- 8 pg/mL; P &lt; 0. 05 versus reuse 0). Albumin leakage occurred in two of five samples after the 12th reuse, but only in polysulfone membranes reprocessed with peracetic acid. Our findings suggest that reuse of low-flux polysulfone dialyzers reprocessed with peracetic acid is associated with structural damage of the membrane and a reduced permeability to middle molecules.</td>\n",
       "      <td>1523-6838</td>\n",
       "      <td>American journal of kidney diseases : the official journal of the National Kidney Foundation</td>\n",
       "      <td>(35) 839-44</td>\n",
       "      <td>2000</td>\n",
       "      <td>J P</td>\n",
       "      <td>Matos</td>\n",
       "      <td>JP</td>\n",
       "      <td>Department of Internal Medicine, Division of Nephrology, and Department of Pathology, Universidade Federal Fluminense, Niterói, Rio de Janeiro, Brazil.</td>\n",
       "    </tr>\n",
       "    <tr>\n",
       "      <th>...</th>\n",
       "      <td>...</td>\n",
       "      <td>...</td>\n",
       "      <td>...</td>\n",
       "      <td>...</td>\n",
       "      <td>...</td>\n",
       "      <td>...</td>\n",
       "      <td>...</td>\n",
       "      <td>...</td>\n",
       "      <td>...</td>\n",
       "      <td>...</td>\n",
       "      <td>...</td>\n",
       "    </tr>\n",
       "    <tr>\n",
       "      <th>660</th>\n",
       "      <td>37889281</td>\n",
       "      <td>Artificial intelligence in early detection and prediction of pediatric/neonatal acute kidney injury: current status and future directions.</td>\n",
       "      <td>Acute kidney injury (AKI) has a significant impact on the short-term and long-term clinical outcomes of pediatric and neonatal patients, and it is imperative in these populations to mitigate the pathways leading to AKI and be prepared for early diagnosis and treatment intervention of established AKI. Recently, artificial intelligence (AI) has provided more advent predictive models for early detection/prediction of AKI utilizing machine learning (ML). By providing strong detail and evidence from risk scores and electronic alerts, this review outlines a comprehensive and holistic insight into the current state of AI in AKI in pediatric/neonatal patients. In the pediatric population, AI models including XGBoost, logistic regression, support vector machines, decision trees, naïve Bayes, and risk stratification scores (Renal Angina Index (RAI), Nephrotoxic Injury Negated by Just-in-time Action (NINJA)) have shown success in predicting AKI using variables like serum creatinine, urine output, and electronic health record (EHR) alerts. Similarly, in the neonatal population, using the \"Baby NINJA\" model showed a decrease in nephrotoxic medication exposure by 42%, the rate of AKI by 78%, and the number of days with AKI by 68%. Furthermore, the \"STARZ\" risk stratification AI model showed a predictive ability of AKI within 7 days of NICU admission of AUC 0.93 and AUC of 0.96 in the validation and derivation cohorts, respectively. Many studies have reported the superiority of using biomarkers to predict AKI in pediatric patients and neonates as well. Future directions include the application of AI along with biomarkers (NGAL, CysC, OPN, IL-18, B2M, etc.) in a Labelbox configuration to create a more robust and accurate model for predicting and detecting pediatric/neonatal AKI.</td>\n",
       "      <td>1432-198X</td>\n",
       "      <td>Pediatric nephrology (Berlin, Germany)</td>\n",
       "      <td>10.1007/s00467-023-06191-7</td>\n",
       "      <td>2023</td>\n",
       "      <td>Rupesh</td>\n",
       "      <td>Raina</td>\n",
       "      <td>R</td>\n",
       "      <td>Akron Nephrology Associates/Cleveland Clinic Akron General Medical Center, Akron, OH, USA. rraina@akronchildrens.org.</td>\n",
       "    </tr>\n",
       "    <tr>\n",
       "      <th>661</th>\n",
       "      <td>37972698</td>\n",
       "      <td>Screening the optimal housekeeping genes (HKGs) of placenta tissues by RNA-sequence and qRT-PCR throughout gestation in goat (Capra Hircus).</td>\n",
       "      <td>Selection of stable housekeeping genes (HKGs) is very important for accurate calculation of relative expression levels of target genes by quantitative real-time polymerase chain reaction (qRT-PCR). At present, the appropriate HKGs have not been identified in placental tissues throughout the pregnancy of the goat. In our study, 20 HKGs were tentatively selected from RNA-seq data and previous reports. The cycle threshold (Ct) of HKGs was determined by qRT-PCR in trophoblast membrane and cotyledon villus collected from 38 Dazu Black goats on gestation days of 20, 25, 30, 45, 60, 90, 120, and 150 (birth). The expression stability of the HKGs was analyzed by geNorm, Normfinder, Bestkeeper and Delta Ct algorithms, and comprehensively evaluated by ReFinder and ComprFinder. In addition, the optimal HKGs were further verified by placenta-specific genes (SPP1, VEGFA and PAG6). The 16 candidate HKGs (except POP4, TBP, RNF10, UBC) showed a qualified Ct value, less than 28. Among them, YWHAZ, EIF3K and PPIB showed the most stable expression in placental tissues during early, mid-late pregnancy and postpartum, but the least stable expression was B2M at early and mid-late stage, and PPIB at postpartum. After comprehensive analysis, RPLP0, EIF3K and YWHAZ were found to be the most stable placental HKGs throughout pregnancy. The classical HKGs, ACTB, GAPDH and 18S RNA have unstable expressions and even ranked at the bottom of the list from comprehensive index, suggesting an inappropriate for target gene normalization. Taken together, our study confirmed that YWHAZ, EIF3K, HMBS and RPLP0 may be the optimal HKGs in goat placenta at different stage of pregnancy, which provided a valuable reference of HKGs on functional gene expression detection for further research on placenta development and growth in ruminants.</td>\n",
       "      <td>1879-0038</td>\n",
       "      <td>Gene</td>\n",
       "      <td>(895) 147966</td>\n",
       "      <td>2023</td>\n",
       "      <td>Nanjian</td>\n",
       "      <td>Luo</td>\n",
       "      <td>N</td>\n",
       "      <td>School of Preclinical Medicine, Zunyi Medical University, Zunyi 563000, China; College of Animal Science and Technology, Southwest University, Chongqing 400715, China.</td>\n",
       "    </tr>\n",
       "    <tr>\n",
       "      <th>662</th>\n",
       "      <td>38048169</td>\n",
       "      <td>Proteomics Analysis of Serum Reveals Potential Biomarkers for Heart Failure Patients with Phlegm-Blood Stasis Syndrome.</td>\n",
       "      <td>Heart failure (HF), a complex clinical syndrome, has become a global burden on health and economics around the world. Phlegm-blood stasis syndrome, one of the Traditional Chinese Medicine (TCM) syndrome differentiation, is the core pathogenesis dynamically throughout the occurrence, development, and prognosis of HF. Biomarkers having high sensitivity and specificity are highly demanded to facilitate the accurate differentiation of HF patients with phlegm-blood stasis syndrome. In the present study, serum samples were collected from 20 healthy controls and 40 HF patients (20 with and 20 without phlegm-blood stasis syndrome). We implemented data-independent acquisition mass spectrometry (DIA-MS) for discovery and parallel reaction monitoring (PRM) for validation of biomarkers for heart failure with phlegm-blood stasis syndrome. A total of 84 different proteins were found in the HF with phlegm-blood stasis syndrome (HF-TY) group compared with healthy controls. 37 candidate proteins were selected for the PRM assay, and five validated proteins with high sensitivity and specificity, including insulin-like growth factor-binding protein 4 (IGFBP4), β-2-microglobulin (B2M), dystroglycan (DAG1), immunoglobulin J chain (JCHAIN), and kallikrein B1 (KLKB1), were considered potential biomarkers for heart failure patients with phlegm-blood stasis syndrome. Newly identified biomarkers might provide insights into the diagnosis and treatment of HF with TCM syndrome differentiation.</td>\n",
       "      <td>1535-3907</td>\n",
       "      <td>Journal of proteome research</td>\n",
       "      <td>10.1021/acs.jproteome.3c00537</td>\n",
       "      <td>2023</td>\n",
       "      <td>Taohua</td>\n",
       "      <td>Lan</td>\n",
       "      <td>T</td>\n",
       "      <td>State Key Laboratory of Dampness Syndrome of Chinese Medicine, The Second Affiliated Hospital of Guangzhou University of Chinese Medicine, Guangzhou 510020, China.</td>\n",
       "    </tr>\n",
       "    <tr>\n",
       "      <th>663</th>\n",
       "      <td>38053293</td>\n",
       "      <td>Highly efficient genome editing via CRISPR-Cas9 ribonucleoprotein (RNP) delivery in mesenchymal stem cells.</td>\n",
       "      <td>The CRISPR-Cas9 system has significantly advanced regenerative medicine research by enabling genome editing in stem cells. Due to their desirable properties, mesenchymal stem cells (MSCs) have recently emerged as highly promising therapeutic agents, which properties include differentiation abilit and cytokine production. While CRISPR-Cas9 technology is applied to develop MSC-based therapeutics, MSCs exhibit inefficient genome editing, and susceptibility to plasmid DNA. In this study, we compared and optimized plasmid DNA and RNP approaches for efficient genome engineering in MSCs. The RNP-mediated approach enabled genome editing with high indel frequency and low cytotoxicity in MSCs. By utilizing Cas9 RNPs, we successfully generated B2M-knockout MSCs, which reduced T-cell differentiation, and improved MSC survival. Furthermore, this approach enhanced the immunomodulatory effect of IFN-r priming. These findings indicate that the RNP-mediated engineering of MSC genomes can achieve high efficiency, and engineered MSCs offer potential as a promising therapeutic strategy.</td>\n",
       "      <td>1976-670X</td>\n",
       "      <td>BMB reports</td>\n",
       "      <td>5981</td>\n",
       "      <td>2023</td>\n",
       "      <td>A Reum</td>\n",
       "      <td>Han</td>\n",
       "      <td>AR</td>\n",
       "      <td>NaN</td>\n",
       "    </tr>\n",
       "    <tr>\n",
       "      <th>664</th>\n",
       "      <td>38092161</td>\n",
       "      <td>Identification and validation of stable reference genes for expression profiling of target genes in diverse ovine tissues.</td>\n",
       "      <td>Quantitative PCR (qPCR) is a widely-used technique for quantifying the expression of target genes across various tissues, as well as under different pathological and physiological conditions. One of the challenges associated with this method is the need to identify optimal reference genes (RGs) that maintain consistent expression levels under diverse experimental settings, thereby ensuring accurate biological interpretation. In this study, we conducted a thorough analysis of 18 candidate RGs (ACTB, BACH1, B2M, GAPDH, HMBS, HPRT1, PGK1, PPIA, PPIB, RPLP0, RPL19, RPS9, RPS15, RPS28, SDHA, TBP, UXT, and YWHAZ) across 10 ovine tissues (muscle, skin, kidney, liver, intestine, rumen, lung, testis, heart, and spleen) obtained from five individual sheep. We aimed to identify genes with stable expression across these tissues. A literature-based survey helped us shortlist candidate genes representing various functional classes from multiple livestock species. We employed four algorithms: geNorm, NormFinder, BestKeeper, and Delta Ct (ΔCt), to rank these genes based on their stability. A consistent trend in the rankings was observed across these different algorithms. RefFinder was then used for a comprehensive ranking, integrating the outputs from the various methods. ACTB, PPIB, BACH1, and B2M emerged as the most stable RGs, while RPS9, RPS15, and PGK1 displayed variable expression. We validated our findings through qPCR analysis of four target genes (ACTN2, CRYAB, DLK1, and TRIM54) in the skin samples from two different sheep breeds. Based on these results, we recommend ACTB, PPIB, BACH1, and B2M as reliable internal control genes for qPCR experiments involving diverse ovine tissues.</td>\n",
       "      <td>1879-0038</td>\n",
       "      <td>Gene</td>\n",
       "      <td>S0378-1119(23)00908-3</td>\n",
       "      <td>2023</td>\n",
       "      <td>Mahanthi</td>\n",
       "      <td>Vasu</td>\n",
       "      <td>M</td>\n",
       "      <td>ICAR-National Bureau of Animal Genetic Resources, Karnal; ICAR-National Dairy Research Institute, Karnal.</td>\n",
       "    </tr>\n",
       "  </tbody>\n",
       "</table>\n",
       "<p>665 rows × 11 columns</p>\n",
       "</div>"
      ],
      "text/plain": [
       "         PMID  \\\n",
       "0    10575721   \n",
       "1    10617805   \n",
       "2    10656443   \n",
       "3    10790290   \n",
       "4    10793017   \n",
       "..        ...   \n",
       "660  37889281   \n",
       "661  37972698   \n",
       "662  38048169   \n",
       "663  38053293   \n",
       "664  38092161   \n",
       "\n",
       "                                                                                                                                            Title  \\\n",
       "0                                                                     [Computer-assisted preoperative planning of knee replacement arthroplasty].   \n",
       "1                                                                                [Urogenital amyloidosis: clinico-pathological study of 8 cases].   \n",
       "2         Serum beta-2 microglobulin levels are a significant prognostic factor in Philadelphia chromosome-positive chronic myelogenous leukemia.   \n",
       "3                                         Exposure of Daudi cells to low-frequency magnetic fields does not elevate MYC steady-state mRNA levels.   \n",
       "4                                                                            Effects of dialyzer reuse on the permeability of low-flux membranes.   \n",
       "..                                                                                                                                            ...   \n",
       "660    Artificial intelligence in early detection and prediction of pediatric/neonatal acute kidney injury: current status and future directions.   \n",
       "661  Screening the optimal housekeeping genes (HKGs) of placenta tissues by RNA-sequence and qRT-PCR throughout gestation in goat (Capra Hircus).   \n",
       "662                       Proteomics Analysis of Serum Reveals Potential Biomarkers for Heart Failure Patients with Phlegm-Blood Stasis Syndrome.   \n",
       "663                                   Highly efficient genome editing via CRISPR-Cas9 ribonucleoprotein (RNP) delivery in mesenchymal stem cells.   \n",
       "664                    Identification and validation of stable reference genes for expression profiling of target genes in diverse ovine tissues.   \n",
       "\n",
       "                                                                                                                                                                                                                                                                                                                                                                                                                                                                                                                                                                                                                                                                                                                                                                                                                                                                                                                                                                                                                                                                                                                                                                                                                                                                                                                                                                                                                                                                                                                                                                                                                                                                                                                                                                                                                                                                                                                                                                                                                                                                                                                                                                                         Abstract  \\\n",
       "0                                                                                                                                                                                                                                                                                                                                                                                                                                                                                                                                                                                                                                                                                                                                                                                                                                                                                                                                                                                                                                                                                                                                                                                                                                                                                                                                                                                                                                                                                                                                                The general configuration of replaced knee is difficult to anticipate because of the large number of geometrical parameters related to morphology, prosthetic implants and pre-operative choices (such as ligament release). This article features the studies achieved in order to create a decision aiding computer tool dedicated to total knee prosthesis. METHOD AND MODEL: We have built a geometrical modelling of the physiological knee and prosthesis elements association. A numerical processing through biomechanical laws permitted to simulate the geometrical and mechanical behaviour of the whole for different flexing angle.   \n",
       "1                                                                                                                                                                                                                                                                                                                                                                                                                                                                                                                                                                                                                                                                                                                                                                                                                                                                                                                                                                                                                                                                                                          Amyloidosis of the genito-urinary tract is uncommon. We report 8 cases, often misdiagnosed as a neoplastic process (6/8). Amyloidosis was localized in the bladder (3 cases), in the ureter (1 case) and in the prostate and/or seminal vesicles (4 cases). The amyloid protein was characterized in 7 cases by immunohistochemistry. Among the bladder and ureter amyloidosis, 2 cases were classified as AL lambda amyloidosis and one case as AA amyloidosis in a patient with long history of chronic arthritis. In the fourth case, the deposits could not be identified. Nevertheless an AL amyloidosis might be suggested. Two cases of prostate and/or seminal vesicles amyloidosis were stained with an anti-B2M antibody, in hemodialyzed patients. The 2 others, positive with the anti-Transthyretina antibody, were classified as senile amyloidosis. This small series illustrated the heterogeneous pathogenic types of amyloidosis in the urogenital tract and emphasized the interest of immunohistochemistry to identify the chemical composition of these deposits.   \n",
       "2                                                                                                                                                                                                                                                                                                                                                                                                                                                                                                                                                                                                                                        Our objective was to investigate the prognostic significance of serum beta-2 microglobulin (B2M) levels among patients with chronic myelogenous leukemia (CML). All patients with Philadelphia chromosome-positive early chronic phase CML (i.e., within 1 year of diagnosis) treated with IFN alpha-based therapy at the M. D. Anderson Cancer Center between 1980 and 1997, in whom pretreatment B2M levels were available, were investigated. Two hundred one patients were evaluable. Their median B2M was 2.2 mg/dl (range, 1.1-20 mg/dl). Serum B2M levels were associated with other variables of prognostic significance, including age, spleen size, WBC count, percentage of peripheral and marrow blasts, and percentage of marrow basophils. Patients with B2M levels >2.9 mg/dl (ie., the upper quartile of the distribution) had a significantly lower rate of major cytogenetic response compared to those in the lower three quartiles (20 versus 52%; P < 0.01). They also had a shorter survival, with a 5-year survival rate of 48%, compared with 75% for those in the lower quartiles (P = 0.01). High B2M levels (>2.9 mg/dl) could identify a group of patients with an adverse outcome within patients in stage I disease (P = 0.02). Results for patients in stages 2-4 were inconclusive because of the small number of patients in these groups. We conclude that serum B2M levels are an important, and probably independent, prognostic factor for patients with CML in early chronic phase treated with IFN-based therapy.   \n",
       "3                                                                                                                                                                                                                                                                                                                                                                                                                                                                                                                                                                                                                                                                                                                                                             The effect of extremely low-frequency electromagnetic field (ELF EMF) exposures to human health has been widely debated. Epidemiological studies have found a possible correlation between increased cancer incidence and environmental ELF EMF exposures. Results from in vitro studies performed to examine the possible underlying bioeffects of ELF EMFs have varied greatly. Reported effects range from robust and reproducible effects to undetectable. In this study, Daudi cells were exposed to 60 Hz magnetic fields for 20, 40 or 60 min at flux densities of 12.5, 50, 100 or 500 microT. Exposures were performed in the Regional ELF-EMF Exposure Facility (Rockville, MD) to minimize variables that might contribute to a false positive effect. Exposures included sham/sham, exposed/sham or sham/exposed, and were performed with blinding with respect to type of exposure. 12-O-Tetradecanoylphorbol-13-acetate (TPA) treatment was used as a positive control. Total cellular RNA was isolated using a single-step technique. Human MYC expression was measured by northern blot hybridization as an indicator of the responsiveness of Daudi cells to experimental conditions. Beta-2-microglobulin (B2M) expression was measured simultaneously as an internal control. Exposure to a 60 Hz magnetic field did not significantly alter MYC expression in Daudi cells under any of the exposure conditions.   \n",
       "4    Little attention has been given to the effects of reuse on the permeability of low-flux membranes, especially regarding middle molecules. We studied two different types of low-flux membranes at reuses 0, 6, and 12 in five patients undergoing hemodialysis with the following combinations of membrane and sterilant: cellulose diacetate membrane and formaldehyde, polysulfone membrane and formaldehyde, cellulose diacetate membrane and peracetic acid, and polysulfone and peracetic acid. The permeability of the membranes was assessed through the hydraulic ultrafiltration coefficient (K(UF)), sieving coefficient for beta(2)-microglobulin (B2M), and vitamin B(12) and albumin concentrations in ultrafiltrate. After 12 reuses, total cell volume (TCV) tended to be reduced in both cellulose diacetate and polysulfone dialyzers irrespective of the sterilant used, but significance was only found for the first set of dialyzers. Cellulose diacetate dialyzers reprocessed with either formaldehyde or peracetic acid showed an important reduction in K(UF) (31% [P < 0.05] and 23% [P < 0.05], respectively). A significant elevation in K(UF) was found in polysulfone membranes reprocessed with peracetic acid (41%; P < 0.05), but no alterations in K(UF) were found in polysulfone membranes reprocessed with formaldehyde. Cellulose diacetate membranes were intrinsically more permeable to B2M than polysulfone membranes (sieving coefficient, 6. 85 +/- 2.53 versus 0.04 +/- 0.02 x 10(-2); P < 0.001), which was not modified by any of the sterilants. Vitamin B(12) levels in ultrafiltrate decreased to an undetectable level in four of five samples collected after 12 reuses in polysulfone membranes reprocessed with peracetic acid (90 +/- 71 to 3 +/- 8 pg/mL; P < 0. 05 versus reuse 0). Albumin leakage occurred in two of five samples after the 12th reuse, but only in polysulfone membranes reprocessed with peracetic acid. Our findings suggest that reuse of low-flux polysulfone dialyzers reprocessed with peracetic acid is associated with structural damage of the membrane and a reduced permeability to middle molecules.   \n",
       "..                                                                                                                                                                                                                                                                                                                                                                                                                                                                                                                                                                                                                                                                                                                                                                                                                                                                                                                                                                                                                                                                                                                                                                                                                                                                                                                                                                                                                                                                                                                                                                                                                                                                                                                                                                                                                                                                                                                                                                                                                                                                                                                                                                                            ...   \n",
       "660                                                                                                                                                                                                                                                                                                                             Acute kidney injury (AKI) has a significant impact on the short-term and long-term clinical outcomes of pediatric and neonatal patients, and it is imperative in these populations to mitigate the pathways leading to AKI and be prepared for early diagnosis and treatment intervention of established AKI. Recently, artificial intelligence (AI) has provided more advent predictive models for early detection/prediction of AKI utilizing machine learning (ML). By providing strong detail and evidence from risk scores and electronic alerts, this review outlines a comprehensive and holistic insight into the current state of AI in AKI in pediatric/neonatal patients. In the pediatric population, AI models including XGBoost, logistic regression, support vector machines, decision trees, naïve Bayes, and risk stratification scores (Renal Angina Index (RAI), Nephrotoxic Injury Negated by Just-in-time Action (NINJA)) have shown success in predicting AKI using variables like serum creatinine, urine output, and electronic health record (EHR) alerts. Similarly, in the neonatal population, using the \"Baby NINJA\" model showed a decrease in nephrotoxic medication exposure by 42%, the rate of AKI by 78%, and the number of days with AKI by 68%. Furthermore, the \"STARZ\" risk stratification AI model showed a predictive ability of AKI within 7 days of NICU admission of AUC 0.93 and AUC of 0.96 in the validation and derivation cohorts, respectively. Many studies have reported the superiority of using biomarkers to predict AKI in pediatric patients and neonates as well. Future directions include the application of AI along with biomarkers (NGAL, CysC, OPN, IL-18, B2M, etc.) in a Labelbox configuration to create a more robust and accurate model for predicting and detecting pediatric/neonatal AKI.   \n",
       "661                                                                                                                                                                                                                                                                                              Selection of stable housekeeping genes (HKGs) is very important for accurate calculation of relative expression levels of target genes by quantitative real-time polymerase chain reaction (qRT-PCR). At present, the appropriate HKGs have not been identified in placental tissues throughout the pregnancy of the goat. In our study, 20 HKGs were tentatively selected from RNA-seq data and previous reports. The cycle threshold (Ct) of HKGs was determined by qRT-PCR in trophoblast membrane and cotyledon villus collected from 38 Dazu Black goats on gestation days of 20, 25, 30, 45, 60, 90, 120, and 150 (birth). The expression stability of the HKGs was analyzed by geNorm, Normfinder, Bestkeeper and Delta Ct algorithms, and comprehensively evaluated by ReFinder and ComprFinder. In addition, the optimal HKGs were further verified by placenta-specific genes (SPP1, VEGFA and PAG6). The 16 candidate HKGs (except POP4, TBP, RNF10, UBC) showed a qualified Ct value, less than 28. Among them, YWHAZ, EIF3K and PPIB showed the most stable expression in placental tissues during early, mid-late pregnancy and postpartum, but the least stable expression was B2M at early and mid-late stage, and PPIB at postpartum. After comprehensive analysis, RPLP0, EIF3K and YWHAZ were found to be the most stable placental HKGs throughout pregnancy. The classical HKGs, ACTB, GAPDH and 18S RNA have unstable expressions and even ranked at the bottom of the list from comprehensive index, suggesting an inappropriate for target gene normalization. Taken together, our study confirmed that YWHAZ, EIF3K, HMBS and RPLP0 may be the optimal HKGs in goat placenta at different stage of pregnancy, which provided a valuable reference of HKGs on functional gene expression detection for further research on placenta development and growth in ruminants.   \n",
       "662                                                                                                                                                                                                                                                                                                                                                                                                                                                                                                                                                                                                                                              Heart failure (HF), a complex clinical syndrome, has become a global burden on health and economics around the world. Phlegm-blood stasis syndrome, one of the Traditional Chinese Medicine (TCM) syndrome differentiation, is the core pathogenesis dynamically throughout the occurrence, development, and prognosis of HF. Biomarkers having high sensitivity and specificity are highly demanded to facilitate the accurate differentiation of HF patients with phlegm-blood stasis syndrome. In the present study, serum samples were collected from 20 healthy controls and 40 HF patients (20 with and 20 without phlegm-blood stasis syndrome). We implemented data-independent acquisition mass spectrometry (DIA-MS) for discovery and parallel reaction monitoring (PRM) for validation of biomarkers for heart failure with phlegm-blood stasis syndrome. A total of 84 different proteins were found in the HF with phlegm-blood stasis syndrome (HF-TY) group compared with healthy controls. 37 candidate proteins were selected for the PRM assay, and five validated proteins with high sensitivity and specificity, including insulin-like growth factor-binding protein 4 (IGFBP4), β-2-microglobulin (B2M), dystroglycan (DAG1), immunoglobulin J chain (JCHAIN), and kallikrein B1 (KLKB1), were considered potential biomarkers for heart failure patients with phlegm-blood stasis syndrome. Newly identified biomarkers might provide insights into the diagnosis and treatment of HF with TCM syndrome differentiation.   \n",
       "663                                                                                                                                                                                                                                                                                                                                                                                                                                                                                                                                                                                                                                                                                                                                                                                                                                                                                                                                                                                                                                                                   The CRISPR-Cas9 system has significantly advanced regenerative medicine research by enabling genome editing in stem cells. Due to their desirable properties, mesenchymal stem cells (MSCs) have recently emerged as highly promising therapeutic agents, which properties include differentiation abilit and cytokine production. While CRISPR-Cas9 technology is applied to develop MSC-based therapeutics, MSCs exhibit inefficient genome editing, and susceptibility to plasmid DNA. In this study, we compared and optimized plasmid DNA and RNP approaches for efficient genome engineering in MSCs. The RNP-mediated approach enabled genome editing with high indel frequency and low cytotoxicity in MSCs. By utilizing Cas9 RNPs, we successfully generated B2M-knockout MSCs, which reduced T-cell differentiation, and improved MSC survival. Furthermore, this approach enhanced the immunomodulatory effect of IFN-r priming. These findings indicate that the RNP-mediated engineering of MSC genomes can achieve high efficiency, and engineered MSCs offer potential as a promising therapeutic strategy.   \n",
       "664                                                                                                                                                                                                                                                                                                                                                                                                                        Quantitative PCR (qPCR) is a widely-used technique for quantifying the expression of target genes across various tissues, as well as under different pathological and physiological conditions. One of the challenges associated with this method is the need to identify optimal reference genes (RGs) that maintain consistent expression levels under diverse experimental settings, thereby ensuring accurate biological interpretation. In this study, we conducted a thorough analysis of 18 candidate RGs (ACTB, BACH1, B2M, GAPDH, HMBS, HPRT1, PGK1, PPIA, PPIB, RPLP0, RPL19, RPS9, RPS15, RPS28, SDHA, TBP, UXT, and YWHAZ) across 10 ovine tissues (muscle, skin, kidney, liver, intestine, rumen, lung, testis, heart, and spleen) obtained from five individual sheep. We aimed to identify genes with stable expression across these tissues. A literature-based survey helped us shortlist candidate genes representing various functional classes from multiple livestock species. We employed four algorithms: geNorm, NormFinder, BestKeeper, and Delta Ct (ΔCt), to rank these genes based on their stability. A consistent trend in the rankings was observed across these different algorithms. RefFinder was then used for a comprehensive ranking, integrating the outputs from the various methods. ACTB, PPIB, BACH1, and B2M emerged as the most stable RGs, while RPS9, RPS15, and PGK1 displayed variable expression. We validated our findings through qPCR analysis of four target genes (ACTN2, CRYAB, DLK1, and TRIM54) in the skin samples from two different sheep breeds. Based on these results, we recommend ACTB, PPIB, BACH1, and B2M as reliable internal control genes for qPCR experiments involving diverse ovine tissues.   \n",
       "\n",
       "          ISSN  \\\n",
       "0    0035-1040   \n",
       "1    0242-6498   \n",
       "2    1078-0432   \n",
       "3    0033-7587   \n",
       "4    1523-6838   \n",
       "..         ...   \n",
       "660  1432-198X   \n",
       "661  1879-0038   \n",
       "662  1535-3907   \n",
       "663  1976-670X   \n",
       "664  1879-0038   \n",
       "\n",
       "                                                                                            Journal  \\\n",
       "0                               Revue de chirurgie orthopedique et reparatrice de l'appareil moteur   \n",
       "1                                                                             Annales de pathologie   \n",
       "2    Clinical cancer research : an official journal of the American Association for Cancer Research   \n",
       "3                                                                                Radiation research   \n",
       "4      American journal of kidney diseases : the official journal of the National Kidney Foundation   \n",
       "..                                                                                              ...   \n",
       "660                                                          Pediatric nephrology (Berlin, Germany)   \n",
       "661                                                                                            Gene   \n",
       "662                                                                    Journal of proteome research   \n",
       "663                                                                                     BMB reports   \n",
       "664                                                                                            Gene   \n",
       "\n",
       "                          Location  Year FirstAuthorForename  \\\n",
       "0                     (85) 591-600  1999                   E   \n",
       "1                      (19) 487-91  1999                   M   \n",
       "2                       (6) 147-52  2000                   J   \n",
       "3                      (153) 663-9  2000                 C A   \n",
       "4                      (35) 839-44  2000                 J P   \n",
       "..                             ...   ...                 ...   \n",
       "660     10.1007/s00467-023-06191-7  2023              Rupesh   \n",
       "661                   (895) 147966  2023             Nanjian   \n",
       "662  10.1021/acs.jproteome.3c00537  2023              Taohua   \n",
       "663                           5981  2023              A Reum   \n",
       "664          S0378-1119(23)00908-3  2023            Mahanthi   \n",
       "\n",
       "    FirstAuthorLastname FirstAuthorInitials  \\\n",
       "0             Nerkowski                   E   \n",
       "1             Esslimani                   M   \n",
       "2             Rodriguez                   J   \n",
       "3             Morehouse                  CA   \n",
       "4                 Matos                  JP   \n",
       "..                  ...                 ...   \n",
       "660               Raina                   R   \n",
       "661                 Luo                   N   \n",
       "662                 Lan                   T   \n",
       "663                 Han                  AR   \n",
       "664                Vasu                   M   \n",
       "\n",
       "                                                                                                                                                      FirstAuthorAffiliation  \n",
       "0                                                                                                                                        Equipe B2M, ENSAM, Aix-en-Provence.  \n",
       "1                                                                                       Service d'Anatomie Pathologique, Hôpital Gui de Chauliac, 34295 Montpellier Cedex 5.  \n",
       "2                                                                               Department of Leukemia, University of Texas M.D. Anderson Cancer Center, Houston 77030, USA.  \n",
       "3                                                                                            FDA Center for Devices and Radiological Health, Rockville, Maryland 20850, USA.  \n",
       "4                    Department of Internal Medicine, Division of Nephrology, and Department of Pathology, Universidade Federal Fluminense, Niterói, Rio de Janeiro, Brazil.  \n",
       "..                                                                                                                                                                       ...  \n",
       "660                                                    Akron Nephrology Associates/Cleveland Clinic Akron General Medical Center, Akron, OH, USA. rraina@akronchildrens.org.  \n",
       "661  School of Preclinical Medicine, Zunyi Medical University, Zunyi 563000, China; College of Animal Science and Technology, Southwest University, Chongqing 400715, China.  \n",
       "662      State Key Laboratory of Dampness Syndrome of Chinese Medicine, The Second Affiliated Hospital of Guangzhou University of Chinese Medicine, Guangzhou 510020, China.  \n",
       "663                                                                                                                                                                      NaN  \n",
       "664                                                                ICAR-National Bureau of Animal Genetic Resources, Karnal; ICAR-National Dairy Research Institute, Karnal.  \n",
       "\n",
       "[665 rows x 11 columns]"
      ]
     },
     "metadata": {},
     "output_type": "display_data"
    }
   ],
   "source": [
    "# displaying the articles dataframe for understanding the dataset\n",
    "\n",
    "pd.set_option('display.max_colwidth', None) # for maximise the column width to see whole text of a particular column.\n",
    "\n",
    "display(article_df)\n",
    "#display(article_df[[\"FirstAuthorAffiliation\"]])\n"
   ]
  },
  {
   "cell_type": "code",
   "execution_count": 252,
   "id": "44a61450-1892-4ed4-bfcc-aa2266ea5099",
   "metadata": {},
   "outputs": [
    {
     "data": {
      "text/html": [
       "<div>\n",
       "<style scoped>\n",
       "    .dataframe tbody tr th:only-of-type {\n",
       "        vertical-align: middle;\n",
       "    }\n",
       "\n",
       "    .dataframe tbody tr th {\n",
       "        vertical-align: top;\n",
       "    }\n",
       "\n",
       "    .dataframe thead th {\n",
       "        text-align: right;\n",
       "    }\n",
       "</style>\n",
       "<table border=\"1\" class=\"dataframe\">\n",
       "  <thead>\n",
       "    <tr style=\"text-align: right;\">\n",
       "      <th></th>\n",
       "      <th>PMID</th>\n",
       "      <th>AuthorN</th>\n",
       "      <th>AuthorForename</th>\n",
       "      <th>AuthorLastname</th>\n",
       "      <th>AuthorInitials</th>\n",
       "      <th>AuthorAffiliation</th>\n",
       "    </tr>\n",
       "  </thead>\n",
       "  <tbody>\n",
       "    <tr>\n",
       "      <th>0</th>\n",
       "      <td>10575721</td>\n",
       "      <td>1</td>\n",
       "      <td>E</td>\n",
       "      <td>Nerkowski</td>\n",
       "      <td>E</td>\n",
       "      <td>Equipe B2M, ENSAM, Aix-en-Provence.</td>\n",
       "    </tr>\n",
       "    <tr>\n",
       "      <th>1</th>\n",
       "      <td>10575721</td>\n",
       "      <td>2</td>\n",
       "      <td>P</td>\n",
       "      <td>Calas</td>\n",
       "      <td>P</td>\n",
       "      <td>NaN</td>\n",
       "    </tr>\n",
       "    <tr>\n",
       "      <th>2</th>\n",
       "      <td>10575721</td>\n",
       "      <td>3</td>\n",
       "      <td>A</td>\n",
       "      <td>Mouttet</td>\n",
       "      <td>A</td>\n",
       "      <td>NaN</td>\n",
       "    </tr>\n",
       "    <tr>\n",
       "      <th>3</th>\n",
       "      <td>10617805</td>\n",
       "      <td>1</td>\n",
       "      <td>M</td>\n",
       "      <td>Esslimani</td>\n",
       "      <td>M</td>\n",
       "      <td>Service d'Anatomie Pathologique, Hôpital Gui de Chauliac, 34295 Montpellier Cedex 5.</td>\n",
       "    </tr>\n",
       "    <tr>\n",
       "      <th>4</th>\n",
       "      <td>10617805</td>\n",
       "      <td>2</td>\n",
       "      <td>I</td>\n",
       "      <td>Serre</td>\n",
       "      <td>I</td>\n",
       "      <td>NaN</td>\n",
       "    </tr>\n",
       "    <tr>\n",
       "      <th>...</th>\n",
       "      <td>...</td>\n",
       "      <td>...</td>\n",
       "      <td>...</td>\n",
       "      <td>...</td>\n",
       "      <td>...</td>\n",
       "      <td>...</td>\n",
       "    </tr>\n",
       "    <tr>\n",
       "      <th>5792</th>\n",
       "      <td>38092161</td>\n",
       "      <td>6</td>\n",
       "      <td>Rekha</td>\n",
       "      <td>Sharma</td>\n",
       "      <td>R</td>\n",
       "      <td>ICAR-National Bureau of Animal Genetic Resources, Karnal.</td>\n",
       "    </tr>\n",
       "    <tr>\n",
       "      <th>5793</th>\n",
       "      <td>38092161</td>\n",
       "      <td>7</td>\n",
       "      <td>Upasna</td>\n",
       "      <td>Sharma</td>\n",
       "      <td>U</td>\n",
       "      <td>ICAR-National Bureau of Animal Genetic Resources, Karnal.</td>\n",
       "    </tr>\n",
       "    <tr>\n",
       "      <th>5794</th>\n",
       "      <td>38092161</td>\n",
       "      <td>8</td>\n",
       "      <td>Pooja</td>\n",
       "      <td>Chhabra</td>\n",
       "      <td>P</td>\n",
       "      <td>ICAR-National Bureau of Animal Genetic Resources, Karnal.</td>\n",
       "    </tr>\n",
       "    <tr>\n",
       "      <th>5795</th>\n",
       "      <td>38092161</td>\n",
       "      <td>9</td>\n",
       "      <td>M A</td>\n",
       "      <td>Mir</td>\n",
       "      <td>MA</td>\n",
       "      <td>Shere Kashmir University of Agricultural Sciences and Technology, Aulestang, Shuhama, Kashmir.</td>\n",
       "    </tr>\n",
       "    <tr>\n",
       "      <th>5796</th>\n",
       "      <td>38092161</td>\n",
       "      <td>10</td>\n",
       "      <td>Manoj</td>\n",
       "      <td>Kumar Singh</td>\n",
       "      <td>M</td>\n",
       "      <td>ICAR-Central Institute for Research on Goats, Makhdoom, Mathura.</td>\n",
       "    </tr>\n",
       "  </tbody>\n",
       "</table>\n",
       "<p>5797 rows × 6 columns</p>\n",
       "</div>"
      ],
      "text/plain": [
       "          PMID  AuthorN AuthorForename AuthorLastname AuthorInitials  \\\n",
       "0     10575721        1              E      Nerkowski              E   \n",
       "1     10575721        2              P          Calas              P   \n",
       "2     10575721        3              A        Mouttet              A   \n",
       "3     10617805        1              M      Esslimani              M   \n",
       "4     10617805        2              I          Serre              I   \n",
       "...        ...      ...            ...            ...            ...   \n",
       "5792  38092161        6          Rekha         Sharma              R   \n",
       "5793  38092161        7         Upasna         Sharma              U   \n",
       "5794  38092161        8          Pooja        Chhabra              P   \n",
       "5795  38092161        9            M A            Mir             MA   \n",
       "5796  38092161       10          Manoj    Kumar Singh              M   \n",
       "\n",
       "                                                                                   AuthorAffiliation  \n",
       "0                                                                Equipe B2M, ENSAM, Aix-en-Provence.  \n",
       "1                                                                                                NaN  \n",
       "2                                                                                                NaN  \n",
       "3               Service d'Anatomie Pathologique, Hôpital Gui de Chauliac, 34295 Montpellier Cedex 5.  \n",
       "4                                                                                                NaN  \n",
       "...                                                                                              ...  \n",
       "5792                                       ICAR-National Bureau of Animal Genetic Resources, Karnal.  \n",
       "5793                                       ICAR-National Bureau of Animal Genetic Resources, Karnal.  \n",
       "5794                                       ICAR-National Bureau of Animal Genetic Resources, Karnal.  \n",
       "5795  Shere Kashmir University of Agricultural Sciences and Technology, Aulestang, Shuhama, Kashmir.  \n",
       "5796                                ICAR-Central Institute for Research on Goats, Makhdoom, Mathura.  \n",
       "\n",
       "[5797 rows x 6 columns]"
      ]
     },
     "metadata": {},
     "output_type": "display_data"
    }
   ],
   "source": [
    "display(authors_df)"
   ]
  },
  {
   "cell_type": "code",
   "execution_count": 253,
   "id": "20d566c1-297f-483f-bad9-e5129612abba",
   "metadata": {},
   "outputs": [
    {
     "data": {
      "text/html": [
       "<div>\n",
       "<style scoped>\n",
       "    .dataframe tbody tr th:only-of-type {\n",
       "        vertical-align: middle;\n",
       "    }\n",
       "\n",
       "    .dataframe tbody tr th {\n",
       "        vertical-align: top;\n",
       "    }\n",
       "\n",
       "    .dataframe thead th {\n",
       "        text-align: right;\n",
       "    }\n",
       "</style>\n",
       "<table border=\"1\" class=\"dataframe\">\n",
       "  <thead>\n",
       "    <tr style=\"text-align: right;\">\n",
       "      <th></th>\n",
       "      <th>Year</th>\n",
       "      <th>Count</th>\n",
       "    </tr>\n",
       "  </thead>\n",
       "  <tbody>\n",
       "    <tr>\n",
       "      <th>0</th>\n",
       "      <td>1799</td>\n",
       "      <td>1</td>\n",
       "    </tr>\n",
       "    <tr>\n",
       "      <th>1</th>\n",
       "      <td>1801</td>\n",
       "      <td>1</td>\n",
       "    </tr>\n",
       "    <tr>\n",
       "      <th>2</th>\n",
       "      <td>1802</td>\n",
       "      <td>1</td>\n",
       "    </tr>\n",
       "    <tr>\n",
       "      <th>3</th>\n",
       "      <td>1805</td>\n",
       "      <td>1</td>\n",
       "    </tr>\n",
       "    <tr>\n",
       "      <th>4</th>\n",
       "      <td>1866</td>\n",
       "      <td>1</td>\n",
       "    </tr>\n",
       "    <tr>\n",
       "      <th>...</th>\n",
       "      <td>...</td>\n",
       "      <td>...</td>\n",
       "    </tr>\n",
       "    <tr>\n",
       "      <th>138</th>\n",
       "      <td>2020</td>\n",
       "      <td>1132241</td>\n",
       "    </tr>\n",
       "    <tr>\n",
       "      <th>139</th>\n",
       "      <td>2021</td>\n",
       "      <td>1277048</td>\n",
       "    </tr>\n",
       "    <tr>\n",
       "      <th>140</th>\n",
       "      <td>2022</td>\n",
       "      <td>1324650</td>\n",
       "    </tr>\n",
       "    <tr>\n",
       "      <th>141</th>\n",
       "      <td>2023</td>\n",
       "      <td>1302390</td>\n",
       "    </tr>\n",
       "    <tr>\n",
       "      <th>142</th>\n",
       "      <td>2024</td>\n",
       "      <td>15611</td>\n",
       "    </tr>\n",
       "  </tbody>\n",
       "</table>\n",
       "<p>143 rows × 2 columns</p>\n",
       "</div>"
      ],
      "text/plain": [
       "     Year    Count\n",
       "0    1799        1\n",
       "1    1801        1\n",
       "2    1802        1\n",
       "3    1805        1\n",
       "4    1866        1\n",
       "..    ...      ...\n",
       "138  2020  1132241\n",
       "139  2021  1277048\n",
       "140  2022  1324650\n",
       "141  2023  1302390\n",
       "142  2024    15611\n",
       "\n",
       "[143 rows x 2 columns]"
      ]
     },
     "metadata": {},
     "output_type": "display_data"
    }
   ],
   "source": [
    "display(pap_counts_df)"
   ]
  },
  {
   "cell_type": "code",
   "execution_count": 254,
   "id": "6eeac2d0-52e3-44c1-ba7a-c3855cdcaca3",
   "metadata": {},
   "outputs": [
    {
     "data": {
      "text/html": [
       "<div>\n",
       "<style scoped>\n",
       "    .dataframe tbody tr th:only-of-type {\n",
       "        vertical-align: middle;\n",
       "    }\n",
       "\n",
       "    .dataframe tbody tr th {\n",
       "        vertical-align: top;\n",
       "    }\n",
       "\n",
       "    .dataframe thead th {\n",
       "        text-align: right;\n",
       "    }\n",
       "</style>\n",
       "<table border=\"1\" class=\"dataframe\">\n",
       "  <thead>\n",
       "    <tr style=\"text-align: right;\">\n",
       "      <th></th>\n",
       "      <th>PMID</th>\n",
       "      <th>Title</th>\n",
       "      <th>Abstract</th>\n",
       "      <th>ISSN</th>\n",
       "      <th>Journal</th>\n",
       "      <th>Location</th>\n",
       "      <th>Year</th>\n",
       "      <th>FirstAuthorForename</th>\n",
       "      <th>FirstAuthorLastname</th>\n",
       "      <th>FirstAuthorInitials</th>\n",
       "      <th>FirstAuthorAffiliation</th>\n",
       "    </tr>\n",
       "  </thead>\n",
       "  <tbody>\n",
       "    <tr>\n",
       "      <th>0</th>\n",
       "      <td>10575721</td>\n",
       "      <td>[Computer-assisted preoperative planning of knee replacement arthroplasty].</td>\n",
       "      <td>The general configuration of replaced knee is difficult to anticipate because of the large number of geometrical parameters related to morphology, prosthetic implants and pre-operative choices (such as ligament release). This article features the studies achieved in order to create a decision aiding computer tool dedicated to total knee prosthesis. METHOD AND MODEL: We have built a geometrical modelling of the physiological knee and prosthesis elements association. A numerical processing through biomechanical laws permitted to simulate the geometrical and mechanical behaviour of the whole for different flexing angle.</td>\n",
       "      <td>0035-1040</td>\n",
       "      <td>Revue de chirurgie orthopedique et reparatrice de l'appareil moteur</td>\n",
       "      <td>(85) 591-600</td>\n",
       "      <td>1999</td>\n",
       "      <td>E</td>\n",
       "      <td>Nerkowski</td>\n",
       "      <td>E</td>\n",
       "      <td>Equipe B2M, ENSAM, Aix-en-Provence.</td>\n",
       "    </tr>\n",
       "    <tr>\n",
       "      <th>1</th>\n",
       "      <td>10617805</td>\n",
       "      <td>[Urogenital amyloidosis: clinico-pathological study of 8 cases].</td>\n",
       "      <td>Amyloidosis of the genito-urinary tract is uncommon. We report 8 cases, often misdiagnosed as a neoplastic process (6/8). Amyloidosis was localized in the bladder (3 cases), in the ureter (1 case) and in the prostate and/or seminal vesicles (4 cases). The amyloid protein was characterized in 7 cases by immunohistochemistry. Among the bladder and ureter amyloidosis, 2 cases were classified as AL lambda amyloidosis and one case as AA amyloidosis in a patient with long history of chronic arthritis. In the fourth case, the deposits could not be identified. Nevertheless an AL amyloidosis might be suggested. Two cases of prostate and/or seminal vesicles amyloidosis were stained with an anti-B2M antibody, in hemodialyzed patients. The 2 others, positive with the anti-Transthyretina antibody, were classified as senile amyloidosis. This small series illustrated the heterogeneous pathogenic types of amyloidosis in the urogenital tract and emphasized the interest of immunohistochemistry to identify the chemical composition of these deposits.</td>\n",
       "      <td>0242-6498</td>\n",
       "      <td>Annales de pathologie</td>\n",
       "      <td>(19) 487-91</td>\n",
       "      <td>1999</td>\n",
       "      <td>M</td>\n",
       "      <td>Esslimani</td>\n",
       "      <td>M</td>\n",
       "      <td>Service d'Anatomie Pathologique, Hôpital Gui de Chauliac, 34295 Montpellier Cedex 5.</td>\n",
       "    </tr>\n",
       "    <tr>\n",
       "      <th>2</th>\n",
       "      <td>10656443</td>\n",
       "      <td>Serum beta-2 microglobulin levels are a significant prognostic factor in Philadelphia chromosome-positive chronic myelogenous leukemia.</td>\n",
       "      <td>Our objective was to investigate the prognostic significance of serum beta-2 microglobulin (B2M) levels among patients with chronic myelogenous leukemia (CML). All patients with Philadelphia chromosome-positive early chronic phase CML (i.e., within 1 year of diagnosis) treated with IFN alpha-based therapy at the M. D. Anderson Cancer Center between 1980 and 1997, in whom pretreatment B2M levels were available, were investigated. Two hundred one patients were evaluable. Their median B2M was 2.2 mg/dl (range, 1.1-20 mg/dl). Serum B2M levels were associated with other variables of prognostic significance, including age, spleen size, WBC count, percentage of peripheral and marrow blasts, and percentage of marrow basophils. Patients with B2M levels &gt;2.9 mg/dl (ie., the upper quartile of the distribution) had a significantly lower rate of major cytogenetic response compared to those in the lower three quartiles (20 versus 52%; P &lt; 0.01). They also had a shorter survival, with a 5-year survival rate of 48%, compared with 75% for those in the lower quartiles (P = 0.01). High B2M levels (&gt;2.9 mg/dl) could identify a group of patients with an adverse outcome within patients in stage I disease (P = 0.02). Results for patients in stages 2-4 were inconclusive because of the small number of patients in these groups. We conclude that serum B2M levels are an important, and probably independent, prognostic factor for patients with CML in early chronic phase treated with IFN-based therapy.</td>\n",
       "      <td>1078-0432</td>\n",
       "      <td>Clinical cancer research : an official journal of the American Association for Cancer Research</td>\n",
       "      <td>(6) 147-52</td>\n",
       "      <td>2000</td>\n",
       "      <td>J</td>\n",
       "      <td>Rodriguez</td>\n",
       "      <td>J</td>\n",
       "      <td>Department of Leukemia, University of Texas M.D. Anderson Cancer Center, Houston 77030, USA.</td>\n",
       "    </tr>\n",
       "    <tr>\n",
       "      <th>3</th>\n",
       "      <td>10790290</td>\n",
       "      <td>Exposure of Daudi cells to low-frequency magnetic fields does not elevate MYC steady-state mRNA levels.</td>\n",
       "      <td>The effect of extremely low-frequency electromagnetic field (ELF EMF) exposures to human health has been widely debated. Epidemiological studies have found a possible correlation between increased cancer incidence and environmental ELF EMF exposures. Results from in vitro studies performed to examine the possible underlying bioeffects of ELF EMFs have varied greatly. Reported effects range from robust and reproducible effects to undetectable. In this study, Daudi cells were exposed to 60 Hz magnetic fields for 20, 40 or 60 min at flux densities of 12.5, 50, 100 or 500 microT. Exposures were performed in the Regional ELF-EMF Exposure Facility (Rockville, MD) to minimize variables that might contribute to a false positive effect. Exposures included sham/sham, exposed/sham or sham/exposed, and were performed with blinding with respect to type of exposure. 12-O-Tetradecanoylphorbol-13-acetate (TPA) treatment was used as a positive control. Total cellular RNA was isolated using a single-step technique. Human MYC expression was measured by northern blot hybridization as an indicator of the responsiveness of Daudi cells to experimental conditions. Beta-2-microglobulin (B2M) expression was measured simultaneously as an internal control. Exposure to a 60 Hz magnetic field did not significantly alter MYC expression in Daudi cells under any of the exposure conditions.</td>\n",
       "      <td>0033-7587</td>\n",
       "      <td>Radiation research</td>\n",
       "      <td>(153) 663-9</td>\n",
       "      <td>2000</td>\n",
       "      <td>C A</td>\n",
       "      <td>Morehouse</td>\n",
       "      <td>CA</td>\n",
       "      <td>FDA Center for Devices and Radiological Health, Rockville, Maryland 20850, USA.</td>\n",
       "    </tr>\n",
       "    <tr>\n",
       "      <th>4</th>\n",
       "      <td>10793017</td>\n",
       "      <td>Effects of dialyzer reuse on the permeability of low-flux membranes.</td>\n",
       "      <td>Little attention has been given to the effects of reuse on the permeability of low-flux membranes, especially regarding middle molecules. We studied two different types of low-flux membranes at reuses 0, 6, and 12 in five patients undergoing hemodialysis with the following combinations of membrane and sterilant: cellulose diacetate membrane and formaldehyde, polysulfone membrane and formaldehyde, cellulose diacetate membrane and peracetic acid, and polysulfone and peracetic acid. The permeability of the membranes was assessed through the hydraulic ultrafiltration coefficient (K(UF)), sieving coefficient for beta(2)-microglobulin (B2M), and vitamin B(12) and albumin concentrations in ultrafiltrate. After 12 reuses, total cell volume (TCV) tended to be reduced in both cellulose diacetate and polysulfone dialyzers irrespective of the sterilant used, but significance was only found for the first set of dialyzers. Cellulose diacetate dialyzers reprocessed with either formaldehyde or peracetic acid showed an important reduction in K(UF) (31% [P &lt; 0.05] and 23% [P &lt; 0.05], respectively). A significant elevation in K(UF) was found in polysulfone membranes reprocessed with peracetic acid (41%; P &lt; 0.05), but no alterations in K(UF) were found in polysulfone membranes reprocessed with formaldehyde. Cellulose diacetate membranes were intrinsically more permeable to B2M than polysulfone membranes (sieving coefficient, 6. 85 +/- 2.53 versus 0.04 +/- 0.02 x 10(-2); P &lt; 0.001), which was not modified by any of the sterilants. Vitamin B(12) levels in ultrafiltrate decreased to an undetectable level in four of five samples collected after 12 reuses in polysulfone membranes reprocessed with peracetic acid (90 +/- 71 to 3 +/- 8 pg/mL; P &lt; 0. 05 versus reuse 0). Albumin leakage occurred in two of five samples after the 12th reuse, but only in polysulfone membranes reprocessed with peracetic acid. Our findings suggest that reuse of low-flux polysulfone dialyzers reprocessed with peracetic acid is associated with structural damage of the membrane and a reduced permeability to middle molecules.</td>\n",
       "      <td>1523-6838</td>\n",
       "      <td>American journal of kidney diseases : the official journal of the National Kidney Foundation</td>\n",
       "      <td>(35) 839-44</td>\n",
       "      <td>2000</td>\n",
       "      <td>J P</td>\n",
       "      <td>Matos</td>\n",
       "      <td>JP</td>\n",
       "      <td>Department of Internal Medicine, Division of Nephrology, and Department of Pathology, Universidade Federal Fluminense, Niterói, Rio de Janeiro, Brazil.</td>\n",
       "    </tr>\n",
       "    <tr>\n",
       "      <th>5</th>\n",
       "      <td>10848778</td>\n",
       "      <td>Prognostic value of serum markers of bone metabolism in untreated multiple myeloma patients.</td>\n",
       "      <td>Bone involvement is a central feature of multiple myeloma (MM). We investigated whether serum markers of osteoblastic and osteoclastic activity correlate with the presence of bone disease and survival in 313 MM patients enrolled in a phase III trial (E9486). Five markers were measured, including osteocalcin (OC), carboxy-terminal propeptide of type I collagen (PICP), bone alkaline phosphatase (BAP), carboxy-terminal telopeptide of type I collagen (ICTP) and tartrate-resistant acid phosphatase (TRAP). We analysed the relationship between serum levels of these markers and the presence of bone manifestations, and survival. Serum levels of ICTP and BAP correlated significantly with bone pain, lesions and fractures. Serum level of ICTP was also higher in stage II-III compared with stage I disease. The serum level of ICTP was significantly associated with shortened survival in the univariate analysis. The median survival times were 4.1 and 3.5 years for low and high ICTP respectively (P = 0.02). There was a strong relationship between ICTP and beta-2-micrgolobulin (B2M). ICTP stands out as a significant marker of bone disease. Incorporation of these markers into clinical trials assessing the use of bisphosphonates in MM is needed to determine whether they might serve as indicators of effectiveness of these agents.</td>\n",
       "      <td>0007-1048</td>\n",
       "      <td>British journal of haematology</td>\n",
       "      <td>(109) 24-9</td>\n",
       "      <td>2000</td>\n",
       "      <td>R</td>\n",
       "      <td>Fonseca</td>\n",
       "      <td>R</td>\n",
       "      <td>Department of Pathology and Laboratory Medicine, Rochester, MN 55905, USA.</td>\n",
       "    </tr>\n",
       "  </tbody>\n",
       "</table>\n",
       "</div>"
      ],
      "text/plain": [
       "       PMID  \\\n",
       "0  10575721   \n",
       "1  10617805   \n",
       "2  10656443   \n",
       "3  10790290   \n",
       "4  10793017   \n",
       "5  10848778   \n",
       "\n",
       "                                                                                                                                     Title  \\\n",
       "0                                                              [Computer-assisted preoperative planning of knee replacement arthroplasty].   \n",
       "1                                                                         [Urogenital amyloidosis: clinico-pathological study of 8 cases].   \n",
       "2  Serum beta-2 microglobulin levels are a significant prognostic factor in Philadelphia chromosome-positive chronic myelogenous leukemia.   \n",
       "3                                  Exposure of Daudi cells to low-frequency magnetic fields does not elevate MYC steady-state mRNA levels.   \n",
       "4                                                                     Effects of dialyzer reuse on the permeability of low-flux membranes.   \n",
       "5                                             Prognostic value of serum markers of bone metabolism in untreated multiple myeloma patients.   \n",
       "\n",
       "                                                                                                                                                                                                                                                                                                                                                                                                                                                                                                                                                                                                                                                                                                                                                                                                                                                                                                                                                                                                                                                                                                                                                                                                                                                                                                                                                                                                                                                                                                                                                                                                                                                                                                                                                                                                                                                                                                                                                                                                                                                                                                                                                                                       Abstract  \\\n",
       "0                                                                                                                                                                                                                                                                                                                                                                                                                                                                                                                                                                                                                                                                                                                                                                                                                                                                                                                                                                                                                                                                                                                                                                                                                                                                                                                                                                                                                                                                                                                                              The general configuration of replaced knee is difficult to anticipate because of the large number of geometrical parameters related to morphology, prosthetic implants and pre-operative choices (such as ligament release). This article features the studies achieved in order to create a decision aiding computer tool dedicated to total knee prosthesis. METHOD AND MODEL: We have built a geometrical modelling of the physiological knee and prosthesis elements association. A numerical processing through biomechanical laws permitted to simulate the geometrical and mechanical behaviour of the whole for different flexing angle.   \n",
       "1                                                                                                                                                                                                                                                                                                                                                                                                                                                                                                                                                                                                                                                                                                                                                                                                                                                                                                                                                                                                                                                                                                        Amyloidosis of the genito-urinary tract is uncommon. We report 8 cases, often misdiagnosed as a neoplastic process (6/8). Amyloidosis was localized in the bladder (3 cases), in the ureter (1 case) and in the prostate and/or seminal vesicles (4 cases). The amyloid protein was characterized in 7 cases by immunohistochemistry. Among the bladder and ureter amyloidosis, 2 cases were classified as AL lambda amyloidosis and one case as AA amyloidosis in a patient with long history of chronic arthritis. In the fourth case, the deposits could not be identified. Nevertheless an AL amyloidosis might be suggested. Two cases of prostate and/or seminal vesicles amyloidosis were stained with an anti-B2M antibody, in hemodialyzed patients. The 2 others, positive with the anti-Transthyretina antibody, were classified as senile amyloidosis. This small series illustrated the heterogeneous pathogenic types of amyloidosis in the urogenital tract and emphasized the interest of immunohistochemistry to identify the chemical composition of these deposits.   \n",
       "2                                                                                                                                                                                                                                                                                                                                                                                                                                                                                                                                                                                                                                      Our objective was to investigate the prognostic significance of serum beta-2 microglobulin (B2M) levels among patients with chronic myelogenous leukemia (CML). All patients with Philadelphia chromosome-positive early chronic phase CML (i.e., within 1 year of diagnosis) treated with IFN alpha-based therapy at the M. D. Anderson Cancer Center between 1980 and 1997, in whom pretreatment B2M levels were available, were investigated. Two hundred one patients were evaluable. Their median B2M was 2.2 mg/dl (range, 1.1-20 mg/dl). Serum B2M levels were associated with other variables of prognostic significance, including age, spleen size, WBC count, percentage of peripheral and marrow blasts, and percentage of marrow basophils. Patients with B2M levels >2.9 mg/dl (ie., the upper quartile of the distribution) had a significantly lower rate of major cytogenetic response compared to those in the lower three quartiles (20 versus 52%; P < 0.01). They also had a shorter survival, with a 5-year survival rate of 48%, compared with 75% for those in the lower quartiles (P = 0.01). High B2M levels (>2.9 mg/dl) could identify a group of patients with an adverse outcome within patients in stage I disease (P = 0.02). Results for patients in stages 2-4 were inconclusive because of the small number of patients in these groups. We conclude that serum B2M levels are an important, and probably independent, prognostic factor for patients with CML in early chronic phase treated with IFN-based therapy.   \n",
       "3                                                                                                                                                                                                                                                                                                                                                                                                                                                                                                                                                                                                                                                                                                                                                           The effect of extremely low-frequency electromagnetic field (ELF EMF) exposures to human health has been widely debated. Epidemiological studies have found a possible correlation between increased cancer incidence and environmental ELF EMF exposures. Results from in vitro studies performed to examine the possible underlying bioeffects of ELF EMFs have varied greatly. Reported effects range from robust and reproducible effects to undetectable. In this study, Daudi cells were exposed to 60 Hz magnetic fields for 20, 40 or 60 min at flux densities of 12.5, 50, 100 or 500 microT. Exposures were performed in the Regional ELF-EMF Exposure Facility (Rockville, MD) to minimize variables that might contribute to a false positive effect. Exposures included sham/sham, exposed/sham or sham/exposed, and were performed with blinding with respect to type of exposure. 12-O-Tetradecanoylphorbol-13-acetate (TPA) treatment was used as a positive control. Total cellular RNA was isolated using a single-step technique. Human MYC expression was measured by northern blot hybridization as an indicator of the responsiveness of Daudi cells to experimental conditions. Beta-2-microglobulin (B2M) expression was measured simultaneously as an internal control. Exposure to a 60 Hz magnetic field did not significantly alter MYC expression in Daudi cells under any of the exposure conditions.   \n",
       "4  Little attention has been given to the effects of reuse on the permeability of low-flux membranes, especially regarding middle molecules. We studied two different types of low-flux membranes at reuses 0, 6, and 12 in five patients undergoing hemodialysis with the following combinations of membrane and sterilant: cellulose diacetate membrane and formaldehyde, polysulfone membrane and formaldehyde, cellulose diacetate membrane and peracetic acid, and polysulfone and peracetic acid. The permeability of the membranes was assessed through the hydraulic ultrafiltration coefficient (K(UF)), sieving coefficient for beta(2)-microglobulin (B2M), and vitamin B(12) and albumin concentrations in ultrafiltrate. After 12 reuses, total cell volume (TCV) tended to be reduced in both cellulose diacetate and polysulfone dialyzers irrespective of the sterilant used, but significance was only found for the first set of dialyzers. Cellulose diacetate dialyzers reprocessed with either formaldehyde or peracetic acid showed an important reduction in K(UF) (31% [P < 0.05] and 23% [P < 0.05], respectively). A significant elevation in K(UF) was found in polysulfone membranes reprocessed with peracetic acid (41%; P < 0.05), but no alterations in K(UF) were found in polysulfone membranes reprocessed with formaldehyde. Cellulose diacetate membranes were intrinsically more permeable to B2M than polysulfone membranes (sieving coefficient, 6. 85 +/- 2.53 versus 0.04 +/- 0.02 x 10(-2); P < 0.001), which was not modified by any of the sterilants. Vitamin B(12) levels in ultrafiltrate decreased to an undetectable level in four of five samples collected after 12 reuses in polysulfone membranes reprocessed with peracetic acid (90 +/- 71 to 3 +/- 8 pg/mL; P < 0. 05 versus reuse 0). Albumin leakage occurred in two of five samples after the 12th reuse, but only in polysulfone membranes reprocessed with peracetic acid. Our findings suggest that reuse of low-flux polysulfone dialyzers reprocessed with peracetic acid is associated with structural damage of the membrane and a reduced permeability to middle molecules.   \n",
       "5                                                                                                                                                                                                                                                                                                                                                                                                                                                                                                                                                                                                                                                                                                                                                                                                             Bone involvement is a central feature of multiple myeloma (MM). We investigated whether serum markers of osteoblastic and osteoclastic activity correlate with the presence of bone disease and survival in 313 MM patients enrolled in a phase III trial (E9486). Five markers were measured, including osteocalcin (OC), carboxy-terminal propeptide of type I collagen (PICP), bone alkaline phosphatase (BAP), carboxy-terminal telopeptide of type I collagen (ICTP) and tartrate-resistant acid phosphatase (TRAP). We analysed the relationship between serum levels of these markers and the presence of bone manifestations, and survival. Serum levels of ICTP and BAP correlated significantly with bone pain, lesions and fractures. Serum level of ICTP was also higher in stage II-III compared with stage I disease. The serum level of ICTP was significantly associated with shortened survival in the univariate analysis. The median survival times were 4.1 and 3.5 years for low and high ICTP respectively (P = 0.02). There was a strong relationship between ICTP and beta-2-micrgolobulin (B2M). ICTP stands out as a significant marker of bone disease. Incorporation of these markers into clinical trials assessing the use of bisphosphonates in MM is needed to determine whether they might serve as indicators of effectiveness of these agents.   \n",
       "\n",
       "        ISSN  \\\n",
       "0  0035-1040   \n",
       "1  0242-6498   \n",
       "2  1078-0432   \n",
       "3  0033-7587   \n",
       "4  1523-6838   \n",
       "5  0007-1048   \n",
       "\n",
       "                                                                                          Journal  \\\n",
       "0                             Revue de chirurgie orthopedique et reparatrice de l'appareil moteur   \n",
       "1                                                                           Annales de pathologie   \n",
       "2  Clinical cancer research : an official journal of the American Association for Cancer Research   \n",
       "3                                                                              Radiation research   \n",
       "4    American journal of kidney diseases : the official journal of the National Kidney Foundation   \n",
       "5                                                                  British journal of haematology   \n",
       "\n",
       "       Location  Year FirstAuthorForename FirstAuthorLastname  \\\n",
       "0  (85) 591-600  1999                   E           Nerkowski   \n",
       "1   (19) 487-91  1999                   M           Esslimani   \n",
       "2    (6) 147-52  2000                   J           Rodriguez   \n",
       "3   (153) 663-9  2000                 C A           Morehouse   \n",
       "4   (35) 839-44  2000                 J P               Matos   \n",
       "5    (109) 24-9  2000                   R             Fonseca   \n",
       "\n",
       "  FirstAuthorInitials  \\\n",
       "0                   E   \n",
       "1                   M   \n",
       "2                   J   \n",
       "3                  CA   \n",
       "4                  JP   \n",
       "5                   R   \n",
       "\n",
       "                                                                                                                                    FirstAuthorAffiliation  \n",
       "0                                                                                                                      Equipe B2M, ENSAM, Aix-en-Provence.  \n",
       "1                                                                     Service d'Anatomie Pathologique, Hôpital Gui de Chauliac, 34295 Montpellier Cedex 5.  \n",
       "2                                                             Department of Leukemia, University of Texas M.D. Anderson Cancer Center, Houston 77030, USA.  \n",
       "3                                                                          FDA Center for Devices and Radiological Health, Rockville, Maryland 20850, USA.  \n",
       "4  Department of Internal Medicine, Division of Nephrology, and Department of Pathology, Universidade Federal Fluminense, Niterói, Rio de Janeiro, Brazil.  \n",
       "5                                                                               Department of Pathology and Laboratory Medicine, Rochester, MN 55905, USA.  "
      ]
     },
     "execution_count": 254,
     "metadata": {},
     "output_type": "execute_result"
    }
   ],
   "source": [
    "article_df.head(6)"
   ]
  },
  {
   "cell_type": "code",
   "execution_count": 255,
   "id": "b3f619a2-23b3-4787-9d9c-57dd9ec432ae",
   "metadata": {},
   "outputs": [
    {
     "data": {
      "text/html": [
       "<div>\n",
       "<style scoped>\n",
       "    .dataframe tbody tr th:only-of-type {\n",
       "        vertical-align: middle;\n",
       "    }\n",
       "\n",
       "    .dataframe tbody tr th {\n",
       "        vertical-align: top;\n",
       "    }\n",
       "\n",
       "    .dataframe thead th {\n",
       "        text-align: right;\n",
       "    }\n",
       "</style>\n",
       "<table border=\"1\" class=\"dataframe\">\n",
       "  <thead>\n",
       "    <tr style=\"text-align: right;\">\n",
       "      <th></th>\n",
       "      <th>PMID</th>\n",
       "      <th>AuthorN</th>\n",
       "      <th>AuthorForename</th>\n",
       "      <th>AuthorLastname</th>\n",
       "      <th>AuthorInitials</th>\n",
       "      <th>AuthorAffiliation</th>\n",
       "    </tr>\n",
       "  </thead>\n",
       "  <tbody>\n",
       "    <tr>\n",
       "      <th>0</th>\n",
       "      <td>10575721</td>\n",
       "      <td>1</td>\n",
       "      <td>E</td>\n",
       "      <td>Nerkowski</td>\n",
       "      <td>E</td>\n",
       "      <td>Equipe B2M, ENSAM, Aix-en-Provence.</td>\n",
       "    </tr>\n",
       "    <tr>\n",
       "      <th>1</th>\n",
       "      <td>10575721</td>\n",
       "      <td>2</td>\n",
       "      <td>P</td>\n",
       "      <td>Calas</td>\n",
       "      <td>P</td>\n",
       "      <td>NaN</td>\n",
       "    </tr>\n",
       "    <tr>\n",
       "      <th>2</th>\n",
       "      <td>10575721</td>\n",
       "      <td>3</td>\n",
       "      <td>A</td>\n",
       "      <td>Mouttet</td>\n",
       "      <td>A</td>\n",
       "      <td>NaN</td>\n",
       "    </tr>\n",
       "    <tr>\n",
       "      <th>3</th>\n",
       "      <td>10617805</td>\n",
       "      <td>1</td>\n",
       "      <td>M</td>\n",
       "      <td>Esslimani</td>\n",
       "      <td>M</td>\n",
       "      <td>Service d'Anatomie Pathologique, Hôpital Gui de Chauliac, 34295 Montpellier Cedex 5.</td>\n",
       "    </tr>\n",
       "    <tr>\n",
       "      <th>4</th>\n",
       "      <td>10617805</td>\n",
       "      <td>2</td>\n",
       "      <td>I</td>\n",
       "      <td>Serre</td>\n",
       "      <td>I</td>\n",
       "      <td>NaN</td>\n",
       "    </tr>\n",
       "    <tr>\n",
       "      <th>5</th>\n",
       "      <td>10617805</td>\n",
       "      <td>3</td>\n",
       "      <td>M</td>\n",
       "      <td>Granier</td>\n",
       "      <td>M</td>\n",
       "      <td>NaN</td>\n",
       "    </tr>\n",
       "    <tr>\n",
       "      <th>6</th>\n",
       "      <td>10617805</td>\n",
       "      <td>4</td>\n",
       "      <td>M</td>\n",
       "      <td>Robert</td>\n",
       "      <td>M</td>\n",
       "      <td>NaN</td>\n",
       "    </tr>\n",
       "    <tr>\n",
       "      <th>7</th>\n",
       "      <td>10617805</td>\n",
       "      <td>5</td>\n",
       "      <td>P</td>\n",
       "      <td>Baldet</td>\n",
       "      <td>P</td>\n",
       "      <td>NaN</td>\n",
       "    </tr>\n",
       "    <tr>\n",
       "      <th>8</th>\n",
       "      <td>10617805</td>\n",
       "      <td>6</td>\n",
       "      <td>V</td>\n",
       "      <td>Costes</td>\n",
       "      <td>V</td>\n",
       "      <td>NaN</td>\n",
       "    </tr>\n",
       "    <tr>\n",
       "      <th>9</th>\n",
       "      <td>10656443</td>\n",
       "      <td>1</td>\n",
       "      <td>J</td>\n",
       "      <td>Rodriguez</td>\n",
       "      <td>J</td>\n",
       "      <td>Department of Leukemia, University of Texas M.D. Anderson Cancer Center, Houston 77030, USA.</td>\n",
       "    </tr>\n",
       "    <tr>\n",
       "      <th>10</th>\n",
       "      <td>10656443</td>\n",
       "      <td>2</td>\n",
       "      <td>J</td>\n",
       "      <td>Cortes</td>\n",
       "      <td>J</td>\n",
       "      <td>NaN</td>\n",
       "    </tr>\n",
       "    <tr>\n",
       "      <th>11</th>\n",
       "      <td>10656443</td>\n",
       "      <td>3</td>\n",
       "      <td>M</td>\n",
       "      <td>Talpaz</td>\n",
       "      <td>M</td>\n",
       "      <td>NaN</td>\n",
       "    </tr>\n",
       "    <tr>\n",
       "      <th>12</th>\n",
       "      <td>10656443</td>\n",
       "      <td>4</td>\n",
       "      <td>S</td>\n",
       "      <td>O'Brien</td>\n",
       "      <td>S</td>\n",
       "      <td>NaN</td>\n",
       "    </tr>\n",
       "    <tr>\n",
       "      <th>13</th>\n",
       "      <td>10656443</td>\n",
       "      <td>5</td>\n",
       "      <td>T L</td>\n",
       "      <td>Smith</td>\n",
       "      <td>TL</td>\n",
       "      <td>NaN</td>\n",
       "    </tr>\n",
       "    <tr>\n",
       "      <th>14</th>\n",
       "      <td>10656443</td>\n",
       "      <td>6</td>\n",
       "      <td>M B</td>\n",
       "      <td>Rios</td>\n",
       "      <td>MB</td>\n",
       "      <td>NaN</td>\n",
       "    </tr>\n",
       "    <tr>\n",
       "      <th>15</th>\n",
       "      <td>10656443</td>\n",
       "      <td>7</td>\n",
       "      <td>H</td>\n",
       "      <td>Kantarjian</td>\n",
       "      <td>H</td>\n",
       "      <td>NaN</td>\n",
       "    </tr>\n",
       "    <tr>\n",
       "      <th>16</th>\n",
       "      <td>10790290</td>\n",
       "      <td>1</td>\n",
       "      <td>C A</td>\n",
       "      <td>Morehouse</td>\n",
       "      <td>CA</td>\n",
       "      <td>FDA Center for Devices and Radiological Health, Rockville, Maryland 20850, USA.</td>\n",
       "    </tr>\n",
       "    <tr>\n",
       "      <th>17</th>\n",
       "      <td>10790290</td>\n",
       "      <td>2</td>\n",
       "      <td>R D</td>\n",
       "      <td>Owen</td>\n",
       "      <td>RD</td>\n",
       "      <td>NaN</td>\n",
       "    </tr>\n",
       "    <tr>\n",
       "      <th>18</th>\n",
       "      <td>10793017</td>\n",
       "      <td>1</td>\n",
       "      <td>J P</td>\n",
       "      <td>Matos</td>\n",
       "      <td>JP</td>\n",
       "      <td>Department of Internal Medicine, Division of Nephrology, and Department of Pathology, Universidade Federal Fluminense, Niterói, Rio de Janeiro, Brazil.</td>\n",
       "    </tr>\n",
       "    <tr>\n",
       "      <th>19</th>\n",
       "      <td>10793017</td>\n",
       "      <td>2</td>\n",
       "      <td>M B</td>\n",
       "      <td>André</td>\n",
       "      <td>MB</td>\n",
       "      <td>NaN</td>\n",
       "    </tr>\n",
       "  </tbody>\n",
       "</table>\n",
       "</div>"
      ],
      "text/plain": [
       "        PMID  AuthorN AuthorForename AuthorLastname AuthorInitials  \\\n",
       "0   10575721        1              E      Nerkowski              E   \n",
       "1   10575721        2              P          Calas              P   \n",
       "2   10575721        3              A        Mouttet              A   \n",
       "3   10617805        1              M      Esslimani              M   \n",
       "4   10617805        2              I          Serre              I   \n",
       "5   10617805        3              M        Granier              M   \n",
       "6   10617805        4              M         Robert              M   \n",
       "7   10617805        5              P         Baldet              P   \n",
       "8   10617805        6              V         Costes              V   \n",
       "9   10656443        1              J      Rodriguez              J   \n",
       "10  10656443        2              J         Cortes              J   \n",
       "11  10656443        3              M         Talpaz              M   \n",
       "12  10656443        4              S        O'Brien              S   \n",
       "13  10656443        5            T L          Smith             TL   \n",
       "14  10656443        6            M B           Rios             MB   \n",
       "15  10656443        7              H     Kantarjian              H   \n",
       "16  10790290        1            C A      Morehouse             CA   \n",
       "17  10790290        2            R D           Owen             RD   \n",
       "18  10793017        1            J P          Matos             JP   \n",
       "19  10793017        2            M B          André             MB   \n",
       "\n",
       "                                                                                                                                          AuthorAffiliation  \n",
       "0                                                                                                                       Equipe B2M, ENSAM, Aix-en-Provence.  \n",
       "1                                                                                                                                                       NaN  \n",
       "2                                                                                                                                                       NaN  \n",
       "3                                                                      Service d'Anatomie Pathologique, Hôpital Gui de Chauliac, 34295 Montpellier Cedex 5.  \n",
       "4                                                                                                                                                       NaN  \n",
       "5                                                                                                                                                       NaN  \n",
       "6                                                                                                                                                       NaN  \n",
       "7                                                                                                                                                       NaN  \n",
       "8                                                                                                                                                       NaN  \n",
       "9                                                              Department of Leukemia, University of Texas M.D. Anderson Cancer Center, Houston 77030, USA.  \n",
       "10                                                                                                                                                      NaN  \n",
       "11                                                                                                                                                      NaN  \n",
       "12                                                                                                                                                      NaN  \n",
       "13                                                                                                                                                      NaN  \n",
       "14                                                                                                                                                      NaN  \n",
       "15                                                                                                                                                      NaN  \n",
       "16                                                                          FDA Center for Devices and Radiological Health, Rockville, Maryland 20850, USA.  \n",
       "17                                                                                                                                                      NaN  \n",
       "18  Department of Internal Medicine, Division of Nephrology, and Department of Pathology, Universidade Federal Fluminense, Niterói, Rio de Janeiro, Brazil.  \n",
       "19                                                                                                                                                      NaN  "
      ]
     },
     "execution_count": 255,
     "metadata": {},
     "output_type": "execute_result"
    }
   ],
   "source": [
    "authors_df.head(20)"
   ]
  },
  {
   "cell_type": "code",
   "execution_count": 256,
   "id": "ed0a7511-b665-4fac-b0e0-f4cf5adef781",
   "metadata": {},
   "outputs": [
    {
     "name": "stdout",
     "output_type": "stream",
     "text": [
      "Common information of the Article dataset: \n",
      "--------------------------\n",
      "<class 'pandas.core.frame.DataFrame'>\n",
      "RangeIndex: 665 entries, 0 to 664\n",
      "Data columns (total 11 columns):\n",
      " #   Column                  Non-Null Count  Dtype \n",
      "---  ------                  --------------  ----- \n",
      " 0   PMID                    665 non-null    int64 \n",
      " 1   Title                   665 non-null    object\n",
      " 2   Abstract                665 non-null    object\n",
      " 3   ISSN                    665 non-null    object\n",
      " 4   Journal                 665 non-null    object\n",
      " 5   Location                665 non-null    object\n",
      " 6   Year                    665 non-null    int64 \n",
      " 7   FirstAuthorForename     665 non-null    object\n",
      " 8   FirstAuthorLastname     665 non-null    object\n",
      " 9   FirstAuthorInitials     665 non-null    object\n",
      " 10  FirstAuthorAffiliation  659 non-null    object\n",
      "dtypes: int64(2), object(9)\n",
      "memory usage: 57.3+ KB\n",
      "--------------------------\n",
      "The NaN vaues in the Article dataset is: \n",
      "--------------------------\n"
     ]
    },
    {
     "data": {
      "text/plain": [
       "PMID                      0\n",
       "Title                     0\n",
       "Abstract                  0\n",
       "ISSN                      0\n",
       "Journal                   0\n",
       "Location                  0\n",
       "Year                      0\n",
       "FirstAuthorForename       0\n",
       "FirstAuthorLastname       0\n",
       "FirstAuthorInitials       0\n",
       "FirstAuthorAffiliation    6\n",
       "dtype: int64"
      ]
     },
     "execution_count": 256,
     "metadata": {},
     "output_type": "execute_result"
    }
   ],
   "source": [
    "#Checking the dataframe information and NaN values\n",
    "\n",
    "print(\"Common information of the Article dataset: \")\n",
    "print(\"--------------------------\")\n",
    "article_df.info()\n",
    "print(\"--------------------------\")\n",
    "print(\"The NaN vaues in the Article dataset is: \")\n",
    "print(\"--------------------------\")\n",
    "article_df.isna().sum()"
   ]
  },
  {
   "cell_type": "code",
   "execution_count": 257,
   "id": "a4b4f6f8-80af-4ad6-9820-3a0e2c3167a9",
   "metadata": {},
   "outputs": [
    {
     "name": "stdout",
     "output_type": "stream",
     "text": [
      "The NaN vaues in the Authors dataset is: \n",
      "-------------------------------\n"
     ]
    },
    {
     "data": {
      "text/plain": [
       "PMID                    0\n",
       "AuthorN                 0\n",
       "AuthorForename          1\n",
       "AuthorLastname          0\n",
       "AuthorInitials          4\n",
       "AuthorAffiliation    1375\n",
       "dtype: int64"
      ]
     },
     "execution_count": 257,
     "metadata": {},
     "output_type": "execute_result"
    }
   ],
   "source": [
    "print(\"The NaN vaues in the Authors dataset is: \")\n",
    "print(\"-------------------------------\")\n",
    "authors_df.isna().sum()"
   ]
  },
  {
   "cell_type": "code",
   "execution_count": 258,
   "id": "1d63ee96-49e7-460e-9eff-b42903bfcdbc",
   "metadata": {},
   "outputs": [
    {
     "name": "stdout",
     "output_type": "stream",
     "text": [
      "The NaN vaues in the paper count dataset is: \n",
      "--------------------------\n"
     ]
    },
    {
     "data": {
      "text/plain": [
       "Year     0\n",
       "Count    0\n",
       "dtype: int64"
      ]
     },
     "execution_count": 258,
     "metadata": {},
     "output_type": "execute_result"
    }
   ],
   "source": [
    "print(\"The NaN vaues in the paper count dataset is: \")\n",
    "print(\"--------------------------\")\n",
    "pap_counts_df.isna().sum()"
   ]
  },
  {
   "cell_type": "code",
   "execution_count": 259,
   "id": "daf141c6-edf0-4233-a86f-405c70456516",
   "metadata": {},
   "outputs": [
    {
     "data": {
      "text/html": [
       "<div>\n",
       "<style scoped>\n",
       "    .dataframe tbody tr th:only-of-type {\n",
       "        vertical-align: middle;\n",
       "    }\n",
       "\n",
       "    .dataframe tbody tr th {\n",
       "        vertical-align: top;\n",
       "    }\n",
       "\n",
       "    .dataframe thead th {\n",
       "        text-align: right;\n",
       "    }\n",
       "</style>\n",
       "<table border=\"1\" class=\"dataframe\">\n",
       "  <thead>\n",
       "    <tr style=\"text-align: right;\">\n",
       "      <th></th>\n",
       "      <th>Title</th>\n",
       "      <th>Abstract</th>\n",
       "      <th>ISSN</th>\n",
       "      <th>Journal</th>\n",
       "      <th>Location</th>\n",
       "      <th>FirstAuthorForename</th>\n",
       "      <th>FirstAuthorLastname</th>\n",
       "      <th>FirstAuthorInitials</th>\n",
       "      <th>FirstAuthorAffiliation</th>\n",
       "    </tr>\n",
       "  </thead>\n",
       "  <tbody>\n",
       "    <tr>\n",
       "      <th>count</th>\n",
       "      <td>665</td>\n",
       "      <td>665</td>\n",
       "      <td>665</td>\n",
       "      <td>665</td>\n",
       "      <td>665</td>\n",
       "      <td>665</td>\n",
       "      <td>665</td>\n",
       "      <td>665</td>\n",
       "      <td>659</td>\n",
       "    </tr>\n",
       "    <tr>\n",
       "      <th>unique</th>\n",
       "      <td>665</td>\n",
       "      <td>665</td>\n",
       "      <td>410</td>\n",
       "      <td>388</td>\n",
       "      <td>665</td>\n",
       "      <td>578</td>\n",
       "      <td>523</td>\n",
       "      <td>184</td>\n",
       "      <td>655</td>\n",
       "    </tr>\n",
       "    <tr>\n",
       "      <th>top</th>\n",
       "      <td>[Computer-assisted preoperative planning of knee replacement arthroplasty].</td>\n",
       "      <td>The general configuration of replaced knee is difficult to anticipate because of the large number of geometrical parameters related to morphology, prosthetic implants and pre-operative choices (such as ligament release). This article features the studies achieved in order to create a decision aiding computer tool dedicated to total knee prosthesis. METHOD AND MODEL: We have built a geometrical modelling of the physiological knee and prosthesis elements association. A numerical processing through biomechanical laws permitted to simulate the geometrical and mechanical behaviour of the whole for different flexing angle.</td>\n",
       "      <td>1932-6203</td>\n",
       "      <td>PloS one</td>\n",
       "      <td>(85) 591-600</td>\n",
       "      <td>M</td>\n",
       "      <td>Wang</td>\n",
       "      <td>M</td>\n",
       "      <td>Department of Pharmaceutical Biotechnology, School of Pharmacy, Shahid Beheshti University of Medical Sciences, Tehran, Iran.</td>\n",
       "    </tr>\n",
       "    <tr>\n",
       "      <th>freq</th>\n",
       "      <td>1</td>\n",
       "      <td>1</td>\n",
       "      <td>44</td>\n",
       "      <td>44</td>\n",
       "      <td>1</td>\n",
       "      <td>6</td>\n",
       "      <td>22</td>\n",
       "      <td>51</td>\n",
       "      <td>2</td>\n",
       "    </tr>\n",
       "  </tbody>\n",
       "</table>\n",
       "</div>"
      ],
      "text/plain": [
       "                                                                              Title  \\\n",
       "count                                                                           665   \n",
       "unique                                                                          665   \n",
       "top     [Computer-assisted preoperative planning of knee replacement arthroplasty].   \n",
       "freq                                                                              1   \n",
       "\n",
       "                                                                                                                                                                                                                                                                                                                                                                                                                                                                                                                                                                                                                                                Abstract  \\\n",
       "count                                                                                                                                                                                                                                                                                                                                                                                                                                                                                                                                                                                                                                                665   \n",
       "unique                                                                                                                                                                                                                                                                                                                                                                                                                                                                                                                                                                                                                                               665   \n",
       "top     The general configuration of replaced knee is difficult to anticipate because of the large number of geometrical parameters related to morphology, prosthetic implants and pre-operative choices (such as ligament release). This article features the studies achieved in order to create a decision aiding computer tool dedicated to total knee prosthesis. METHOD AND MODEL: We have built a geometrical modelling of the physiological knee and prosthesis elements association. A numerical processing through biomechanical laws permitted to simulate the geometrical and mechanical behaviour of the whole for different flexing angle.   \n",
       "freq                                                                                                                                                                                                                                                                                                                                                                                                                                                                                                                                                                                                                                                   1   \n",
       "\n",
       "             ISSN   Journal      Location FirstAuthorForename  \\\n",
       "count         665       665           665                 665   \n",
       "unique        410       388           665                 578   \n",
       "top     1932-6203  PloS one  (85) 591-600                   M   \n",
       "freq           44        44             1                   6   \n",
       "\n",
       "       FirstAuthorLastname FirstAuthorInitials  \\\n",
       "count                  665                 665   \n",
       "unique                 523                 184   \n",
       "top                   Wang                   M   \n",
       "freq                    22                  51   \n",
       "\n",
       "                                                                                                               FirstAuthorAffiliation  \n",
       "count                                                                                                                             659  \n",
       "unique                                                                                                                            655  \n",
       "top     Department of Pharmaceutical Biotechnology, School of Pharmacy, Shahid Beheshti University of Medical Sciences, Tehran, Iran.  \n",
       "freq                                                                                                                                2  "
      ]
     },
     "execution_count": 259,
     "metadata": {},
     "output_type": "execute_result"
    }
   ],
   "source": [
    "#Checking the frequency of categorical values in the Article dataset\n",
    "\n",
    "article_df.describe(exclude = [np.number])"
   ]
  },
  {
   "cell_type": "code",
   "execution_count": 260,
   "id": "fddd400d-2cb8-48d1-ac84-7eb7871486e4",
   "metadata": {},
   "outputs": [
    {
     "name": "stdout",
     "output_type": "stream",
     "text": [
      "<class 'pandas.core.frame.DataFrame'>\n",
      "Index: 659 entries, 0 to 664\n",
      "Data columns (total 11 columns):\n",
      " #   Column                  Non-Null Count  Dtype \n",
      "---  ------                  --------------  ----- \n",
      " 0   PMID                    659 non-null    int64 \n",
      " 1   Title                   659 non-null    object\n",
      " 2   Abstract                659 non-null    object\n",
      " 3   ISSN                    659 non-null    object\n",
      " 4   Journal                 659 non-null    object\n",
      " 5   Location                659 non-null    object\n",
      " 6   Year                    659 non-null    int64 \n",
      " 7   FirstAuthorForename     659 non-null    object\n",
      " 8   FirstAuthorLastname     659 non-null    object\n",
      " 9   FirstAuthorInitials     659 non-null    object\n",
      " 10  FirstAuthorAffiliation  659 non-null    object\n",
      "dtypes: int64(2), object(9)\n",
      "memory usage: 61.8+ KB\n"
     ]
    }
   ],
   "source": [
    "# Droping out the rows that have N/A in Affiliation from the Article dataset\n",
    "droped_article_df  = article_df.dropna(subset = ['FirstAuthorAffiliation'])\n",
    "\n",
    "droped_article_df.info()\n"
   ]
  },
  {
   "cell_type": "markdown",
   "id": "335d0322-5dd6-424b-a175-e9cf261c9e48",
   "metadata": {},
   "source": [
    "## Top5 contributing institutions:"
   ]
  },
  {
   "cell_type": "code",
   "execution_count": 261,
   "id": "eacd491e-a31f-41a0-9548-1adc75e4f963",
   "metadata": {},
   "outputs": [],
   "source": [
    "#Droping unnecessary columns\n",
    "\n",
    "inst_1 = droped_article_df.drop(['Title','Abstract','Location','FirstAuthorInitials'], axis = 1) "
   ]
  },
  {
   "cell_type": "code",
   "execution_count": 262,
   "id": "38536c81-c8e9-4ade-a86d-971ada425d91",
   "metadata": {},
   "outputs": [
    {
     "data": {
      "text/html": [
       "<div>\n",
       "<style scoped>\n",
       "    .dataframe tbody tr th:only-of-type {\n",
       "        vertical-align: middle;\n",
       "    }\n",
       "\n",
       "    .dataframe tbody tr th {\n",
       "        vertical-align: top;\n",
       "    }\n",
       "\n",
       "    .dataframe thead th {\n",
       "        text-align: right;\n",
       "    }\n",
       "</style>\n",
       "<table border=\"1\" class=\"dataframe\">\n",
       "  <thead>\n",
       "    <tr style=\"text-align: right;\">\n",
       "      <th></th>\n",
       "      <th>PMID</th>\n",
       "      <th>ISSN</th>\n",
       "      <th>Journal</th>\n",
       "      <th>Year</th>\n",
       "      <th>FirstAuthorForename</th>\n",
       "      <th>FirstAuthorLastname</th>\n",
       "      <th>FirstAuthorAffiliation</th>\n",
       "    </tr>\n",
       "  </thead>\n",
       "  <tbody>\n",
       "    <tr>\n",
       "      <th>0</th>\n",
       "      <td>10575721</td>\n",
       "      <td>0035-1040</td>\n",
       "      <td>Revue de chirurgie orthopedique et reparatrice de l'appareil moteur</td>\n",
       "      <td>1999</td>\n",
       "      <td>E</td>\n",
       "      <td>Nerkowski</td>\n",
       "      <td>Equipe B2M, ENSAM, Aix-en-Provence.</td>\n",
       "    </tr>\n",
       "    <tr>\n",
       "      <th>1</th>\n",
       "      <td>10617805</td>\n",
       "      <td>0242-6498</td>\n",
       "      <td>Annales de pathologie</td>\n",
       "      <td>1999</td>\n",
       "      <td>M</td>\n",
       "      <td>Esslimani</td>\n",
       "      <td>Service d'Anatomie Pathologique, Hôpital Gui de Chauliac, 34295 Montpellier Cedex 5.</td>\n",
       "    </tr>\n",
       "    <tr>\n",
       "      <th>2</th>\n",
       "      <td>10656443</td>\n",
       "      <td>1078-0432</td>\n",
       "      <td>Clinical cancer research : an official journal of the American Association for Cancer Research</td>\n",
       "      <td>2000</td>\n",
       "      <td>J</td>\n",
       "      <td>Rodriguez</td>\n",
       "      <td>Department of Leukemia, University of Texas M.D. Anderson Cancer Center, Houston 77030, USA.</td>\n",
       "    </tr>\n",
       "    <tr>\n",
       "      <th>3</th>\n",
       "      <td>10790290</td>\n",
       "      <td>0033-7587</td>\n",
       "      <td>Radiation research</td>\n",
       "      <td>2000</td>\n",
       "      <td>C A</td>\n",
       "      <td>Morehouse</td>\n",
       "      <td>FDA Center for Devices and Radiological Health, Rockville, Maryland 20850, USA.</td>\n",
       "    </tr>\n",
       "    <tr>\n",
       "      <th>4</th>\n",
       "      <td>10793017</td>\n",
       "      <td>1523-6838</td>\n",
       "      <td>American journal of kidney diseases : the official journal of the National Kidney Foundation</td>\n",
       "      <td>2000</td>\n",
       "      <td>J P</td>\n",
       "      <td>Matos</td>\n",
       "      <td>Department of Internal Medicine, Division of Nephrology, and Department of Pathology, Universidade Federal Fluminense, Niterói, Rio de Janeiro, Brazil.</td>\n",
       "    </tr>\n",
       "    <tr>\n",
       "      <th>...</th>\n",
       "      <td>...</td>\n",
       "      <td>...</td>\n",
       "      <td>...</td>\n",
       "      <td>...</td>\n",
       "      <td>...</td>\n",
       "      <td>...</td>\n",
       "      <td>...</td>\n",
       "    </tr>\n",
       "    <tr>\n",
       "      <th>659</th>\n",
       "      <td>37874452</td>\n",
       "      <td>2509-2723</td>\n",
       "      <td>GeroScience</td>\n",
       "      <td>2023</td>\n",
       "      <td>Diana I</td>\n",
       "      <td>Aparicio-Bautista</td>\n",
       "      <td>Laboratorio de Estructura de Proteínas, Instituto Nacional de Medicina Genómica (INMEGEN), 14610, Ciudad de Mexico, Mexico.</td>\n",
       "    </tr>\n",
       "    <tr>\n",
       "      <th>660</th>\n",
       "      <td>37889281</td>\n",
       "      <td>1432-198X</td>\n",
       "      <td>Pediatric nephrology (Berlin, Germany)</td>\n",
       "      <td>2023</td>\n",
       "      <td>Rupesh</td>\n",
       "      <td>Raina</td>\n",
       "      <td>Akron Nephrology Associates/Cleveland Clinic Akron General Medical Center, Akron, OH, USA. rraina@akronchildrens.org.</td>\n",
       "    </tr>\n",
       "    <tr>\n",
       "      <th>661</th>\n",
       "      <td>37972698</td>\n",
       "      <td>1879-0038</td>\n",
       "      <td>Gene</td>\n",
       "      <td>2023</td>\n",
       "      <td>Nanjian</td>\n",
       "      <td>Luo</td>\n",
       "      <td>School of Preclinical Medicine, Zunyi Medical University, Zunyi 563000, China; College of Animal Science and Technology, Southwest University, Chongqing 400715, China.</td>\n",
       "    </tr>\n",
       "    <tr>\n",
       "      <th>662</th>\n",
       "      <td>38048169</td>\n",
       "      <td>1535-3907</td>\n",
       "      <td>Journal of proteome research</td>\n",
       "      <td>2023</td>\n",
       "      <td>Taohua</td>\n",
       "      <td>Lan</td>\n",
       "      <td>State Key Laboratory of Dampness Syndrome of Chinese Medicine, The Second Affiliated Hospital of Guangzhou University of Chinese Medicine, Guangzhou 510020, China.</td>\n",
       "    </tr>\n",
       "    <tr>\n",
       "      <th>664</th>\n",
       "      <td>38092161</td>\n",
       "      <td>1879-0038</td>\n",
       "      <td>Gene</td>\n",
       "      <td>2023</td>\n",
       "      <td>Mahanthi</td>\n",
       "      <td>Vasu</td>\n",
       "      <td>ICAR-National Bureau of Animal Genetic Resources, Karnal; ICAR-National Dairy Research Institute, Karnal.</td>\n",
       "    </tr>\n",
       "  </tbody>\n",
       "</table>\n",
       "<p>659 rows × 7 columns</p>\n",
       "</div>"
      ],
      "text/plain": [
       "         PMID       ISSN  \\\n",
       "0    10575721  0035-1040   \n",
       "1    10617805  0242-6498   \n",
       "2    10656443  1078-0432   \n",
       "3    10790290  0033-7587   \n",
       "4    10793017  1523-6838   \n",
       "..        ...        ...   \n",
       "659  37874452  2509-2723   \n",
       "660  37889281  1432-198X   \n",
       "661  37972698  1879-0038   \n",
       "662  38048169  1535-3907   \n",
       "664  38092161  1879-0038   \n",
       "\n",
       "                                                                                            Journal  \\\n",
       "0                               Revue de chirurgie orthopedique et reparatrice de l'appareil moteur   \n",
       "1                                                                             Annales de pathologie   \n",
       "2    Clinical cancer research : an official journal of the American Association for Cancer Research   \n",
       "3                                                                                Radiation research   \n",
       "4      American journal of kidney diseases : the official journal of the National Kidney Foundation   \n",
       "..                                                                                              ...   \n",
       "659                                                                                     GeroScience   \n",
       "660                                                          Pediatric nephrology (Berlin, Germany)   \n",
       "661                                                                                            Gene   \n",
       "662                                                                    Journal of proteome research   \n",
       "664                                                                                            Gene   \n",
       "\n",
       "     Year FirstAuthorForename FirstAuthorLastname  \\\n",
       "0    1999                   E           Nerkowski   \n",
       "1    1999                   M           Esslimani   \n",
       "2    2000                   J           Rodriguez   \n",
       "3    2000                 C A           Morehouse   \n",
       "4    2000                 J P               Matos   \n",
       "..    ...                 ...                 ...   \n",
       "659  2023             Diana I   Aparicio-Bautista   \n",
       "660  2023              Rupesh               Raina   \n",
       "661  2023             Nanjian                 Luo   \n",
       "662  2023              Taohua                 Lan   \n",
       "664  2023            Mahanthi                Vasu   \n",
       "\n",
       "                                                                                                                                                      FirstAuthorAffiliation  \n",
       "0                                                                                                                                        Equipe B2M, ENSAM, Aix-en-Provence.  \n",
       "1                                                                                       Service d'Anatomie Pathologique, Hôpital Gui de Chauliac, 34295 Montpellier Cedex 5.  \n",
       "2                                                                               Department of Leukemia, University of Texas M.D. Anderson Cancer Center, Houston 77030, USA.  \n",
       "3                                                                                            FDA Center for Devices and Radiological Health, Rockville, Maryland 20850, USA.  \n",
       "4                    Department of Internal Medicine, Division of Nephrology, and Department of Pathology, Universidade Federal Fluminense, Niterói, Rio de Janeiro, Brazil.  \n",
       "..                                                                                                                                                                       ...  \n",
       "659                                              Laboratorio de Estructura de Proteínas, Instituto Nacional de Medicina Genómica (INMEGEN), 14610, Ciudad de Mexico, Mexico.  \n",
       "660                                                    Akron Nephrology Associates/Cleveland Clinic Akron General Medical Center, Akron, OH, USA. rraina@akronchildrens.org.  \n",
       "661  School of Preclinical Medicine, Zunyi Medical University, Zunyi 563000, China; College of Animal Science and Technology, Southwest University, Chongqing 400715, China.  \n",
       "662      State Key Laboratory of Dampness Syndrome of Chinese Medicine, The Second Affiliated Hospital of Guangzhou University of Chinese Medicine, Guangzhou 510020, China.  \n",
       "664                                                                ICAR-National Bureau of Animal Genetic Resources, Karnal; ICAR-National Dairy Research Institute, Karnal.  \n",
       "\n",
       "[659 rows x 7 columns]"
      ]
     },
     "metadata": {},
     "output_type": "display_data"
    }
   ],
   "source": [
    "display(inst_1)\n"
   ]
  },
  {
   "cell_type": "code",
   "execution_count": 263,
   "id": "47e28aea-39f4-4ce3-9b39-c5071dfaca69",
   "metadata": {},
   "outputs": [
    {
     "data": {
      "text/html": [
       "<div>\n",
       "<style scoped>\n",
       "    .dataframe tbody tr th:only-of-type {\n",
       "        vertical-align: middle;\n",
       "    }\n",
       "\n",
       "    .dataframe tbody tr th {\n",
       "        vertical-align: top;\n",
       "    }\n",
       "\n",
       "    .dataframe thead th {\n",
       "        text-align: right;\n",
       "    }\n",
       "</style>\n",
       "<table border=\"1\" class=\"dataframe\">\n",
       "  <thead>\n",
       "    <tr style=\"text-align: right;\">\n",
       "      <th></th>\n",
       "      <th>PMID</th>\n",
       "      <th>ISSN</th>\n",
       "      <th>Journal</th>\n",
       "      <th>Year</th>\n",
       "      <th>FirstAuthorForename</th>\n",
       "      <th>FirstAuthorLastname</th>\n",
       "      <th>FirstAuthorAffiliation</th>\n",
       "      <th>AuthorName</th>\n",
       "    </tr>\n",
       "  </thead>\n",
       "  <tbody>\n",
       "    <tr>\n",
       "      <th>0</th>\n",
       "      <td>10575721</td>\n",
       "      <td>0035-1040</td>\n",
       "      <td>Revue de chirurgie orthopedique et reparatrice de l'appareil moteur</td>\n",
       "      <td>1999</td>\n",
       "      <td>E</td>\n",
       "      <td>Nerkowski</td>\n",
       "      <td>Equipe B2M, ENSAM, Aix-en-Provence.</td>\n",
       "      <td>E Nerkowski</td>\n",
       "    </tr>\n",
       "    <tr>\n",
       "      <th>1</th>\n",
       "      <td>10617805</td>\n",
       "      <td>0242-6498</td>\n",
       "      <td>Annales de pathologie</td>\n",
       "      <td>1999</td>\n",
       "      <td>M</td>\n",
       "      <td>Esslimani</td>\n",
       "      <td>Service d'Anatomie Pathologique, Hôpital Gui de Chauliac, 34295 Montpellier Cedex 5.</td>\n",
       "      <td>M Esslimani</td>\n",
       "    </tr>\n",
       "    <tr>\n",
       "      <th>2</th>\n",
       "      <td>10656443</td>\n",
       "      <td>1078-0432</td>\n",
       "      <td>Clinical cancer research : an official journal of the American Association for Cancer Research</td>\n",
       "      <td>2000</td>\n",
       "      <td>J</td>\n",
       "      <td>Rodriguez</td>\n",
       "      <td>Department of Leukemia, University of Texas M.D. Anderson Cancer Center, Houston 77030, USA.</td>\n",
       "      <td>J Rodriguez</td>\n",
       "    </tr>\n",
       "    <tr>\n",
       "      <th>3</th>\n",
       "      <td>10790290</td>\n",
       "      <td>0033-7587</td>\n",
       "      <td>Radiation research</td>\n",
       "      <td>2000</td>\n",
       "      <td>C A</td>\n",
       "      <td>Morehouse</td>\n",
       "      <td>FDA Center for Devices and Radiological Health, Rockville, Maryland 20850, USA.</td>\n",
       "      <td>C A Morehouse</td>\n",
       "    </tr>\n",
       "    <tr>\n",
       "      <th>4</th>\n",
       "      <td>10793017</td>\n",
       "      <td>1523-6838</td>\n",
       "      <td>American journal of kidney diseases : the official journal of the National Kidney Foundation</td>\n",
       "      <td>2000</td>\n",
       "      <td>J P</td>\n",
       "      <td>Matos</td>\n",
       "      <td>Department of Internal Medicine, Division of Nephrology, and Department of Pathology, Universidade Federal Fluminense, Niterói, Rio de Janeiro, Brazil.</td>\n",
       "      <td>J P Matos</td>\n",
       "    </tr>\n",
       "    <tr>\n",
       "      <th>...</th>\n",
       "      <td>...</td>\n",
       "      <td>...</td>\n",
       "      <td>...</td>\n",
       "      <td>...</td>\n",
       "      <td>...</td>\n",
       "      <td>...</td>\n",
       "      <td>...</td>\n",
       "      <td>...</td>\n",
       "    </tr>\n",
       "    <tr>\n",
       "      <th>659</th>\n",
       "      <td>37874452</td>\n",
       "      <td>2509-2723</td>\n",
       "      <td>GeroScience</td>\n",
       "      <td>2023</td>\n",
       "      <td>Diana I</td>\n",
       "      <td>Aparicio-Bautista</td>\n",
       "      <td>Laboratorio de Estructura de Proteínas, Instituto Nacional de Medicina Genómica (INMEGEN), 14610, Ciudad de Mexico, Mexico.</td>\n",
       "      <td>Diana I Aparicio-Bautista</td>\n",
       "    </tr>\n",
       "    <tr>\n",
       "      <th>660</th>\n",
       "      <td>37889281</td>\n",
       "      <td>1432-198X</td>\n",
       "      <td>Pediatric nephrology (Berlin, Germany)</td>\n",
       "      <td>2023</td>\n",
       "      <td>Rupesh</td>\n",
       "      <td>Raina</td>\n",
       "      <td>Akron Nephrology Associates/Cleveland Clinic Akron General Medical Center, Akron, OH, USA. rraina@akronchildrens.org.</td>\n",
       "      <td>Rupesh Raina</td>\n",
       "    </tr>\n",
       "    <tr>\n",
       "      <th>661</th>\n",
       "      <td>37972698</td>\n",
       "      <td>1879-0038</td>\n",
       "      <td>Gene</td>\n",
       "      <td>2023</td>\n",
       "      <td>Nanjian</td>\n",
       "      <td>Luo</td>\n",
       "      <td>School of Preclinical Medicine, Zunyi Medical University, Zunyi 563000, China; College of Animal Science and Technology, Southwest University, Chongqing 400715, China.</td>\n",
       "      <td>Nanjian Luo</td>\n",
       "    </tr>\n",
       "    <tr>\n",
       "      <th>662</th>\n",
       "      <td>38048169</td>\n",
       "      <td>1535-3907</td>\n",
       "      <td>Journal of proteome research</td>\n",
       "      <td>2023</td>\n",
       "      <td>Taohua</td>\n",
       "      <td>Lan</td>\n",
       "      <td>State Key Laboratory of Dampness Syndrome of Chinese Medicine, The Second Affiliated Hospital of Guangzhou University of Chinese Medicine, Guangzhou 510020, China.</td>\n",
       "      <td>Taohua Lan</td>\n",
       "    </tr>\n",
       "    <tr>\n",
       "      <th>664</th>\n",
       "      <td>38092161</td>\n",
       "      <td>1879-0038</td>\n",
       "      <td>Gene</td>\n",
       "      <td>2023</td>\n",
       "      <td>Mahanthi</td>\n",
       "      <td>Vasu</td>\n",
       "      <td>ICAR-National Bureau of Animal Genetic Resources, Karnal; ICAR-National Dairy Research Institute, Karnal.</td>\n",
       "      <td>Mahanthi Vasu</td>\n",
       "    </tr>\n",
       "  </tbody>\n",
       "</table>\n",
       "<p>659 rows × 8 columns</p>\n",
       "</div>"
      ],
      "text/plain": [
       "         PMID       ISSN  \\\n",
       "0    10575721  0035-1040   \n",
       "1    10617805  0242-6498   \n",
       "2    10656443  1078-0432   \n",
       "3    10790290  0033-7587   \n",
       "4    10793017  1523-6838   \n",
       "..        ...        ...   \n",
       "659  37874452  2509-2723   \n",
       "660  37889281  1432-198X   \n",
       "661  37972698  1879-0038   \n",
       "662  38048169  1535-3907   \n",
       "664  38092161  1879-0038   \n",
       "\n",
       "                                                                                            Journal  \\\n",
       "0                               Revue de chirurgie orthopedique et reparatrice de l'appareil moteur   \n",
       "1                                                                             Annales de pathologie   \n",
       "2    Clinical cancer research : an official journal of the American Association for Cancer Research   \n",
       "3                                                                                Radiation research   \n",
       "4      American journal of kidney diseases : the official journal of the National Kidney Foundation   \n",
       "..                                                                                              ...   \n",
       "659                                                                                     GeroScience   \n",
       "660                                                          Pediatric nephrology (Berlin, Germany)   \n",
       "661                                                                                            Gene   \n",
       "662                                                                    Journal of proteome research   \n",
       "664                                                                                            Gene   \n",
       "\n",
       "     Year FirstAuthorForename FirstAuthorLastname  \\\n",
       "0    1999                   E           Nerkowski   \n",
       "1    1999                   M           Esslimani   \n",
       "2    2000                   J           Rodriguez   \n",
       "3    2000                 C A           Morehouse   \n",
       "4    2000                 J P               Matos   \n",
       "..    ...                 ...                 ...   \n",
       "659  2023             Diana I   Aparicio-Bautista   \n",
       "660  2023              Rupesh               Raina   \n",
       "661  2023             Nanjian                 Luo   \n",
       "662  2023              Taohua                 Lan   \n",
       "664  2023            Mahanthi                Vasu   \n",
       "\n",
       "                                                                                                                                                      FirstAuthorAffiliation  \\\n",
       "0                                                                                                                                        Equipe B2M, ENSAM, Aix-en-Provence.   \n",
       "1                                                                                       Service d'Anatomie Pathologique, Hôpital Gui de Chauliac, 34295 Montpellier Cedex 5.   \n",
       "2                                                                               Department of Leukemia, University of Texas M.D. Anderson Cancer Center, Houston 77030, USA.   \n",
       "3                                                                                            FDA Center for Devices and Radiological Health, Rockville, Maryland 20850, USA.   \n",
       "4                    Department of Internal Medicine, Division of Nephrology, and Department of Pathology, Universidade Federal Fluminense, Niterói, Rio de Janeiro, Brazil.   \n",
       "..                                                                                                                                                                       ...   \n",
       "659                                              Laboratorio de Estructura de Proteínas, Instituto Nacional de Medicina Genómica (INMEGEN), 14610, Ciudad de Mexico, Mexico.   \n",
       "660                                                    Akron Nephrology Associates/Cleveland Clinic Akron General Medical Center, Akron, OH, USA. rraina@akronchildrens.org.   \n",
       "661  School of Preclinical Medicine, Zunyi Medical University, Zunyi 563000, China; College of Animal Science and Technology, Southwest University, Chongqing 400715, China.   \n",
       "662      State Key Laboratory of Dampness Syndrome of Chinese Medicine, The Second Affiliated Hospital of Guangzhou University of Chinese Medicine, Guangzhou 510020, China.   \n",
       "664                                                                ICAR-National Bureau of Animal Genetic Resources, Karnal; ICAR-National Dairy Research Institute, Karnal.   \n",
       "\n",
       "                    AuthorName  \n",
       "0                  E Nerkowski  \n",
       "1                  M Esslimani  \n",
       "2                  J Rodriguez  \n",
       "3                C A Morehouse  \n",
       "4                    J P Matos  \n",
       "..                         ...  \n",
       "659  Diana I Aparicio-Bautista  \n",
       "660               Rupesh Raina  \n",
       "661                Nanjian Luo  \n",
       "662                 Taohua Lan  \n",
       "664              Mahanthi Vasu  \n",
       "\n",
       "[659 rows x 8 columns]"
      ]
     },
     "metadata": {},
     "output_type": "display_data"
    }
   ],
   "source": [
    "#Concatinating the Authors name:\n",
    "inst_1['AuthorName'] = inst_1['FirstAuthorForename'].map(str) + ' ' + inst_1['FirstAuthorLastname'].map(str)\n",
    "\n",
    "display(inst_1)"
   ]
  },
  {
   "cell_type": "code",
   "execution_count": 264,
   "id": "dd255784-151a-48e1-99d8-d9f5ecc3cc49",
   "metadata": {},
   "outputs": [],
   "source": [
    "#Droping the unnecessary two columns\n",
    "\n",
    "inst_2 = inst_1.drop(['FirstAuthorForename','FirstAuthorLastname'], axis = 1) "
   ]
  },
  {
   "cell_type": "code",
   "execution_count": 265,
   "id": "de767c07-3faa-44ff-bf42-0119d7b79795",
   "metadata": {
    "scrolled": true
   },
   "outputs": [
    {
     "data": {
      "text/html": [
       "<div>\n",
       "<style scoped>\n",
       "    .dataframe tbody tr th:only-of-type {\n",
       "        vertical-align: middle;\n",
       "    }\n",
       "\n",
       "    .dataframe tbody tr th {\n",
       "        vertical-align: top;\n",
       "    }\n",
       "\n",
       "    .dataframe thead th {\n",
       "        text-align: right;\n",
       "    }\n",
       "</style>\n",
       "<table border=\"1\" class=\"dataframe\">\n",
       "  <thead>\n",
       "    <tr style=\"text-align: right;\">\n",
       "      <th></th>\n",
       "      <th>PMID</th>\n",
       "      <th>ISSN</th>\n",
       "      <th>Journal</th>\n",
       "      <th>Year</th>\n",
       "      <th>FirstAuthorAffiliation</th>\n",
       "      <th>AuthorName</th>\n",
       "    </tr>\n",
       "  </thead>\n",
       "  <tbody>\n",
       "    <tr>\n",
       "      <th>0</th>\n",
       "      <td>10575721</td>\n",
       "      <td>0035-1040</td>\n",
       "      <td>Revue de chirurgie orthopedique et reparatrice de l'appareil moteur</td>\n",
       "      <td>1999</td>\n",
       "      <td>Equipe B2M, ENSAM, Aix-en-Provence.</td>\n",
       "      <td>E Nerkowski</td>\n",
       "    </tr>\n",
       "    <tr>\n",
       "      <th>1</th>\n",
       "      <td>10617805</td>\n",
       "      <td>0242-6498</td>\n",
       "      <td>Annales de pathologie</td>\n",
       "      <td>1999</td>\n",
       "      <td>Service d'Anatomie Pathologique, Hôpital Gui de Chauliac, 34295 Montpellier Cedex 5.</td>\n",
       "      <td>M Esslimani</td>\n",
       "    </tr>\n",
       "    <tr>\n",
       "      <th>2</th>\n",
       "      <td>10656443</td>\n",
       "      <td>1078-0432</td>\n",
       "      <td>Clinical cancer research : an official journal of the American Association for Cancer Research</td>\n",
       "      <td>2000</td>\n",
       "      <td>Department of Leukemia, University of Texas M.D. Anderson Cancer Center, Houston 77030, USA.</td>\n",
       "      <td>J Rodriguez</td>\n",
       "    </tr>\n",
       "    <tr>\n",
       "      <th>3</th>\n",
       "      <td>10790290</td>\n",
       "      <td>0033-7587</td>\n",
       "      <td>Radiation research</td>\n",
       "      <td>2000</td>\n",
       "      <td>FDA Center for Devices and Radiological Health, Rockville, Maryland 20850, USA.</td>\n",
       "      <td>C A Morehouse</td>\n",
       "    </tr>\n",
       "    <tr>\n",
       "      <th>4</th>\n",
       "      <td>10793017</td>\n",
       "      <td>1523-6838</td>\n",
       "      <td>American journal of kidney diseases : the official journal of the National Kidney Foundation</td>\n",
       "      <td>2000</td>\n",
       "      <td>Department of Internal Medicine, Division of Nephrology, and Department of Pathology, Universidade Federal Fluminense, Niterói, Rio de Janeiro, Brazil.</td>\n",
       "      <td>J P Matos</td>\n",
       "    </tr>\n",
       "    <tr>\n",
       "      <th>...</th>\n",
       "      <td>...</td>\n",
       "      <td>...</td>\n",
       "      <td>...</td>\n",
       "      <td>...</td>\n",
       "      <td>...</td>\n",
       "      <td>...</td>\n",
       "    </tr>\n",
       "    <tr>\n",
       "      <th>659</th>\n",
       "      <td>37874452</td>\n",
       "      <td>2509-2723</td>\n",
       "      <td>GeroScience</td>\n",
       "      <td>2023</td>\n",
       "      <td>Laboratorio de Estructura de Proteínas, Instituto Nacional de Medicina Genómica (INMEGEN), 14610, Ciudad de Mexico, Mexico.</td>\n",
       "      <td>Diana I Aparicio-Bautista</td>\n",
       "    </tr>\n",
       "    <tr>\n",
       "      <th>660</th>\n",
       "      <td>37889281</td>\n",
       "      <td>1432-198X</td>\n",
       "      <td>Pediatric nephrology (Berlin, Germany)</td>\n",
       "      <td>2023</td>\n",
       "      <td>Akron Nephrology Associates/Cleveland Clinic Akron General Medical Center, Akron, OH, USA. rraina@akronchildrens.org.</td>\n",
       "      <td>Rupesh Raina</td>\n",
       "    </tr>\n",
       "    <tr>\n",
       "      <th>661</th>\n",
       "      <td>37972698</td>\n",
       "      <td>1879-0038</td>\n",
       "      <td>Gene</td>\n",
       "      <td>2023</td>\n",
       "      <td>School of Preclinical Medicine, Zunyi Medical University, Zunyi 563000, China; College of Animal Science and Technology, Southwest University, Chongqing 400715, China.</td>\n",
       "      <td>Nanjian Luo</td>\n",
       "    </tr>\n",
       "    <tr>\n",
       "      <th>662</th>\n",
       "      <td>38048169</td>\n",
       "      <td>1535-3907</td>\n",
       "      <td>Journal of proteome research</td>\n",
       "      <td>2023</td>\n",
       "      <td>State Key Laboratory of Dampness Syndrome of Chinese Medicine, The Second Affiliated Hospital of Guangzhou University of Chinese Medicine, Guangzhou 510020, China.</td>\n",
       "      <td>Taohua Lan</td>\n",
       "    </tr>\n",
       "    <tr>\n",
       "      <th>664</th>\n",
       "      <td>38092161</td>\n",
       "      <td>1879-0038</td>\n",
       "      <td>Gene</td>\n",
       "      <td>2023</td>\n",
       "      <td>ICAR-National Bureau of Animal Genetic Resources, Karnal; ICAR-National Dairy Research Institute, Karnal.</td>\n",
       "      <td>Mahanthi Vasu</td>\n",
       "    </tr>\n",
       "  </tbody>\n",
       "</table>\n",
       "<p>659 rows × 6 columns</p>\n",
       "</div>"
      ],
      "text/plain": [
       "         PMID       ISSN  \\\n",
       "0    10575721  0035-1040   \n",
       "1    10617805  0242-6498   \n",
       "2    10656443  1078-0432   \n",
       "3    10790290  0033-7587   \n",
       "4    10793017  1523-6838   \n",
       "..        ...        ...   \n",
       "659  37874452  2509-2723   \n",
       "660  37889281  1432-198X   \n",
       "661  37972698  1879-0038   \n",
       "662  38048169  1535-3907   \n",
       "664  38092161  1879-0038   \n",
       "\n",
       "                                                                                            Journal  \\\n",
       "0                               Revue de chirurgie orthopedique et reparatrice de l'appareil moteur   \n",
       "1                                                                             Annales de pathologie   \n",
       "2    Clinical cancer research : an official journal of the American Association for Cancer Research   \n",
       "3                                                                                Radiation research   \n",
       "4      American journal of kidney diseases : the official journal of the National Kidney Foundation   \n",
       "..                                                                                              ...   \n",
       "659                                                                                     GeroScience   \n",
       "660                                                          Pediatric nephrology (Berlin, Germany)   \n",
       "661                                                                                            Gene   \n",
       "662                                                                    Journal of proteome research   \n",
       "664                                                                                            Gene   \n",
       "\n",
       "     Year  \\\n",
       "0    1999   \n",
       "1    1999   \n",
       "2    2000   \n",
       "3    2000   \n",
       "4    2000   \n",
       "..    ...   \n",
       "659  2023   \n",
       "660  2023   \n",
       "661  2023   \n",
       "662  2023   \n",
       "664  2023   \n",
       "\n",
       "                                                                                                                                                      FirstAuthorAffiliation  \\\n",
       "0                                                                                                                                        Equipe B2M, ENSAM, Aix-en-Provence.   \n",
       "1                                                                                       Service d'Anatomie Pathologique, Hôpital Gui de Chauliac, 34295 Montpellier Cedex 5.   \n",
       "2                                                                               Department of Leukemia, University of Texas M.D. Anderson Cancer Center, Houston 77030, USA.   \n",
       "3                                                                                            FDA Center for Devices and Radiological Health, Rockville, Maryland 20850, USA.   \n",
       "4                    Department of Internal Medicine, Division of Nephrology, and Department of Pathology, Universidade Federal Fluminense, Niterói, Rio de Janeiro, Brazil.   \n",
       "..                                                                                                                                                                       ...   \n",
       "659                                              Laboratorio de Estructura de Proteínas, Instituto Nacional de Medicina Genómica (INMEGEN), 14610, Ciudad de Mexico, Mexico.   \n",
       "660                                                    Akron Nephrology Associates/Cleveland Clinic Akron General Medical Center, Akron, OH, USA. rraina@akronchildrens.org.   \n",
       "661  School of Preclinical Medicine, Zunyi Medical University, Zunyi 563000, China; College of Animal Science and Technology, Southwest University, Chongqing 400715, China.   \n",
       "662      State Key Laboratory of Dampness Syndrome of Chinese Medicine, The Second Affiliated Hospital of Guangzhou University of Chinese Medicine, Guangzhou 510020, China.   \n",
       "664                                                                ICAR-National Bureau of Animal Genetic Resources, Karnal; ICAR-National Dairy Research Institute, Karnal.   \n",
       "\n",
       "                    AuthorName  \n",
       "0                  E Nerkowski  \n",
       "1                  M Esslimani  \n",
       "2                  J Rodriguez  \n",
       "3                C A Morehouse  \n",
       "4                    J P Matos  \n",
       "..                         ...  \n",
       "659  Diana I Aparicio-Bautista  \n",
       "660               Rupesh Raina  \n",
       "661                Nanjian Luo  \n",
       "662                 Taohua Lan  \n",
       "664              Mahanthi Vasu  \n",
       "\n",
       "[659 rows x 6 columns]"
      ]
     },
     "metadata": {},
     "output_type": "display_data"
    }
   ],
   "source": [
    "display(inst_2)"
   ]
  },
  {
   "cell_type": "code",
   "execution_count": 266,
   "id": "3c3881a9-a4b7-4e28-acb5-b88bf603b178",
   "metadata": {},
   "outputs": [
    {
     "data": {
      "text/html": [
       "<div>\n",
       "<style scoped>\n",
       "    .dataframe tbody tr th:only-of-type {\n",
       "        vertical-align: middle;\n",
       "    }\n",
       "\n",
       "    .dataframe tbody tr th {\n",
       "        vertical-align: top;\n",
       "    }\n",
       "\n",
       "    .dataframe thead th {\n",
       "        text-align: right;\n",
       "    }\n",
       "</style>\n",
       "<table border=\"1\" class=\"dataframe\">\n",
       "  <thead>\n",
       "    <tr style=\"text-align: right;\">\n",
       "      <th></th>\n",
       "      <th>ISSN</th>\n",
       "      <th>Journal</th>\n",
       "      <th>FirstAuthorAffiliation</th>\n",
       "      <th>AuthorName</th>\n",
       "    </tr>\n",
       "  </thead>\n",
       "  <tbody>\n",
       "    <tr>\n",
       "      <th>count</th>\n",
       "      <td>659</td>\n",
       "      <td>659</td>\n",
       "      <td>659</td>\n",
       "      <td>659</td>\n",
       "    </tr>\n",
       "    <tr>\n",
       "      <th>unique</th>\n",
       "      <td>406</td>\n",
       "      <td>384</td>\n",
       "      <td>655</td>\n",
       "      <td>628</td>\n",
       "    </tr>\n",
       "    <tr>\n",
       "      <th>top</th>\n",
       "      <td>1932-6203</td>\n",
       "      <td>PloS one</td>\n",
       "      <td>Department of Pharmaceutical Biotechnology, School of Pharmacy, Shahid Beheshti University of Medical Sciences, Tehran, Iran.</td>\n",
       "      <td>Mariana Ferreira Leal</td>\n",
       "    </tr>\n",
       "    <tr>\n",
       "      <th>freq</th>\n",
       "      <td>44</td>\n",
       "      <td>44</td>\n",
       "      <td>2</td>\n",
       "      <td>4</td>\n",
       "    </tr>\n",
       "  </tbody>\n",
       "</table>\n",
       "</div>"
      ],
      "text/plain": [
       "             ISSN   Journal  \\\n",
       "count         659       659   \n",
       "unique        406       384   \n",
       "top     1932-6203  PloS one   \n",
       "freq           44        44   \n",
       "\n",
       "                                                                                                               FirstAuthorAffiliation  \\\n",
       "count                                                                                                                             659   \n",
       "unique                                                                                                                            655   \n",
       "top     Department of Pharmaceutical Biotechnology, School of Pharmacy, Shahid Beheshti University of Medical Sciences, Tehran, Iran.   \n",
       "freq                                                                                                                                2   \n",
       "\n",
       "                   AuthorName  \n",
       "count                     659  \n",
       "unique                    628  \n",
       "top     Mariana Ferreira Leal  \n",
       "freq                        4  "
      ]
     },
     "execution_count": 266,
     "metadata": {},
     "output_type": "execute_result"
    }
   ],
   "source": [
    "inst_2.describe(exclude = [np.number])\n"
   ]
  },
  {
   "cell_type": "code",
   "execution_count": 267,
   "id": "ebd9ed50-2286-4ac1-b722-abe2d5229cf3",
   "metadata": {},
   "outputs": [],
   "source": [
    "# Making a dataframe for further visuaisation\n",
    "\n",
    "inst_3 = inst_2[[\"PMID\", \"FirstAuthorAffiliation\"]]\n",
    "\n"
   ]
  },
  {
   "cell_type": "code",
   "execution_count": 268,
   "id": "7c67dbfe-fb97-4c3c-ac63-5766b1f41f40",
   "metadata": {},
   "outputs": [
    {
     "data": {
      "text/html": [
       "<div>\n",
       "<style scoped>\n",
       "    .dataframe tbody tr th:only-of-type {\n",
       "        vertical-align: middle;\n",
       "    }\n",
       "\n",
       "    .dataframe tbody tr th {\n",
       "        vertical-align: top;\n",
       "    }\n",
       "\n",
       "    .dataframe thead th {\n",
       "        text-align: right;\n",
       "    }\n",
       "</style>\n",
       "<table border=\"1\" class=\"dataframe\">\n",
       "  <thead>\n",
       "    <tr style=\"text-align: right;\">\n",
       "      <th></th>\n",
       "      <th>PMID</th>\n",
       "      <th>FirstAuthorAffiliation</th>\n",
       "    </tr>\n",
       "  </thead>\n",
       "  <tbody>\n",
       "    <tr>\n",
       "      <th>0</th>\n",
       "      <td>10575721</td>\n",
       "      <td>Equipe B2M, ENSAM, Aix-en-Provence.</td>\n",
       "    </tr>\n",
       "    <tr>\n",
       "      <th>1</th>\n",
       "      <td>10617805</td>\n",
       "      <td>Service d'Anatomie Pathologique, Hôpital Gui de Chauliac, 34295 Montpellier Cedex 5.</td>\n",
       "    </tr>\n",
       "    <tr>\n",
       "      <th>2</th>\n",
       "      <td>10656443</td>\n",
       "      <td>Department of Leukemia, University of Texas M.D. Anderson Cancer Center, Houston 77030, USA.</td>\n",
       "    </tr>\n",
       "    <tr>\n",
       "      <th>3</th>\n",
       "      <td>10790290</td>\n",
       "      <td>FDA Center for Devices and Radiological Health, Rockville, Maryland 20850, USA.</td>\n",
       "    </tr>\n",
       "    <tr>\n",
       "      <th>4</th>\n",
       "      <td>10793017</td>\n",
       "      <td>Department of Internal Medicine, Division of Nephrology, and Department of Pathology, Universidade Federal Fluminense, Niterói, Rio de Janeiro, Brazil.</td>\n",
       "    </tr>\n",
       "    <tr>\n",
       "      <th>...</th>\n",
       "      <td>...</td>\n",
       "      <td>...</td>\n",
       "    </tr>\n",
       "    <tr>\n",
       "      <th>659</th>\n",
       "      <td>37874452</td>\n",
       "      <td>Laboratorio de Estructura de Proteínas, Instituto Nacional de Medicina Genómica (INMEGEN), 14610, Ciudad de Mexico, Mexico.</td>\n",
       "    </tr>\n",
       "    <tr>\n",
       "      <th>660</th>\n",
       "      <td>37889281</td>\n",
       "      <td>Akron Nephrology Associates/Cleveland Clinic Akron General Medical Center, Akron, OH, USA. rraina@akronchildrens.org.</td>\n",
       "    </tr>\n",
       "    <tr>\n",
       "      <th>661</th>\n",
       "      <td>37972698</td>\n",
       "      <td>School of Preclinical Medicine, Zunyi Medical University, Zunyi 563000, China; College of Animal Science and Technology, Southwest University, Chongqing 400715, China.</td>\n",
       "    </tr>\n",
       "    <tr>\n",
       "      <th>662</th>\n",
       "      <td>38048169</td>\n",
       "      <td>State Key Laboratory of Dampness Syndrome of Chinese Medicine, The Second Affiliated Hospital of Guangzhou University of Chinese Medicine, Guangzhou 510020, China.</td>\n",
       "    </tr>\n",
       "    <tr>\n",
       "      <th>664</th>\n",
       "      <td>38092161</td>\n",
       "      <td>ICAR-National Bureau of Animal Genetic Resources, Karnal; ICAR-National Dairy Research Institute, Karnal.</td>\n",
       "    </tr>\n",
       "  </tbody>\n",
       "</table>\n",
       "<p>659 rows × 2 columns</p>\n",
       "</div>"
      ],
      "text/plain": [
       "         PMID  \\\n",
       "0    10575721   \n",
       "1    10617805   \n",
       "2    10656443   \n",
       "3    10790290   \n",
       "4    10793017   \n",
       "..        ...   \n",
       "659  37874452   \n",
       "660  37889281   \n",
       "661  37972698   \n",
       "662  38048169   \n",
       "664  38092161   \n",
       "\n",
       "                                                                                                                                                      FirstAuthorAffiliation  \n",
       "0                                                                                                                                        Equipe B2M, ENSAM, Aix-en-Provence.  \n",
       "1                                                                                       Service d'Anatomie Pathologique, Hôpital Gui de Chauliac, 34295 Montpellier Cedex 5.  \n",
       "2                                                                               Department of Leukemia, University of Texas M.D. Anderson Cancer Center, Houston 77030, USA.  \n",
       "3                                                                                            FDA Center for Devices and Radiological Health, Rockville, Maryland 20850, USA.  \n",
       "4                    Department of Internal Medicine, Division of Nephrology, and Department of Pathology, Universidade Federal Fluminense, Niterói, Rio de Janeiro, Brazil.  \n",
       "..                                                                                                                                                                       ...  \n",
       "659                                              Laboratorio de Estructura de Proteínas, Instituto Nacional de Medicina Genómica (INMEGEN), 14610, Ciudad de Mexico, Mexico.  \n",
       "660                                                    Akron Nephrology Associates/Cleveland Clinic Akron General Medical Center, Akron, OH, USA. rraina@akronchildrens.org.  \n",
       "661  School of Preclinical Medicine, Zunyi Medical University, Zunyi 563000, China; College of Animal Science and Technology, Southwest University, Chongqing 400715, China.  \n",
       "662      State Key Laboratory of Dampness Syndrome of Chinese Medicine, The Second Affiliated Hospital of Guangzhou University of Chinese Medicine, Guangzhou 510020, China.  \n",
       "664                                                                ICAR-National Bureau of Animal Genetic Resources, Karnal; ICAR-National Dairy Research Institute, Karnal.  \n",
       "\n",
       "[659 rows x 2 columns]"
      ]
     },
     "metadata": {},
     "output_type": "display_data"
    }
   ],
   "source": [
    "display(inst_3)"
   ]
  },
  {
   "cell_type": "code",
   "execution_count": 269,
   "id": "9077cff4-0146-4d94-aa96-9291161338f6",
   "metadata": {},
   "outputs": [],
   "source": [
    "inst_4 = inst_3.groupby([\"FirstAuthorAffiliation\"]).count()\n"
   ]
  },
  {
   "cell_type": "code",
   "execution_count": 270,
   "id": "f8f0ac9f-0ab0-480f-8ccd-c9639ead4e20",
   "metadata": {},
   "outputs": [
    {
     "data": {
      "text/html": [
       "<div>\n",
       "<style scoped>\n",
       "    .dataframe tbody tr th:only-of-type {\n",
       "        vertical-align: middle;\n",
       "    }\n",
       "\n",
       "    .dataframe tbody tr th {\n",
       "        vertical-align: top;\n",
       "    }\n",
       "\n",
       "    .dataframe thead th {\n",
       "        text-align: right;\n",
       "    }\n",
       "</style>\n",
       "<table border=\"1\" class=\"dataframe\">\n",
       "  <thead>\n",
       "    <tr style=\"text-align: right;\">\n",
       "      <th></th>\n",
       "      <th>PMID</th>\n",
       "    </tr>\n",
       "    <tr>\n",
       "      <th>FirstAuthorAffiliation</th>\n",
       "      <th></th>\n",
       "    </tr>\n",
       "  </thead>\n",
       "  <tbody>\n",
       "    <tr>\n",
       "      <th>\"Angelo Nocivelli\" Institute of Molecular Medicine, Division of Gynecologic Oncology, University of Brescia, Brescia, Italy.</th>\n",
       "      <td>1</td>\n",
       "    </tr>\n",
       "    <tr>\n",
       "      <th>1 Department of Medicine, Indiana University School of Medicine , Indianapolis, Indiana.</th>\n",
       "      <td>1</td>\n",
       "    </tr>\n",
       "    <tr>\n",
       "      <th>1 Department of Pharmacology and Toxicology, Rutgers, The State University of New Jersey, Ernest Mario School of Pharmacy, Piscataway, NJ 08854, USA.</th>\n",
       "      <td>1</td>\n",
       "    </tr>\n",
       "    <tr>\n",
       "      <th>1 Division of Maternal-Fetal Medicine, Department of Obstetrics &amp; Gynecology, University of North Carolina School of Medicine, University of North Carolina at Chapel Hill, Chapel Hill, NC, USA.</th>\n",
       "      <td>1</td>\n",
       "    </tr>\n",
       "    <tr>\n",
       "      <th>1 Institute of Animal Sciences, Chinese Academy of Agricultural Sciences , Beijing, 100193, China .</th>\n",
       "      <td>1</td>\n",
       "    </tr>\n",
       "    <tr>\n",
       "      <th>...</th>\n",
       "      <td>...</td>\n",
       "    </tr>\n",
       "    <tr>\n",
       "      <th>a Department of Anatomy and Neurobiology , Graduate School of Medicine, Nippon Medical School , Bunkyo-ku , Tokyo , Japan.</th>\n",
       "      <td>1</td>\n",
       "    </tr>\n",
       "    <tr>\n",
       "      <th>a Laboratory of Oncology/Hematology and Transplantation , Institute of Biomedical Research, IIB Sant Pau , Barcelona , Spain.</th>\n",
       "      <td>1</td>\n",
       "    </tr>\n",
       "    <tr>\n",
       "      <th>a Laboratory on Thymus Research, Oswaldo Cruz Institute , Oswaldo Cruz Foundation , Rio de Janeiro , Brazil.</th>\n",
       "      <td>1</td>\n",
       "    </tr>\n",
       "    <tr>\n",
       "      <th>a Wallenberg Laboratory for Cardiovascular Research, Institute of Medicine, University of Gothenburg , Gothenburg , Sweden.</th>\n",
       "      <td>1</td>\n",
       "    </tr>\n",
       "    <tr>\n",
       "      <th>†Diabetes and Obesity Center of Excellence and ‡Kidney Research Institute, Department of Medicine, University of Washington, 850 Republican Street, Seattle, Washington 98195, United States.</th>\n",
       "      <td>1</td>\n",
       "    </tr>\n",
       "  </tbody>\n",
       "</table>\n",
       "<p>655 rows × 1 columns</p>\n",
       "</div>"
      ],
      "text/plain": [
       "                                                                                                                                                                                                   PMID\n",
       "FirstAuthorAffiliation                                                                                                                                                                                 \n",
       "\"Angelo Nocivelli\" Institute of Molecular Medicine, Division of Gynecologic Oncology, University of Brescia, Brescia, Italy.                                                                          1\n",
       "1 Department of Medicine, Indiana University School of Medicine , Indianapolis, Indiana.                                                                                                              1\n",
       "1 Department of Pharmacology and Toxicology, Rutgers, The State University of New Jersey, Ernest Mario School of Pharmacy, Piscataway, NJ 08854, USA.                                                 1\n",
       "1 Division of Maternal-Fetal Medicine, Department of Obstetrics & Gynecology, University of North Carolina School of Medicine, University of North Carolina at Chapel Hill, Chapel Hill, NC, USA.     1\n",
       "1 Institute of Animal Sciences, Chinese Academy of Agricultural Sciences , Beijing, 100193, China .                                                                                                   1\n",
       "...                                                                                                                                                                                                 ...\n",
       "a Department of Anatomy and Neurobiology , Graduate School of Medicine, Nippon Medical School , Bunkyo-ku , Tokyo , Japan.                                                                            1\n",
       "a Laboratory of Oncology/Hematology and Transplantation , Institute of Biomedical Research, IIB Sant Pau , Barcelona , Spain.                                                                         1\n",
       "a Laboratory on Thymus Research, Oswaldo Cruz Institute , Oswaldo Cruz Foundation , Rio de Janeiro , Brazil.                                                                                          1\n",
       "a Wallenberg Laboratory for Cardiovascular Research, Institute of Medicine, University of Gothenburg , Gothenburg , Sweden.                                                                           1\n",
       "†Diabetes and Obesity Center of Excellence and ‡Kidney Research Institute, Department of Medicine, University of Washington, 850 Republican Street, Seattle, Washington 98195, United States.         1\n",
       "\n",
       "[655 rows x 1 columns]"
      ]
     },
     "metadata": {},
     "output_type": "display_data"
    }
   ],
   "source": [
    "display(inst_4)"
   ]
  },
  {
   "cell_type": "code",
   "execution_count": 271,
   "id": "fa454bb3-bd2d-44d7-ae96-141607114943",
   "metadata": {},
   "outputs": [],
   "source": [
    "# Splitting the adress column\n",
    "inst_5 = inst_3.FirstAuthorAffiliation.str.rsplit(',', n = 2, expand = True)\n"
   ]
  },
  {
   "cell_type": "code",
   "execution_count": 272,
   "id": "1f084b6c-0d39-4d7d-b5e6-6abafdcc25a2",
   "metadata": {},
   "outputs": [
    {
     "data": {
      "text/html": [
       "<div>\n",
       "<style scoped>\n",
       "    .dataframe tbody tr th:only-of-type {\n",
       "        vertical-align: middle;\n",
       "    }\n",
       "\n",
       "    .dataframe tbody tr th {\n",
       "        vertical-align: top;\n",
       "    }\n",
       "\n",
       "    .dataframe thead th {\n",
       "        text-align: right;\n",
       "    }\n",
       "</style>\n",
       "<table border=\"1\" class=\"dataframe\">\n",
       "  <thead>\n",
       "    <tr style=\"text-align: right;\">\n",
       "      <th></th>\n",
       "      <th>0</th>\n",
       "      <th>1</th>\n",
       "      <th>2</th>\n",
       "    </tr>\n",
       "  </thead>\n",
       "  <tbody>\n",
       "    <tr>\n",
       "      <th>0</th>\n",
       "      <td>Equipe B2M</td>\n",
       "      <td>ENSAM</td>\n",
       "      <td>Aix-en-Provence.</td>\n",
       "    </tr>\n",
       "    <tr>\n",
       "      <th>1</th>\n",
       "      <td>Service d'Anatomie Pathologique</td>\n",
       "      <td>Hôpital Gui de Chauliac</td>\n",
       "      <td>34295 Montpellier Cedex 5.</td>\n",
       "    </tr>\n",
       "    <tr>\n",
       "      <th>2</th>\n",
       "      <td>Department of Leukemia, University of Texas M.D. Anderson Cancer Center</td>\n",
       "      <td>Houston 77030</td>\n",
       "      <td>USA.</td>\n",
       "    </tr>\n",
       "    <tr>\n",
       "      <th>3</th>\n",
       "      <td>FDA Center for Devices and Radiological Health, Rockville</td>\n",
       "      <td>Maryland 20850</td>\n",
       "      <td>USA.</td>\n",
       "    </tr>\n",
       "    <tr>\n",
       "      <th>4</th>\n",
       "      <td>Department of Internal Medicine, Division of Nephrology, and Department of Pathology, Universidade Federal Fluminense, Niterói</td>\n",
       "      <td>Rio de Janeiro</td>\n",
       "      <td>Brazil.</td>\n",
       "    </tr>\n",
       "    <tr>\n",
       "      <th>...</th>\n",
       "      <td>...</td>\n",
       "      <td>...</td>\n",
       "      <td>...</td>\n",
       "    </tr>\n",
       "    <tr>\n",
       "      <th>659</th>\n",
       "      <td>Laboratorio de Estructura de Proteínas, Instituto Nacional de Medicina Genómica (INMEGEN), 14610</td>\n",
       "      <td>Ciudad de Mexico</td>\n",
       "      <td>Mexico.</td>\n",
       "    </tr>\n",
       "    <tr>\n",
       "      <th>660</th>\n",
       "      <td>Akron Nephrology Associates/Cleveland Clinic Akron General Medical Center, Akron</td>\n",
       "      <td>OH</td>\n",
       "      <td>USA. rraina@akronchildrens.org.</td>\n",
       "    </tr>\n",
       "    <tr>\n",
       "      <th>661</th>\n",
       "      <td>School of Preclinical Medicine, Zunyi Medical University, Zunyi 563000, China; College of Animal Science and Technology, Southwest University</td>\n",
       "      <td>Chongqing 400715</td>\n",
       "      <td>China.</td>\n",
       "    </tr>\n",
       "    <tr>\n",
       "      <th>662</th>\n",
       "      <td>State Key Laboratory of Dampness Syndrome of Chinese Medicine, The Second Affiliated Hospital of Guangzhou University of Chinese Medicine</td>\n",
       "      <td>Guangzhou 510020</td>\n",
       "      <td>China.</td>\n",
       "    </tr>\n",
       "    <tr>\n",
       "      <th>664</th>\n",
       "      <td>ICAR-National Bureau of Animal Genetic Resources</td>\n",
       "      <td>Karnal; ICAR-National Dairy Research Institute</td>\n",
       "      <td>Karnal.</td>\n",
       "    </tr>\n",
       "  </tbody>\n",
       "</table>\n",
       "<p>659 rows × 3 columns</p>\n",
       "</div>"
      ],
      "text/plain": [
       "                                                                                                                                                 0  \\\n",
       "0                                                                                                                                       Equipe B2M   \n",
       "1                                                                                                                  Service d'Anatomie Pathologique   \n",
       "2                                                                          Department of Leukemia, University of Texas M.D. Anderson Cancer Center   \n",
       "3                                                                                        FDA Center for Devices and Radiological Health, Rockville   \n",
       "4                   Department of Internal Medicine, Division of Nephrology, and Department of Pathology, Universidade Federal Fluminense, Niterói   \n",
       "..                                                                                                                                             ...   \n",
       "659                                               Laboratorio de Estructura de Proteínas, Instituto Nacional de Medicina Genómica (INMEGEN), 14610   \n",
       "660                                                               Akron Nephrology Associates/Cleveland Clinic Akron General Medical Center, Akron   \n",
       "661  School of Preclinical Medicine, Zunyi Medical University, Zunyi 563000, China; College of Animal Science and Technology, Southwest University   \n",
       "662      State Key Laboratory of Dampness Syndrome of Chinese Medicine, The Second Affiliated Hospital of Guangzhou University of Chinese Medicine   \n",
       "664                                                                                               ICAR-National Bureau of Animal Genetic Resources   \n",
       "\n",
       "                                                   1  \\\n",
       "0                                              ENSAM   \n",
       "1                            Hôpital Gui de Chauliac   \n",
       "2                                      Houston 77030   \n",
       "3                                     Maryland 20850   \n",
       "4                                     Rio de Janeiro   \n",
       "..                                               ...   \n",
       "659                                 Ciudad de Mexico   \n",
       "660                                               OH   \n",
       "661                                 Chongqing 400715   \n",
       "662                                 Guangzhou 510020   \n",
       "664   Karnal; ICAR-National Dairy Research Institute   \n",
       "\n",
       "                                    2  \n",
       "0                    Aix-en-Provence.  \n",
       "1          34295 Montpellier Cedex 5.  \n",
       "2                                USA.  \n",
       "3                                USA.  \n",
       "4                             Brazil.  \n",
       "..                                ...  \n",
       "659                           Mexico.  \n",
       "660   USA. rraina@akronchildrens.org.  \n",
       "661                            China.  \n",
       "662                            China.  \n",
       "664                           Karnal.  \n",
       "\n",
       "[659 rows x 3 columns]"
      ]
     },
     "metadata": {},
     "output_type": "display_data"
    }
   ],
   "source": [
    "display(inst_5)"
   ]
  },
  {
   "cell_type": "code",
   "execution_count": 273,
   "id": "6d288cc9-f0ff-45bb-a2e7-0bb706f572f1",
   "metadata": {},
   "outputs": [],
   "source": [
    "#Storing the country column into a dataframe\n",
    "a  = pd.DataFrame(inst_5[2])"
   ]
  },
  {
   "cell_type": "code",
   "execution_count": 274,
   "id": "69c96507-dc08-4f89-9184-eef0c1ad0061",
   "metadata": {},
   "outputs": [],
   "source": [
    "a.columns = [\"CountryName\"] #Assigining a name to colmn"
   ]
  },
  {
   "cell_type": "code",
   "execution_count": 275,
   "id": "4dbaf566-3361-4e0e-ba4f-423f0a53bbd3",
   "metadata": {},
   "outputs": [],
   "source": [
    "inst_6 = inst_2.join(a) # Joining with the another dataframe at the start"
   ]
  },
  {
   "cell_type": "code",
   "execution_count": 276,
   "id": "e82f4e65-9915-4e2d-a3c7-9200821d5608",
   "metadata": {},
   "outputs": [
    {
     "data": {
      "text/html": [
       "<div>\n",
       "<style scoped>\n",
       "    .dataframe tbody tr th:only-of-type {\n",
       "        vertical-align: middle;\n",
       "    }\n",
       "\n",
       "    .dataframe tbody tr th {\n",
       "        vertical-align: top;\n",
       "    }\n",
       "\n",
       "    .dataframe thead th {\n",
       "        text-align: right;\n",
       "    }\n",
       "</style>\n",
       "<table border=\"1\" class=\"dataframe\">\n",
       "  <thead>\n",
       "    <tr style=\"text-align: right;\">\n",
       "      <th></th>\n",
       "      <th>PMID</th>\n",
       "      <th>ISSN</th>\n",
       "      <th>Journal</th>\n",
       "      <th>Year</th>\n",
       "      <th>FirstAuthorAffiliation</th>\n",
       "      <th>AuthorName</th>\n",
       "      <th>CountryName</th>\n",
       "    </tr>\n",
       "  </thead>\n",
       "  <tbody>\n",
       "    <tr>\n",
       "      <th>0</th>\n",
       "      <td>10575721</td>\n",
       "      <td>0035-1040</td>\n",
       "      <td>Revue de chirurgie orthopedique et reparatrice de l'appareil moteur</td>\n",
       "      <td>1999</td>\n",
       "      <td>Equipe B2M, ENSAM, Aix-en-Provence.</td>\n",
       "      <td>E Nerkowski</td>\n",
       "      <td>Aix-en-Provence.</td>\n",
       "    </tr>\n",
       "    <tr>\n",
       "      <th>1</th>\n",
       "      <td>10617805</td>\n",
       "      <td>0242-6498</td>\n",
       "      <td>Annales de pathologie</td>\n",
       "      <td>1999</td>\n",
       "      <td>Service d'Anatomie Pathologique, Hôpital Gui de Chauliac, 34295 Montpellier Cedex 5.</td>\n",
       "      <td>M Esslimani</td>\n",
       "      <td>34295 Montpellier Cedex 5.</td>\n",
       "    </tr>\n",
       "    <tr>\n",
       "      <th>2</th>\n",
       "      <td>10656443</td>\n",
       "      <td>1078-0432</td>\n",
       "      <td>Clinical cancer research : an official journal of the American Association for Cancer Research</td>\n",
       "      <td>2000</td>\n",
       "      <td>Department of Leukemia, University of Texas M.D. Anderson Cancer Center, Houston 77030, USA.</td>\n",
       "      <td>J Rodriguez</td>\n",
       "      <td>USA.</td>\n",
       "    </tr>\n",
       "    <tr>\n",
       "      <th>3</th>\n",
       "      <td>10790290</td>\n",
       "      <td>0033-7587</td>\n",
       "      <td>Radiation research</td>\n",
       "      <td>2000</td>\n",
       "      <td>FDA Center for Devices and Radiological Health, Rockville, Maryland 20850, USA.</td>\n",
       "      <td>C A Morehouse</td>\n",
       "      <td>USA.</td>\n",
       "    </tr>\n",
       "    <tr>\n",
       "      <th>4</th>\n",
       "      <td>10793017</td>\n",
       "      <td>1523-6838</td>\n",
       "      <td>American journal of kidney diseases : the official journal of the National Kidney Foundation</td>\n",
       "      <td>2000</td>\n",
       "      <td>Department of Internal Medicine, Division of Nephrology, and Department of Pathology, Universidade Federal Fluminense, Niterói, Rio de Janeiro, Brazil.</td>\n",
       "      <td>J P Matos</td>\n",
       "      <td>Brazil.</td>\n",
       "    </tr>\n",
       "    <tr>\n",
       "      <th>...</th>\n",
       "      <td>...</td>\n",
       "      <td>...</td>\n",
       "      <td>...</td>\n",
       "      <td>...</td>\n",
       "      <td>...</td>\n",
       "      <td>...</td>\n",
       "      <td>...</td>\n",
       "    </tr>\n",
       "    <tr>\n",
       "      <th>659</th>\n",
       "      <td>37874452</td>\n",
       "      <td>2509-2723</td>\n",
       "      <td>GeroScience</td>\n",
       "      <td>2023</td>\n",
       "      <td>Laboratorio de Estructura de Proteínas, Instituto Nacional de Medicina Genómica (INMEGEN), 14610, Ciudad de Mexico, Mexico.</td>\n",
       "      <td>Diana I Aparicio-Bautista</td>\n",
       "      <td>Mexico.</td>\n",
       "    </tr>\n",
       "    <tr>\n",
       "      <th>660</th>\n",
       "      <td>37889281</td>\n",
       "      <td>1432-198X</td>\n",
       "      <td>Pediatric nephrology (Berlin, Germany)</td>\n",
       "      <td>2023</td>\n",
       "      <td>Akron Nephrology Associates/Cleveland Clinic Akron General Medical Center, Akron, OH, USA. rraina@akronchildrens.org.</td>\n",
       "      <td>Rupesh Raina</td>\n",
       "      <td>USA. rraina@akronchildrens.org.</td>\n",
       "    </tr>\n",
       "    <tr>\n",
       "      <th>661</th>\n",
       "      <td>37972698</td>\n",
       "      <td>1879-0038</td>\n",
       "      <td>Gene</td>\n",
       "      <td>2023</td>\n",
       "      <td>School of Preclinical Medicine, Zunyi Medical University, Zunyi 563000, China; College of Animal Science and Technology, Southwest University, Chongqing 400715, China.</td>\n",
       "      <td>Nanjian Luo</td>\n",
       "      <td>China.</td>\n",
       "    </tr>\n",
       "    <tr>\n",
       "      <th>662</th>\n",
       "      <td>38048169</td>\n",
       "      <td>1535-3907</td>\n",
       "      <td>Journal of proteome research</td>\n",
       "      <td>2023</td>\n",
       "      <td>State Key Laboratory of Dampness Syndrome of Chinese Medicine, The Second Affiliated Hospital of Guangzhou University of Chinese Medicine, Guangzhou 510020, China.</td>\n",
       "      <td>Taohua Lan</td>\n",
       "      <td>China.</td>\n",
       "    </tr>\n",
       "    <tr>\n",
       "      <th>664</th>\n",
       "      <td>38092161</td>\n",
       "      <td>1879-0038</td>\n",
       "      <td>Gene</td>\n",
       "      <td>2023</td>\n",
       "      <td>ICAR-National Bureau of Animal Genetic Resources, Karnal; ICAR-National Dairy Research Institute, Karnal.</td>\n",
       "      <td>Mahanthi Vasu</td>\n",
       "      <td>Karnal.</td>\n",
       "    </tr>\n",
       "  </tbody>\n",
       "</table>\n",
       "<p>659 rows × 7 columns</p>\n",
       "</div>"
      ],
      "text/plain": [
       "         PMID       ISSN  \\\n",
       "0    10575721  0035-1040   \n",
       "1    10617805  0242-6498   \n",
       "2    10656443  1078-0432   \n",
       "3    10790290  0033-7587   \n",
       "4    10793017  1523-6838   \n",
       "..        ...        ...   \n",
       "659  37874452  2509-2723   \n",
       "660  37889281  1432-198X   \n",
       "661  37972698  1879-0038   \n",
       "662  38048169  1535-3907   \n",
       "664  38092161  1879-0038   \n",
       "\n",
       "                                                                                            Journal  \\\n",
       "0                               Revue de chirurgie orthopedique et reparatrice de l'appareil moteur   \n",
       "1                                                                             Annales de pathologie   \n",
       "2    Clinical cancer research : an official journal of the American Association for Cancer Research   \n",
       "3                                                                                Radiation research   \n",
       "4      American journal of kidney diseases : the official journal of the National Kidney Foundation   \n",
       "..                                                                                              ...   \n",
       "659                                                                                     GeroScience   \n",
       "660                                                          Pediatric nephrology (Berlin, Germany)   \n",
       "661                                                                                            Gene   \n",
       "662                                                                    Journal of proteome research   \n",
       "664                                                                                            Gene   \n",
       "\n",
       "     Year  \\\n",
       "0    1999   \n",
       "1    1999   \n",
       "2    2000   \n",
       "3    2000   \n",
       "4    2000   \n",
       "..    ...   \n",
       "659  2023   \n",
       "660  2023   \n",
       "661  2023   \n",
       "662  2023   \n",
       "664  2023   \n",
       "\n",
       "                                                                                                                                                      FirstAuthorAffiliation  \\\n",
       "0                                                                                                                                        Equipe B2M, ENSAM, Aix-en-Provence.   \n",
       "1                                                                                       Service d'Anatomie Pathologique, Hôpital Gui de Chauliac, 34295 Montpellier Cedex 5.   \n",
       "2                                                                               Department of Leukemia, University of Texas M.D. Anderson Cancer Center, Houston 77030, USA.   \n",
       "3                                                                                            FDA Center for Devices and Radiological Health, Rockville, Maryland 20850, USA.   \n",
       "4                    Department of Internal Medicine, Division of Nephrology, and Department of Pathology, Universidade Federal Fluminense, Niterói, Rio de Janeiro, Brazil.   \n",
       "..                                                                                                                                                                       ...   \n",
       "659                                              Laboratorio de Estructura de Proteínas, Instituto Nacional de Medicina Genómica (INMEGEN), 14610, Ciudad de Mexico, Mexico.   \n",
       "660                                                    Akron Nephrology Associates/Cleveland Clinic Akron General Medical Center, Akron, OH, USA. rraina@akronchildrens.org.   \n",
       "661  School of Preclinical Medicine, Zunyi Medical University, Zunyi 563000, China; College of Animal Science and Technology, Southwest University, Chongqing 400715, China.   \n",
       "662      State Key Laboratory of Dampness Syndrome of Chinese Medicine, The Second Affiliated Hospital of Guangzhou University of Chinese Medicine, Guangzhou 510020, China.   \n",
       "664                                                                ICAR-National Bureau of Animal Genetic Resources, Karnal; ICAR-National Dairy Research Institute, Karnal.   \n",
       "\n",
       "                    AuthorName                       CountryName  \n",
       "0                  E Nerkowski                  Aix-en-Provence.  \n",
       "1                  M Esslimani        34295 Montpellier Cedex 5.  \n",
       "2                  J Rodriguez                              USA.  \n",
       "3                C A Morehouse                              USA.  \n",
       "4                    J P Matos                           Brazil.  \n",
       "..                         ...                               ...  \n",
       "659  Diana I Aparicio-Bautista                           Mexico.  \n",
       "660               Rupesh Raina   USA. rraina@akronchildrens.org.  \n",
       "661                Nanjian Luo                            China.  \n",
       "662                 Taohua Lan                            China.  \n",
       "664              Mahanthi Vasu                           Karnal.  \n",
       "\n",
       "[659 rows x 7 columns]"
      ]
     },
     "metadata": {},
     "output_type": "display_data"
    }
   ],
   "source": [
    "display(inst_6)"
   ]
  },
  {
   "cell_type": "code",
   "execution_count": 277,
   "id": "596f6c04-d8bb-483c-8faa-16be2f8b7685",
   "metadata": {},
   "outputs": [],
   "source": [
    "inst_7 = inst_6[\"CountryName\"].str.split('.', n = 1, expand = True) # Spliting again for removing email-id for more accrate country name"
   ]
  },
  {
   "cell_type": "code",
   "execution_count": 278,
   "id": "d0811590-1eb3-4eac-ae7c-b6ba20d203f6",
   "metadata": {},
   "outputs": [
    {
     "data": {
      "text/html": [
       "<div>\n",
       "<style scoped>\n",
       "    .dataframe tbody tr th:only-of-type {\n",
       "        vertical-align: middle;\n",
       "    }\n",
       "\n",
       "    .dataframe tbody tr th {\n",
       "        vertical-align: top;\n",
       "    }\n",
       "\n",
       "    .dataframe thead th {\n",
       "        text-align: right;\n",
       "    }\n",
       "</style>\n",
       "<table border=\"1\" class=\"dataframe\">\n",
       "  <thead>\n",
       "    <tr style=\"text-align: right;\">\n",
       "      <th></th>\n",
       "      <th>0</th>\n",
       "      <th>1</th>\n",
       "    </tr>\n",
       "  </thead>\n",
       "  <tbody>\n",
       "    <tr>\n",
       "      <th>0</th>\n",
       "      <td>Aix-en-Provence</td>\n",
       "      <td></td>\n",
       "    </tr>\n",
       "    <tr>\n",
       "      <th>1</th>\n",
       "      <td>34295 Montpellier Cedex 5</td>\n",
       "      <td></td>\n",
       "    </tr>\n",
       "    <tr>\n",
       "      <th>2</th>\n",
       "      <td>USA</td>\n",
       "      <td></td>\n",
       "    </tr>\n",
       "    <tr>\n",
       "      <th>3</th>\n",
       "      <td>USA</td>\n",
       "      <td></td>\n",
       "    </tr>\n",
       "    <tr>\n",
       "      <th>4</th>\n",
       "      <td>Brazil</td>\n",
       "      <td></td>\n",
       "    </tr>\n",
       "    <tr>\n",
       "      <th>...</th>\n",
       "      <td>...</td>\n",
       "      <td>...</td>\n",
       "    </tr>\n",
       "    <tr>\n",
       "      <th>659</th>\n",
       "      <td>Mexico</td>\n",
       "      <td></td>\n",
       "    </tr>\n",
       "    <tr>\n",
       "      <th>660</th>\n",
       "      <td>USA</td>\n",
       "      <td>rraina@akronchildrens.org.</td>\n",
       "    </tr>\n",
       "    <tr>\n",
       "      <th>661</th>\n",
       "      <td>China</td>\n",
       "      <td></td>\n",
       "    </tr>\n",
       "    <tr>\n",
       "      <th>662</th>\n",
       "      <td>China</td>\n",
       "      <td></td>\n",
       "    </tr>\n",
       "    <tr>\n",
       "      <th>664</th>\n",
       "      <td>Karnal</td>\n",
       "      <td></td>\n",
       "    </tr>\n",
       "  </tbody>\n",
       "</table>\n",
       "<p>659 rows × 2 columns</p>\n",
       "</div>"
      ],
      "text/plain": [
       "                              0                            1\n",
       "0               Aix-en-Provence                             \n",
       "1     34295 Montpellier Cedex 5                             \n",
       "2                           USA                             \n",
       "3                           USA                             \n",
       "4                        Brazil                             \n",
       "..                          ...                          ...\n",
       "659                      Mexico                             \n",
       "660                         USA   rraina@akronchildrens.org.\n",
       "661                       China                             \n",
       "662                       China                             \n",
       "664                      Karnal                             \n",
       "\n",
       "[659 rows x 2 columns]"
      ]
     },
     "metadata": {},
     "output_type": "display_data"
    }
   ],
   "source": [
    "display(inst_7)"
   ]
  },
  {
   "cell_type": "code",
   "execution_count": 279,
   "id": "7d2b6b09-28a3-4643-be09-445ef0b0a0e6",
   "metadata": {},
   "outputs": [],
   "source": [
    "b  = pd.DataFrame(inst_7[0]) # Storing a country into a blank dataframe"
   ]
  },
  {
   "cell_type": "code",
   "execution_count": 280,
   "id": "d8c12964-6df4-4a27-b28a-ada6f7109c96",
   "metadata": {},
   "outputs": [],
   "source": [
    "b.columns = [\"AffiliationCountry\"] # Again assigning the contry name"
   ]
  },
  {
   "cell_type": "code",
   "execution_count": 281,
   "id": "94a6e100-9543-448f-a9f3-feb7c8b448d2",
   "metadata": {},
   "outputs": [],
   "source": [
    "inst_8 = inst_2.join(b) # Joining with main dataframe from a start of this task"
   ]
  },
  {
   "cell_type": "code",
   "execution_count": 282,
   "id": "26226d4d-b759-4f06-8f7d-245079f4906a",
   "metadata": {},
   "outputs": [
    {
     "data": {
      "text/html": [
       "<div>\n",
       "<style scoped>\n",
       "    .dataframe tbody tr th:only-of-type {\n",
       "        vertical-align: middle;\n",
       "    }\n",
       "\n",
       "    .dataframe tbody tr th {\n",
       "        vertical-align: top;\n",
       "    }\n",
       "\n",
       "    .dataframe thead th {\n",
       "        text-align: right;\n",
       "    }\n",
       "</style>\n",
       "<table border=\"1\" class=\"dataframe\">\n",
       "  <thead>\n",
       "    <tr style=\"text-align: right;\">\n",
       "      <th></th>\n",
       "      <th>PMID</th>\n",
       "      <th>ISSN</th>\n",
       "      <th>Journal</th>\n",
       "      <th>Year</th>\n",
       "      <th>FirstAuthorAffiliation</th>\n",
       "      <th>AuthorName</th>\n",
       "      <th>AffiliationCountry</th>\n",
       "    </tr>\n",
       "  </thead>\n",
       "  <tbody>\n",
       "    <tr>\n",
       "      <th>0</th>\n",
       "      <td>10575721</td>\n",
       "      <td>0035-1040</td>\n",
       "      <td>Revue de chirurgie orthopedique et reparatrice de l'appareil moteur</td>\n",
       "      <td>1999</td>\n",
       "      <td>Equipe B2M, ENSAM, Aix-en-Provence.</td>\n",
       "      <td>E Nerkowski</td>\n",
       "      <td>Aix-en-Provence</td>\n",
       "    </tr>\n",
       "    <tr>\n",
       "      <th>1</th>\n",
       "      <td>10617805</td>\n",
       "      <td>0242-6498</td>\n",
       "      <td>Annales de pathologie</td>\n",
       "      <td>1999</td>\n",
       "      <td>Service d'Anatomie Pathologique, Hôpital Gui de Chauliac, 34295 Montpellier Cedex 5.</td>\n",
       "      <td>M Esslimani</td>\n",
       "      <td>34295 Montpellier Cedex 5</td>\n",
       "    </tr>\n",
       "    <tr>\n",
       "      <th>2</th>\n",
       "      <td>10656443</td>\n",
       "      <td>1078-0432</td>\n",
       "      <td>Clinical cancer research : an official journal of the American Association for Cancer Research</td>\n",
       "      <td>2000</td>\n",
       "      <td>Department of Leukemia, University of Texas M.D. Anderson Cancer Center, Houston 77030, USA.</td>\n",
       "      <td>J Rodriguez</td>\n",
       "      <td>USA</td>\n",
       "    </tr>\n",
       "    <tr>\n",
       "      <th>3</th>\n",
       "      <td>10790290</td>\n",
       "      <td>0033-7587</td>\n",
       "      <td>Radiation research</td>\n",
       "      <td>2000</td>\n",
       "      <td>FDA Center for Devices and Radiological Health, Rockville, Maryland 20850, USA.</td>\n",
       "      <td>C A Morehouse</td>\n",
       "      <td>USA</td>\n",
       "    </tr>\n",
       "    <tr>\n",
       "      <th>4</th>\n",
       "      <td>10793017</td>\n",
       "      <td>1523-6838</td>\n",
       "      <td>American journal of kidney diseases : the official journal of the National Kidney Foundation</td>\n",
       "      <td>2000</td>\n",
       "      <td>Department of Internal Medicine, Division of Nephrology, and Department of Pathology, Universidade Federal Fluminense, Niterói, Rio de Janeiro, Brazil.</td>\n",
       "      <td>J P Matos</td>\n",
       "      <td>Brazil</td>\n",
       "    </tr>\n",
       "    <tr>\n",
       "      <th>...</th>\n",
       "      <td>...</td>\n",
       "      <td>...</td>\n",
       "      <td>...</td>\n",
       "      <td>...</td>\n",
       "      <td>...</td>\n",
       "      <td>...</td>\n",
       "      <td>...</td>\n",
       "    </tr>\n",
       "    <tr>\n",
       "      <th>659</th>\n",
       "      <td>37874452</td>\n",
       "      <td>2509-2723</td>\n",
       "      <td>GeroScience</td>\n",
       "      <td>2023</td>\n",
       "      <td>Laboratorio de Estructura de Proteínas, Instituto Nacional de Medicina Genómica (INMEGEN), 14610, Ciudad de Mexico, Mexico.</td>\n",
       "      <td>Diana I Aparicio-Bautista</td>\n",
       "      <td>Mexico</td>\n",
       "    </tr>\n",
       "    <tr>\n",
       "      <th>660</th>\n",
       "      <td>37889281</td>\n",
       "      <td>1432-198X</td>\n",
       "      <td>Pediatric nephrology (Berlin, Germany)</td>\n",
       "      <td>2023</td>\n",
       "      <td>Akron Nephrology Associates/Cleveland Clinic Akron General Medical Center, Akron, OH, USA. rraina@akronchildrens.org.</td>\n",
       "      <td>Rupesh Raina</td>\n",
       "      <td>USA</td>\n",
       "    </tr>\n",
       "    <tr>\n",
       "      <th>661</th>\n",
       "      <td>37972698</td>\n",
       "      <td>1879-0038</td>\n",
       "      <td>Gene</td>\n",
       "      <td>2023</td>\n",
       "      <td>School of Preclinical Medicine, Zunyi Medical University, Zunyi 563000, China; College of Animal Science and Technology, Southwest University, Chongqing 400715, China.</td>\n",
       "      <td>Nanjian Luo</td>\n",
       "      <td>China</td>\n",
       "    </tr>\n",
       "    <tr>\n",
       "      <th>662</th>\n",
       "      <td>38048169</td>\n",
       "      <td>1535-3907</td>\n",
       "      <td>Journal of proteome research</td>\n",
       "      <td>2023</td>\n",
       "      <td>State Key Laboratory of Dampness Syndrome of Chinese Medicine, The Second Affiliated Hospital of Guangzhou University of Chinese Medicine, Guangzhou 510020, China.</td>\n",
       "      <td>Taohua Lan</td>\n",
       "      <td>China</td>\n",
       "    </tr>\n",
       "    <tr>\n",
       "      <th>664</th>\n",
       "      <td>38092161</td>\n",
       "      <td>1879-0038</td>\n",
       "      <td>Gene</td>\n",
       "      <td>2023</td>\n",
       "      <td>ICAR-National Bureau of Animal Genetic Resources, Karnal; ICAR-National Dairy Research Institute, Karnal.</td>\n",
       "      <td>Mahanthi Vasu</td>\n",
       "      <td>Karnal</td>\n",
       "    </tr>\n",
       "  </tbody>\n",
       "</table>\n",
       "<p>659 rows × 7 columns</p>\n",
       "</div>"
      ],
      "text/plain": [
       "         PMID       ISSN  \\\n",
       "0    10575721  0035-1040   \n",
       "1    10617805  0242-6498   \n",
       "2    10656443  1078-0432   \n",
       "3    10790290  0033-7587   \n",
       "4    10793017  1523-6838   \n",
       "..        ...        ...   \n",
       "659  37874452  2509-2723   \n",
       "660  37889281  1432-198X   \n",
       "661  37972698  1879-0038   \n",
       "662  38048169  1535-3907   \n",
       "664  38092161  1879-0038   \n",
       "\n",
       "                                                                                            Journal  \\\n",
       "0                               Revue de chirurgie orthopedique et reparatrice de l'appareil moteur   \n",
       "1                                                                             Annales de pathologie   \n",
       "2    Clinical cancer research : an official journal of the American Association for Cancer Research   \n",
       "3                                                                                Radiation research   \n",
       "4      American journal of kidney diseases : the official journal of the National Kidney Foundation   \n",
       "..                                                                                              ...   \n",
       "659                                                                                     GeroScience   \n",
       "660                                                          Pediatric nephrology (Berlin, Germany)   \n",
       "661                                                                                            Gene   \n",
       "662                                                                    Journal of proteome research   \n",
       "664                                                                                            Gene   \n",
       "\n",
       "     Year  \\\n",
       "0    1999   \n",
       "1    1999   \n",
       "2    2000   \n",
       "3    2000   \n",
       "4    2000   \n",
       "..    ...   \n",
       "659  2023   \n",
       "660  2023   \n",
       "661  2023   \n",
       "662  2023   \n",
       "664  2023   \n",
       "\n",
       "                                                                                                                                                      FirstAuthorAffiliation  \\\n",
       "0                                                                                                                                        Equipe B2M, ENSAM, Aix-en-Provence.   \n",
       "1                                                                                       Service d'Anatomie Pathologique, Hôpital Gui de Chauliac, 34295 Montpellier Cedex 5.   \n",
       "2                                                                               Department of Leukemia, University of Texas M.D. Anderson Cancer Center, Houston 77030, USA.   \n",
       "3                                                                                            FDA Center for Devices and Radiological Health, Rockville, Maryland 20850, USA.   \n",
       "4                    Department of Internal Medicine, Division of Nephrology, and Department of Pathology, Universidade Federal Fluminense, Niterói, Rio de Janeiro, Brazil.   \n",
       "..                                                                                                                                                                       ...   \n",
       "659                                              Laboratorio de Estructura de Proteínas, Instituto Nacional de Medicina Genómica (INMEGEN), 14610, Ciudad de Mexico, Mexico.   \n",
       "660                                                    Akron Nephrology Associates/Cleveland Clinic Akron General Medical Center, Akron, OH, USA. rraina@akronchildrens.org.   \n",
       "661  School of Preclinical Medicine, Zunyi Medical University, Zunyi 563000, China; College of Animal Science and Technology, Southwest University, Chongqing 400715, China.   \n",
       "662      State Key Laboratory of Dampness Syndrome of Chinese Medicine, The Second Affiliated Hospital of Guangzhou University of Chinese Medicine, Guangzhou 510020, China.   \n",
       "664                                                                ICAR-National Bureau of Animal Genetic Resources, Karnal; ICAR-National Dairy Research Institute, Karnal.   \n",
       "\n",
       "                    AuthorName          AffiliationCountry  \n",
       "0                  E Nerkowski             Aix-en-Provence  \n",
       "1                  M Esslimani   34295 Montpellier Cedex 5  \n",
       "2                  J Rodriguez                         USA  \n",
       "3                C A Morehouse                         USA  \n",
       "4                    J P Matos                      Brazil  \n",
       "..                         ...                         ...  \n",
       "659  Diana I Aparicio-Bautista                      Mexico  \n",
       "660               Rupesh Raina                         USA  \n",
       "661                Nanjian Luo                       China  \n",
       "662                 Taohua Lan                       China  \n",
       "664              Mahanthi Vasu                      Karnal  \n",
       "\n",
       "[659 rows x 7 columns]"
      ]
     },
     "metadata": {},
     "output_type": "display_data"
    }
   ],
   "source": [
    "display(inst_8)"
   ]
  },
  {
   "cell_type": "code",
   "execution_count": 283,
   "id": "18f275a7-4a46-4353-b309-70dd1eb45790",
   "metadata": {},
   "outputs": [],
   "source": [
    "inst_9 = inst_8[['PMID','AffiliationCountry']] # Storing two columns for further visualisations\n",
    "\n",
    "inst_10 = inst_9.groupby(['AffiliationCountry']).count().reset_index() # Grouping the country names"
   ]
  },
  {
   "cell_type": "code",
   "execution_count": 284,
   "id": "0b31c9ac-8cd1-498b-8bb3-35f1408c21fe",
   "metadata": {},
   "outputs": [],
   "source": [
    "#inst_10[\"PMID\"].columns = [\"Number of Publications\"]"
   ]
  },
  {
   "cell_type": "code",
   "execution_count": 285,
   "id": "222682fd-1dce-4360-a233-31548e08b4b7",
   "metadata": {},
   "outputs": [],
   "source": [
    "#display(inst_10)"
   ]
  },
  {
   "cell_type": "code",
   "execution_count": 286,
   "id": "61380da3-5172-42e6-abcb-7e3ad390b7de",
   "metadata": {},
   "outputs": [
    {
     "data": {
      "application/vnd.plotly.v1+json": {
       "config": {
        "plotlyServerURL": "https://plot.ly"
       },
       "data": [
        {
         "coloraxis": "coloraxis",
         "geo": "geo",
         "hovertemplate": "AffiliationCountry=%{location}<br>PMID=%{z}<extra></extra>",
         "locationmode": "country names",
         "locations": [
          " 34295 Montpellier Cedex 5",
          " AZ",
          " Aix-en-Provence",
          " Australia",
          " Austria",
          " Bangladesh",
          " Belgium",
          " Braga;",
          " Brazil",
          " CA",
          " California",
          " Canada",
          " Canada M5S 1A8",
          " China",
          " China ",
          " China (mainland)",
          " China 200433",
          " Colombia",
          " Colorado",
          " Connecticut",
          " Cuba",
          " Czech Republic",
          " Denmark",
          " Egypt",
          " Egypt E-mail : amkhairy90@hotmail",
          " England",
          " España",
          " Estonia",
          " Florida",
          " France",
          " Germany",
          " Germany ",
          " Graduate School of Medicine",
          " Greece",
          " Hungary",
          " Hyderabad-500030 India",
          " IND",
          " IR Iran",
          " India",
          " Indiana",
          " Iran",
          " Ireland",
          " Israel",
          " Italy",
          " Japan",
          " Kanagawa 251-8555 Japan",
          " Karnal",
          " Korea",
          " Kuala Lumpur",
          " Lithuania",
          " Louisiana",
          " Ltd",
          " MA",
          " MO",
          " Malaysia",
          " Massachusetts",
          " Mexico",
          " Minnesota",
          " Monserrato (CA)",
          " N1G 2W1",
          " NY",
          " NY;",
          " Nevada",
          " New York",
          " New Zealand",
          " Norway",
          " Ohio",
          " P",
          " PR China",
          " People's Republic of China",
          " People's Republic of China ",
          " Peoples' Republic of China",
          " Poland",
          " Portugal",
          " Qatar",
          " ROC",
          " Republic of China",
          " Republic of Korea",
          " Rodrigue",
          " Rouen",
          " Russia",
          " Saga 849-8501;",
          " Saudi Arabia",
          " Serbia",
          " Slovakia",
          " Slovenia",
          " South Africa",
          " South Korea",
          " Spain",
          " Sri Lanka",
          " Sweden",
          " Sweden;",
          " Switzerland",
          " São Paulo",
          " Taiwan",
          " Taiwan (R",
          " Tanzania",
          " Texas",
          " Thailand",
          " The Gambia",
          " The Netherlands",
          " The University of Tokyo",
          " Turkey",
          " UK",
          " USA",
          " UT",
          " United Kingdom",
          " United States",
          " United States of America",
          " Varese",
          " Vietnam",
          " Yonsei University",
          " acoliveira@iconcologia",
          " alexandm@med",
          " bp156@columbia",
          " matthias",
          " the Netherlands",
          " yk@genodigm",
          "Ireland",
          "Republic of Ireland"
         ],
         "name": "",
         "type": "choropleth",
         "z": [
          1,
          1,
          1,
          8,
          6,
          2,
          6,
          1,
          22,
          1,
          3,
          8,
          1,
          100,
          3,
          1,
          1,
          1,
          1,
          1,
          1,
          2,
          13,
          3,
          1,
          1,
          1,
          1,
          1,
          18,
          32,
          1,
          1,
          7,
          1,
          1,
          1,
          1,
          22,
          1,
          10,
          4,
          3,
          17,
          17,
          1,
          1,
          4,
          1,
          1,
          1,
          1,
          6,
          1,
          1,
          1,
          1,
          2,
          1,
          1,
          1,
          1,
          1,
          2,
          2,
          1,
          1,
          8,
          9,
          7,
          1,
          1,
          13,
          4,
          1,
          1,
          1,
          10,
          1,
          1,
          3,
          1,
          1,
          2,
          1,
          1,
          2,
          4,
          18,
          1,
          8,
          1,
          6,
          1,
          6,
          1,
          1,
          1,
          4,
          1,
          10,
          1,
          7,
          14,
          96,
          1,
          8,
          5,
          5,
          1,
          1,
          1,
          1,
          1,
          1,
          1,
          1,
          1,
          1,
          1
         ]
        }
       ],
       "layout": {
        "coloraxis": {
         "colorbar": {
          "title": {
           "text": "PMID"
          }
         },
         "colorscale": [
          [
           0,
           "#0d0887"
          ],
          [
           0.1111111111111111,
           "#46039f"
          ],
          [
           0.2222222222222222,
           "#7201a8"
          ],
          [
           0.3333333333333333,
           "#9c179e"
          ],
          [
           0.4444444444444444,
           "#bd3786"
          ],
          [
           0.5555555555555556,
           "#d8576b"
          ],
          [
           0.6666666666666666,
           "#ed7953"
          ],
          [
           0.7777777777777778,
           "#fb9f3a"
          ],
          [
           0.8888888888888888,
           "#fdca26"
          ],
          [
           1,
           "#f0f921"
          ]
         ]
        },
        "geo": {
         "center": {},
         "domain": {
          "x": [
           0,
           1
          ],
          "y": [
           0,
           1
          ]
         }
        },
        "height": 800,
        "legend": {
         "tracegroupgap": 0
        },
        "template": {
         "data": {
          "bar": [
           {
            "error_x": {
             "color": "#2a3f5f"
            },
            "error_y": {
             "color": "#2a3f5f"
            },
            "marker": {
             "line": {
              "color": "#E5ECF6",
              "width": 0.5
             },
             "pattern": {
              "fillmode": "overlay",
              "size": 10,
              "solidity": 0.2
             }
            },
            "type": "bar"
           }
          ],
          "barpolar": [
           {
            "marker": {
             "line": {
              "color": "#E5ECF6",
              "width": 0.5
             },
             "pattern": {
              "fillmode": "overlay",
              "size": 10,
              "solidity": 0.2
             }
            },
            "type": "barpolar"
           }
          ],
          "carpet": [
           {
            "aaxis": {
             "endlinecolor": "#2a3f5f",
             "gridcolor": "white",
             "linecolor": "white",
             "minorgridcolor": "white",
             "startlinecolor": "#2a3f5f"
            },
            "baxis": {
             "endlinecolor": "#2a3f5f",
             "gridcolor": "white",
             "linecolor": "white",
             "minorgridcolor": "white",
             "startlinecolor": "#2a3f5f"
            },
            "type": "carpet"
           }
          ],
          "choropleth": [
           {
            "colorbar": {
             "outlinewidth": 0,
             "ticks": ""
            },
            "type": "choropleth"
           }
          ],
          "contour": [
           {
            "colorbar": {
             "outlinewidth": 0,
             "ticks": ""
            },
            "colorscale": [
             [
              0,
              "#0d0887"
             ],
             [
              0.1111111111111111,
              "#46039f"
             ],
             [
              0.2222222222222222,
              "#7201a8"
             ],
             [
              0.3333333333333333,
              "#9c179e"
             ],
             [
              0.4444444444444444,
              "#bd3786"
             ],
             [
              0.5555555555555556,
              "#d8576b"
             ],
             [
              0.6666666666666666,
              "#ed7953"
             ],
             [
              0.7777777777777778,
              "#fb9f3a"
             ],
             [
              0.8888888888888888,
              "#fdca26"
             ],
             [
              1,
              "#f0f921"
             ]
            ],
            "type": "contour"
           }
          ],
          "contourcarpet": [
           {
            "colorbar": {
             "outlinewidth": 0,
             "ticks": ""
            },
            "type": "contourcarpet"
           }
          ],
          "heatmap": [
           {
            "colorbar": {
             "outlinewidth": 0,
             "ticks": ""
            },
            "colorscale": [
             [
              0,
              "#0d0887"
             ],
             [
              0.1111111111111111,
              "#46039f"
             ],
             [
              0.2222222222222222,
              "#7201a8"
             ],
             [
              0.3333333333333333,
              "#9c179e"
             ],
             [
              0.4444444444444444,
              "#bd3786"
             ],
             [
              0.5555555555555556,
              "#d8576b"
             ],
             [
              0.6666666666666666,
              "#ed7953"
             ],
             [
              0.7777777777777778,
              "#fb9f3a"
             ],
             [
              0.8888888888888888,
              "#fdca26"
             ],
             [
              1,
              "#f0f921"
             ]
            ],
            "type": "heatmap"
           }
          ],
          "heatmapgl": [
           {
            "colorbar": {
             "outlinewidth": 0,
             "ticks": ""
            },
            "colorscale": [
             [
              0,
              "#0d0887"
             ],
             [
              0.1111111111111111,
              "#46039f"
             ],
             [
              0.2222222222222222,
              "#7201a8"
             ],
             [
              0.3333333333333333,
              "#9c179e"
             ],
             [
              0.4444444444444444,
              "#bd3786"
             ],
             [
              0.5555555555555556,
              "#d8576b"
             ],
             [
              0.6666666666666666,
              "#ed7953"
             ],
             [
              0.7777777777777778,
              "#fb9f3a"
             ],
             [
              0.8888888888888888,
              "#fdca26"
             ],
             [
              1,
              "#f0f921"
             ]
            ],
            "type": "heatmapgl"
           }
          ],
          "histogram": [
           {
            "marker": {
             "pattern": {
              "fillmode": "overlay",
              "size": 10,
              "solidity": 0.2
             }
            },
            "type": "histogram"
           }
          ],
          "histogram2d": [
           {
            "colorbar": {
             "outlinewidth": 0,
             "ticks": ""
            },
            "colorscale": [
             [
              0,
              "#0d0887"
             ],
             [
              0.1111111111111111,
              "#46039f"
             ],
             [
              0.2222222222222222,
              "#7201a8"
             ],
             [
              0.3333333333333333,
              "#9c179e"
             ],
             [
              0.4444444444444444,
              "#bd3786"
             ],
             [
              0.5555555555555556,
              "#d8576b"
             ],
             [
              0.6666666666666666,
              "#ed7953"
             ],
             [
              0.7777777777777778,
              "#fb9f3a"
             ],
             [
              0.8888888888888888,
              "#fdca26"
             ],
             [
              1,
              "#f0f921"
             ]
            ],
            "type": "histogram2d"
           }
          ],
          "histogram2dcontour": [
           {
            "colorbar": {
             "outlinewidth": 0,
             "ticks": ""
            },
            "colorscale": [
             [
              0,
              "#0d0887"
             ],
             [
              0.1111111111111111,
              "#46039f"
             ],
             [
              0.2222222222222222,
              "#7201a8"
             ],
             [
              0.3333333333333333,
              "#9c179e"
             ],
             [
              0.4444444444444444,
              "#bd3786"
             ],
             [
              0.5555555555555556,
              "#d8576b"
             ],
             [
              0.6666666666666666,
              "#ed7953"
             ],
             [
              0.7777777777777778,
              "#fb9f3a"
             ],
             [
              0.8888888888888888,
              "#fdca26"
             ],
             [
              1,
              "#f0f921"
             ]
            ],
            "type": "histogram2dcontour"
           }
          ],
          "mesh3d": [
           {
            "colorbar": {
             "outlinewidth": 0,
             "ticks": ""
            },
            "type": "mesh3d"
           }
          ],
          "parcoords": [
           {
            "line": {
             "colorbar": {
              "outlinewidth": 0,
              "ticks": ""
             }
            },
            "type": "parcoords"
           }
          ],
          "pie": [
           {
            "automargin": true,
            "type": "pie"
           }
          ],
          "scatter": [
           {
            "fillpattern": {
             "fillmode": "overlay",
             "size": 10,
             "solidity": 0.2
            },
            "type": "scatter"
           }
          ],
          "scatter3d": [
           {
            "line": {
             "colorbar": {
              "outlinewidth": 0,
              "ticks": ""
             }
            },
            "marker": {
             "colorbar": {
              "outlinewidth": 0,
              "ticks": ""
             }
            },
            "type": "scatter3d"
           }
          ],
          "scattercarpet": [
           {
            "marker": {
             "colorbar": {
              "outlinewidth": 0,
              "ticks": ""
             }
            },
            "type": "scattercarpet"
           }
          ],
          "scattergeo": [
           {
            "marker": {
             "colorbar": {
              "outlinewidth": 0,
              "ticks": ""
             }
            },
            "type": "scattergeo"
           }
          ],
          "scattergl": [
           {
            "marker": {
             "colorbar": {
              "outlinewidth": 0,
              "ticks": ""
             }
            },
            "type": "scattergl"
           }
          ],
          "scattermapbox": [
           {
            "marker": {
             "colorbar": {
              "outlinewidth": 0,
              "ticks": ""
             }
            },
            "type": "scattermapbox"
           }
          ],
          "scatterpolar": [
           {
            "marker": {
             "colorbar": {
              "outlinewidth": 0,
              "ticks": ""
             }
            },
            "type": "scatterpolar"
           }
          ],
          "scatterpolargl": [
           {
            "marker": {
             "colorbar": {
              "outlinewidth": 0,
              "ticks": ""
             }
            },
            "type": "scatterpolargl"
           }
          ],
          "scatterternary": [
           {
            "marker": {
             "colorbar": {
              "outlinewidth": 0,
              "ticks": ""
             }
            },
            "type": "scatterternary"
           }
          ],
          "surface": [
           {
            "colorbar": {
             "outlinewidth": 0,
             "ticks": ""
            },
            "colorscale": [
             [
              0,
              "#0d0887"
             ],
             [
              0.1111111111111111,
              "#46039f"
             ],
             [
              0.2222222222222222,
              "#7201a8"
             ],
             [
              0.3333333333333333,
              "#9c179e"
             ],
             [
              0.4444444444444444,
              "#bd3786"
             ],
             [
              0.5555555555555556,
              "#d8576b"
             ],
             [
              0.6666666666666666,
              "#ed7953"
             ],
             [
              0.7777777777777778,
              "#fb9f3a"
             ],
             [
              0.8888888888888888,
              "#fdca26"
             ],
             [
              1,
              "#f0f921"
             ]
            ],
            "type": "surface"
           }
          ],
          "table": [
           {
            "cells": {
             "fill": {
              "color": "#EBF0F8"
             },
             "line": {
              "color": "white"
             }
            },
            "header": {
             "fill": {
              "color": "#C8D4E3"
             },
             "line": {
              "color": "white"
             }
            },
            "type": "table"
           }
          ]
         },
         "layout": {
          "annotationdefaults": {
           "arrowcolor": "#2a3f5f",
           "arrowhead": 0,
           "arrowwidth": 1
          },
          "autotypenumbers": "strict",
          "coloraxis": {
           "colorbar": {
            "outlinewidth": 0,
            "ticks": ""
           }
          },
          "colorscale": {
           "diverging": [
            [
             0,
             "#8e0152"
            ],
            [
             0.1,
             "#c51b7d"
            ],
            [
             0.2,
             "#de77ae"
            ],
            [
             0.3,
             "#f1b6da"
            ],
            [
             0.4,
             "#fde0ef"
            ],
            [
             0.5,
             "#f7f7f7"
            ],
            [
             0.6,
             "#e6f5d0"
            ],
            [
             0.7,
             "#b8e186"
            ],
            [
             0.8,
             "#7fbc41"
            ],
            [
             0.9,
             "#4d9221"
            ],
            [
             1,
             "#276419"
            ]
           ],
           "sequential": [
            [
             0,
             "#0d0887"
            ],
            [
             0.1111111111111111,
             "#46039f"
            ],
            [
             0.2222222222222222,
             "#7201a8"
            ],
            [
             0.3333333333333333,
             "#9c179e"
            ],
            [
             0.4444444444444444,
             "#bd3786"
            ],
            [
             0.5555555555555556,
             "#d8576b"
            ],
            [
             0.6666666666666666,
             "#ed7953"
            ],
            [
             0.7777777777777778,
             "#fb9f3a"
            ],
            [
             0.8888888888888888,
             "#fdca26"
            ],
            [
             1,
             "#f0f921"
            ]
           ],
           "sequentialminus": [
            [
             0,
             "#0d0887"
            ],
            [
             0.1111111111111111,
             "#46039f"
            ],
            [
             0.2222222222222222,
             "#7201a8"
            ],
            [
             0.3333333333333333,
             "#9c179e"
            ],
            [
             0.4444444444444444,
             "#bd3786"
            ],
            [
             0.5555555555555556,
             "#d8576b"
            ],
            [
             0.6666666666666666,
             "#ed7953"
            ],
            [
             0.7777777777777778,
             "#fb9f3a"
            ],
            [
             0.8888888888888888,
             "#fdca26"
            ],
            [
             1,
             "#f0f921"
            ]
           ]
          },
          "colorway": [
           "#636efa",
           "#EF553B",
           "#00cc96",
           "#ab63fa",
           "#FFA15A",
           "#19d3f3",
           "#FF6692",
           "#B6E880",
           "#FF97FF",
           "#FECB52"
          ],
          "font": {
           "color": "#2a3f5f"
          },
          "geo": {
           "bgcolor": "white",
           "lakecolor": "white",
           "landcolor": "#E5ECF6",
           "showlakes": true,
           "showland": true,
           "subunitcolor": "white"
          },
          "hoverlabel": {
           "align": "left"
          },
          "hovermode": "closest",
          "mapbox": {
           "style": "light"
          },
          "paper_bgcolor": "white",
          "plot_bgcolor": "#E5ECF6",
          "polar": {
           "angularaxis": {
            "gridcolor": "white",
            "linecolor": "white",
            "ticks": ""
           },
           "bgcolor": "#E5ECF6",
           "radialaxis": {
            "gridcolor": "white",
            "linecolor": "white",
            "ticks": ""
           }
          },
          "scene": {
           "xaxis": {
            "backgroundcolor": "#E5ECF6",
            "gridcolor": "white",
            "gridwidth": 2,
            "linecolor": "white",
            "showbackground": true,
            "ticks": "",
            "zerolinecolor": "white"
           },
           "yaxis": {
            "backgroundcolor": "#E5ECF6",
            "gridcolor": "white",
            "gridwidth": 2,
            "linecolor": "white",
            "showbackground": true,
            "ticks": "",
            "zerolinecolor": "white"
           },
           "zaxis": {
            "backgroundcolor": "#E5ECF6",
            "gridcolor": "white",
            "gridwidth": 2,
            "linecolor": "white",
            "showbackground": true,
            "ticks": "",
            "zerolinecolor": "white"
           }
          },
          "shapedefaults": {
           "line": {
            "color": "#2a3f5f"
           }
          },
          "ternary": {
           "aaxis": {
            "gridcolor": "white",
            "linecolor": "white",
            "ticks": ""
           },
           "baxis": {
            "gridcolor": "white",
            "linecolor": "white",
            "ticks": ""
           },
           "bgcolor": "#E5ECF6",
           "caxis": {
            "gridcolor": "white",
            "linecolor": "white",
            "ticks": ""
           }
          },
          "title": {
           "x": 0.05
          },
          "xaxis": {
           "automargin": true,
           "gridcolor": "white",
           "linecolor": "white",
           "ticks": "",
           "title": {
            "standoff": 15
           },
           "zerolinecolor": "white",
           "zerolinewidth": 2
          },
          "yaxis": {
           "automargin": true,
           "gridcolor": "white",
           "linecolor": "white",
           "ticks": "",
           "title": {
            "standoff": 15
           },
           "zerolinecolor": "white",
           "zerolinewidth": 2
          }
         }
        },
        "title": {
         "text": "No. of papers represents Biological targets published by PubMed from various countries:"
        },
        "width": 800
       }
      },
      "image/png": "[encoded data removed]",
      "text/html": [
       "<div>                            <div id=\"92b68c1e-db5a-4a43-b3ed-ff01a686a84a\" class=\"plotly-graph-div\" style=\"height:800px; width:800px;\"></div>            <script type=\"text/javascript\">                require([\"plotly\"], function(Plotly) {                    window.PLOTLYENV=window.PLOTLYENV || {};                                    if (document.getElementById(\"92b68c1e-db5a-4a43-b3ed-ff01a686a84a\")) {                    Plotly.newPlot(                        \"92b68c1e-db5a-4a43-b3ed-ff01a686a84a\",                        [{\"coloraxis\":\"coloraxis\",\"geo\":\"geo\",\"hovertemplate\":\"AffiliationCountry=%{location}\\u003cbr\\u003ePMID=%{z}\\u003cextra\\u003e\\u003c\\u002fextra\\u003e\",\"locationmode\":\"country names\",\"locations\":[\" 34295 Montpellier Cedex 5\",\" AZ\",\" Aix-en-Provence\",\" Australia\",\" Austria\",\" Bangladesh\",\" Belgium\",\" Braga;\",\" Brazil\",\" CA\",\" California\",\" Canada\",\" Canada M5S 1A8\",\" China\",\" China \",\" China (mainland)\",\" China 200433\",\" Colombia\",\" Colorado\",\" Connecticut\",\" Cuba\",\" Czech Republic\",\" Denmark\",\" Egypt\",\" Egypt E-mail : amkhairy90@hotmail\",\" England\",\" Espa\\u00f1a\",\" Estonia\",\" Florida\",\" France\",\" Germany\",\" Germany \",\" Graduate School of Medicine\",\" Greece\",\" Hungary\",\" Hyderabad-500030 India\",\" IND\",\" IR Iran\",\" India\",\" Indiana\",\" Iran\",\" Ireland\",\" Israel\",\" Italy\",\" Japan\",\" Kanagawa 251-8555 Japan\",\" Karnal\",\" Korea\",\" Kuala Lumpur\",\" Lithuania\",\" Louisiana\",\" Ltd\",\" MA\",\" MO\",\" Malaysia\",\" Massachusetts\",\" Mexico\",\" Minnesota\",\" Monserrato (CA)\",\" N1G 2W1\",\" NY\",\" NY;\",\" Nevada\",\" New York\",\" New Zealand\",\" Norway\",\" Ohio\",\" P\",\" PR China\",\" People's Republic of China\",\" People's Republic of China \",\" Peoples' Republic of China\",\" Poland\",\" Portugal\",\" Qatar\",\" ROC\",\" Republic of China\",\" Republic of Korea\",\" Rodrigue\",\" Rouen\",\" Russia\",\" Saga 849-8501;\",\" Saudi Arabia\",\" Serbia\",\" Slovakia\",\" Slovenia\",\" South Africa\",\" South Korea\",\" Spain\",\" Sri Lanka\",\" Sweden\",\" Sweden;\",\" Switzerland\",\" S\\u00e3o Paulo\",\" Taiwan\",\" Taiwan (R\",\" Tanzania\",\" Texas\",\" Thailand\",\" The Gambia\",\" The Netherlands\",\" The University of Tokyo\",\" Turkey\",\" UK\",\" USA\",\" UT\",\" United Kingdom\",\" United States\",\" United States of America\",\" Varese\",\" Vietnam\",\" Yonsei University\",\" acoliveira@iconcologia\",\" alexandm@med\",\" bp156@columbia\",\" matthias\",\" the Netherlands\",\" yk@genodigm\",\"Ireland\",\"Republic of Ireland\"],\"name\":\"\",\"z\":[1,1,1,8,6,2,6,1,22,1,3,8,1,100,3,1,1,1,1,1,1,2,13,3,1,1,1,1,1,18,32,1,1,7,1,1,1,1,22,1,10,4,3,17,17,1,1,4,1,1,1,1,6,1,1,1,1,2,1,1,1,1,1,2,2,1,1,8,9,7,1,1,13,4,1,1,1,10,1,1,3,1,1,2,1,1,2,4,18,1,8,1,6,1,6,1,1,1,4,1,10,1,7,14,96,1,8,5,5,1,1,1,1,1,1,1,1,1,1,1],\"type\":\"choropleth\"}],                        {\"template\":{\"data\":{\"histogram2dcontour\":[{\"type\":\"histogram2dcontour\",\"colorbar\":{\"outlinewidth\":0,\"ticks\":\"\"},\"colorscale\":[[0.0,\"#0d0887\"],[0.1111111111111111,\"#46039f\"],[0.2222222222222222,\"#7201a8\"],[0.3333333333333333,\"#9c179e\"],[0.4444444444444444,\"#bd3786\"],[0.5555555555555556,\"#d8576b\"],[0.6666666666666666,\"#ed7953\"],[0.7777777777777778,\"#fb9f3a\"],[0.8888888888888888,\"#fdca26\"],[1.0,\"#f0f921\"]]}],\"choropleth\":[{\"type\":\"choropleth\",\"colorbar\":{\"outlinewidth\":0,\"ticks\":\"\"}}],\"histogram2d\":[{\"type\":\"histogram2d\",\"colorbar\":{\"outlinewidth\":0,\"ticks\":\"\"},\"colorscale\":[[0.0,\"#0d0887\"],[0.1111111111111111,\"#46039f\"],[0.2222222222222222,\"#7201a8\"],[0.3333333333333333,\"#9c179e\"],[0.4444444444444444,\"#bd3786\"],[0.5555555555555556,\"#d8576b\"],[0.6666666666666666,\"#ed7953\"],[0.7777777777777778,\"#fb9f3a\"],[0.8888888888888888,\"#fdca26\"],[1.0,\"#f0f921\"]]}],\"heatmap\":[{\"type\":\"heatmap\",\"colorbar\":{\"outlinewidth\":0,\"ticks\":\"\"},\"colorscale\":[[0.0,\"#0d0887\"],[0.1111111111111111,\"#46039f\"],[0.2222222222222222,\"#7201a8\"],[0.3333333333333333,\"#9c179e\"],[0.4444444444444444,\"#bd3786\"],[0.5555555555555556,\"#d8576b\"],[0.6666666666666666,\"#ed7953\"],[0.7777777777777778,\"#fb9f3a\"],[0.8888888888888888,\"#fdca26\"],[1.0,\"#f0f921\"]]}],\"heatmapgl\":[{\"type\":\"heatmapgl\",\"colorbar\":{\"outlinewidth\":0,\"ticks\":\"\"},\"colorscale\":[[0.0,\"#0d0887\"],[0.1111111111111111,\"#46039f\"],[0.2222222222222222,\"#7201a8\"],[0.3333333333333333,\"#9c179e\"],[0.4444444444444444,\"#bd3786\"],[0.5555555555555556,\"#d8576b\"],[0.6666666666666666,\"#ed7953\"],[0.7777777777777778,\"#fb9f3a\"],[0.8888888888888888,\"#fdca26\"],[1.0,\"#f0f921\"]]}],\"contourcarpet\":[{\"type\":\"contourcarpet\",\"colorbar\":{\"outlinewidth\":0,\"ticks\":\"\"}}],\"contour\":[{\"type\":\"contour\",\"colorbar\":{\"outlinewidth\":0,\"ticks\":\"\"},\"colorscale\":[[0.0,\"#0d0887\"],[0.1111111111111111,\"#46039f\"],[0.2222222222222222,\"#7201a8\"],[0.3333333333333333,\"#9c179e\"],[0.4444444444444444,\"#bd3786\"],[0.5555555555555556,\"#d8576b\"],[0.6666666666666666,\"#ed7953\"],[0.7777777777777778,\"#fb9f3a\"],[0.8888888888888888,\"#fdca26\"],[1.0,\"#f0f921\"]]}],\"surface\":[{\"type\":\"surface\",\"colorbar\":{\"outlinewidth\":0,\"ticks\":\"\"},\"colorscale\":[[0.0,\"#0d0887\"],[0.1111111111111111,\"#46039f\"],[0.2222222222222222,\"#7201a8\"],[0.3333333333333333,\"#9c179e\"],[0.4444444444444444,\"#bd3786\"],[0.5555555555555556,\"#d8576b\"],[0.6666666666666666,\"#ed7953\"],[0.7777777777777778,\"#fb9f3a\"],[0.8888888888888888,\"#fdca26\"],[1.0,\"#f0f921\"]]}],\"mesh3d\":[{\"type\":\"mesh3d\",\"colorbar\":{\"outlinewidth\":0,\"ticks\":\"\"}}],\"scatter\":[{\"fillpattern\":{\"fillmode\":\"overlay\",\"size\":10,\"solidity\":0.2},\"type\":\"scatter\"}],\"parcoords\":[{\"type\":\"parcoords\",\"line\":{\"colorbar\":{\"outlinewidth\":0,\"ticks\":\"\"}}}],\"scatterpolargl\":[{\"type\":\"scatterpolargl\",\"marker\":{\"colorbar\":{\"outlinewidth\":0,\"ticks\":\"\"}}}],\"bar\":[{\"error_x\":{\"color\":\"#2a3f5f\"},\"error_y\":{\"color\":\"#2a3f5f\"},\"marker\":{\"line\":{\"color\":\"#E5ECF6\",\"width\":0.5},\"pattern\":{\"fillmode\":\"overlay\",\"size\":10,\"solidity\":0.2}},\"type\":\"bar\"}],\"scattergeo\":[{\"type\":\"scattergeo\",\"marker\":{\"colorbar\":{\"outlinewidth\":0,\"ticks\":\"\"}}}],\"scatterpolar\":[{\"type\":\"scatterpolar\",\"marker\":{\"colorbar\":{\"outlinewidth\":0,\"ticks\":\"\"}}}],\"histogram\":[{\"marker\":{\"pattern\":{\"fillmode\":\"overlay\",\"size\":10,\"solidity\":0.2}},\"type\":\"histogram\"}],\"scattergl\":[{\"type\":\"scattergl\",\"marker\":{\"colorbar\":{\"outlinewidth\":0,\"ticks\":\"\"}}}],\"scatter3d\":[{\"type\":\"scatter3d\",\"line\":{\"colorbar\":{\"outlinewidth\":0,\"ticks\":\"\"}},\"marker\":{\"colorbar\":{\"outlinewidth\":0,\"ticks\":\"\"}}}],\"scattermapbox\":[{\"type\":\"scattermapbox\",\"marker\":{\"colorbar\":{\"outlinewidth\":0,\"ticks\":\"\"}}}],\"scatterternary\":[{\"type\":\"scatterternary\",\"marker\":{\"colorbar\":{\"outlinewidth\":0,\"ticks\":\"\"}}}],\"scattercarpet\":[{\"type\":\"scattercarpet\",\"marker\":{\"colorbar\":{\"outlinewidth\":0,\"ticks\":\"\"}}}],\"carpet\":[{\"aaxis\":{\"endlinecolor\":\"#2a3f5f\",\"gridcolor\":\"white\",\"linecolor\":\"white\",\"minorgridcolor\":\"white\",\"startlinecolor\":\"#2a3f5f\"},\"baxis\":{\"endlinecolor\":\"#2a3f5f\",\"gridcolor\":\"white\",\"linecolor\":\"white\",\"minorgridcolor\":\"white\",\"startlinecolor\":\"#2a3f5f\"},\"type\":\"carpet\"}],\"table\":[{\"cells\":{\"fill\":{\"color\":\"#EBF0F8\"},\"line\":{\"color\":\"white\"}},\"header\":{\"fill\":{\"color\":\"#C8D4E3\"},\"line\":{\"color\":\"white\"}},\"type\":\"table\"}],\"barpolar\":[{\"marker\":{\"line\":{\"color\":\"#E5ECF6\",\"width\":0.5},\"pattern\":{\"fillmode\":\"overlay\",\"size\":10,\"solidity\":0.2}},\"type\":\"barpolar\"}],\"pie\":[{\"automargin\":true,\"type\":\"pie\"}]},\"layout\":{\"autotypenumbers\":\"strict\",\"colorway\":[\"#636efa\",\"#EF553B\",\"#00cc96\",\"#ab63fa\",\"#FFA15A\",\"#19d3f3\",\"#FF6692\",\"#B6E880\",\"#FF97FF\",\"#FECB52\"],\"font\":{\"color\":\"#2a3f5f\"},\"hovermode\":\"closest\",\"hoverlabel\":{\"align\":\"left\"},\"paper_bgcolor\":\"white\",\"plot_bgcolor\":\"#E5ECF6\",\"polar\":{\"bgcolor\":\"#E5ECF6\",\"angularaxis\":{\"gridcolor\":\"white\",\"linecolor\":\"white\",\"ticks\":\"\"},\"radialaxis\":{\"gridcolor\":\"white\",\"linecolor\":\"white\",\"ticks\":\"\"}},\"ternary\":{\"bgcolor\":\"#E5ECF6\",\"aaxis\":{\"gridcolor\":\"white\",\"linecolor\":\"white\",\"ticks\":\"\"},\"baxis\":{\"gridcolor\":\"white\",\"linecolor\":\"white\",\"ticks\":\"\"},\"caxis\":{\"gridcolor\":\"white\",\"linecolor\":\"white\",\"ticks\":\"\"}},\"coloraxis\":{\"colorbar\":{\"outlinewidth\":0,\"ticks\":\"\"}},\"colorscale\":{\"sequential\":[[0.0,\"#0d0887\"],[0.1111111111111111,\"#46039f\"],[0.2222222222222222,\"#7201a8\"],[0.3333333333333333,\"#9c179e\"],[0.4444444444444444,\"#bd3786\"],[0.5555555555555556,\"#d8576b\"],[0.6666666666666666,\"#ed7953\"],[0.7777777777777778,\"#fb9f3a\"],[0.8888888888888888,\"#fdca26\"],[1.0,\"#f0f921\"]],\"sequentialminus\":[[0.0,\"#0d0887\"],[0.1111111111111111,\"#46039f\"],[0.2222222222222222,\"#7201a8\"],[0.3333333333333333,\"#9c179e\"],[0.4444444444444444,\"#bd3786\"],[0.5555555555555556,\"#d8576b\"],[0.6666666666666666,\"#ed7953\"],[0.7777777777777778,\"#fb9f3a\"],[0.8888888888888888,\"#fdca26\"],[1.0,\"#f0f921\"]],\"diverging\":[[0,\"#8e0152\"],[0.1,\"#c51b7d\"],[0.2,\"#de77ae\"],[0.3,\"#f1b6da\"],[0.4,\"#fde0ef\"],[0.5,\"#f7f7f7\"],[0.6,\"#e6f5d0\"],[0.7,\"#b8e186\"],[0.8,\"#7fbc41\"],[0.9,\"#4d9221\"],[1,\"#276419\"]]},\"xaxis\":{\"gridcolor\":\"white\",\"linecolor\":\"white\",\"ticks\":\"\",\"title\":{\"standoff\":15},\"zerolinecolor\":\"white\",\"automargin\":true,\"zerolinewidth\":2},\"yaxis\":{\"gridcolor\":\"white\",\"linecolor\":\"white\",\"ticks\":\"\",\"title\":{\"standoff\":15},\"zerolinecolor\":\"white\",\"automargin\":true,\"zerolinewidth\":2},\"scene\":{\"xaxis\":{\"backgroundcolor\":\"#E5ECF6\",\"gridcolor\":\"white\",\"linecolor\":\"white\",\"showbackground\":true,\"ticks\":\"\",\"zerolinecolor\":\"white\",\"gridwidth\":2},\"yaxis\":{\"backgroundcolor\":\"#E5ECF6\",\"gridcolor\":\"white\",\"linecolor\":\"white\",\"showbackground\":true,\"ticks\":\"\",\"zerolinecolor\":\"white\",\"gridwidth\":2},\"zaxis\":{\"backgroundcolor\":\"#E5ECF6\",\"gridcolor\":\"white\",\"linecolor\":\"white\",\"showbackground\":true,\"ticks\":\"\",\"zerolinecolor\":\"white\",\"gridwidth\":2}},\"shapedefaults\":{\"line\":{\"color\":\"#2a3f5f\"}},\"annotationdefaults\":{\"arrowcolor\":\"#2a3f5f\",\"arrowhead\":0,\"arrowwidth\":1},\"geo\":{\"bgcolor\":\"white\",\"landcolor\":\"#E5ECF6\",\"subunitcolor\":\"white\",\"showland\":true,\"showlakes\":true,\"lakecolor\":\"white\"},\"title\":{\"x\":0.05},\"mapbox\":{\"style\":\"light\"}}},\"geo\":{\"domain\":{\"x\":[0.0,1.0],\"y\":[0.0,1.0]},\"center\":{}},\"coloraxis\":{\"colorbar\":{\"title\":{\"text\":\"PMID\"}},\"colorscale\":[[0.0,\"#0d0887\"],[0.1111111111111111,\"#46039f\"],[0.2222222222222222,\"#7201a8\"],[0.3333333333333333,\"#9c179e\"],[0.4444444444444444,\"#bd3786\"],[0.5555555555555556,\"#d8576b\"],[0.6666666666666666,\"#ed7953\"],[0.7777777777777778,\"#fb9f3a\"],[0.8888888888888888,\"#fdca26\"],[1.0,\"#f0f921\"]]},\"legend\":{\"tracegroupgap\":0},\"title\":{\"text\":\"No. of papers represents Biological targets published by PubMed from various countries:\"},\"height\":800,\"width\":800},                        {\"responsive\": true}                    ).then(function(){\n",
       "                            \n",
       "var gd = document.getElementById('92b68c1e-db5a-4a43-b3ed-ff01a686a84a');\n",
       "var x = new MutationObserver(function (mutations, observer) {{\n",
       "        var display = window.getComputedStyle(gd).display;\n",
       "        if (!display || display === 'none') {{\n",
       "            console.log([gd, 'removed!']);\n",
       "            Plotly.purge(gd);\n",
       "            observer.disconnect();\n",
       "        }}\n",
       "}});\n",
       "\n",
       "// Listen for the removal of the full notebook cells\n",
       "var notebookContainer = gd.closest('#notebook-container');\n",
       "if (notebookContainer) {{\n",
       "    x.observe(notebookContainer, {childList: true});\n",
       "}}\n",
       "\n",
       "// Listen for the clearing of the current output cell\n",
       "var outputEl = gd.closest('.output');\n",
       "if (outputEl) {{\n",
       "    x.observe(outputEl, {childList: true});\n",
       "}}\n",
       "\n",
       "                        })                };                });            </script>        </div>"
      ]
     },
     "metadata": {},
     "output_type": "display_data"
    }
   ],
   "source": [
    "# Making a Choropleth map \n",
    "\n",
    "figure = px.choropleth(inst_10.reset_index(), locations = 'AffiliationCountry', locationmode= 'country names' ,\n",
    "                       color = 'PMID', width = 800, height = 800, title = \"No. of papers represents Biological targets published by PubMed from various countries:\")\n",
    "\n",
    "figure.show()\n"
   ]
  },
  {
   "cell_type": "code",
   "execution_count": 287,
   "id": "a88b42d5-8175-4f67-b632-ae793a92dfc6",
   "metadata": {},
   "outputs": [],
   "source": [
    "inst_11 = inst_10.nlargest(5, 'PMID') # Finding a largest value in total publications"
   ]
  },
  {
   "cell_type": "code",
   "execution_count": 288,
   "id": "d777c3fc-8cb9-41b9-b1f4-2e926737c68d",
   "metadata": {
    "scrolled": true
   },
   "outputs": [
    {
     "data": {
      "text/html": [
       "<div>\n",
       "<style scoped>\n",
       "    .dataframe tbody tr th:only-of-type {\n",
       "        vertical-align: middle;\n",
       "    }\n",
       "\n",
       "    .dataframe tbody tr th {\n",
       "        vertical-align: top;\n",
       "    }\n",
       "\n",
       "    .dataframe thead th {\n",
       "        text-align: right;\n",
       "    }\n",
       "</style>\n",
       "<table border=\"1\" class=\"dataframe\">\n",
       "  <thead>\n",
       "    <tr style=\"text-align: right;\">\n",
       "      <th></th>\n",
       "      <th>AffiliationCountry</th>\n",
       "      <th>PMID</th>\n",
       "    </tr>\n",
       "  </thead>\n",
       "  <tbody>\n",
       "    <tr>\n",
       "      <th>13</th>\n",
       "      <td>China</td>\n",
       "      <td>100</td>\n",
       "    </tr>\n",
       "    <tr>\n",
       "      <th>104</th>\n",
       "      <td>USA</td>\n",
       "      <td>96</td>\n",
       "    </tr>\n",
       "    <tr>\n",
       "      <th>30</th>\n",
       "      <td>Germany</td>\n",
       "      <td>32</td>\n",
       "    </tr>\n",
       "    <tr>\n",
       "      <th>8</th>\n",
       "      <td>Brazil</td>\n",
       "      <td>22</td>\n",
       "    </tr>\n",
       "    <tr>\n",
       "      <th>38</th>\n",
       "      <td>India</td>\n",
       "      <td>22</td>\n",
       "    </tr>\n",
       "  </tbody>\n",
       "</table>\n",
       "</div>"
      ],
      "text/plain": [
       "    AffiliationCountry  PMID\n",
       "13               China   100\n",
       "104                USA    96\n",
       "30             Germany    32\n",
       "8               Brazil    22\n",
       "38               India    22"
      ]
     },
     "metadata": {},
     "output_type": "display_data"
    }
   ],
   "source": [
    "display(inst_11)"
   ]
  },
  {
   "cell_type": "code",
   "execution_count": 289,
   "id": "0be11ec9-8ce4-49ac-9747-21498268c81e",
   "metadata": {},
   "outputs": [
    {
     "data": {
      "application/vnd.plotly.v1+json": {
       "config": {
        "plotlyServerURL": "https://plot.ly"
       },
       "data": [
        {
         "alignmentgroup": "True",
         "cliponaxis": false,
         "hovertemplate": "AffiliationCountry=%{x}<br>PMID=%{marker.color}<extra></extra>",
         "legendgroup": "",
         "marker": {
          "color": [
           100,
           96,
           32,
           22,
           22
          ],
          "coloraxis": "coloraxis",
          "pattern": {
           "shape": ""
          }
         },
         "name": "",
         "offsetgroup": "",
         "orientation": "v",
         "showlegend": false,
         "textangle": 0,
         "textfont": {
          "size": 20
         },
         "textposition": "outside",
         "texttemplate": "%{y:.2s}",
         "type": "bar",
         "x": [
          " China",
          " USA",
          " Germany",
          " Brazil",
          " India"
         ],
         "xaxis": "x",
         "y": [
          100,
          96,
          32,
          22,
          22
         ],
         "yaxis": "y"
        }
       ],
       "layout": {
        "autosize": true,
        "barmode": "relative",
        "coloraxis": {
         "colorbar": {
          "title": {
           "text": "PMID"
          }
         },
         "colorscale": [
          [
           0,
           "#0d0887"
          ],
          [
           0.1111111111111111,
           "#46039f"
          ],
          [
           0.2222222222222222,
           "#7201a8"
          ],
          [
           0.3333333333333333,
           "#9c179e"
          ],
          [
           0.4444444444444444,
           "#bd3786"
          ],
          [
           0.5555555555555556,
           "#d8576b"
          ],
          [
           0.6666666666666666,
           "#ed7953"
          ],
          [
           0.7777777777777778,
           "#fb9f3a"
          ],
          [
           0.8888888888888888,
           "#fdca26"
          ],
          [
           1,
           "#f0f921"
          ]
         ]
        },
        "legend": {
         "tracegroupgap": 0
        },
        "template": {
         "data": {
          "bar": [
           {
            "error_x": {
             "color": "#2a3f5f"
            },
            "error_y": {
             "color": "#2a3f5f"
            },
            "marker": {
             "line": {
              "color": "#E5ECF6",
              "width": 0.5
             },
             "pattern": {
              "fillmode": "overlay",
              "size": 10,
              "solidity": 0.2
             }
            },
            "type": "bar"
           }
          ],
          "barpolar": [
           {
            "marker": {
             "line": {
              "color": "#E5ECF6",
              "width": 0.5
             },
             "pattern": {
              "fillmode": "overlay",
              "size": 10,
              "solidity": 0.2
             }
            },
            "type": "barpolar"
           }
          ],
          "carpet": [
           {
            "aaxis": {
             "endlinecolor": "#2a3f5f",
             "gridcolor": "white",
             "linecolor": "white",
             "minorgridcolor": "white",
             "startlinecolor": "#2a3f5f"
            },
            "baxis": {
             "endlinecolor": "#2a3f5f",
             "gridcolor": "white",
             "linecolor": "white",
             "minorgridcolor": "white",
             "startlinecolor": "#2a3f5f"
            },
            "type": "carpet"
           }
          ],
          "choropleth": [
           {
            "colorbar": {
             "outlinewidth": 0,
             "ticks": ""
            },
            "type": "choropleth"
           }
          ],
          "contour": [
           {
            "colorbar": {
             "outlinewidth": 0,
             "ticks": ""
            },
            "colorscale": [
             [
              0,
              "#0d0887"
             ],
             [
              0.1111111111111111,
              "#46039f"
             ],
             [
              0.2222222222222222,
              "#7201a8"
             ],
             [
              0.3333333333333333,
              "#9c179e"
             ],
             [
              0.4444444444444444,
              "#bd3786"
             ],
             [
              0.5555555555555556,
              "#d8576b"
             ],
             [
              0.6666666666666666,
              "#ed7953"
             ],
             [
              0.7777777777777778,
              "#fb9f3a"
             ],
             [
              0.8888888888888888,
              "#fdca26"
             ],
             [
              1,
              "#f0f921"
             ]
            ],
            "type": "contour"
           }
          ],
          "contourcarpet": [
           {
            "colorbar": {
             "outlinewidth": 0,
             "ticks": ""
            },
            "type": "contourcarpet"
           }
          ],
          "heatmap": [
           {
            "colorbar": {
             "outlinewidth": 0,
             "ticks": ""
            },
            "colorscale": [
             [
              0,
              "#0d0887"
             ],
             [
              0.1111111111111111,
              "#46039f"
             ],
             [
              0.2222222222222222,
              "#7201a8"
             ],
             [
              0.3333333333333333,
              "#9c179e"
             ],
             [
              0.4444444444444444,
              "#bd3786"
             ],
             [
              0.5555555555555556,
              "#d8576b"
             ],
             [
              0.6666666666666666,
              "#ed7953"
             ],
             [
              0.7777777777777778,
              "#fb9f3a"
             ],
             [
              0.8888888888888888,
              "#fdca26"
             ],
             [
              1,
              "#f0f921"
             ]
            ],
            "type": "heatmap"
           }
          ],
          "heatmapgl": [
           {
            "colorbar": {
             "outlinewidth": 0,
             "ticks": ""
            },
            "colorscale": [
             [
              0,
              "#0d0887"
             ],
             [
              0.1111111111111111,
              "#46039f"
             ],
             [
              0.2222222222222222,
              "#7201a8"
             ],
             [
              0.3333333333333333,
              "#9c179e"
             ],
             [
              0.4444444444444444,
              "#bd3786"
             ],
             [
              0.5555555555555556,
              "#d8576b"
             ],
             [
              0.6666666666666666,
              "#ed7953"
             ],
             [
              0.7777777777777778,
              "#fb9f3a"
             ],
             [
              0.8888888888888888,
              "#fdca26"
             ],
             [
              1,
              "#f0f921"
             ]
            ],
            "type": "heatmapgl"
           }
          ],
          "histogram": [
           {
            "marker": {
             "pattern": {
              "fillmode": "overlay",
              "size": 10,
              "solidity": 0.2
             }
            },
            "type": "histogram"
           }
          ],
          "histogram2d": [
           {
            "colorbar": {
             "outlinewidth": 0,
             "ticks": ""
            },
            "colorscale": [
             [
              0,
              "#0d0887"
             ],
             [
              0.1111111111111111,
              "#46039f"
             ],
             [
              0.2222222222222222,
              "#7201a8"
             ],
             [
              0.3333333333333333,
              "#9c179e"
             ],
             [
              0.4444444444444444,
              "#bd3786"
             ],
             [
              0.5555555555555556,
              "#d8576b"
             ],
             [
              0.6666666666666666,
              "#ed7953"
             ],
             [
              0.7777777777777778,
              "#fb9f3a"
             ],
             [
              0.8888888888888888,
              "#fdca26"
             ],
             [
              1,
              "#f0f921"
             ]
            ],
            "type": "histogram2d"
           }
          ],
          "histogram2dcontour": [
           {
            "colorbar": {
             "outlinewidth": 0,
             "ticks": ""
            },
            "colorscale": [
             [
              0,
              "#0d0887"
             ],
             [
              0.1111111111111111,
              "#46039f"
             ],
             [
              0.2222222222222222,
              "#7201a8"
             ],
             [
              0.3333333333333333,
              "#9c179e"
             ],
             [
              0.4444444444444444,
              "#bd3786"
             ],
             [
              0.5555555555555556,
              "#d8576b"
             ],
             [
              0.6666666666666666,
              "#ed7953"
             ],
             [
              0.7777777777777778,
              "#fb9f3a"
             ],
             [
              0.8888888888888888,
              "#fdca26"
             ],
             [
              1,
              "#f0f921"
             ]
            ],
            "type": "histogram2dcontour"
           }
          ],
          "mesh3d": [
           {
            "colorbar": {
             "outlinewidth": 0,
             "ticks": ""
            },
            "type": "mesh3d"
           }
          ],
          "parcoords": [
           {
            "line": {
             "colorbar": {
              "outlinewidth": 0,
              "ticks": ""
             }
            },
            "type": "parcoords"
           }
          ],
          "pie": [
           {
            "automargin": true,
            "type": "pie"
           }
          ],
          "scatter": [
           {
            "fillpattern": {
             "fillmode": "overlay",
             "size": 10,
             "solidity": 0.2
            },
            "type": "scatter"
           }
          ],
          "scatter3d": [
           {
            "line": {
             "colorbar": {
              "outlinewidth": 0,
              "ticks": ""
             }
            },
            "marker": {
             "colorbar": {
              "outlinewidth": 0,
              "ticks": ""
             }
            },
            "type": "scatter3d"
           }
          ],
          "scattercarpet": [
           {
            "marker": {
             "colorbar": {
              "outlinewidth": 0,
              "ticks": ""
             }
            },
            "type": "scattercarpet"
           }
          ],
          "scattergeo": [
           {
            "marker": {
             "colorbar": {
              "outlinewidth": 0,
              "ticks": ""
             }
            },
            "type": "scattergeo"
           }
          ],
          "scattergl": [
           {
            "marker": {
             "colorbar": {
              "outlinewidth": 0,
              "ticks": ""
             }
            },
            "type": "scattergl"
           }
          ],
          "scattermapbox": [
           {
            "marker": {
             "colorbar": {
              "outlinewidth": 0,
              "ticks": ""
             }
            },
            "type": "scattermapbox"
           }
          ],
          "scatterpolar": [
           {
            "marker": {
             "colorbar": {
              "outlinewidth": 0,
              "ticks": ""
             }
            },
            "type": "scatterpolar"
           }
          ],
          "scatterpolargl": [
           {
            "marker": {
             "colorbar": {
              "outlinewidth": 0,
              "ticks": ""
             }
            },
            "type": "scatterpolargl"
           }
          ],
          "scatterternary": [
           {
            "marker": {
             "colorbar": {
              "outlinewidth": 0,
              "ticks": ""
             }
            },
            "type": "scatterternary"
           }
          ],
          "surface": [
           {
            "colorbar": {
             "outlinewidth": 0,
             "ticks": ""
            },
            "colorscale": [
             [
              0,
              "#0d0887"
             ],
             [
              0.1111111111111111,
              "#46039f"
             ],
             [
              0.2222222222222222,
              "#7201a8"
             ],
             [
              0.3333333333333333,
              "#9c179e"
             ],
             [
              0.4444444444444444,
              "#bd3786"
             ],
             [
              0.5555555555555556,
              "#d8576b"
             ],
             [
              0.6666666666666666,
              "#ed7953"
             ],
             [
              0.7777777777777778,
              "#fb9f3a"
             ],
             [
              0.8888888888888888,
              "#fdca26"
             ],
             [
              1,
              "#f0f921"
             ]
            ],
            "type": "surface"
           }
          ],
          "table": [
           {
            "cells": {
             "fill": {
              "color": "#EBF0F8"
             },
             "line": {
              "color": "white"
             }
            },
            "header": {
             "fill": {
              "color": "#C8D4E3"
             },
             "line": {
              "color": "white"
             }
            },
            "type": "table"
           }
          ]
         },
         "layout": {
          "annotationdefaults": {
           "arrowcolor": "#2a3f5f",
           "arrowhead": 0,
           "arrowwidth": 1
          },
          "autotypenumbers": "strict",
          "coloraxis": {
           "colorbar": {
            "outlinewidth": 0,
            "ticks": ""
           }
          },
          "colorscale": {
           "diverging": [
            [
             0,
             "#8e0152"
            ],
            [
             0.1,
             "#c51b7d"
            ],
            [
             0.2,
             "#de77ae"
            ],
            [
             0.3,
             "#f1b6da"
            ],
            [
             0.4,
             "#fde0ef"
            ],
            [
             0.5,
             "#f7f7f7"
            ],
            [
             0.6,
             "#e6f5d0"
            ],
            [
             0.7,
             "#b8e186"
            ],
            [
             0.8,
             "#7fbc41"
            ],
            [
             0.9,
             "#4d9221"
            ],
            [
             1,
             "#276419"
            ]
           ],
           "sequential": [
            [
             0,
             "#0d0887"
            ],
            [
             0.1111111111111111,
             "#46039f"
            ],
            [
             0.2222222222222222,
             "#7201a8"
            ],
            [
             0.3333333333333333,
             "#9c179e"
            ],
            [
             0.4444444444444444,
             "#bd3786"
            ],
            [
             0.5555555555555556,
             "#d8576b"
            ],
            [
             0.6666666666666666,
             "#ed7953"
            ],
            [
             0.7777777777777778,
             "#fb9f3a"
            ],
            [
             0.8888888888888888,
             "#fdca26"
            ],
            [
             1,
             "#f0f921"
            ]
           ],
           "sequentialminus": [
            [
             0,
             "#0d0887"
            ],
            [
             0.1111111111111111,
             "#46039f"
            ],
            [
             0.2222222222222222,
             "#7201a8"
            ],
            [
             0.3333333333333333,
             "#9c179e"
            ],
            [
             0.4444444444444444,
             "#bd3786"
            ],
            [
             0.5555555555555556,
             "#d8576b"
            ],
            [
             0.6666666666666666,
             "#ed7953"
            ],
            [
             0.7777777777777778,
             "#fb9f3a"
            ],
            [
             0.8888888888888888,
             "#fdca26"
            ],
            [
             1,
             "#f0f921"
            ]
           ]
          },
          "colorway": [
           "#636efa",
           "#EF553B",
           "#00cc96",
           "#ab63fa",
           "#FFA15A",
           "#19d3f3",
           "#FF6692",
           "#B6E880",
           "#FF97FF",
           "#FECB52"
          ],
          "font": {
           "color": "#2a3f5f"
          },
          "geo": {
           "bgcolor": "white",
           "lakecolor": "white",
           "landcolor": "#E5ECF6",
           "showlakes": true,
           "showland": true,
           "subunitcolor": "white"
          },
          "hoverlabel": {
           "align": "left"
          },
          "hovermode": "closest",
          "mapbox": {
           "style": "light"
          },
          "paper_bgcolor": "white",
          "plot_bgcolor": "#E5ECF6",
          "polar": {
           "angularaxis": {
            "gridcolor": "white",
            "linecolor": "white",
            "ticks": ""
           },
           "bgcolor": "#E5ECF6",
           "radialaxis": {
            "gridcolor": "white",
            "linecolor": "white",
            "ticks": ""
           }
          },
          "scene": {
           "xaxis": {
            "backgroundcolor": "#E5ECF6",
            "gridcolor": "white",
            "gridwidth": 2,
            "linecolor": "white",
            "showbackground": true,
            "ticks": "",
            "zerolinecolor": "white"
           },
           "yaxis": {
            "backgroundcolor": "#E5ECF6",
            "gridcolor": "white",
            "gridwidth": 2,
            "linecolor": "white",
            "showbackground": true,
            "ticks": "",
            "zerolinecolor": "white"
           },
           "zaxis": {
            "backgroundcolor": "#E5ECF6",
            "gridcolor": "white",
            "gridwidth": 2,
            "linecolor": "white",
            "showbackground": true,
            "ticks": "",
            "zerolinecolor": "white"
           }
          },
          "shapedefaults": {
           "line": {
            "color": "#2a3f5f"
           }
          },
          "ternary": {
           "aaxis": {
            "gridcolor": "white",
            "linecolor": "white",
            "ticks": ""
           },
           "baxis": {
            "gridcolor": "white",
            "linecolor": "white",
            "ticks": ""
           },
           "bgcolor": "#E5ECF6",
           "caxis": {
            "gridcolor": "white",
            "linecolor": "white",
            "ticks": ""
           }
          },
          "title": {
           "x": 0.05
          },
          "xaxis": {
           "automargin": true,
           "gridcolor": "white",
           "linecolor": "white",
           "ticks": "",
           "title": {
            "standoff": 15
           },
           "zerolinecolor": "white",
           "zerolinewidth": 2
          },
          "yaxis": {
           "automargin": true,
           "gridcolor": "white",
           "linecolor": "white",
           "ticks": "",
           "title": {
            "standoff": 15
           },
           "zerolinecolor": "white",
           "zerolinewidth": 2
          }
         }
        },
        "title": {
         "text": "Top 5 countries to publish more Biological target papers: "
        },
        "xaxis": {
         "anchor": "y",
         "autorange": true,
         "domain": [
          0,
          1
         ],
         "range": [
          -0.5,
          4.5
         ],
         "title": {
          "text": "AffiliationCountry"
         },
         "type": "category"
        },
        "yaxis": {
         "anchor": "x",
         "autorange": true,
         "domain": [
          0,
          1
         ],
         "range": [
          0,
          105.26315789473685
         ],
         "title": {
          "text": "PMID"
         },
         "type": "linear"
        }
       }
      },
      "image/png": "[encoded data removed]",
      "text/html": [
       "<div>                            <div id=\"df89b2e9-0106-4bda-a14d-87677044a750\" class=\"plotly-graph-div\" style=\"height:400px; width:100%;\"></div>            <script type=\"text/javascript\">                require([\"plotly\"], function(Plotly) {                    window.PLOTLYENV=window.PLOTLYENV || {};                                    if (document.getElementById(\"df89b2e9-0106-4bda-a14d-87677044a750\")) {                    Plotly.newPlot(                        \"df89b2e9-0106-4bda-a14d-87677044a750\",                        [{\"alignmentgroup\":\"True\",\"hovertemplate\":\"AffiliationCountry=%{x}\\u003cbr\\u003ePMID=%{marker.color}\\u003cextra\\u003e\\u003c\\u002fextra\\u003e\",\"legendgroup\":\"\",\"marker\":{\"color\":[100,96,32,22,22],\"coloraxis\":\"coloraxis\",\"pattern\":{\"shape\":\"\"}},\"name\":\"\",\"offsetgroup\":\"\",\"orientation\":\"v\",\"showlegend\":false,\"textposition\":\"outside\",\"texttemplate\":\"%{y:.2s}\",\"x\":[\" China\",\" USA\",\" Germany\",\" Brazil\",\" India\"],\"xaxis\":\"x\",\"y\":[100,96,32,22,22],\"yaxis\":\"y\",\"type\":\"bar\",\"textfont\":{\"size\":20},\"cliponaxis\":false,\"textangle\":0}],                        {\"template\":{\"data\":{\"histogram2dcontour\":[{\"type\":\"histogram2dcontour\",\"colorbar\":{\"outlinewidth\":0,\"ticks\":\"\"},\"colorscale\":[[0.0,\"#0d0887\"],[0.1111111111111111,\"#46039f\"],[0.2222222222222222,\"#7201a8\"],[0.3333333333333333,\"#9c179e\"],[0.4444444444444444,\"#bd3786\"],[0.5555555555555556,\"#d8576b\"],[0.6666666666666666,\"#ed7953\"],[0.7777777777777778,\"#fb9f3a\"],[0.8888888888888888,\"#fdca26\"],[1.0,\"#f0f921\"]]}],\"choropleth\":[{\"type\":\"choropleth\",\"colorbar\":{\"outlinewidth\":0,\"ticks\":\"\"}}],\"histogram2d\":[{\"type\":\"histogram2d\",\"colorbar\":{\"outlinewidth\":0,\"ticks\":\"\"},\"colorscale\":[[0.0,\"#0d0887\"],[0.1111111111111111,\"#46039f\"],[0.2222222222222222,\"#7201a8\"],[0.3333333333333333,\"#9c179e\"],[0.4444444444444444,\"#bd3786\"],[0.5555555555555556,\"#d8576b\"],[0.6666666666666666,\"#ed7953\"],[0.7777777777777778,\"#fb9f3a\"],[0.8888888888888888,\"#fdca26\"],[1.0,\"#f0f921\"]]}],\"heatmap\":[{\"type\":\"heatmap\",\"colorbar\":{\"outlinewidth\":0,\"ticks\":\"\"},\"colorscale\":[[0.0,\"#0d0887\"],[0.1111111111111111,\"#46039f\"],[0.2222222222222222,\"#7201a8\"],[0.3333333333333333,\"#9c179e\"],[0.4444444444444444,\"#bd3786\"],[0.5555555555555556,\"#d8576b\"],[0.6666666666666666,\"#ed7953\"],[0.7777777777777778,\"#fb9f3a\"],[0.8888888888888888,\"#fdca26\"],[1.0,\"#f0f921\"]]}],\"heatmapgl\":[{\"type\":\"heatmapgl\",\"colorbar\":{\"outlinewidth\":0,\"ticks\":\"\"},\"colorscale\":[[0.0,\"#0d0887\"],[0.1111111111111111,\"#46039f\"],[0.2222222222222222,\"#7201a8\"],[0.3333333333333333,\"#9c179e\"],[0.4444444444444444,\"#bd3786\"],[0.5555555555555556,\"#d8576b\"],[0.6666666666666666,\"#ed7953\"],[0.7777777777777778,\"#fb9f3a\"],[0.8888888888888888,\"#fdca26\"],[1.0,\"#f0f921\"]]}],\"contourcarpet\":[{\"type\":\"contourcarpet\",\"colorbar\":{\"outlinewidth\":0,\"ticks\":\"\"}}],\"contour\":[{\"type\":\"contour\",\"colorbar\":{\"outlinewidth\":0,\"ticks\":\"\"},\"colorscale\":[[0.0,\"#0d0887\"],[0.1111111111111111,\"#46039f\"],[0.2222222222222222,\"#7201a8\"],[0.3333333333333333,\"#9c179e\"],[0.4444444444444444,\"#bd3786\"],[0.5555555555555556,\"#d8576b\"],[0.6666666666666666,\"#ed7953\"],[0.7777777777777778,\"#fb9f3a\"],[0.8888888888888888,\"#fdca26\"],[1.0,\"#f0f921\"]]}],\"surface\":[{\"type\":\"surface\",\"colorbar\":{\"outlinewidth\":0,\"ticks\":\"\"},\"colorscale\":[[0.0,\"#0d0887\"],[0.1111111111111111,\"#46039f\"],[0.2222222222222222,\"#7201a8\"],[0.3333333333333333,\"#9c179e\"],[0.4444444444444444,\"#bd3786\"],[0.5555555555555556,\"#d8576b\"],[0.6666666666666666,\"#ed7953\"],[0.7777777777777778,\"#fb9f3a\"],[0.8888888888888888,\"#fdca26\"],[1.0,\"#f0f921\"]]}],\"mesh3d\":[{\"type\":\"mesh3d\",\"colorbar\":{\"outlinewidth\":0,\"ticks\":\"\"}}],\"scatter\":[{\"fillpattern\":{\"fillmode\":\"overlay\",\"size\":10,\"solidity\":0.2},\"type\":\"scatter\"}],\"parcoords\":[{\"type\":\"parcoords\",\"line\":{\"colorbar\":{\"outlinewidth\":0,\"ticks\":\"\"}}}],\"scatterpolargl\":[{\"type\":\"scatterpolargl\",\"marker\":{\"colorbar\":{\"outlinewidth\":0,\"ticks\":\"\"}}}],\"bar\":[{\"error_x\":{\"color\":\"#2a3f5f\"},\"error_y\":{\"color\":\"#2a3f5f\"},\"marker\":{\"line\":{\"color\":\"#E5ECF6\",\"width\":0.5},\"pattern\":{\"fillmode\":\"overlay\",\"size\":10,\"solidity\":0.2}},\"type\":\"bar\"}],\"scattergeo\":[{\"type\":\"scattergeo\",\"marker\":{\"colorbar\":{\"outlinewidth\":0,\"ticks\":\"\"}}}],\"scatterpolar\":[{\"type\":\"scatterpolar\",\"marker\":{\"colorbar\":{\"outlinewidth\":0,\"ticks\":\"\"}}}],\"histogram\":[{\"marker\":{\"pattern\":{\"fillmode\":\"overlay\",\"size\":10,\"solidity\":0.2}},\"type\":\"histogram\"}],\"scattergl\":[{\"type\":\"scattergl\",\"marker\":{\"colorbar\":{\"outlinewidth\":0,\"ticks\":\"\"}}}],\"scatter3d\":[{\"type\":\"scatter3d\",\"line\":{\"colorbar\":{\"outlinewidth\":0,\"ticks\":\"\"}},\"marker\":{\"colorbar\":{\"outlinewidth\":0,\"ticks\":\"\"}}}],\"scattermapbox\":[{\"type\":\"scattermapbox\",\"marker\":{\"colorbar\":{\"outlinewidth\":0,\"ticks\":\"\"}}}],\"scatterternary\":[{\"type\":\"scatterternary\",\"marker\":{\"colorbar\":{\"outlinewidth\":0,\"ticks\":\"\"}}}],\"scattercarpet\":[{\"type\":\"scattercarpet\",\"marker\":{\"colorbar\":{\"outlinewidth\":0,\"ticks\":\"\"}}}],\"carpet\":[{\"aaxis\":{\"endlinecolor\":\"#2a3f5f\",\"gridcolor\":\"white\",\"linecolor\":\"white\",\"minorgridcolor\":\"white\",\"startlinecolor\":\"#2a3f5f\"},\"baxis\":{\"endlinecolor\":\"#2a3f5f\",\"gridcolor\":\"white\",\"linecolor\":\"white\",\"minorgridcolor\":\"white\",\"startlinecolor\":\"#2a3f5f\"},\"type\":\"carpet\"}],\"table\":[{\"cells\":{\"fill\":{\"color\":\"#EBF0F8\"},\"line\":{\"color\":\"white\"}},\"header\":{\"fill\":{\"color\":\"#C8D4E3\"},\"line\":{\"color\":\"white\"}},\"type\":\"table\"}],\"barpolar\":[{\"marker\":{\"line\":{\"color\":\"#E5ECF6\",\"width\":0.5},\"pattern\":{\"fillmode\":\"overlay\",\"size\":10,\"solidity\":0.2}},\"type\":\"barpolar\"}],\"pie\":[{\"automargin\":true,\"type\":\"pie\"}]},\"layout\":{\"autotypenumbers\":\"strict\",\"colorway\":[\"#636efa\",\"#EF553B\",\"#00cc96\",\"#ab63fa\",\"#FFA15A\",\"#19d3f3\",\"#FF6692\",\"#B6E880\",\"#FF97FF\",\"#FECB52\"],\"font\":{\"color\":\"#2a3f5f\"},\"hovermode\":\"closest\",\"hoverlabel\":{\"align\":\"left\"},\"paper_bgcolor\":\"white\",\"plot_bgcolor\":\"#E5ECF6\",\"polar\":{\"bgcolor\":\"#E5ECF6\",\"angularaxis\":{\"gridcolor\":\"white\",\"linecolor\":\"white\",\"ticks\":\"\"},\"radialaxis\":{\"gridcolor\":\"white\",\"linecolor\":\"white\",\"ticks\":\"\"}},\"ternary\":{\"bgcolor\":\"#E5ECF6\",\"aaxis\":{\"gridcolor\":\"white\",\"linecolor\":\"white\",\"ticks\":\"\"},\"baxis\":{\"gridcolor\":\"white\",\"linecolor\":\"white\",\"ticks\":\"\"},\"caxis\":{\"gridcolor\":\"white\",\"linecolor\":\"white\",\"ticks\":\"\"}},\"coloraxis\":{\"colorbar\":{\"outlinewidth\":0,\"ticks\":\"\"}},\"colorscale\":{\"sequential\":[[0.0,\"#0d0887\"],[0.1111111111111111,\"#46039f\"],[0.2222222222222222,\"#7201a8\"],[0.3333333333333333,\"#9c179e\"],[0.4444444444444444,\"#bd3786\"],[0.5555555555555556,\"#d8576b\"],[0.6666666666666666,\"#ed7953\"],[0.7777777777777778,\"#fb9f3a\"],[0.8888888888888888,\"#fdca26\"],[1.0,\"#f0f921\"]],\"sequentialminus\":[[0.0,\"#0d0887\"],[0.1111111111111111,\"#46039f\"],[0.2222222222222222,\"#7201a8\"],[0.3333333333333333,\"#9c179e\"],[0.4444444444444444,\"#bd3786\"],[0.5555555555555556,\"#d8576b\"],[0.6666666666666666,\"#ed7953\"],[0.7777777777777778,\"#fb9f3a\"],[0.8888888888888888,\"#fdca26\"],[1.0,\"#f0f921\"]],\"diverging\":[[0,\"#8e0152\"],[0.1,\"#c51b7d\"],[0.2,\"#de77ae\"],[0.3,\"#f1b6da\"],[0.4,\"#fde0ef\"],[0.5,\"#f7f7f7\"],[0.6,\"#e6f5d0\"],[0.7,\"#b8e186\"],[0.8,\"#7fbc41\"],[0.9,\"#4d9221\"],[1,\"#276419\"]]},\"xaxis\":{\"gridcolor\":\"white\",\"linecolor\":\"white\",\"ticks\":\"\",\"title\":{\"standoff\":15},\"zerolinecolor\":\"white\",\"automargin\":true,\"zerolinewidth\":2},\"yaxis\":{\"gridcolor\":\"white\",\"linecolor\":\"white\",\"ticks\":\"\",\"title\":{\"standoff\":15},\"zerolinecolor\":\"white\",\"automargin\":true,\"zerolinewidth\":2},\"scene\":{\"xaxis\":{\"backgroundcolor\":\"#E5ECF6\",\"gridcolor\":\"white\",\"linecolor\":\"white\",\"showbackground\":true,\"ticks\":\"\",\"zerolinecolor\":\"white\",\"gridwidth\":2},\"yaxis\":{\"backgroundcolor\":\"#E5ECF6\",\"gridcolor\":\"white\",\"linecolor\":\"white\",\"showbackground\":true,\"ticks\":\"\",\"zerolinecolor\":\"white\",\"gridwidth\":2},\"zaxis\":{\"backgroundcolor\":\"#E5ECF6\",\"gridcolor\":\"white\",\"linecolor\":\"white\",\"showbackground\":true,\"ticks\":\"\",\"zerolinecolor\":\"white\",\"gridwidth\":2}},\"shapedefaults\":{\"line\":{\"color\":\"#2a3f5f\"}},\"annotationdefaults\":{\"arrowcolor\":\"#2a3f5f\",\"arrowhead\":0,\"arrowwidth\":1},\"geo\":{\"bgcolor\":\"white\",\"landcolor\":\"#E5ECF6\",\"subunitcolor\":\"white\",\"showland\":true,\"showlakes\":true,\"lakecolor\":\"white\"},\"title\":{\"x\":0.05},\"mapbox\":{\"style\":\"light\"}}},\"xaxis\":{\"anchor\":\"y\",\"domain\":[0.0,1.0],\"title\":{\"text\":\"AffiliationCountry\"}},\"yaxis\":{\"anchor\":\"x\",\"domain\":[0.0,1.0],\"title\":{\"text\":\"PMID\"}},\"coloraxis\":{\"colorbar\":{\"title\":{\"text\":\"PMID\"}},\"colorscale\":[[0.0,\"#0d0887\"],[0.1111111111111111,\"#46039f\"],[0.2222222222222222,\"#7201a8\"],[0.3333333333333333,\"#9c179e\"],[0.4444444444444444,\"#bd3786\"],[0.5555555555555556,\"#d8576b\"],[0.6666666666666666,\"#ed7953\"],[0.7777777777777778,\"#fb9f3a\"],[0.8888888888888888,\"#fdca26\"],[1.0,\"#f0f921\"]]},\"legend\":{\"tracegroupgap\":0},\"title\":{\"text\":\"Top 5 countries to publish more Biological target papers: \"},\"barmode\":\"relative\",\"height\":400},                        {\"responsive\": true}                    ).then(function(){\n",
       "                            \n",
       "var gd = document.getElementById('df89b2e9-0106-4bda-a14d-87677044a750');\n",
       "var x = new MutationObserver(function (mutations, observer) {{\n",
       "        var display = window.getComputedStyle(gd).display;\n",
       "        if (!display || display === 'none') {{\n",
       "            console.log([gd, 'removed!']);\n",
       "            Plotly.purge(gd);\n",
       "            observer.disconnect();\n",
       "        }}\n",
       "}});\n",
       "\n",
       "// Listen for the removal of the full notebook cells\n",
       "var notebookContainer = gd.closest('#notebook-container');\n",
       "if (notebookContainer) {{\n",
       "    x.observe(notebookContainer, {childList: true});\n",
       "}}\n",
       "\n",
       "// Listen for the clearing of the current output cell\n",
       "var outputEl = gd.closest('.output');\n",
       "if (outputEl) {{\n",
       "    x.observe(outputEl, {childList: true});\n",
       "}}\n",
       "\n",
       "                        })                };                });            </script>        </div>"
      ]
     },
     "metadata": {},
     "output_type": "display_data"
    }
   ],
   "source": [
    "\n",
    "# Making a bar chart for Top 5 contributing countries\n",
    "fig = px.bar(inst_11, x='AffiliationCountry', y='PMID', labels={'Count':'Total No. of publications'}, height=400, title = \"Top 5 countries to publish more Biological target papers: \", text_auto='.2s', color = 'PMID')\n",
    "fig.update_traces(textfont_size=20, textangle=0, textposition=\"outside\", cliponaxis=False)\n",
    "fig.show()"
   ]
  },
  {
   "cell_type": "markdown",
   "id": "31472930-613b-4879-92b0-623a438d1ad4",
   "metadata": {},
   "source": [
    "### Count of Number of papers published by PubMed and count of Biological target papers publications by PubMed"
   ]
  },
  {
   "cell_type": "code",
   "execution_count": 290,
   "id": "1d67ba2e-01e5-40b8-8237-83651fbedc8b",
   "metadata": {},
   "outputs": [
    {
     "data": {
      "text/html": [
       "<div>\n",
       "<style scoped>\n",
       "    .dataframe tbody tr th:only-of-type {\n",
       "        vertical-align: middle;\n",
       "    }\n",
       "\n",
       "    .dataframe tbody tr th {\n",
       "        vertical-align: top;\n",
       "    }\n",
       "\n",
       "    .dataframe thead th {\n",
       "        text-align: right;\n",
       "    }\n",
       "</style>\n",
       "<table border=\"1\" class=\"dataframe\">\n",
       "  <thead>\n",
       "    <tr style=\"text-align: right;\">\n",
       "      <th></th>\n",
       "      <th>Year</th>\n",
       "      <th>PMID</th>\n",
       "    </tr>\n",
       "  </thead>\n",
       "  <tbody>\n",
       "    <tr>\n",
       "      <th>0</th>\n",
       "      <td>1999</td>\n",
       "      <td>10575721</td>\n",
       "    </tr>\n",
       "    <tr>\n",
       "      <th>1</th>\n",
       "      <td>1999</td>\n",
       "      <td>10617805</td>\n",
       "    </tr>\n",
       "    <tr>\n",
       "      <th>2</th>\n",
       "      <td>2000</td>\n",
       "      <td>10656443</td>\n",
       "    </tr>\n",
       "    <tr>\n",
       "      <th>3</th>\n",
       "      <td>2000</td>\n",
       "      <td>10790290</td>\n",
       "    </tr>\n",
       "    <tr>\n",
       "      <th>4</th>\n",
       "      <td>2000</td>\n",
       "      <td>10793017</td>\n",
       "    </tr>\n",
       "    <tr>\n",
       "      <th>...</th>\n",
       "      <td>...</td>\n",
       "      <td>...</td>\n",
       "    </tr>\n",
       "    <tr>\n",
       "      <th>659</th>\n",
       "      <td>2023</td>\n",
       "      <td>37874452</td>\n",
       "    </tr>\n",
       "    <tr>\n",
       "      <th>660</th>\n",
       "      <td>2023</td>\n",
       "      <td>37889281</td>\n",
       "    </tr>\n",
       "    <tr>\n",
       "      <th>661</th>\n",
       "      <td>2023</td>\n",
       "      <td>37972698</td>\n",
       "    </tr>\n",
       "    <tr>\n",
       "      <th>662</th>\n",
       "      <td>2023</td>\n",
       "      <td>38048169</td>\n",
       "    </tr>\n",
       "    <tr>\n",
       "      <th>664</th>\n",
       "      <td>2023</td>\n",
       "      <td>38092161</td>\n",
       "    </tr>\n",
       "  </tbody>\n",
       "</table>\n",
       "<p>659 rows × 2 columns</p>\n",
       "</div>"
      ],
      "text/plain": [
       "     Year      PMID\n",
       "0    1999  10575721\n",
       "1    1999  10617805\n",
       "2    2000  10656443\n",
       "3    2000  10790290\n",
       "4    2000  10793017\n",
       "..    ...       ...\n",
       "659  2023  37874452\n",
       "660  2023  37889281\n",
       "661  2023  37972698\n",
       "662  2023  38048169\n",
       "664  2023  38092161\n",
       "\n",
       "[659 rows x 2 columns]"
      ]
     },
     "metadata": {},
     "output_type": "display_data"
    }
   ],
   "source": [
    "proportion = inst_2[[\"Year\",\"PMID\"]] # taking a two columns from main dataset\n",
    "\n",
    "display(proportion)"
   ]
  },
  {
   "cell_type": "code",
   "execution_count": 291,
   "id": "10764461-05ea-401a-afeb-ae775f1f7457",
   "metadata": {},
   "outputs": [
    {
     "data": {
      "text/html": [
       "<div>\n",
       "<style scoped>\n",
       "    .dataframe tbody tr th:only-of-type {\n",
       "        vertical-align: middle;\n",
       "    }\n",
       "\n",
       "    .dataframe tbody tr th {\n",
       "        vertical-align: top;\n",
       "    }\n",
       "\n",
       "    .dataframe thead th {\n",
       "        text-align: right;\n",
       "    }\n",
       "</style>\n",
       "<table border=\"1\" class=\"dataframe\">\n",
       "  <thead>\n",
       "    <tr style=\"text-align: right;\">\n",
       "      <th></th>\n",
       "      <th>Year</th>\n",
       "      <th>PMID</th>\n",
       "    </tr>\n",
       "  </thead>\n",
       "  <tbody>\n",
       "    <tr>\n",
       "      <th>0</th>\n",
       "      <td>1997</td>\n",
       "      <td>2</td>\n",
       "    </tr>\n",
       "    <tr>\n",
       "      <th>1</th>\n",
       "      <td>1998</td>\n",
       "      <td>1</td>\n",
       "    </tr>\n",
       "    <tr>\n",
       "      <th>2</th>\n",
       "      <td>1999</td>\n",
       "      <td>3</td>\n",
       "    </tr>\n",
       "    <tr>\n",
       "      <th>3</th>\n",
       "      <td>2000</td>\n",
       "      <td>5</td>\n",
       "    </tr>\n",
       "    <tr>\n",
       "      <th>4</th>\n",
       "      <td>2001</td>\n",
       "      <td>2</td>\n",
       "    </tr>\n",
       "    <tr>\n",
       "      <th>5</th>\n",
       "      <td>2002</td>\n",
       "      <td>9</td>\n",
       "    </tr>\n",
       "    <tr>\n",
       "      <th>6</th>\n",
       "      <td>2003</td>\n",
       "      <td>4</td>\n",
       "    </tr>\n",
       "    <tr>\n",
       "      <th>7</th>\n",
       "      <td>2004</td>\n",
       "      <td>8</td>\n",
       "    </tr>\n",
       "    <tr>\n",
       "      <th>8</th>\n",
       "      <td>2005</td>\n",
       "      <td>5</td>\n",
       "    </tr>\n",
       "    <tr>\n",
       "      <th>9</th>\n",
       "      <td>2006</td>\n",
       "      <td>11</td>\n",
       "    </tr>\n",
       "    <tr>\n",
       "      <th>10</th>\n",
       "      <td>2007</td>\n",
       "      <td>12</td>\n",
       "    </tr>\n",
       "    <tr>\n",
       "      <th>11</th>\n",
       "      <td>2008</td>\n",
       "      <td>15</td>\n",
       "    </tr>\n",
       "    <tr>\n",
       "      <th>12</th>\n",
       "      <td>2009</td>\n",
       "      <td>18</td>\n",
       "    </tr>\n",
       "    <tr>\n",
       "      <th>13</th>\n",
       "      <td>2010</td>\n",
       "      <td>12</td>\n",
       "    </tr>\n",
       "    <tr>\n",
       "      <th>14</th>\n",
       "      <td>2011</td>\n",
       "      <td>28</td>\n",
       "    </tr>\n",
       "    <tr>\n",
       "      <th>15</th>\n",
       "      <td>2012</td>\n",
       "      <td>25</td>\n",
       "    </tr>\n",
       "    <tr>\n",
       "      <th>16</th>\n",
       "      <td>2013</td>\n",
       "      <td>37</td>\n",
       "    </tr>\n",
       "    <tr>\n",
       "      <th>17</th>\n",
       "      <td>2014</td>\n",
       "      <td>42</td>\n",
       "    </tr>\n",
       "    <tr>\n",
       "      <th>18</th>\n",
       "      <td>2015</td>\n",
       "      <td>47</td>\n",
       "    </tr>\n",
       "    <tr>\n",
       "      <th>19</th>\n",
       "      <td>2016</td>\n",
       "      <td>43</td>\n",
       "    </tr>\n",
       "    <tr>\n",
       "      <th>20</th>\n",
       "      <td>2017</td>\n",
       "      <td>36</td>\n",
       "    </tr>\n",
       "    <tr>\n",
       "      <th>21</th>\n",
       "      <td>2018</td>\n",
       "      <td>38</td>\n",
       "    </tr>\n",
       "    <tr>\n",
       "      <th>22</th>\n",
       "      <td>2019</td>\n",
       "      <td>45</td>\n",
       "    </tr>\n",
       "    <tr>\n",
       "      <th>23</th>\n",
       "      <td>2020</td>\n",
       "      <td>36</td>\n",
       "    </tr>\n",
       "    <tr>\n",
       "      <th>24</th>\n",
       "      <td>2021</td>\n",
       "      <td>53</td>\n",
       "    </tr>\n",
       "    <tr>\n",
       "      <th>25</th>\n",
       "      <td>2022</td>\n",
       "      <td>63</td>\n",
       "    </tr>\n",
       "    <tr>\n",
       "      <th>26</th>\n",
       "      <td>2023</td>\n",
       "      <td>59</td>\n",
       "    </tr>\n",
       "  </tbody>\n",
       "</table>\n",
       "</div>"
      ],
      "text/plain": [
       "    Year  PMID\n",
       "0   1997     2\n",
       "1   1998     1\n",
       "2   1999     3\n",
       "3   2000     5\n",
       "4   2001     2\n",
       "5   2002     9\n",
       "6   2003     4\n",
       "7   2004     8\n",
       "8   2005     5\n",
       "9   2006    11\n",
       "10  2007    12\n",
       "11  2008    15\n",
       "12  2009    18\n",
       "13  2010    12\n",
       "14  2011    28\n",
       "15  2012    25\n",
       "16  2013    37\n",
       "17  2014    42\n",
       "18  2015    47\n",
       "19  2016    43\n",
       "20  2017    36\n",
       "21  2018    38\n",
       "22  2019    45\n",
       "23  2020    36\n",
       "24  2021    53\n",
       "25  2022    63\n",
       "26  2023    59"
      ]
     },
     "metadata": {},
     "output_type": "display_data"
    }
   ],
   "source": [
    "proportion1 = proportion.groupby([\"Year\"]).count().reset_index() # Groupby by year\n",
    "\n",
    "display(proportion1)"
   ]
  },
  {
   "cell_type": "code",
   "execution_count": 292,
   "id": "9dbfc385-0a7f-4a67-85a0-59f7e5b9db9e",
   "metadata": {},
   "outputs": [
    {
     "data": {
      "text/html": [
       "<div>\n",
       "<style scoped>\n",
       "    .dataframe tbody tr th:only-of-type {\n",
       "        vertical-align: middle;\n",
       "    }\n",
       "\n",
       "    .dataframe tbody tr th {\n",
       "        vertical-align: top;\n",
       "    }\n",
       "\n",
       "    .dataframe thead th {\n",
       "        text-align: right;\n",
       "    }\n",
       "</style>\n",
       "<table border=\"1\" class=\"dataframe\">\n",
       "  <thead>\n",
       "    <tr style=\"text-align: right;\">\n",
       "      <th></th>\n",
       "      <th>Year</th>\n",
       "      <th>Count</th>\n",
       "    </tr>\n",
       "  </thead>\n",
       "  <tbody>\n",
       "    <tr>\n",
       "      <th>0</th>\n",
       "      <td>1799</td>\n",
       "      <td>1</td>\n",
       "    </tr>\n",
       "    <tr>\n",
       "      <th>1</th>\n",
       "      <td>1801</td>\n",
       "      <td>1</td>\n",
       "    </tr>\n",
       "    <tr>\n",
       "      <th>2</th>\n",
       "      <td>1802</td>\n",
       "      <td>1</td>\n",
       "    </tr>\n",
       "    <tr>\n",
       "      <th>3</th>\n",
       "      <td>1805</td>\n",
       "      <td>1</td>\n",
       "    </tr>\n",
       "    <tr>\n",
       "      <th>4</th>\n",
       "      <td>1866</td>\n",
       "      <td>1</td>\n",
       "    </tr>\n",
       "    <tr>\n",
       "      <th>...</th>\n",
       "      <td>...</td>\n",
       "      <td>...</td>\n",
       "    </tr>\n",
       "    <tr>\n",
       "      <th>138</th>\n",
       "      <td>2020</td>\n",
       "      <td>1132241</td>\n",
       "    </tr>\n",
       "    <tr>\n",
       "      <th>139</th>\n",
       "      <td>2021</td>\n",
       "      <td>1277048</td>\n",
       "    </tr>\n",
       "    <tr>\n",
       "      <th>140</th>\n",
       "      <td>2022</td>\n",
       "      <td>1324650</td>\n",
       "    </tr>\n",
       "    <tr>\n",
       "      <th>141</th>\n",
       "      <td>2023</td>\n",
       "      <td>1302390</td>\n",
       "    </tr>\n",
       "    <tr>\n",
       "      <th>142</th>\n",
       "      <td>2024</td>\n",
       "      <td>15611</td>\n",
       "    </tr>\n",
       "  </tbody>\n",
       "</table>\n",
       "<p>143 rows × 2 columns</p>\n",
       "</div>"
      ],
      "text/plain": [
       "     Year    Count\n",
       "0    1799        1\n",
       "1    1801        1\n",
       "2    1802        1\n",
       "3    1805        1\n",
       "4    1866        1\n",
       "..    ...      ...\n",
       "138  2020  1132241\n",
       "139  2021  1277048\n",
       "140  2022  1324650\n",
       "141  2023  1302390\n",
       "142  2024    15611\n",
       "\n",
       "[143 rows x 2 columns]"
      ]
     },
     "metadata": {},
     "output_type": "display_data"
    }
   ],
   "source": [
    "proportion2 = pap_counts_df # Again adding a columns from the main dataset to the variable\n",
    "\n",
    "display(proportion2)"
   ]
  },
  {
   "cell_type": "code",
   "execution_count": 293,
   "id": "84e86a5c-53cb-4129-88c5-1cdd2e07a220",
   "metadata": {},
   "outputs": [
    {
     "data": {
      "text/html": [
       "<div>\n",
       "<style scoped>\n",
       "    .dataframe tbody tr th:only-of-type {\n",
       "        vertical-align: middle;\n",
       "    }\n",
       "\n",
       "    .dataframe tbody tr th {\n",
       "        vertical-align: top;\n",
       "    }\n",
       "\n",
       "    .dataframe thead th {\n",
       "        text-align: right;\n",
       "    }\n",
       "</style>\n",
       "<table border=\"1\" class=\"dataframe\">\n",
       "  <thead>\n",
       "    <tr style=\"text-align: right;\">\n",
       "      <th></th>\n",
       "      <th>Year</th>\n",
       "      <th>Count</th>\n",
       "    </tr>\n",
       "  </thead>\n",
       "  <tbody>\n",
       "    <tr>\n",
       "      <th>115</th>\n",
       "      <td>1997</td>\n",
       "      <td>313743</td>\n",
       "    </tr>\n",
       "    <tr>\n",
       "      <th>116</th>\n",
       "      <td>1998</td>\n",
       "      <td>329438</td>\n",
       "    </tr>\n",
       "    <tr>\n",
       "      <th>117</th>\n",
       "      <td>1999</td>\n",
       "      <td>340740</td>\n",
       "    </tr>\n",
       "    <tr>\n",
       "      <th>118</th>\n",
       "      <td>2000</td>\n",
       "      <td>373439</td>\n",
       "    </tr>\n",
       "    <tr>\n",
       "      <th>119</th>\n",
       "      <td>2001</td>\n",
       "      <td>388963</td>\n",
       "    </tr>\n",
       "    <tr>\n",
       "      <th>120</th>\n",
       "      <td>2002</td>\n",
       "      <td>405519</td>\n",
       "    </tr>\n",
       "    <tr>\n",
       "      <th>121</th>\n",
       "      <td>2003</td>\n",
       "      <td>426752</td>\n",
       "    </tr>\n",
       "    <tr>\n",
       "      <th>122</th>\n",
       "      <td>2004</td>\n",
       "      <td>459362</td>\n",
       "    </tr>\n",
       "    <tr>\n",
       "      <th>123</th>\n",
       "      <td>2005</td>\n",
       "      <td>492511</td>\n",
       "    </tr>\n",
       "    <tr>\n",
       "      <th>124</th>\n",
       "      <td>2006</td>\n",
       "      <td>521278</td>\n",
       "    </tr>\n",
       "    <tr>\n",
       "      <th>125</th>\n",
       "      <td>2007</td>\n",
       "      <td>548061</td>\n",
       "    </tr>\n",
       "    <tr>\n",
       "      <th>126</th>\n",
       "      <td>2008</td>\n",
       "      <td>585286</td>\n",
       "    </tr>\n",
       "    <tr>\n",
       "      <th>127</th>\n",
       "      <td>2009</td>\n",
       "      <td>618504</td>\n",
       "    </tr>\n",
       "    <tr>\n",
       "      <th>128</th>\n",
       "      <td>2010</td>\n",
       "      <td>653739</td>\n",
       "    </tr>\n",
       "    <tr>\n",
       "      <th>129</th>\n",
       "      <td>2011</td>\n",
       "      <td>702139</td>\n",
       "    </tr>\n",
       "    <tr>\n",
       "      <th>130</th>\n",
       "      <td>2012</td>\n",
       "      <td>765156</td>\n",
       "    </tr>\n",
       "    <tr>\n",
       "      <th>131</th>\n",
       "      <td>2013</td>\n",
       "      <td>809074</td>\n",
       "    </tr>\n",
       "    <tr>\n",
       "      <th>132</th>\n",
       "      <td>2014</td>\n",
       "      <td>850568</td>\n",
       "    </tr>\n",
       "    <tr>\n",
       "      <th>133</th>\n",
       "      <td>2015</td>\n",
       "      <td>876117</td>\n",
       "    </tr>\n",
       "    <tr>\n",
       "      <th>134</th>\n",
       "      <td>2016</td>\n",
       "      <td>896208</td>\n",
       "    </tr>\n",
       "    <tr>\n",
       "      <th>135</th>\n",
       "      <td>2017</td>\n",
       "      <td>907250</td>\n",
       "    </tr>\n",
       "    <tr>\n",
       "      <th>136</th>\n",
       "      <td>2018</td>\n",
       "      <td>959228</td>\n",
       "    </tr>\n",
       "    <tr>\n",
       "      <th>137</th>\n",
       "      <td>2019</td>\n",
       "      <td>999175</td>\n",
       "    </tr>\n",
       "    <tr>\n",
       "      <th>138</th>\n",
       "      <td>2020</td>\n",
       "      <td>1132241</td>\n",
       "    </tr>\n",
       "    <tr>\n",
       "      <th>139</th>\n",
       "      <td>2021</td>\n",
       "      <td>1277048</td>\n",
       "    </tr>\n",
       "    <tr>\n",
       "      <th>140</th>\n",
       "      <td>2022</td>\n",
       "      <td>1324650</td>\n",
       "    </tr>\n",
       "    <tr>\n",
       "      <th>141</th>\n",
       "      <td>2023</td>\n",
       "      <td>1302390</td>\n",
       "    </tr>\n",
       "  </tbody>\n",
       "</table>\n",
       "</div>"
      ],
      "text/plain": [
       "     Year    Count\n",
       "115  1997   313743\n",
       "116  1998   329438\n",
       "117  1999   340740\n",
       "118  2000   373439\n",
       "119  2001   388963\n",
       "120  2002   405519\n",
       "121  2003   426752\n",
       "122  2004   459362\n",
       "123  2005   492511\n",
       "124  2006   521278\n",
       "125  2007   548061\n",
       "126  2008   585286\n",
       "127  2009   618504\n",
       "128  2010   653739\n",
       "129  2011   702139\n",
       "130  2012   765156\n",
       "131  2013   809074\n",
       "132  2014   850568\n",
       "133  2015   876117\n",
       "134  2016   896208\n",
       "135  2017   907250\n",
       "136  2018   959228\n",
       "137  2019   999175\n",
       "138  2020  1132241\n",
       "139  2021  1277048\n",
       "140  2022  1324650\n",
       "141  2023  1302390"
      ]
     },
     "metadata": {},
     "output_type": "display_data"
    }
   ],
   "source": [
    "proportion3 = proportion2.iloc[115:142,:] # By indexing finding the data from 1997-2023\n",
    "\n",
    "display(proportion3)"
   ]
  },
  {
   "cell_type": "code",
   "execution_count": 294,
   "id": "3ae7d5f9-344a-42b7-826b-49f963b67fd2",
   "metadata": {},
   "outputs": [
    {
     "data": {
      "application/vnd.plotly.v1+json": {
       "config": {
        "plotlyServerURL": "https://plot.ly"
       },
       "data": [
        {
         "alignmentgroup": "True",
         "cliponaxis": false,
         "hovertemplate": "Year=%{x}<br>Total No. of publications=%{marker.color}<extra></extra>",
         "legendgroup": "",
         "marker": {
          "color": [
           313743,
           329438,
           340740,
           373439,
           388963,
           405519,
           426752,
           459362,
           492511,
           521278,
           548061,
           585286,
           618504,
           653739,
           702139,
           765156,
           809074,
           850568,
           876117,
           896208,
           907250,
           959228,
           999175,
           1132241,
           1277048,
           1324650,
           1302390
          ],
          "coloraxis": "coloraxis",
          "pattern": {
           "shape": ""
          }
         },
         "name": "",
         "offsetgroup": "",
         "orientation": "v",
         "showlegend": false,
         "textangle": 0,
         "textfont": {
          "size": 20
         },
         "textposition": "outside",
         "texttemplate": "%{y:.2s}",
         "type": "bar",
         "x": [
          1997,
          1998,
          1999,
          2000,
          2001,
          2002,
          2003,
          2004,
          2005,
          2006,
          2007,
          2008,
          2009,
          2010,
          2011,
          2012,
          2013,
          2014,
          2015,
          2016,
          2017,
          2018,
          2019,
          2020,
          2021,
          2022,
          2023
         ],
         "xaxis": "x",
         "y": [
          313743,
          329438,
          340740,
          373439,
          388963,
          405519,
          426752,
          459362,
          492511,
          521278,
          548061,
          585286,
          618504,
          653739,
          702139,
          765156,
          809074,
          850568,
          876117,
          896208,
          907250,
          959228,
          999175,
          1132241,
          1277048,
          1324650,
          1302390
         ],
         "yaxis": "y"
        }
       ],
       "layout": {
        "autosize": true,
        "barmode": "relative",
        "coloraxis": {
         "colorbar": {
          "title": {
           "text": "Total No. of publications"
          }
         },
         "colorscale": [
          [
           0,
           "#0d0887"
          ],
          [
           0.1111111111111111,
           "#46039f"
          ],
          [
           0.2222222222222222,
           "#7201a8"
          ],
          [
           0.3333333333333333,
           "#9c179e"
          ],
          [
           0.4444444444444444,
           "#bd3786"
          ],
          [
           0.5555555555555556,
           "#d8576b"
          ],
          [
           0.6666666666666666,
           "#ed7953"
          ],
          [
           0.7777777777777778,
           "#fb9f3a"
          ],
          [
           0.8888888888888888,
           "#fdca26"
          ],
          [
           1,
           "#f0f921"
          ]
         ]
        },
        "legend": {
         "tracegroupgap": 0
        },
        "template": {
         "data": {
          "bar": [
           {
            "error_x": {
             "color": "#2a3f5f"
            },
            "error_y": {
             "color": "#2a3f5f"
            },
            "marker": {
             "line": {
              "color": "#E5ECF6",
              "width": 0.5
             },
             "pattern": {
              "fillmode": "overlay",
              "size": 10,
              "solidity": 0.2
             }
            },
            "type": "bar"
           }
          ],
          "barpolar": [
           {
            "marker": {
             "line": {
              "color": "#E5ECF6",
              "width": 0.5
             },
             "pattern": {
              "fillmode": "overlay",
              "size": 10,
              "solidity": 0.2
             }
            },
            "type": "barpolar"
           }
          ],
          "carpet": [
           {
            "aaxis": {
             "endlinecolor": "#2a3f5f",
             "gridcolor": "white",
             "linecolor": "white",
             "minorgridcolor": "white",
             "startlinecolor": "#2a3f5f"
            },
            "baxis": {
             "endlinecolor": "#2a3f5f",
             "gridcolor": "white",
             "linecolor": "white",
             "minorgridcolor": "white",
             "startlinecolor": "#2a3f5f"
            },
            "type": "carpet"
           }
          ],
          "choropleth": [
           {
            "colorbar": {
             "outlinewidth": 0,
             "ticks": ""
            },
            "type": "choropleth"
           }
          ],
          "contour": [
           {
            "colorbar": {
             "outlinewidth": 0,
             "ticks": ""
            },
            "colorscale": [
             [
              0,
              "#0d0887"
             ],
             [
              0.1111111111111111,
              "#46039f"
             ],
             [
              0.2222222222222222,
              "#7201a8"
             ],
             [
              0.3333333333333333,
              "#9c179e"
             ],
             [
              0.4444444444444444,
              "#bd3786"
             ],
             [
              0.5555555555555556,
              "#d8576b"
             ],
             [
              0.6666666666666666,
              "#ed7953"
             ],
             [
              0.7777777777777778,
              "#fb9f3a"
             ],
             [
              0.8888888888888888,
              "#fdca26"
             ],
             [
              1,
              "#f0f921"
             ]
            ],
            "type": "contour"
           }
          ],
          "contourcarpet": [
           {
            "colorbar": {
             "outlinewidth": 0,
             "ticks": ""
            },
            "type": "contourcarpet"
           }
          ],
          "heatmap": [
           {
            "colorbar": {
             "outlinewidth": 0,
             "ticks": ""
            },
            "colorscale": [
             [
              0,
              "#0d0887"
             ],
             [
              0.1111111111111111,
              "#46039f"
             ],
             [
              0.2222222222222222,
              "#7201a8"
             ],
             [
              0.3333333333333333,
              "#9c179e"
             ],
             [
              0.4444444444444444,
              "#bd3786"
             ],
             [
              0.5555555555555556,
              "#d8576b"
             ],
             [
              0.6666666666666666,
              "#ed7953"
             ],
             [
              0.7777777777777778,
              "#fb9f3a"
             ],
             [
              0.8888888888888888,
              "#fdca26"
             ],
             [
              1,
              "#f0f921"
             ]
            ],
            "type": "heatmap"
           }
          ],
          "heatmapgl": [
           {
            "colorbar": {
             "outlinewidth": 0,
             "ticks": ""
            },
            "colorscale": [
             [
              0,
              "#0d0887"
             ],
             [
              0.1111111111111111,
              "#46039f"
             ],
             [
              0.2222222222222222,
              "#7201a8"
             ],
             [
              0.3333333333333333,
              "#9c179e"
             ],
             [
              0.4444444444444444,
              "#bd3786"
             ],
             [
              0.5555555555555556,
              "#d8576b"
             ],
             [
              0.6666666666666666,
              "#ed7953"
             ],
             [
              0.7777777777777778,
              "#fb9f3a"
             ],
             [
              0.8888888888888888,
              "#fdca26"
             ],
             [
              1,
              "#f0f921"
             ]
            ],
            "type": "heatmapgl"
           }
          ],
          "histogram": [
           {
            "marker": {
             "pattern": {
              "fillmode": "overlay",
              "size": 10,
              "solidity": 0.2
             }
            },
            "type": "histogram"
           }
          ],
          "histogram2d": [
           {
            "colorbar": {
             "outlinewidth": 0,
             "ticks": ""
            },
            "colorscale": [
             [
              0,
              "#0d0887"
             ],
             [
              0.1111111111111111,
              "#46039f"
             ],
             [
              0.2222222222222222,
              "#7201a8"
             ],
             [
              0.3333333333333333,
              "#9c179e"
             ],
             [
              0.4444444444444444,
              "#bd3786"
             ],
             [
              0.5555555555555556,
              "#d8576b"
             ],
             [
              0.6666666666666666,
              "#ed7953"
             ],
             [
              0.7777777777777778,
              "#fb9f3a"
             ],
             [
              0.8888888888888888,
              "#fdca26"
             ],
             [
              1,
              "#f0f921"
             ]
            ],
            "type": "histogram2d"
           }
          ],
          "histogram2dcontour": [
           {
            "colorbar": {
             "outlinewidth": 0,
             "ticks": ""
            },
            "colorscale": [
             [
              0,
              "#0d0887"
             ],
             [
              0.1111111111111111,
              "#46039f"
             ],
             [
              0.2222222222222222,
              "#7201a8"
             ],
             [
              0.3333333333333333,
              "#9c179e"
             ],
             [
              0.4444444444444444,
              "#bd3786"
             ],
             [
              0.5555555555555556,
              "#d8576b"
             ],
             [
              0.6666666666666666,
              "#ed7953"
             ],
             [
              0.7777777777777778,
              "#fb9f3a"
             ],
             [
              0.8888888888888888,
              "#fdca26"
             ],
             [
              1,
              "#f0f921"
             ]
            ],
            "type": "histogram2dcontour"
           }
          ],
          "mesh3d": [
           {
            "colorbar": {
             "outlinewidth": 0,
             "ticks": ""
            },
            "type": "mesh3d"
           }
          ],
          "parcoords": [
           {
            "line": {
             "colorbar": {
              "outlinewidth": 0,
              "ticks": ""
             }
            },
            "type": "parcoords"
           }
          ],
          "pie": [
           {
            "automargin": true,
            "type": "pie"
           }
          ],
          "scatter": [
           {
            "fillpattern": {
             "fillmode": "overlay",
             "size": 10,
             "solidity": 0.2
            },
            "type": "scatter"
           }
          ],
          "scatter3d": [
           {
            "line": {
             "colorbar": {
              "outlinewidth": 0,
              "ticks": ""
             }
            },
            "marker": {
             "colorbar": {
              "outlinewidth": 0,
              "ticks": ""
             }
            },
            "type": "scatter3d"
           }
          ],
          "scattercarpet": [
           {
            "marker": {
             "colorbar": {
              "outlinewidth": 0,
              "ticks": ""
             }
            },
            "type": "scattercarpet"
           }
          ],
          "scattergeo": [
           {
            "marker": {
             "colorbar": {
              "outlinewidth": 0,
              "ticks": ""
             }
            },
            "type": "scattergeo"
           }
          ],
          "scattergl": [
           {
            "marker": {
             "colorbar": {
              "outlinewidth": 0,
              "ticks": ""
             }
            },
            "type": "scattergl"
           }
          ],
          "scattermapbox": [
           {
            "marker": {
             "colorbar": {
              "outlinewidth": 0,
              "ticks": ""
             }
            },
            "type": "scattermapbox"
           }
          ],
          "scatterpolar": [
           {
            "marker": {
             "colorbar": {
              "outlinewidth": 0,
              "ticks": ""
             }
            },
            "type": "scatterpolar"
           }
          ],
          "scatterpolargl": [
           {
            "marker": {
             "colorbar": {
              "outlinewidth": 0,
              "ticks": ""
             }
            },
            "type": "scatterpolargl"
           }
          ],
          "scatterternary": [
           {
            "marker": {
             "colorbar": {
              "outlinewidth": 0,
              "ticks": ""
             }
            },
            "type": "scatterternary"
           }
          ],
          "surface": [
           {
            "colorbar": {
             "outlinewidth": 0,
             "ticks": ""
            },
            "colorscale": [
             [
              0,
              "#0d0887"
             ],
             [
              0.1111111111111111,
              "#46039f"
             ],
             [
              0.2222222222222222,
              "#7201a8"
             ],
             [
              0.3333333333333333,
              "#9c179e"
             ],
             [
              0.4444444444444444,
              "#bd3786"
             ],
             [
              0.5555555555555556,
              "#d8576b"
             ],
             [
              0.6666666666666666,
              "#ed7953"
             ],
             [
              0.7777777777777778,
              "#fb9f3a"
             ],
             [
              0.8888888888888888,
              "#fdca26"
             ],
             [
              1,
              "#f0f921"
             ]
            ],
            "type": "surface"
           }
          ],
          "table": [
           {
            "cells": {
             "fill": {
              "color": "#EBF0F8"
             },
             "line": {
              "color": "white"
             }
            },
            "header": {
             "fill": {
              "color": "#C8D4E3"
             },
             "line": {
              "color": "white"
             }
            },
            "type": "table"
           }
          ]
         },
         "layout": {
          "annotationdefaults": {
           "arrowcolor": "#2a3f5f",
           "arrowhead": 0,
           "arrowwidth": 1
          },
          "autotypenumbers": "strict",
          "coloraxis": {
           "colorbar": {
            "outlinewidth": 0,
            "ticks": ""
           }
          },
          "colorscale": {
           "diverging": [
            [
             0,
             "#8e0152"
            ],
            [
             0.1,
             "#c51b7d"
            ],
            [
             0.2,
             "#de77ae"
            ],
            [
             0.3,
             "#f1b6da"
            ],
            [
             0.4,
             "#fde0ef"
            ],
            [
             0.5,
             "#f7f7f7"
            ],
            [
             0.6,
             "#e6f5d0"
            ],
            [
             0.7,
             "#b8e186"
            ],
            [
             0.8,
             "#7fbc41"
            ],
            [
             0.9,
             "#4d9221"
            ],
            [
             1,
             "#276419"
            ]
           ],
           "sequential": [
            [
             0,
             "#0d0887"
            ],
            [
             0.1111111111111111,
             "#46039f"
            ],
            [
             0.2222222222222222,
             "#7201a8"
            ],
            [
             0.3333333333333333,
             "#9c179e"
            ],
            [
             0.4444444444444444,
             "#bd3786"
            ],
            [
             0.5555555555555556,
             "#d8576b"
            ],
            [
             0.6666666666666666,
             "#ed7953"
            ],
            [
             0.7777777777777778,
             "#fb9f3a"
            ],
            [
             0.8888888888888888,
             "#fdca26"
            ],
            [
             1,
             "#f0f921"
            ]
           ],
           "sequentialminus": [
            [
             0,
             "#0d0887"
            ],
            [
             0.1111111111111111,
             "#46039f"
            ],
            [
             0.2222222222222222,
             "#7201a8"
            ],
            [
             0.3333333333333333,
             "#9c179e"
            ],
            [
             0.4444444444444444,
             "#bd3786"
            ],
            [
             0.5555555555555556,
             "#d8576b"
            ],
            [
             0.6666666666666666,
             "#ed7953"
            ],
            [
             0.7777777777777778,
             "#fb9f3a"
            ],
            [
             0.8888888888888888,
             "#fdca26"
            ],
            [
             1,
             "#f0f921"
            ]
           ]
          },
          "colorway": [
           "#636efa",
           "#EF553B",
           "#00cc96",
           "#ab63fa",
           "#FFA15A",
           "#19d3f3",
           "#FF6692",
           "#B6E880",
           "#FF97FF",
           "#FECB52"
          ],
          "font": {
           "color": "#2a3f5f"
          },
          "geo": {
           "bgcolor": "white",
           "lakecolor": "white",
           "landcolor": "#E5ECF6",
           "showlakes": true,
           "showland": true,
           "subunitcolor": "white"
          },
          "hoverlabel": {
           "align": "left"
          },
          "hovermode": "closest",
          "mapbox": {
           "style": "light"
          },
          "paper_bgcolor": "white",
          "plot_bgcolor": "#E5ECF6",
          "polar": {
           "angularaxis": {
            "gridcolor": "white",
            "linecolor": "white",
            "ticks": ""
           },
           "bgcolor": "#E5ECF6",
           "radialaxis": {
            "gridcolor": "white",
            "linecolor": "white",
            "ticks": ""
           }
          },
          "scene": {
           "xaxis": {
            "backgroundcolor": "#E5ECF6",
            "gridcolor": "white",
            "gridwidth": 2,
            "linecolor": "white",
            "showbackground": true,
            "ticks": "",
            "zerolinecolor": "white"
           },
           "yaxis": {
            "backgroundcolor": "#E5ECF6",
            "gridcolor": "white",
            "gridwidth": 2,
            "linecolor": "white",
            "showbackground": true,
            "ticks": "",
            "zerolinecolor": "white"
           },
           "zaxis": {
            "backgroundcolor": "#E5ECF6",
            "gridcolor": "white",
            "gridwidth": 2,
            "linecolor": "white",
            "showbackground": true,
            "ticks": "",
            "zerolinecolor": "white"
           }
          },
          "shapedefaults": {
           "line": {
            "color": "#2a3f5f"
           }
          },
          "ternary": {
           "aaxis": {
            "gridcolor": "white",
            "linecolor": "white",
            "ticks": ""
           },
           "baxis": {
            "gridcolor": "white",
            "linecolor": "white",
            "ticks": ""
           },
           "bgcolor": "#E5ECF6",
           "caxis": {
            "gridcolor": "white",
            "linecolor": "white",
            "ticks": ""
           }
          },
          "title": {
           "x": 0.05
          },
          "xaxis": {
           "automargin": true,
           "gridcolor": "white",
           "linecolor": "white",
           "ticks": "",
           "title": {
            "standoff": 15
           },
           "zerolinecolor": "white",
           "zerolinewidth": 2
          },
          "yaxis": {
           "automargin": true,
           "gridcolor": "white",
           "linecolor": "white",
           "ticks": "",
           "title": {
            "standoff": 15
           },
           "zerolinecolor": "white",
           "zerolinewidth": 2
          }
         }
        },
        "title": {
         "text": "Total number of papers in PubMed in each year"
        },
        "xaxis": {
         "anchor": "y",
         "autorange": true,
         "domain": [
          0,
          1
         ],
         "range": [
          1996.5,
          2023.5
         ],
         "title": {
          "text": "Year"
         },
         "type": "linear"
        },
        "yaxis": {
         "anchor": "x",
         "autorange": true,
         "domain": [
          0,
          1
         ],
         "range": [
          0,
          1394368.4210526315
         ],
         "title": {
          "text": "Total No. of publications"
         },
         "type": "linear"
        }
       }
      },
      "image/png": "[encoded data removed]",
      "text/html": [
       "<div>                            <div id=\"8f6a255f-cea9-4a47-ae6f-7554c022c6ca\" class=\"plotly-graph-div\" style=\"height:400px; width:100%;\"></div>            <script type=\"text/javascript\">                require([\"plotly\"], function(Plotly) {                    window.PLOTLYENV=window.PLOTLYENV || {};                                    if (document.getElementById(\"8f6a255f-cea9-4a47-ae6f-7554c022c6ca\")) {                    Plotly.newPlot(                        \"8f6a255f-cea9-4a47-ae6f-7554c022c6ca\",                        [{\"alignmentgroup\":\"True\",\"hovertemplate\":\"Year=%{x}\\u003cbr\\u003eTotal No. of publications=%{marker.color}\\u003cextra\\u003e\\u003c\\u002fextra\\u003e\",\"legendgroup\":\"\",\"marker\":{\"color\":[313743,329438,340740,373439,388963,405519,426752,459362,492511,521278,548061,585286,618504,653739,702139,765156,809074,850568,876117,896208,907250,959228,999175,1132241,1277048,1324650,1302390],\"coloraxis\":\"coloraxis\",\"pattern\":{\"shape\":\"\"}},\"name\":\"\",\"offsetgroup\":\"\",\"orientation\":\"v\",\"showlegend\":false,\"textposition\":\"outside\",\"texttemplate\":\"%{y:.2s}\",\"x\":[1997,1998,1999,2000,2001,2002,2003,2004,2005,2006,2007,2008,2009,2010,2011,2012,2013,2014,2015,2016,2017,2018,2019,2020,2021,2022,2023],\"xaxis\":\"x\",\"y\":[313743,329438,340740,373439,388963,405519,426752,459362,492511,521278,548061,585286,618504,653739,702139,765156,809074,850568,876117,896208,907250,959228,999175,1132241,1277048,1324650,1302390],\"yaxis\":\"y\",\"type\":\"bar\",\"textfont\":{\"size\":20},\"cliponaxis\":false,\"textangle\":0}],                        {\"template\":{\"data\":{\"histogram2dcontour\":[{\"type\":\"histogram2dcontour\",\"colorbar\":{\"outlinewidth\":0,\"ticks\":\"\"},\"colorscale\":[[0.0,\"#0d0887\"],[0.1111111111111111,\"#46039f\"],[0.2222222222222222,\"#7201a8\"],[0.3333333333333333,\"#9c179e\"],[0.4444444444444444,\"#bd3786\"],[0.5555555555555556,\"#d8576b\"],[0.6666666666666666,\"#ed7953\"],[0.7777777777777778,\"#fb9f3a\"],[0.8888888888888888,\"#fdca26\"],[1.0,\"#f0f921\"]]}],\"choropleth\":[{\"type\":\"choropleth\",\"colorbar\":{\"outlinewidth\":0,\"ticks\":\"\"}}],\"histogram2d\":[{\"type\":\"histogram2d\",\"colorbar\":{\"outlinewidth\":0,\"ticks\":\"\"},\"colorscale\":[[0.0,\"#0d0887\"],[0.1111111111111111,\"#46039f\"],[0.2222222222222222,\"#7201a8\"],[0.3333333333333333,\"#9c179e\"],[0.4444444444444444,\"#bd3786\"],[0.5555555555555556,\"#d8576b\"],[0.6666666666666666,\"#ed7953\"],[0.7777777777777778,\"#fb9f3a\"],[0.8888888888888888,\"#fdca26\"],[1.0,\"#f0f921\"]]}],\"heatmap\":[{\"type\":\"heatmap\",\"colorbar\":{\"outlinewidth\":0,\"ticks\":\"\"},\"colorscale\":[[0.0,\"#0d0887\"],[0.1111111111111111,\"#46039f\"],[0.2222222222222222,\"#7201a8\"],[0.3333333333333333,\"#9c179e\"],[0.4444444444444444,\"#bd3786\"],[0.5555555555555556,\"#d8576b\"],[0.6666666666666666,\"#ed7953\"],[0.7777777777777778,\"#fb9f3a\"],[0.8888888888888888,\"#fdca26\"],[1.0,\"#f0f921\"]]}],\"heatmapgl\":[{\"type\":\"heatmapgl\",\"colorbar\":{\"outlinewidth\":0,\"ticks\":\"\"},\"colorscale\":[[0.0,\"#0d0887\"],[0.1111111111111111,\"#46039f\"],[0.2222222222222222,\"#7201a8\"],[0.3333333333333333,\"#9c179e\"],[0.4444444444444444,\"#bd3786\"],[0.5555555555555556,\"#d8576b\"],[0.6666666666666666,\"#ed7953\"],[0.7777777777777778,\"#fb9f3a\"],[0.8888888888888888,\"#fdca26\"],[1.0,\"#f0f921\"]]}],\"contourcarpet\":[{\"type\":\"contourcarpet\",\"colorbar\":{\"outlinewidth\":0,\"ticks\":\"\"}}],\"contour\":[{\"type\":\"contour\",\"colorbar\":{\"outlinewidth\":0,\"ticks\":\"\"},\"colorscale\":[[0.0,\"#0d0887\"],[0.1111111111111111,\"#46039f\"],[0.2222222222222222,\"#7201a8\"],[0.3333333333333333,\"#9c179e\"],[0.4444444444444444,\"#bd3786\"],[0.5555555555555556,\"#d8576b\"],[0.6666666666666666,\"#ed7953\"],[0.7777777777777778,\"#fb9f3a\"],[0.8888888888888888,\"#fdca26\"],[1.0,\"#f0f921\"]]}],\"surface\":[{\"type\":\"surface\",\"colorbar\":{\"outlinewidth\":0,\"ticks\":\"\"},\"colorscale\":[[0.0,\"#0d0887\"],[0.1111111111111111,\"#46039f\"],[0.2222222222222222,\"#7201a8\"],[0.3333333333333333,\"#9c179e\"],[0.4444444444444444,\"#bd3786\"],[0.5555555555555556,\"#d8576b\"],[0.6666666666666666,\"#ed7953\"],[0.7777777777777778,\"#fb9f3a\"],[0.8888888888888888,\"#fdca26\"],[1.0,\"#f0f921\"]]}],\"mesh3d\":[{\"type\":\"mesh3d\",\"colorbar\":{\"outlinewidth\":0,\"ticks\":\"\"}}],\"scatter\":[{\"fillpattern\":{\"fillmode\":\"overlay\",\"size\":10,\"solidity\":0.2},\"type\":\"scatter\"}],\"parcoords\":[{\"type\":\"parcoords\",\"line\":{\"colorbar\":{\"outlinewidth\":0,\"ticks\":\"\"}}}],\"scatterpolargl\":[{\"type\":\"scatterpolargl\",\"marker\":{\"colorbar\":{\"outlinewidth\":0,\"ticks\":\"\"}}}],\"bar\":[{\"error_x\":{\"color\":\"#2a3f5f\"},\"error_y\":{\"color\":\"#2a3f5f\"},\"marker\":{\"line\":{\"color\":\"#E5ECF6\",\"width\":0.5},\"pattern\":{\"fillmode\":\"overlay\",\"size\":10,\"solidity\":0.2}},\"type\":\"bar\"}],\"scattergeo\":[{\"type\":\"scattergeo\",\"marker\":{\"colorbar\":{\"outlinewidth\":0,\"ticks\":\"\"}}}],\"scatterpolar\":[{\"type\":\"scatterpolar\",\"marker\":{\"colorbar\":{\"outlinewidth\":0,\"ticks\":\"\"}}}],\"histogram\":[{\"marker\":{\"pattern\":{\"fillmode\":\"overlay\",\"size\":10,\"solidity\":0.2}},\"type\":\"histogram\"}],\"scattergl\":[{\"type\":\"scattergl\",\"marker\":{\"colorbar\":{\"outlinewidth\":0,\"ticks\":\"\"}}}],\"scatter3d\":[{\"type\":\"scatter3d\",\"line\":{\"colorbar\":{\"outlinewidth\":0,\"ticks\":\"\"}},\"marker\":{\"colorbar\":{\"outlinewidth\":0,\"ticks\":\"\"}}}],\"scattermapbox\":[{\"type\":\"scattermapbox\",\"marker\":{\"colorbar\":{\"outlinewidth\":0,\"ticks\":\"\"}}}],\"scatterternary\":[{\"type\":\"scatterternary\",\"marker\":{\"colorbar\":{\"outlinewidth\":0,\"ticks\":\"\"}}}],\"scattercarpet\":[{\"type\":\"scattercarpet\",\"marker\":{\"colorbar\":{\"outlinewidth\":0,\"ticks\":\"\"}}}],\"carpet\":[{\"aaxis\":{\"endlinecolor\":\"#2a3f5f\",\"gridcolor\":\"white\",\"linecolor\":\"white\",\"minorgridcolor\":\"white\",\"startlinecolor\":\"#2a3f5f\"},\"baxis\":{\"endlinecolor\":\"#2a3f5f\",\"gridcolor\":\"white\",\"linecolor\":\"white\",\"minorgridcolor\":\"white\",\"startlinecolor\":\"#2a3f5f\"},\"type\":\"carpet\"}],\"table\":[{\"cells\":{\"fill\":{\"color\":\"#EBF0F8\"},\"line\":{\"color\":\"white\"}},\"header\":{\"fill\":{\"color\":\"#C8D4E3\"},\"line\":{\"color\":\"white\"}},\"type\":\"table\"}],\"barpolar\":[{\"marker\":{\"line\":{\"color\":\"#E5ECF6\",\"width\":0.5},\"pattern\":{\"fillmode\":\"overlay\",\"size\":10,\"solidity\":0.2}},\"type\":\"barpolar\"}],\"pie\":[{\"automargin\":true,\"type\":\"pie\"}]},\"layout\":{\"autotypenumbers\":\"strict\",\"colorway\":[\"#636efa\",\"#EF553B\",\"#00cc96\",\"#ab63fa\",\"#FFA15A\",\"#19d3f3\",\"#FF6692\",\"#B6E880\",\"#FF97FF\",\"#FECB52\"],\"font\":{\"color\":\"#2a3f5f\"},\"hovermode\":\"closest\",\"hoverlabel\":{\"align\":\"left\"},\"paper_bgcolor\":\"white\",\"plot_bgcolor\":\"#E5ECF6\",\"polar\":{\"bgcolor\":\"#E5ECF6\",\"angularaxis\":{\"gridcolor\":\"white\",\"linecolor\":\"white\",\"ticks\":\"\"},\"radialaxis\":{\"gridcolor\":\"white\",\"linecolor\":\"white\",\"ticks\":\"\"}},\"ternary\":{\"bgcolor\":\"#E5ECF6\",\"aaxis\":{\"gridcolor\":\"white\",\"linecolor\":\"white\",\"ticks\":\"\"},\"baxis\":{\"gridcolor\":\"white\",\"linecolor\":\"white\",\"ticks\":\"\"},\"caxis\":{\"gridcolor\":\"white\",\"linecolor\":\"white\",\"ticks\":\"\"}},\"coloraxis\":{\"colorbar\":{\"outlinewidth\":0,\"ticks\":\"\"}},\"colorscale\":{\"sequential\":[[0.0,\"#0d0887\"],[0.1111111111111111,\"#46039f\"],[0.2222222222222222,\"#7201a8\"],[0.3333333333333333,\"#9c179e\"],[0.4444444444444444,\"#bd3786\"],[0.5555555555555556,\"#d8576b\"],[0.6666666666666666,\"#ed7953\"],[0.7777777777777778,\"#fb9f3a\"],[0.8888888888888888,\"#fdca26\"],[1.0,\"#f0f921\"]],\"sequentialminus\":[[0.0,\"#0d0887\"],[0.1111111111111111,\"#46039f\"],[0.2222222222222222,\"#7201a8\"],[0.3333333333333333,\"#9c179e\"],[0.4444444444444444,\"#bd3786\"],[0.5555555555555556,\"#d8576b\"],[0.6666666666666666,\"#ed7953\"],[0.7777777777777778,\"#fb9f3a\"],[0.8888888888888888,\"#fdca26\"],[1.0,\"#f0f921\"]],\"diverging\":[[0,\"#8e0152\"],[0.1,\"#c51b7d\"],[0.2,\"#de77ae\"],[0.3,\"#f1b6da\"],[0.4,\"#fde0ef\"],[0.5,\"#f7f7f7\"],[0.6,\"#e6f5d0\"],[0.7,\"#b8e186\"],[0.8,\"#7fbc41\"],[0.9,\"#4d9221\"],[1,\"#276419\"]]},\"xaxis\":{\"gridcolor\":\"white\",\"linecolor\":\"white\",\"ticks\":\"\",\"title\":{\"standoff\":15},\"zerolinecolor\":\"white\",\"automargin\":true,\"zerolinewidth\":2},\"yaxis\":{\"gridcolor\":\"white\",\"linecolor\":\"white\",\"ticks\":\"\",\"title\":{\"standoff\":15},\"zerolinecolor\":\"white\",\"automargin\":true,\"zerolinewidth\":2},\"scene\":{\"xaxis\":{\"backgroundcolor\":\"#E5ECF6\",\"gridcolor\":\"white\",\"linecolor\":\"white\",\"showbackground\":true,\"ticks\":\"\",\"zerolinecolor\":\"white\",\"gridwidth\":2},\"yaxis\":{\"backgroundcolor\":\"#E5ECF6\",\"gridcolor\":\"white\",\"linecolor\":\"white\",\"showbackground\":true,\"ticks\":\"\",\"zerolinecolor\":\"white\",\"gridwidth\":2},\"zaxis\":{\"backgroundcolor\":\"#E5ECF6\",\"gridcolor\":\"white\",\"linecolor\":\"white\",\"showbackground\":true,\"ticks\":\"\",\"zerolinecolor\":\"white\",\"gridwidth\":2}},\"shapedefaults\":{\"line\":{\"color\":\"#2a3f5f\"}},\"annotationdefaults\":{\"arrowcolor\":\"#2a3f5f\",\"arrowhead\":0,\"arrowwidth\":1},\"geo\":{\"bgcolor\":\"white\",\"landcolor\":\"#E5ECF6\",\"subunitcolor\":\"white\",\"showland\":true,\"showlakes\":true,\"lakecolor\":\"white\"},\"title\":{\"x\":0.05},\"mapbox\":{\"style\":\"light\"}}},\"xaxis\":{\"anchor\":\"y\",\"domain\":[0.0,1.0],\"title\":{\"text\":\"Year\"}},\"yaxis\":{\"anchor\":\"x\",\"domain\":[0.0,1.0],\"title\":{\"text\":\"Total No. of publications\"}},\"coloraxis\":{\"colorbar\":{\"title\":{\"text\":\"Total No. of publications\"}},\"colorscale\":[[0.0,\"#0d0887\"],[0.1111111111111111,\"#46039f\"],[0.2222222222222222,\"#7201a8\"],[0.3333333333333333,\"#9c179e\"],[0.4444444444444444,\"#bd3786\"],[0.5555555555555556,\"#d8576b\"],[0.6666666666666666,\"#ed7953\"],[0.7777777777777778,\"#fb9f3a\"],[0.8888888888888888,\"#fdca26\"],[1.0,\"#f0f921\"]]},\"legend\":{\"tracegroupgap\":0},\"title\":{\"text\":\"Total number of papers in PubMed in each year\"},\"barmode\":\"relative\",\"height\":400},                        {\"responsive\": true}                    ).then(function(){\n",
       "                            \n",
       "var gd = document.getElementById('8f6a255f-cea9-4a47-ae6f-7554c022c6ca');\n",
       "var x = new MutationObserver(function (mutations, observer) {{\n",
       "        var display = window.getComputedStyle(gd).display;\n",
       "        if (!display || display === 'none') {{\n",
       "            console.log([gd, 'removed!']);\n",
       "            Plotly.purge(gd);\n",
       "            observer.disconnect();\n",
       "        }}\n",
       "}});\n",
       "\n",
       "// Listen for the removal of the full notebook cells\n",
       "var notebookContainer = gd.closest('#notebook-container');\n",
       "if (notebookContainer) {{\n",
       "    x.observe(notebookContainer, {childList: true});\n",
       "}}\n",
       "\n",
       "// Listen for the clearing of the current output cell\n",
       "var outputEl = gd.closest('.output');\n",
       "if (outputEl) {{\n",
       "    x.observe(outputEl, {childList: true});\n",
       "}}\n",
       "\n",
       "                        })                };                });            </script>        </div>"
      ]
     },
     "metadata": {},
     "output_type": "display_data"
    }
   ],
   "source": [
    "# Bar chart plot for visualisation\n",
    "\n",
    "fig = px.bar(proportion3, x='Year', y='Count', labels={'Count':'Total No. of publications'}, height=400, title = \"Total number of papers in PubMed in each year\", text_auto='.2s', color = 'Count')\n",
    "fig.update_traces(textfont_size=20, textangle=0, textposition=\"outside\", cliponaxis=False)\n",
    "fig.show()"
   ]
  },
  {
   "cell_type": "code",
   "execution_count": 295,
   "id": "e0a45374-528e-4481-982b-a2ec77ceb4c0",
   "metadata": {},
   "outputs": [
    {
     "data": {
      "application/vnd.plotly.v1+json": {
       "config": {
        "plotlyServerURL": "https://plot.ly"
       },
       "data": [
        {
         "alignmentgroup": "True",
         "hovertemplate": "Year=%{x}<br>Total No. of publications=%{y}<extra></extra>",
         "legendgroup": "",
         "marker": {
          "color": "#636efa",
          "pattern": {
           "shape": ""
          }
         },
         "name": "",
         "offsetgroup": "",
         "orientation": "v",
         "showlegend": false,
         "textposition": "auto",
         "texttemplate": "%{y:.2s}",
         "type": "bar",
         "x": [
          1997,
          1998,
          1999,
          2000,
          2001,
          2002,
          2003,
          2004,
          2005,
          2006,
          2007,
          2008,
          2009,
          2010,
          2011,
          2012,
          2013,
          2014,
          2015,
          2016,
          2017,
          2018,
          2019,
          2020,
          2021,
          2022,
          2023
         ],
         "xaxis": "x",
         "y": [
          2,
          1,
          3,
          5,
          2,
          9,
          4,
          8,
          5,
          11,
          12,
          15,
          18,
          12,
          28,
          25,
          37,
          42,
          47,
          43,
          36,
          38,
          45,
          36,
          53,
          63,
          59
         ],
         "yaxis": "y"
        }
       ],
       "layout": {
        "autosize": true,
        "barmode": "relative",
        "legend": {
         "tracegroupgap": 0
        },
        "template": {
         "data": {
          "bar": [
           {
            "error_x": {
             "color": "#2a3f5f"
            },
            "error_y": {
             "color": "#2a3f5f"
            },
            "marker": {
             "line": {
              "color": "#E5ECF6",
              "width": 0.5
             },
             "pattern": {
              "fillmode": "overlay",
              "size": 10,
              "solidity": 0.2
             }
            },
            "type": "bar"
           }
          ],
          "barpolar": [
           {
            "marker": {
             "line": {
              "color": "#E5ECF6",
              "width": 0.5
             },
             "pattern": {
              "fillmode": "overlay",
              "size": 10,
              "solidity": 0.2
             }
            },
            "type": "barpolar"
           }
          ],
          "carpet": [
           {
            "aaxis": {
             "endlinecolor": "#2a3f5f",
             "gridcolor": "white",
             "linecolor": "white",
             "minorgridcolor": "white",
             "startlinecolor": "#2a3f5f"
            },
            "baxis": {
             "endlinecolor": "#2a3f5f",
             "gridcolor": "white",
             "linecolor": "white",
             "minorgridcolor": "white",
             "startlinecolor": "#2a3f5f"
            },
            "type": "carpet"
           }
          ],
          "choropleth": [
           {
            "colorbar": {
             "outlinewidth": 0,
             "ticks": ""
            },
            "type": "choropleth"
           }
          ],
          "contour": [
           {
            "colorbar": {
             "outlinewidth": 0,
             "ticks": ""
            },
            "colorscale": [
             [
              0,
              "#0d0887"
             ],
             [
              0.1111111111111111,
              "#46039f"
             ],
             [
              0.2222222222222222,
              "#7201a8"
             ],
             [
              0.3333333333333333,
              "#9c179e"
             ],
             [
              0.4444444444444444,
              "#bd3786"
             ],
             [
              0.5555555555555556,
              "#d8576b"
             ],
             [
              0.6666666666666666,
              "#ed7953"
             ],
             [
              0.7777777777777778,
              "#fb9f3a"
             ],
             [
              0.8888888888888888,
              "#fdca26"
             ],
             [
              1,
              "#f0f921"
             ]
            ],
            "type": "contour"
           }
          ],
          "contourcarpet": [
           {
            "colorbar": {
             "outlinewidth": 0,
             "ticks": ""
            },
            "type": "contourcarpet"
           }
          ],
          "heatmap": [
           {
            "colorbar": {
             "outlinewidth": 0,
             "ticks": ""
            },
            "colorscale": [
             [
              0,
              "#0d0887"
             ],
             [
              0.1111111111111111,
              "#46039f"
             ],
             [
              0.2222222222222222,
              "#7201a8"
             ],
             [
              0.3333333333333333,
              "#9c179e"
             ],
             [
              0.4444444444444444,
              "#bd3786"
             ],
             [
              0.5555555555555556,
              "#d8576b"
             ],
             [
              0.6666666666666666,
              "#ed7953"
             ],
             [
              0.7777777777777778,
              "#fb9f3a"
             ],
             [
              0.8888888888888888,
              "#fdca26"
             ],
             [
              1,
              "#f0f921"
             ]
            ],
            "type": "heatmap"
           }
          ],
          "heatmapgl": [
           {
            "colorbar": {
             "outlinewidth": 0,
             "ticks": ""
            },
            "colorscale": [
             [
              0,
              "#0d0887"
             ],
             [
              0.1111111111111111,
              "#46039f"
             ],
             [
              0.2222222222222222,
              "#7201a8"
             ],
             [
              0.3333333333333333,
              "#9c179e"
             ],
             [
              0.4444444444444444,
              "#bd3786"
             ],
             [
              0.5555555555555556,
              "#d8576b"
             ],
             [
              0.6666666666666666,
              "#ed7953"
             ],
             [
              0.7777777777777778,
              "#fb9f3a"
             ],
             [
              0.8888888888888888,
              "#fdca26"
             ],
             [
              1,
              "#f0f921"
             ]
            ],
            "type": "heatmapgl"
           }
          ],
          "histogram": [
           {
            "marker": {
             "pattern": {
              "fillmode": "overlay",
              "size": 10,
              "solidity": 0.2
             }
            },
            "type": "histogram"
           }
          ],
          "histogram2d": [
           {
            "colorbar": {
             "outlinewidth": 0,
             "ticks": ""
            },
            "colorscale": [
             [
              0,
              "#0d0887"
             ],
             [
              0.1111111111111111,
              "#46039f"
             ],
             [
              0.2222222222222222,
              "#7201a8"
             ],
             [
              0.3333333333333333,
              "#9c179e"
             ],
             [
              0.4444444444444444,
              "#bd3786"
             ],
             [
              0.5555555555555556,
              "#d8576b"
             ],
             [
              0.6666666666666666,
              "#ed7953"
             ],
             [
              0.7777777777777778,
              "#fb9f3a"
             ],
             [
              0.8888888888888888,
              "#fdca26"
             ],
             [
              1,
              "#f0f921"
             ]
            ],
            "type": "histogram2d"
           }
          ],
          "histogram2dcontour": [
           {
            "colorbar": {
             "outlinewidth": 0,
             "ticks": ""
            },
            "colorscale": [
             [
              0,
              "#0d0887"
             ],
             [
              0.1111111111111111,
              "#46039f"
             ],
             [
              0.2222222222222222,
              "#7201a8"
             ],
             [
              0.3333333333333333,
              "#9c179e"
             ],
             [
              0.4444444444444444,
              "#bd3786"
             ],
             [
              0.5555555555555556,
              "#d8576b"
             ],
             [
              0.6666666666666666,
              "#ed7953"
             ],
             [
              0.7777777777777778,
              "#fb9f3a"
             ],
             [
              0.8888888888888888,
              "#fdca26"
             ],
             [
              1,
              "#f0f921"
             ]
            ],
            "type": "histogram2dcontour"
           }
          ],
          "mesh3d": [
           {
            "colorbar": {
             "outlinewidth": 0,
             "ticks": ""
            },
            "type": "mesh3d"
           }
          ],
          "parcoords": [
           {
            "line": {
             "colorbar": {
              "outlinewidth": 0,
              "ticks": ""
             }
            },
            "type": "parcoords"
           }
          ],
          "pie": [
           {
            "automargin": true,
            "type": "pie"
           }
          ],
          "scatter": [
           {
            "fillpattern": {
             "fillmode": "overlay",
             "size": 10,
             "solidity": 0.2
            },
            "type": "scatter"
           }
          ],
          "scatter3d": [
           {
            "line": {
             "colorbar": {
              "outlinewidth": 0,
              "ticks": ""
             }
            },
            "marker": {
             "colorbar": {
              "outlinewidth": 0,
              "ticks": ""
             }
            },
            "type": "scatter3d"
           }
          ],
          "scattercarpet": [
           {
            "marker": {
             "colorbar": {
              "outlinewidth": 0,
              "ticks": ""
             }
            },
            "type": "scattercarpet"
           }
          ],
          "scattergeo": [
           {
            "marker": {
             "colorbar": {
              "outlinewidth": 0,
              "ticks": ""
             }
            },
            "type": "scattergeo"
           }
          ],
          "scattergl": [
           {
            "marker": {
             "colorbar": {
              "outlinewidth": 0,
              "ticks": ""
             }
            },
            "type": "scattergl"
           }
          ],
          "scattermapbox": [
           {
            "marker": {
             "colorbar": {
              "outlinewidth": 0,
              "ticks": ""
             }
            },
            "type": "scattermapbox"
           }
          ],
          "scatterpolar": [
           {
            "marker": {
             "colorbar": {
              "outlinewidth": 0,
              "ticks": ""
             }
            },
            "type": "scatterpolar"
           }
          ],
          "scatterpolargl": [
           {
            "marker": {
             "colorbar": {
              "outlinewidth": 0,
              "ticks": ""
             }
            },
            "type": "scatterpolargl"
           }
          ],
          "scatterternary": [
           {
            "marker": {
             "colorbar": {
              "outlinewidth": 0,
              "ticks": ""
             }
            },
            "type": "scatterternary"
           }
          ],
          "surface": [
           {
            "colorbar": {
             "outlinewidth": 0,
             "ticks": ""
            },
            "colorscale": [
             [
              0,
              "#0d0887"
             ],
             [
              0.1111111111111111,
              "#46039f"
             ],
             [
              0.2222222222222222,
              "#7201a8"
             ],
             [
              0.3333333333333333,
              "#9c179e"
             ],
             [
              0.4444444444444444,
              "#bd3786"
             ],
             [
              0.5555555555555556,
              "#d8576b"
             ],
             [
              0.6666666666666666,
              "#ed7953"
             ],
             [
              0.7777777777777778,
              "#fb9f3a"
             ],
             [
              0.8888888888888888,
              "#fdca26"
             ],
             [
              1,
              "#f0f921"
             ]
            ],
            "type": "surface"
           }
          ],
          "table": [
           {
            "cells": {
             "fill": {
              "color": "#EBF0F8"
             },
             "line": {
              "color": "white"
             }
            },
            "header": {
             "fill": {
              "color": "#C8D4E3"
             },
             "line": {
              "color": "white"
             }
            },
            "type": "table"
           }
          ]
         },
         "layout": {
          "annotationdefaults": {
           "arrowcolor": "#2a3f5f",
           "arrowhead": 0,
           "arrowwidth": 1
          },
          "autotypenumbers": "strict",
          "coloraxis": {
           "colorbar": {
            "outlinewidth": 0,
            "ticks": ""
           }
          },
          "colorscale": {
           "diverging": [
            [
             0,
             "#8e0152"
            ],
            [
             0.1,
             "#c51b7d"
            ],
            [
             0.2,
             "#de77ae"
            ],
            [
             0.3,
             "#f1b6da"
            ],
            [
             0.4,
             "#fde0ef"
            ],
            [
             0.5,
             "#f7f7f7"
            ],
            [
             0.6,
             "#e6f5d0"
            ],
            [
             0.7,
             "#b8e186"
            ],
            [
             0.8,
             "#7fbc41"
            ],
            [
             0.9,
             "#4d9221"
            ],
            [
             1,
             "#276419"
            ]
           ],
           "sequential": [
            [
             0,
             "#0d0887"
            ],
            [
             0.1111111111111111,
             "#46039f"
            ],
            [
             0.2222222222222222,
             "#7201a8"
            ],
            [
             0.3333333333333333,
             "#9c179e"
            ],
            [
             0.4444444444444444,
             "#bd3786"
            ],
            [
             0.5555555555555556,
             "#d8576b"
            ],
            [
             0.6666666666666666,
             "#ed7953"
            ],
            [
             0.7777777777777778,
             "#fb9f3a"
            ],
            [
             0.8888888888888888,
             "#fdca26"
            ],
            [
             1,
             "#f0f921"
            ]
           ],
           "sequentialminus": [
            [
             0,
             "#0d0887"
            ],
            [
             0.1111111111111111,
             "#46039f"
            ],
            [
             0.2222222222222222,
             "#7201a8"
            ],
            [
             0.3333333333333333,
             "#9c179e"
            ],
            [
             0.4444444444444444,
             "#bd3786"
            ],
            [
             0.5555555555555556,
             "#d8576b"
            ],
            [
             0.6666666666666666,
             "#ed7953"
            ],
            [
             0.7777777777777778,
             "#fb9f3a"
            ],
            [
             0.8888888888888888,
             "#fdca26"
            ],
            [
             1,
             "#f0f921"
            ]
           ]
          },
          "colorway": [
           "#636efa",
           "#EF553B",
           "#00cc96",
           "#ab63fa",
           "#FFA15A",
           "#19d3f3",
           "#FF6692",
           "#B6E880",
           "#FF97FF",
           "#FECB52"
          ],
          "font": {
           "color": "#2a3f5f"
          },
          "geo": {
           "bgcolor": "white",
           "lakecolor": "white",
           "landcolor": "#E5ECF6",
           "showlakes": true,
           "showland": true,
           "subunitcolor": "white"
          },
          "hoverlabel": {
           "align": "left"
          },
          "hovermode": "closest",
          "mapbox": {
           "style": "light"
          },
          "paper_bgcolor": "white",
          "plot_bgcolor": "#E5ECF6",
          "polar": {
           "angularaxis": {
            "gridcolor": "white",
            "linecolor": "white",
            "ticks": ""
           },
           "bgcolor": "#E5ECF6",
           "radialaxis": {
            "gridcolor": "white",
            "linecolor": "white",
            "ticks": ""
           }
          },
          "scene": {
           "xaxis": {
            "backgroundcolor": "#E5ECF6",
            "gridcolor": "white",
            "gridwidth": 2,
            "linecolor": "white",
            "showbackground": true,
            "ticks": "",
            "zerolinecolor": "white"
           },
           "yaxis": {
            "backgroundcolor": "#E5ECF6",
            "gridcolor": "white",
            "gridwidth": 2,
            "linecolor": "white",
            "showbackground": true,
            "ticks": "",
            "zerolinecolor": "white"
           },
           "zaxis": {
            "backgroundcolor": "#E5ECF6",
            "gridcolor": "white",
            "gridwidth": 2,
            "linecolor": "white",
            "showbackground": true,
            "ticks": "",
            "zerolinecolor": "white"
           }
          },
          "shapedefaults": {
           "line": {
            "color": "#2a3f5f"
           }
          },
          "ternary": {
           "aaxis": {
            "gridcolor": "white",
            "linecolor": "white",
            "ticks": ""
           },
           "baxis": {
            "gridcolor": "white",
            "linecolor": "white",
            "ticks": ""
           },
           "bgcolor": "#E5ECF6",
           "caxis": {
            "gridcolor": "white",
            "linecolor": "white",
            "ticks": ""
           }
          },
          "title": {
           "x": 0.05
          },
          "xaxis": {
           "automargin": true,
           "gridcolor": "white",
           "linecolor": "white",
           "ticks": "",
           "title": {
            "standoff": 15
           },
           "zerolinecolor": "white",
           "zerolinewidth": 2
          },
          "yaxis": {
           "automargin": true,
           "gridcolor": "white",
           "linecolor": "white",
           "ticks": "",
           "title": {
            "standoff": 15
           },
           "zerolinecolor": "white",
           "zerolinewidth": 2
          }
         }
        },
        "title": {
         "text": "Total number of papers that mentions the Biological Target"
        },
        "xaxis": {
         "anchor": "y",
         "autorange": true,
         "domain": [
          0,
          1
         ],
         "range": [
          1996.5,
          2023.5
         ],
         "title": {
          "text": "Year"
         },
         "type": "linear"
        },
        "yaxis": {
         "anchor": "x",
         "autorange": true,
         "domain": [
          0,
          1
         ],
         "range": [
          0,
          66.3157894736842
         ],
         "title": {
          "text": "Total No. of publications"
         },
         "type": "linear"
        }
       }
      },
      "image/png": "[encoded data removed]",
      "text/html": [
       "<div>                            <div id=\"1ac46979-8f45-4383-a645-932dfad3c811\" class=\"plotly-graph-div\" style=\"height:400px; width:100%;\"></div>            <script type=\"text/javascript\">                require([\"plotly\"], function(Plotly) {                    window.PLOTLYENV=window.PLOTLYENV || {};                                    if (document.getElementById(\"1ac46979-8f45-4383-a645-932dfad3c811\")) {                    Plotly.newPlot(                        \"1ac46979-8f45-4383-a645-932dfad3c811\",                        [{\"alignmentgroup\":\"True\",\"hovertemplate\":\"Year=%{x}\\u003cbr\\u003eTotal No. of publications=%{y}\\u003cextra\\u003e\\u003c\\u002fextra\\u003e\",\"legendgroup\":\"\",\"marker\":{\"color\":\"#636efa\",\"pattern\":{\"shape\":\"\"}},\"name\":\"\",\"offsetgroup\":\"\",\"orientation\":\"v\",\"showlegend\":false,\"textposition\":\"auto\",\"texttemplate\":\"%{y:.2s}\",\"x\":[1997,1998,1999,2000,2001,2002,2003,2004,2005,2006,2007,2008,2009,2010,2011,2012,2013,2014,2015,2016,2017,2018,2019,2020,2021,2022,2023],\"xaxis\":\"x\",\"y\":[2,1,3,5,2,9,4,8,5,11,12,15,18,12,28,25,37,42,47,43,36,38,45,36,53,63,59],\"yaxis\":\"y\",\"type\":\"bar\"}],                        {\"template\":{\"data\":{\"histogram2dcontour\":[{\"type\":\"histogram2dcontour\",\"colorbar\":{\"outlinewidth\":0,\"ticks\":\"\"},\"colorscale\":[[0.0,\"#0d0887\"],[0.1111111111111111,\"#46039f\"],[0.2222222222222222,\"#7201a8\"],[0.3333333333333333,\"#9c179e\"],[0.4444444444444444,\"#bd3786\"],[0.5555555555555556,\"#d8576b\"],[0.6666666666666666,\"#ed7953\"],[0.7777777777777778,\"#fb9f3a\"],[0.8888888888888888,\"#fdca26\"],[1.0,\"#f0f921\"]]}],\"choropleth\":[{\"type\":\"choropleth\",\"colorbar\":{\"outlinewidth\":0,\"ticks\":\"\"}}],\"histogram2d\":[{\"type\":\"histogram2d\",\"colorbar\":{\"outlinewidth\":0,\"ticks\":\"\"},\"colorscale\":[[0.0,\"#0d0887\"],[0.1111111111111111,\"#46039f\"],[0.2222222222222222,\"#7201a8\"],[0.3333333333333333,\"#9c179e\"],[0.4444444444444444,\"#bd3786\"],[0.5555555555555556,\"#d8576b\"],[0.6666666666666666,\"#ed7953\"],[0.7777777777777778,\"#fb9f3a\"],[0.8888888888888888,\"#fdca26\"],[1.0,\"#f0f921\"]]}],\"heatmap\":[{\"type\":\"heatmap\",\"colorbar\":{\"outlinewidth\":0,\"ticks\":\"\"},\"colorscale\":[[0.0,\"#0d0887\"],[0.1111111111111111,\"#46039f\"],[0.2222222222222222,\"#7201a8\"],[0.3333333333333333,\"#9c179e\"],[0.4444444444444444,\"#bd3786\"],[0.5555555555555556,\"#d8576b\"],[0.6666666666666666,\"#ed7953\"],[0.7777777777777778,\"#fb9f3a\"],[0.8888888888888888,\"#fdca26\"],[1.0,\"#f0f921\"]]}],\"heatmapgl\":[{\"type\":\"heatmapgl\",\"colorbar\":{\"outlinewidth\":0,\"ticks\":\"\"},\"colorscale\":[[0.0,\"#0d0887\"],[0.1111111111111111,\"#46039f\"],[0.2222222222222222,\"#7201a8\"],[0.3333333333333333,\"#9c179e\"],[0.4444444444444444,\"#bd3786\"],[0.5555555555555556,\"#d8576b\"],[0.6666666666666666,\"#ed7953\"],[0.7777777777777778,\"#fb9f3a\"],[0.8888888888888888,\"#fdca26\"],[1.0,\"#f0f921\"]]}],\"contourcarpet\":[{\"type\":\"contourcarpet\",\"colorbar\":{\"outlinewidth\":0,\"ticks\":\"\"}}],\"contour\":[{\"type\":\"contour\",\"colorbar\":{\"outlinewidth\":0,\"ticks\":\"\"},\"colorscale\":[[0.0,\"#0d0887\"],[0.1111111111111111,\"#46039f\"],[0.2222222222222222,\"#7201a8\"],[0.3333333333333333,\"#9c179e\"],[0.4444444444444444,\"#bd3786\"],[0.5555555555555556,\"#d8576b\"],[0.6666666666666666,\"#ed7953\"],[0.7777777777777778,\"#fb9f3a\"],[0.8888888888888888,\"#fdca26\"],[1.0,\"#f0f921\"]]}],\"surface\":[{\"type\":\"surface\",\"colorbar\":{\"outlinewidth\":0,\"ticks\":\"\"},\"colorscale\":[[0.0,\"#0d0887\"],[0.1111111111111111,\"#46039f\"],[0.2222222222222222,\"#7201a8\"],[0.3333333333333333,\"#9c179e\"],[0.4444444444444444,\"#bd3786\"],[0.5555555555555556,\"#d8576b\"],[0.6666666666666666,\"#ed7953\"],[0.7777777777777778,\"#fb9f3a\"],[0.8888888888888888,\"#fdca26\"],[1.0,\"#f0f921\"]]}],\"mesh3d\":[{\"type\":\"mesh3d\",\"colorbar\":{\"outlinewidth\":0,\"ticks\":\"\"}}],\"scatter\":[{\"fillpattern\":{\"fillmode\":\"overlay\",\"size\":10,\"solidity\":0.2},\"type\":\"scatter\"}],\"parcoords\":[{\"type\":\"parcoords\",\"line\":{\"colorbar\":{\"outlinewidth\":0,\"ticks\":\"\"}}}],\"scatterpolargl\":[{\"type\":\"scatterpolargl\",\"marker\":{\"colorbar\":{\"outlinewidth\":0,\"ticks\":\"\"}}}],\"bar\":[{\"error_x\":{\"color\":\"#2a3f5f\"},\"error_y\":{\"color\":\"#2a3f5f\"},\"marker\":{\"line\":{\"color\":\"#E5ECF6\",\"width\":0.5},\"pattern\":{\"fillmode\":\"overlay\",\"size\":10,\"solidity\":0.2}},\"type\":\"bar\"}],\"scattergeo\":[{\"type\":\"scattergeo\",\"marker\":{\"colorbar\":{\"outlinewidth\":0,\"ticks\":\"\"}}}],\"scatterpolar\":[{\"type\":\"scatterpolar\",\"marker\":{\"colorbar\":{\"outlinewidth\":0,\"ticks\":\"\"}}}],\"histogram\":[{\"marker\":{\"pattern\":{\"fillmode\":\"overlay\",\"size\":10,\"solidity\":0.2}},\"type\":\"histogram\"}],\"scattergl\":[{\"type\":\"scattergl\",\"marker\":{\"colorbar\":{\"outlinewidth\":0,\"ticks\":\"\"}}}],\"scatter3d\":[{\"type\":\"scatter3d\",\"line\":{\"colorbar\":{\"outlinewidth\":0,\"ticks\":\"\"}},\"marker\":{\"colorbar\":{\"outlinewidth\":0,\"ticks\":\"\"}}}],\"scattermapbox\":[{\"type\":\"scattermapbox\",\"marker\":{\"colorbar\":{\"outlinewidth\":0,\"ticks\":\"\"}}}],\"scatterternary\":[{\"type\":\"scatterternary\",\"marker\":{\"colorbar\":{\"outlinewidth\":0,\"ticks\":\"\"}}}],\"scattercarpet\":[{\"type\":\"scattercarpet\",\"marker\":{\"colorbar\":{\"outlinewidth\":0,\"ticks\":\"\"}}}],\"carpet\":[{\"aaxis\":{\"endlinecolor\":\"#2a3f5f\",\"gridcolor\":\"white\",\"linecolor\":\"white\",\"minorgridcolor\":\"white\",\"startlinecolor\":\"#2a3f5f\"},\"baxis\":{\"endlinecolor\":\"#2a3f5f\",\"gridcolor\":\"white\",\"linecolor\":\"white\",\"minorgridcolor\":\"white\",\"startlinecolor\":\"#2a3f5f\"},\"type\":\"carpet\"}],\"table\":[{\"cells\":{\"fill\":{\"color\":\"#EBF0F8\"},\"line\":{\"color\":\"white\"}},\"header\":{\"fill\":{\"color\":\"#C8D4E3\"},\"line\":{\"color\":\"white\"}},\"type\":\"table\"}],\"barpolar\":[{\"marker\":{\"line\":{\"color\":\"#E5ECF6\",\"width\":0.5},\"pattern\":{\"fillmode\":\"overlay\",\"size\":10,\"solidity\":0.2}},\"type\":\"barpolar\"}],\"pie\":[{\"automargin\":true,\"type\":\"pie\"}]},\"layout\":{\"autotypenumbers\":\"strict\",\"colorway\":[\"#636efa\",\"#EF553B\",\"#00cc96\",\"#ab63fa\",\"#FFA15A\",\"#19d3f3\",\"#FF6692\",\"#B6E880\",\"#FF97FF\",\"#FECB52\"],\"font\":{\"color\":\"#2a3f5f\"},\"hovermode\":\"closest\",\"hoverlabel\":{\"align\":\"left\"},\"paper_bgcolor\":\"white\",\"plot_bgcolor\":\"#E5ECF6\",\"polar\":{\"bgcolor\":\"#E5ECF6\",\"angularaxis\":{\"gridcolor\":\"white\",\"linecolor\":\"white\",\"ticks\":\"\"},\"radialaxis\":{\"gridcolor\":\"white\",\"linecolor\":\"white\",\"ticks\":\"\"}},\"ternary\":{\"bgcolor\":\"#E5ECF6\",\"aaxis\":{\"gridcolor\":\"white\",\"linecolor\":\"white\",\"ticks\":\"\"},\"baxis\":{\"gridcolor\":\"white\",\"linecolor\":\"white\",\"ticks\":\"\"},\"caxis\":{\"gridcolor\":\"white\",\"linecolor\":\"white\",\"ticks\":\"\"}},\"coloraxis\":{\"colorbar\":{\"outlinewidth\":0,\"ticks\":\"\"}},\"colorscale\":{\"sequential\":[[0.0,\"#0d0887\"],[0.1111111111111111,\"#46039f\"],[0.2222222222222222,\"#7201a8\"],[0.3333333333333333,\"#9c179e\"],[0.4444444444444444,\"#bd3786\"],[0.5555555555555556,\"#d8576b\"],[0.6666666666666666,\"#ed7953\"],[0.7777777777777778,\"#fb9f3a\"],[0.8888888888888888,\"#fdca26\"],[1.0,\"#f0f921\"]],\"sequentialminus\":[[0.0,\"#0d0887\"],[0.1111111111111111,\"#46039f\"],[0.2222222222222222,\"#7201a8\"],[0.3333333333333333,\"#9c179e\"],[0.4444444444444444,\"#bd3786\"],[0.5555555555555556,\"#d8576b\"],[0.6666666666666666,\"#ed7953\"],[0.7777777777777778,\"#fb9f3a\"],[0.8888888888888888,\"#fdca26\"],[1.0,\"#f0f921\"]],\"diverging\":[[0,\"#8e0152\"],[0.1,\"#c51b7d\"],[0.2,\"#de77ae\"],[0.3,\"#f1b6da\"],[0.4,\"#fde0ef\"],[0.5,\"#f7f7f7\"],[0.6,\"#e6f5d0\"],[0.7,\"#b8e186\"],[0.8,\"#7fbc41\"],[0.9,\"#4d9221\"],[1,\"#276419\"]]},\"xaxis\":{\"gridcolor\":\"white\",\"linecolor\":\"white\",\"ticks\":\"\",\"title\":{\"standoff\":15},\"zerolinecolor\":\"white\",\"automargin\":true,\"zerolinewidth\":2},\"yaxis\":{\"gridcolor\":\"white\",\"linecolor\":\"white\",\"ticks\":\"\",\"title\":{\"standoff\":15},\"zerolinecolor\":\"white\",\"automargin\":true,\"zerolinewidth\":2},\"scene\":{\"xaxis\":{\"backgroundcolor\":\"#E5ECF6\",\"gridcolor\":\"white\",\"linecolor\":\"white\",\"showbackground\":true,\"ticks\":\"\",\"zerolinecolor\":\"white\",\"gridwidth\":2},\"yaxis\":{\"backgroundcolor\":\"#E5ECF6\",\"gridcolor\":\"white\",\"linecolor\":\"white\",\"showbackground\":true,\"ticks\":\"\",\"zerolinecolor\":\"white\",\"gridwidth\":2},\"zaxis\":{\"backgroundcolor\":\"#E5ECF6\",\"gridcolor\":\"white\",\"linecolor\":\"white\",\"showbackground\":true,\"ticks\":\"\",\"zerolinecolor\":\"white\",\"gridwidth\":2}},\"shapedefaults\":{\"line\":{\"color\":\"#2a3f5f\"}},\"annotationdefaults\":{\"arrowcolor\":\"#2a3f5f\",\"arrowhead\":0,\"arrowwidth\":1},\"geo\":{\"bgcolor\":\"white\",\"landcolor\":\"#E5ECF6\",\"subunitcolor\":\"white\",\"showland\":true,\"showlakes\":true,\"lakecolor\":\"white\"},\"title\":{\"x\":0.05},\"mapbox\":{\"style\":\"light\"}}},\"xaxis\":{\"anchor\":\"y\",\"domain\":[0.0,1.0],\"title\":{\"text\":\"Year\"}},\"yaxis\":{\"anchor\":\"x\",\"domain\":[0.0,1.0],\"title\":{\"text\":\"Total No. of publications\"}},\"legend\":{\"tracegroupgap\":0},\"title\":{\"text\":\"Total number of papers that mentions the Biological Target\"},\"barmode\":\"relative\",\"height\":400},                        {\"responsive\": true}                    ).then(function(){\n",
       "                            \n",
       "var gd = document.getElementById('1ac46979-8f45-4383-a645-932dfad3c811');\n",
       "var x = new MutationObserver(function (mutations, observer) {{\n",
       "        var display = window.getComputedStyle(gd).display;\n",
       "        if (!display || display === 'none') {{\n",
       "            console.log([gd, 'removed!']);\n",
       "            Plotly.purge(gd);\n",
       "            observer.disconnect();\n",
       "        }}\n",
       "}});\n",
       "\n",
       "// Listen for the removal of the full notebook cells\n",
       "var notebookContainer = gd.closest('#notebook-container');\n",
       "if (notebookContainer) {{\n",
       "    x.observe(notebookContainer, {childList: true});\n",
       "}}\n",
       "\n",
       "// Listen for the clearing of the current output cell\n",
       "var outputEl = gd.closest('.output');\n",
       "if (outputEl) {{\n",
       "    x.observe(outputEl, {childList: true});\n",
       "}}\n",
       "\n",
       "                        })                };                });            </script>        </div>"
      ]
     },
     "metadata": {},
     "output_type": "display_data"
    }
   ],
   "source": [
    "# Another Bar chart plot for visualisation\n",
    "\n",
    "fig = px.bar(proportion1, x='Year', y='PMID', labels={'PMID':'Total No. of publications'}, height=400, title = \"Total number of papers that mentions the Biological Target\", text_auto='.2s')\n",
    "fig.show()"
   ]
  },
  {
   "cell_type": "code",
   "execution_count": null,
   "id": "fa26d4e8-cc3d-46f1-a4c1-506a27c953f3",
   "metadata": {},
   "outputs": [],
   "source": []
  }
 ],
 "metadata": {
  "kernelspec": {
   "display_name": "Python 3 (ipykernel)",
   "language": "python",
   "name": "python3"
  },
  "language_info": {
   "codemirror_mode": {
    "name": "ipython",
    "version": 3
   },
   "file_extension": ".py",
   "mimetype": "text/x-python",
   "name": "python",
   "nbconvert_exporter": "python",
   "pygments_lexer": "ipython3",
   "version": "3.9.4"
  }
 },
 "nbformat": 4,
 "nbformat_minor": 5
}
