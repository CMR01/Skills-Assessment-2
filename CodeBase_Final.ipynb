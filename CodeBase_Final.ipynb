{
 "cells": [
  {
   "cell_type": "code",
   "execution_count": 1,
   "metadata": {},
   "outputs": [
    {
     "name": "stdout",
     "output_type": "stream",
     "text": [
      "Requirement already satisfied: nbformat in /Users/callumrobinson/miniconda3/lib/python3.11/site-packages (5.9.2)\n",
      "Requirement already satisfied: fastjsonschema in /Users/callumrobinson/miniconda3/lib/python3.11/site-packages (from nbformat) (2.19.1)\n",
      "Requirement already satisfied: jsonschema>=2.6 in /Users/callumrobinson/miniconda3/lib/python3.11/site-packages (from nbformat) (4.21.1)\n",
      "Requirement already satisfied: jupyter-core in /Users/callumrobinson/miniconda3/lib/python3.11/site-packages (from nbformat) (5.5.0)\n",
      "Requirement already satisfied: traitlets>=5.1 in /Users/callumrobinson/miniconda3/lib/python3.11/site-packages (from nbformat) (5.14.1)\n",
      "Requirement already satisfied: attrs>=22.2.0 in /Users/callumrobinson/miniconda3/lib/python3.11/site-packages (from jsonschema>=2.6->nbformat) (23.2.0)\n",
      "Requirement already satisfied: jsonschema-specifications>=2023.03.6 in /Users/callumrobinson/miniconda3/lib/python3.11/site-packages (from jsonschema>=2.6->nbformat) (2023.12.1)\n",
      "Requirement already satisfied: referencing>=0.28.4 in /Users/callumrobinson/miniconda3/lib/python3.11/site-packages (from jsonschema>=2.6->nbformat) (0.33.0)\n",
      "Requirement already satisfied: rpds-py>=0.7.1 in /Users/callumrobinson/miniconda3/lib/python3.11/site-packages (from jsonschema>=2.6->nbformat) (0.17.1)\n",
      "Requirement already satisfied: platformdirs>=2.5 in /Users/callumrobinson/miniconda3/lib/python3.11/site-packages (from jupyter-core->nbformat) (4.1.0)\n"
     ]
    }
   ],
   "source": [
    " ! pip install nbformat"
   ]
  },
  {
   "cell_type": "code",
   "execution_count": 2,
   "metadata": {},
   "outputs": [
    {
     "name": "stderr",
     "output_type": "stream",
     "text": [
      "/var/folders/rk/4jygjm4j35zcstlykt6f_j6c0000gn/T/ipykernel_57884/703778076.py:1: DeprecationWarning: \n",
      "Pyarrow will become a required dependency of pandas in the next major release of pandas (pandas 3.0),\n",
      "(to allow more performant data types, such as the Arrow string type, and better interoperability with other libraries)\n",
      "but was not found to be installed on your system.\n",
      "If this would cause problems for you,\n",
      "please provide us feedback at https://github.com/pandas-dev/pandas/issues/54466\n",
      "        \n",
      "  import pandas as pd\n"
     ]
    }
   ],
   "source": [
    "import pandas as pd\n",
    "import numpy as np\n",
    "import matplotlib.pyplot as plt\n",
    "import plotly.express as px\n",
    "from collections import Counter\n",
    "import os\n",
    "import scipy\n",
    "import networkx as nx\n",
    "from pyvis.network import Network\n",
    "import itertools\n",
    "import IPython.display as ipd\n",
    "import nltk\n",
    "from wordcloud import WordCloud\n",
    "import seaborn as sns\n",
    "from sklearn.feature_extraction.text import TfidfVectorizer\n",
    "import nbformat"
   ]
  },
  {
   "cell_type": "code",
   "execution_count": 3,
   "metadata": {},
   "outputs": [
    {
     "data": {
      "text/plain": [
       "'/Users/callumrobinson/Documents/Masters/Skills/Group 2'"
      ]
     },
     "execution_count": 3,
     "metadata": {},
     "output_type": "execute_result"
    }
   ],
   "source": [
    "os.getcwd()"
   ]
  },
  {
   "cell_type": "code",
   "execution_count": 4,
   "metadata": {},
   "outputs": [
    {
     "name": "stdout",
     "output_type": "stream",
     "text": [
      "         PMID                                              Title  \\\n",
      "0    10575721  [Computer-assisted preoperative planning of kn...   \n",
      "1    10617805  [Urogenital amyloidosis: clinico-pathological ...   \n",
      "2    10656443  Serum beta-2 microglobulin levels are a signif...   \n",
      "3    10790290  Exposure of Daudi cells to low-frequency magne...   \n",
      "4    10793017  Effects of dialyzer reuse on the permeability ...   \n",
      "..        ...                                                ...   \n",
      "660  37889281  Artificial intelligence in early detection and...   \n",
      "661  37972698  Screening the optimal housekeeping genes (HKGs...   \n",
      "662  38048169  Proteomics Analysis of Serum Reveals Potential...   \n",
      "663  38053293  Highly efficient genome editing via CRISPR-Cas...   \n",
      "664  38092161  Identification and validation of stable refere...   \n",
      "\n",
      "                                              Abstract       ISSN  \\\n",
      "0    The general configuration of replaced knee is ...  0035-1040   \n",
      "1    Amyloidosis of the genito-urinary tract is unc...  0242-6498   \n",
      "2    Our objective was to investigate the prognosti...  1078-0432   \n",
      "3    The effect of extremely low-frequency electrom...  0033-7587   \n",
      "4    Little attention has been given to the effects...  1523-6838   \n",
      "..                                                 ...        ...   \n",
      "660  Acute kidney injury (AKI) has a significant im...  1432-198X   \n",
      "661  Selection of stable housekeeping genes (HKGs) ...  1879-0038   \n",
      "662  Heart failure (HF), a complex clinical syndrom...  1535-3907   \n",
      "663  The CRISPR-Cas9 system has significantly advan...  1976-670X   \n",
      "664  Quantitative PCR (qPCR) is a widely-used techn...  1879-0038   \n",
      "\n",
      "                                               Journal  \\\n",
      "0    Revue de chirurgie orthopedique et reparatrice...   \n",
      "1                                Annales de pathologie   \n",
      "2    Clinical cancer research : an official journal...   \n",
      "3                                   Radiation research   \n",
      "4    American journal of kidney diseases : the offi...   \n",
      "..                                                 ...   \n",
      "660             Pediatric nephrology (Berlin, Germany)   \n",
      "661                                               Gene   \n",
      "662                       Journal of proteome research   \n",
      "663                                        BMB reports   \n",
      "664                                               Gene   \n",
      "\n",
      "                          Location  Year FirstAuthorForename  \\\n",
      "0                     (85) 591-600  1999                   E   \n",
      "1                      (19) 487-91  1999                   M   \n",
      "2                       (6) 147-52  2000                   J   \n",
      "3                      (153) 663-9  2000                 C A   \n",
      "4                      (35) 839-44  2000                 J P   \n",
      "..                             ...   ...                 ...   \n",
      "660     10.1007/s00467-023-06191-7  2023              Rupesh   \n",
      "661                   (895) 147966  2023             Nanjian   \n",
      "662  10.1021/acs.jproteome.3c00537  2023              Taohua   \n",
      "663                           5981  2023              A Reum   \n",
      "664          S0378-1119(23)00908-3  2023            Mahanthi   \n",
      "\n",
      "    FirstAuthorLastname FirstAuthorInitials  \\\n",
      "0             Nerkowski                   E   \n",
      "1             Esslimani                   M   \n",
      "2             Rodriguez                   J   \n",
      "3             Morehouse                  CA   \n",
      "4                 Matos                  JP   \n",
      "..                  ...                 ...   \n",
      "660               Raina                   R   \n",
      "661                 Luo                   N   \n",
      "662                 Lan                   T   \n",
      "663                 Han                  AR   \n",
      "664                Vasu                   M   \n",
      "\n",
      "                                FirstAuthorAffiliation  \n",
      "0                  Equipe B2M, ENSAM, Aix-en-Provence.  \n",
      "1    Service d'Anatomie Pathologique, Hôpital Gui d...  \n",
      "2    Department of Leukemia, University of Texas M....  \n",
      "3    FDA Center for Devices and Radiological Health...  \n",
      "4    Department of Internal Medicine, Division of N...  \n",
      "..                                                 ...  \n",
      "660  Akron Nephrology Associates/Cleveland Clinic A...  \n",
      "661  School of Preclinical Medicine, Zunyi Medical ...  \n",
      "662  State Key Laboratory of Dampness Syndrome of C...  \n",
      "663                                                NaN  \n",
      "664  ICAR-National Bureau of Animal Genetic Resourc...  \n",
      "\n",
      "[665 rows x 11 columns]\n"
     ]
    }
   ],
   "source": [
    "#Importing data\n",
    "sk_data = pd.read_csv(\"/Users/callumrobinson/Documents/Masters/Skills/Group 2/articles.B2M.csv\")\n",
    "print(sk_data)"
   ]
  },
  {
   "cell_type": "code",
   "execution_count": 5,
   "metadata": {},
   "outputs": [
    {
     "name": "stdout",
     "output_type": "stream",
     "text": [
      "523\n",
      "665\n",
      "142\n"
     ]
    }
   ],
   "source": [
    "# Finding how many unique names appear multiple times? (surname)\n",
    "all_names = np.unique(sk_data['FirstAuthorLastname']).tolist()\n",
    "print(len(all_names))\n",
    "print(len(sk_data['FirstAuthorLastname']))\n",
    "print(len(sk_data['FirstAuthorLastname'])-len(all_names))\n"
   ]
  },
  {
   "cell_type": "code",
   "execution_count": 6,
   "metadata": {},
   "outputs": [
    {
     "name": "stdout",
     "output_type": "stream",
     "text": [
      "31\n",
      "0        E Nerkowski\n",
      "1        M Esslimani\n",
      "2        J Rodriguez\n",
      "3      C A Morehouse\n",
      "4          J P Matos\n",
      "           ...      \n",
      "660     Rupesh Raina\n",
      "661      Nanjian Luo\n",
      "662       Taohua Lan\n",
      "663       A Reum Han\n",
      "664    Mahanthi Vasu\n",
      "Length: 665, dtype: object\n"
     ]
    }
   ],
   "source": [
    "# Finding how many names appear multiple times (full name)\n",
    "full_name = sk_data['FirstAuthorForename'] + ' ' + sk_data['FirstAuthorLastname']\n",
    "print(len(full_name) - len(np.unique(full_name))) #so there are 31 names which appear multiple times\n",
    "print(full_name)"
   ]
  },
  {
   "cell_type": "code",
   "execution_count": 7,
   "metadata": {},
   "outputs": [
    {
     "name": "stdout",
     "output_type": "stream",
     "text": [
      "Counter({'Mariana Ferreira Leal': 4, 'Meredith C Foster': 3, 'Changhoon Yoo': 3, 'Nontaphat Thongsin': 3, 'Xunwei Wu': 2, 'Taiyi Jin': 2, 'Renfu Yin': 2, 'Yi Ma': 2, 'Robert Rekawiecki': 2, 'C Haas': 2, 'Malgorzata Krzystek-Korpacka': 2, 'Xiuying Li': 2, 'Lesley A Inker': 2, 'I-Hua Chen': 2, 'Kellie B Haworth': 2, 'F M McGovern': 2, 'Shean-Jaw Chiou': 2, 'Johannes Breyer': 2, 'Yu Du': 2, 'Benjamin J Feinberg': 2, 'Gilar Gorji-Bahri': 2, 'Maria Rasmussen': 2, 'Swati Agrawal': 2, 'Guo-Hua Wang': 2, 'Esben Iversen': 2, 'Xiaomeng Hu': 2, 'E Nerkowski': 1, 'M Esslimani': 1, 'J Rodriguez': 1, 'C A Morehouse': 1, 'J P Matos': 1, 'R Fonseca': 1, 'J B Lopez': 1, 'V Scudla': 1, 'K Ohashi': 1, 'H Zhou': 1, 'J E Dickens': 1, 'N Korolev': 1, 'Sharon L Mount': 1, 'Peter D Lee': 1, 'Guido Tricot': 1, 'José Luis Bedini': 1, 'Torben Moos': 1, 'P Moreau': 1, 'Avital Lev': 1, 'D M Lillington': 1, 'D Barbaric': 1, 'H Zhang': 1, 'Simona Gatto': 1, 'Christopher R E McEvoy': 1, 'E Beillard': 1, 'George T John': 1, 'Michael L Clawson': 1, 'W J Zhuang': 1, 'A C Carvalho Matos': 1, 'R García-Sanz': 1, 'Florian Haller': 1, 'Lisa M Maier': 1, 'Roberto Bettini': 1, 'R Kamble': 1, 'Falk Ohl': 1, 'C Allison Gray': 1, 'Yoko Takahashi': 1, 'Elodie Duprat': 1, 'Ho-Geun Yoon': 1, 'Michael J Wacker': 1, 'Lorenza Vitale': 1, 'Mark Wunderlich': 1, 'Michael Q Kemp': 1, 'Mona Khurana': 1, 'Bas Brinkhof': 1, 'Jana Rulcová': 1, 'Holger Schmid': 1, 'Sofia Johansson': 1, 'M G Hamerski': 1, 'Stefan Toegel': 1, 'H Miles Prince': 1, 'Ilaria Iacobucci': 1, 'Seram Lee': 1, 'Joanne C Cooper': 1, 'Margaret M Joyce': 1, 'José David Herrero-Morín': 1, 'Hendrik J M de Jonge': 1, 'Malathi Banda': 1, 'Yoo-Hyun Lee': 1, 'B Stella-Holowiecka': 1, 'Jiang F Zhong': 1, 'Maria B Lyng': 1, 'Claudia Piana': 1, 'J Shrout': 1, 'Ikuko Mizuta': 1, 'Serge C Thal': 1, 'Frank Neumann': 1, 'J Kanter': 1, 'Brian C Small': 1, 'Craig Blum': 1, 'Wei-Tung Lin': 1, 'M A Melikoglu': 1, 'Cristina Aparecida Troques da Silveira Mitteldorf': 1, 'Madhav V Dhodapkar': 1, 'Shinichiro Kagawa': 1, 'Sanjeev K Akkina': 1, 'Yan-Qing Yang': 1, 'Marielle Heinrich': 1, 'Yvette M Schlotter': 1, 'Y Khaled': 1, 'M Orkun Sahsivar': 1, 'Julio Delgado': 1, 'A K G Kadegowda': 1, 'Kil S Lee': 1, 'Gilad Silberberg': 1, 'Gunnar F Nordberg': 1, 'Bala Gur-Dedeoglu': 1, 'Jens Stern-Straeter': 1, 'Benjamin Lallemant': 1, 'Beatriz Honorato': 1, 'Laura Troidle': 1, 'G A Johnson': 1, 'Martha Q Lacy': 1, 'Fengchao Wang': 1, 'Davide Rossi': 1, 'Gai-Ping Wang': 1, 'Jean-Marie Bruey': 1, 'Ingrid Zegers': 1, 'Maja A Hofmann': 1, 'Jean McBryan': 1, 'Yuanming Shen': 1, 'Simone Helmig': 1, 'A Muñoz': 1, 'Vilma Valceckiene': 1, 'Y Shima': 1, 'Estrid Høgdall': 1, 'Alexander Jais': 1, 'Wei Dang': 1, 'Pachiappan Chitra': 1, 'Rajesh Rajpal': 1, 'Marijana Dajak': 1, 'R C Elders': 1, 'Seyit A Kayis': 1, 'Liesbeth Ceelen': 1, 'Radhakrishnan Nagarajan': 1, 'Shouqi Wang': 1, 'Alessandro Martino': 1, \"Peter J O'Shaughnessy\": 1, 'Jasmin Amighi': 1, 'Antonia Kolokythas': 1, 'A Das': 1, 'Benoit Favier': 1, 'Robert A M Vreeburg': 1, 'Ju Xiang-Hong': 1, 'Siang Ling Chua': 1, 'Felix Bormann': 1, 'K Sfiridaki': 1, 'Alexandre S Stephens': 1, 'Yu-Hsiang Lee': 1, 'Matthias Hoke': 1, 'Dirk Hose': 1, 'A Tikidzhieva': 1, 'Jeyanthy Eswaran': 1, 'Jessica M Winkler': 1, 'Martin F Flajnik': 1, 'D Föll': 1, 'Deborah Studer': 1, 'Gunnar Nordberg': 1, 'Revital Sharivkin': 1, 'N Varshney': 1, 'Bruno Silva': 1, 'Ana Paula Santin': 1, 'Kiave-Yune HoWangYin': 1, 'Viktor Hendrik Koelzer': 1, 'Sophie Liabeuf': 1, 'Ping Wang': 1, 'D G Ndossi': 1, 'Dania Vázquez-Blomquist': 1, 'Xiao-Xiang Peng': 1, 'Herlander Marques': 1, 'George Tsirakis': 1, 'Barbara Żyżyńska-Granica': 1, 'Aline Francielle Damo Souza': 1, 'Fei Gao': 1, 'Ulrich Andergassen': 1, 'Enrico Ragni': 1, 'Hiroyuki Takahashi': 1, 'B Bahar': 1, 'Adrienne Tin': 1, 'Yoshiki Fujii': 1, 'M Sodhi': 1, 'P Brym': 1, 'Saman Hewamana': 1, 'Ching-Lung Cheung': 1, 'Heng Zhang': 1, 'Laura Riolobos': 1, 'Pengfei Lin': 1, 'Iana H Haralambieva': 1, 'Qi Wang': 1, 'Zhichen Zhai': 1, 'A S Ertugrul': 1, 'Y Kılıç': 1, 'William R Vorachek': 1, 'Toshiyuki Tanaka': 1, 'Chang Geng Yang': 1, 'Chang Wu': 1, 'Selma Unal': 1, 'Brian Ponnaiya': 1, 'Ma Liman': 1, 'Nathalie Neirynck': 1, 'Cristina Toledo-Cornell': 1, 'Yoshinori Shimamoto': 1, 'Mostafa Sadeghi': 1, 'Theresa Schildberg': 1, 'Ahmed M L Bedewy': 1, 'Qing Yan': 1, 'Olivera Marsenic': 1, 'Qingheng Xu': 1, 'Francesca Fantasia': 1, 'Vít Procházka': 1, 'M Kloor': 1, 'Elizabeth D Ruedrich': 1, 'W L Bai': 1, 'Mohammad Javad Najafpanah': 1, 'Teresa Palomero': 1, 'Changjun Zeng': 1, 'Z K Klippel': 1, 'Cheng Zhan': 1, 'Wanlong Ma': 1, 'Zhi-Jie Zhou': 1, 'Juan Zhang': 1, 'Yasuhiro Nihon-Yanagi': 1, 'Conghui Liu': 1, 'Timothy R Powell': 1, 'Raj Kumar Duary': 1, 'Michael G Alexandrakis': 1, 'Diego Real de Asúa': 1, 'Jing Cai': 1, 'Vladisav Stefanović': 1, 'Yasuhiro Uno': 1, 'Hamidreza Abdolsamadi': 1, 'Emel Saglar': 1, 'Raquel Weber': 1, 'Jiying Wang': 1, 'Silvia Park': 1, 'Asha R Kallianpur': 1, 'Ahmed S Abdoon': 1, 'Noel F C C de Miranda': 1, 'Fei Mo': 1, 'S Thangminlal Vaiphei': 1, 'M K Kim': 1, 'Sadik A Khuder': 1, 'Qiaoling Li': 1, 'Hendrik Nolte': 1, 'Daniel Wong': 1, 'Chiz-Tzung Chang': 1, 'A C Oliveira': 1, 'Chiara Romani': 1, 'John P Grady': 1, 'Jonathan Reichel': 1, 'Miguel Calero-Garcia': 1, 'Pankaj K Mandal': 1, 'Sang-Je Park': 1, 'Hassan Ali': 1, 'Jung-Min Le': 1, 'Farzad Maroofi': 1, 'Michael S Rooney': 1, 'Michela Codini': 1, 'Takashi Shinha': 1, 'Andrew J Soulby': 1, 'S Bagés': 1, 'Omid Sedighi': 1, 'Zaruhi Karabekian': 1, 'Wuzheng Zhu': 1, 'Rodrigue S Allodji': 1, 'Joren Verbeke': 1, 'Lucyna Kaszubowska': 1, 'Yu-Xi He': 1, 'Hecheng Ma': 1, 'Lucian Beer': 1, 'Hanadie Yousef': 1, 'Baohai Shao': 1, 'Carlos S Nascimento': 1, 'Maria Devetzoglou': 1, 'Carina E P Kozmus': 1, 'Mateus Milani': 1, 'Ralph Timaru-Kast': 1, 'Lucas K Smith': 1, 'Angelito I Nepomuceno': 1, 'Kazuho Miyashita': 1, 'Yan Liu': 1, 'Chun Liu': 1, 'Philip A Thompson': 1, 'Francisco Javier Carretero': 1, 'Robert C Barber': 1, 'S M Ouda': 1, 'Rui Wu': 1, 'Ophélie I Berthuy': 1, 'Dustin J Little': 1, 'Emilia Coppari': 1, 'D Borowska': 1, 'Ihsène Taïhi': 1, 'Anna E Prizment': 1, 'Joseph Mendy': 1, 'T A N Mahakapuge': 1, 'Wenwen Sun': 1, 'Zhaoping Yan': 1, 'Luciana Fraga da Costa Diesel': 1, 'Maria Beatriz Monteiro': 1, 'Karin Mossberg': 1, 'Fang Zhao': 1, 'Julien Broséus': 1, 'X N Wang': 1, 'M Du': 1, 'M Pizzi': 1, 'F Lamers': 1, 'Xiaodong Su': 1, 'Bobbie R Erickson': 1, 'Leonie van Meer': 1, 'Hung-Chieh Wu': 1, 'Guido Filler': 1, 'Neeta L Vora': 1, 'Andrea Petretto': 1, 'Oliver J Harrison': 1, 'Agata A Filip': 1, 'Luís Lima': 1, 'Ha Young Park': 1, 'Justin Rebo': 1, 'Sara Azarpeykan': 1, 'Yong Wang': 1, 'Federico Garrido': 1, 'Silvia Palombella': 1, 'Huan Wang': 1, 'Shende Ashish': 1, 'Ling You': 1, 'M C Foster': 1, 'Á Simon': 1, 'Ewa Usarek': 1, 'Stefan Michiels': 1, 'Rosa Bosch': 1, 'Karin Werner': 1, 'Thomas Menter': 1, 'Jan Budczies': 1, 'Daiane Cristina F Golbert': 1, 'Germán G Gornalusse': 1, 'Nils Ternès': 1, 'Mark Clendenning': 1, 'Cornelia Siebenkäs': 1, 'M A Crookenden': 1, 'Sami Samiullah': 1, 'Anutosh Paria': 1, 'Thong Minh Le': 1, 'S Haunshi': 1, 'Rafael P de Campos': 1, 'Dale A Sandercock': 1, 'Aurélie Auguste': 1, 'Moshe Sade-Feldman': 1, 'Diana Freitag': 1, 'Zu-Yun Liu': 1, 'Hiroshi Watanabe': 1, 'S Vanni': 1, 'X J Chen': 1, 'Xuming Hu': 1, 'Manyi Tan': 1, 'Shanshan Ma': 1, 'Blessy George': 1, 'David D W Twa': 1, 'Ioannis A Voutsadakis': 1, 'Ramin Shekarriz': 1, 'X Chen': 1, 'Ramneek Kaur': 1, 'Mayada R Farag': 1, 'Chenglong Zhang': 1, 'S P Kovalenko': 1, 'Maria Kokonozaki': 1, 'Junjie Wang': 1, 'C Demoor-Goldschmidt': 1, 'Xiaojun Liu': 1, 'Ping Zhang': 1, 'Xiaolong Alan Zhou': 1, 'Tae Ik Chang': 1, 'Zhengchao Gao': 1, 'Chao-Jung Chen': 1, 'João Henrique Barbosa Toscano': 1, 'Vigneshwari Easwar Kumar': 1, 'Xiaoyun Xu': 1, 'Darius Juskevicius': 1, 'María A Garrido': 1, 'Caroline Royer': 1, 'Zhizhou Kuang': 1, 'Shujin Wang': 1, 'Maja Pajek': 1, 'Ikuto Masakane': 1, 'Hai-Jun Wang': 1, 'Jason J Pitt': 1, 'Amit Ranjan Sahu': 1, 'Jeffrey L Ebersole': 1, 'Ratan K Choudhary': 1, 'Su Yeon Yeon': 1, 'Kevin T Barton': 1, 'Elizabeth Tengstrand': 1, 'Kim Wong': 1, 'John C W Hildyard': 1, 'Huaigeng Xu': 1, 'H Le-Niculescu': 1, 'Benjamin R Griffin': 1, 'Aikaterini Emmanouilidi': 1, 'Maria Gómez-Herranz': 1, 'Frédérique St-Pierre': 1, 'Paul Barrow': 1, 'Albert Batista Muñoz': 1, 'Xiaobo Bao': 1, 'Axel Ronald Schulz': 1, 'Craig S Richmond': 1, 'Lei Zhang': 1, 'Monica Hongrø Solbakken': 1, 'Wellington F da Silva': 1, 'Kaixuan Wang': 1, 'Maria Saigi': 1, 'Ana F Ferreira': 1, 'I M Gimeno': 1, 'Ganchimeg Ishdorj': 1, 'Andrea Castro': 1, 'V Asselstine': 1, 'Huilai Zhang': 1, 'Kai Lauri': 1, 'Atsushi Makimoto': 1, 'Nageswar Reddy Manchala': 1, 'Areti Strati': 1, 'Momoko Nishikori': 1, 'Sounak Gupta': 1, 'S Adeleh Razavi': 1, 'M M Angioni': 1, 'D S Kutilin': 1, 'Maryam Pourmaleki': 1, 'Bjoern Chapuy': 1, 'Buddhi N T W Fernando': 1, 'Camilla Albertina Dantas de Lima': 1, 'Eduard O Roos': 1, 'Bryan D Choi': 1, 'Yuqing Zhang': 1, 'Rabea Hein': 1, 'Leyre Bento': 1, 'Muhammad I Achakzai': 1, 'Kirsty Wienand': 1, 'Zuzana Snahnicanova': 1, 'Shaza B Zaghlool': 1, 'JingSi Chen': 1, 'Yunkun Li': 1, 'Anne-Sophie Bargnoux': 1, 'Varun L Kopparthy': 1, 'Liang Quan': 1, 'Qi Zhong': 1, 'Vincent Camus': 1, 'Michael Koziolek': 1, 'Roshini Kalagara': 1, 'Manousos Makridakis': 1, 'J K Marima': 1, 'Sandra Petrus-Reurer': 1, 'Martha Zavridou': 1, 'Theerachai Thammathiwat': 1, 'Shiyu Jiang': 1, 'Abdullah S Al Saleh': 1, 'Iwona Bednarz-Misa': 1, 'Nicole Forneris': 1, 'Dale Davis': 1, 'Lili Yue': 1, 'Makiko Ogawa': 1, 'Sekaran Balaji': 1, 'Xiaokai Wang': 1, 'Gazal Patnaik': 1, 'Lei Shi': 1, 'Clémentine Sarkozy': 1, 'Keiko Koga': 1, 'Jeewon Lee': 1, 'Armin Holch': 1, 'Qimeng Wang': 1, 'Juan Jose Rendon-Rodriguez': 1, 'Jinfang Yang': 1, 'Adam R Davis': 1, 'Sarah Arrowsmith': 1, 'Athira Anirudhan': 1, 'Karam Khaddour': 1, 'Fabiana Cristina Belchior de Sousa': 1, 'Litika Vermani': 1, 'Bas Molenaar': 1, 'Daniele Mercatelli': 1, 'Fanchao Shi': 1, 'Yi-Hui Gu': 1, 'Giovanni Germano': 1, 'Hao Zhang': 1, 'Michael Hansen': 1, 'Yao Zhu': 1, 'Lelde Kalnina': 1, 'Zhejun Chen': 1, 'K S M Abdul': 1, 'Bei-Bei Zhang': 1, 'Jun Wang': 1, 'Z-J Meng': 1, 'Emilie Montenont': 1, 'Feng Tang': 1, 'Shweta Chaudhary': 1, 'Vito Amodio': 1, 'Yu Zhao': 1, 'Hanbing Wang': 1, 'Yuki Okutani': 1, 'Kristin Hieronymus': 1, 'M E Bogomiakova': 1, 'Xiaoqian Lu': 1, 'Dhanin Puthiyottil': 1, 'Christo Tsilifis': 1, 'Shangyan Liang': 1, 'Miguel Alcoceba': 1, 'Ehsan Razeghian': 1, 'Yelei Guo': 1, 'Anna Supernat': 1, 'S Y Cindy Yang': 1, 'Ruben A L de Groen': 1, 'Zhangbin Liao': 1, 'Fafen Yang': 1, 'Loïc Angrand': 1, 'Elham Askari': 1, 'Julien Calvani': 1, 'Claudio Luchini': 1, 'Carla Casulo': 1, 'Marta Poblocka': 1, 'Masahito Kawazu': 1, 'Leticia da Conceição Braga': 1, 'Alessandro Cherubini': 1, 'Marion Leboyer': 1, 'Alvin Y Liu': 1, 'Ok-Hee Lee': 1, 'Dejin Zheng': 1, 'Si Hyung Lee': 1, 'Chanchan Song': 1, 'P Ostheim': 1, 'Dehai Wu': 1, 'Meisam Naeimi Kararoudi': 1, 'Md Bipul Hossain': 1, 'Hemin Jiang': 1, 'Tatsuhiro Shibata': 1, 'Ming Sun': 1, 'Chenzhi Zhang': 1, 'Huijuan Lv': 1, 'Cindy Dirscherl': 1, 'Yukio Maruyama': 1, 'Ani Manichaikul': 1, 'Wanni Zhao': 1, 'Joyshikh Sonowal': 1, 'Kaixiang Xu': 1, 'Shuwen Jiang': 1, 'Stefania Tuveri': 1, 'Yangxi Huang': 1, 'Rodrigo da Silva Nunes Barreto': 1, 'Shaojie Liu': 1, 'M Witkowski': 1, 'Sumin Jo': 1, 'Md Al-Mustanjid': 1, 'Daqi Li': 1, 'C A Martinez': 1, 'Alieh Gholaminejad': 1, 'Morten Nielsen': 1, 'Hailian Lin': 1, 'Loredana Ruggeri': 1, 'Kunwar Singh': 1, 'Bo Jiang': 1, 'Chuqiao Wang': 1, 'Xiaoxuan Wang': 1, 'Kimberly A Luddy': 1, 'Rongrong Hu': 1, 'Camilla Broggini': 1, 'Sheena L M Ong': 1, 'Guoqiang Ren': 1, 'Sheng Yang': 1, 'Tristan Loveday': 1, 'Jianfeng Ma': 1, \"Xiao'e Fan\": 1, 'Manish Tiwari': 1, 'Qingyu Zhan': 1, 'Rafi Mazor': 1, 'Yajie Tang': 1, 'Xiaoming Dong': 1, 'Alejandro Matía': 1, 'Jenny-Helena Söllner': 1, 'Alessia Gravina': 1, 'Miaoxia He': 1, 'Kristina M Babler': 1, 'Erin M Parry': 1, 'Joo Y Song': 1, 'Jae-Hyeon Im': 1, 'Muhammad Naeem': 1, 'Yifan Chen': 1, 'Francesco Maura': 1, 'Fangcen Liu': 1, 'Theresa Hiltner': 1, 'Marie Grosgeorges': 1, 'Nghia Nhu Nguyen': 1, 'Yue Gao': 1, 'Christopher J Forlenza': 1, 'Hang Fang': 1, 'Xiujuan Fu': 1, 'Rashmeet Kaur': 1, 'Kelsy C Cotto': 1, 'Marta Grau': 1, 'Niki Gavrielatou': 1, 'Arianna Draghi': 1, 'Juanying Zhen': 1, 'Mu Yuan': 1, 'Antoni Vallbona-Garcia': 1, 'Juan Yang': 1, 'Jack J Haslett': 1, 'Halla M Ragab': 1, 'Dikshat Gopal Gupta': 1, 'David A Russler-Germain': 1, 'Evidence-Based Complementary And Alternative Medicine': 1, 'Justin E Miller': 1, 'Violetta Rosiek': 1, 'Le Li': 1, 'Nadescha Viviane Hänggi': 1, 'Xianming Wang': 1, 'Shin Kim': 1, 'Michael B Mumphrey': 1, 'Patrice Nasnas': 1, 'Rajalakshmi Ramamoorthy': 1, 'Hong-Su Zhou': 1, 'Davis Y Torrejon': 1, 'Nathalie Kure': 1, 'Amirreza Khalaji': 1, 'Yan Zhang': 1, 'Lonneke H Gaykema': 1, 'Yang Hu': 1, 'Dong Hyun Lee': 1, 'Diana I Aparicio-Bautista': 1, 'Rupesh Raina': 1, 'Nanjian Luo': 1, 'Taohua Lan': 1, 'A Reum Han': 1, 'Mahanthi Vasu': 1})\n"
     ]
    }
   ],
   "source": [
    "#which names appear the most frequently\n",
    "sorted_auth = Counter(full_name)\n",
    "print(sorted_auth)\n"
   ]
  },
  {
   "cell_type": "code",
   "execution_count": 8,
   "metadata": {},
   "outputs": [
    {
     "name": "stdout",
     "output_type": "stream",
     "text": [
      "Counter({'Mariana Ferreira Leal': 4, 'Meredith C Foster': 3, 'Changhoon Yoo': 3, 'Nontaphat Thongsin': 3, 'Xunwei Wu': 2, 'Taiyi Jin': 2, 'Renfu Yin': 2, 'Yi Ma': 2, 'Robert Rekawiecki': 2, 'C Haas': 2, 'Malgorzata Krzystek-Korpacka': 2, 'Xiuying Li': 2, 'Lesley A Inker': 2, 'I-Hua Chen': 2, 'Kellie B Haworth': 2, 'F M McGovern': 2, 'Shean-Jaw Chiou': 2, 'Johannes Breyer': 2, 'Yu Du': 2, 'Benjamin J Feinberg': 2, 'Gilar Gorji-Bahri': 2, 'Maria Rasmussen': 2, 'Swati Agrawal': 2, 'Guo-Hua Wang': 2, 'Esben Iversen': 2, 'Xiaomeng Hu': 2})\n"
     ]
    }
   ],
   "source": [
    "#Removing authors who only appear once\n",
    "multi_auth = Counter(x for x in sorted_auth.elements() if sorted_auth[x] > 1)\n",
    "print(multi_auth)"
   ]
  },
  {
   "cell_type": "code",
   "execution_count": 9,
   "metadata": {},
   "outputs": [
    {
     "data": {
      "text/plain": [
       "<function matplotlib.pyplot.show(close=None, block=None)>"
      ]
     },
     "execution_count": 9,
     "metadata": {},
     "output_type": "execute_result"
    },
    {
     "data": {
      "image/png": "[encoded data removed]",
      "text/plain": [
       "<Figure size 640x480 with 1 Axes>"
      ]
     },
     "metadata": {},
     "output_type": "display_data"
    }
   ],
   "source": [
    "#plot for above data\n",
    "fig = plt.figure()  #Setting colour to match presentation\n",
    "fig.patch.set_facecolor('#fffbf0')\n",
    "ax = plt.axes()\n",
    "ax.set_facecolor('#fffbf0')\n",
    "plt.bar(multi_auth.keys(), multi_auth.values(), color = 'teal')\n",
    "\n",
    "\n",
    "plt.xlabel('Author Name')\n",
    "\n",
    "plt.xticks(rotation = 90)\n",
    "plt.ylabel('Number of Papers Published')\n",
    "plt.title('Number of Papers published by the Most Active Authors')\n",
    "\n",
    "\n",
    "plt.show\n"
   ]
  },
  {
   "cell_type": "code",
   "execution_count": 10,
   "metadata": {},
   "outputs": [],
   "source": [
    "# Which year had the greatest proportion of B2M papers?\n",
    "pub_year_data = pd.read_csv('/Users/callumrobinson/Documents/Masters/Skills/Group 2/paper_counts.csv')\n",
    "b2m_year_data = Counter(sk_data['Year'])"
   ]
  },
  {
   "cell_type": "code",
   "execution_count": 11,
   "metadata": {},
   "outputs": [
    {
     "name": "stdout",
     "output_type": "stream",
     "text": [
      "     Year    Count\n",
      "0    1799        1\n",
      "1    1801        1\n",
      "2    1802        1\n",
      "3    1805        1\n",
      "4    1866        1\n",
      "..    ...      ...\n",
      "138  2020  1132241\n",
      "139  2021  1277048\n",
      "140  2022  1324650\n",
      "141  2023  1302390\n",
      "142  2024    15611\n",
      "\n",
      "[143 rows x 2 columns]\n"
     ]
    }
   ],
   "source": [
    "print(pub_year_data)"
   ]
  },
  {
   "cell_type": "code",
   "execution_count": 12,
   "metadata": {},
   "outputs": [
    {
     "name": "stdout",
     "output_type": "stream",
     "text": [
      "    Year  Count\n",
      "2   1997      2\n",
      "5   1998      1\n",
      "0   1999      3\n",
      "1   2000      5\n",
      "3   2001      2\n",
      "4   2002      9\n",
      "6   2003      4\n",
      "7   2004      8\n",
      "8   2005      5\n",
      "9   2006     11\n",
      "10  2007     13\n",
      "11  2008     15\n",
      "12  2009     18\n",
      "13  2010     12\n",
      "14  2011     28\n",
      "15  2012     25\n",
      "16  2013     38\n",
      "17  2014     42\n",
      "18  2015     48\n",
      "19  2016     44\n",
      "20  2017     36\n",
      "21  2018     38\n",
      "22  2019     45\n",
      "23  2020     36\n",
      "24  2021     53\n",
      "25  2022     63\n",
      "26  2023     61\n"
     ]
    }
   ],
   "source": [
    "# adding and cleaning b2m data\n",
    "b2m_year_data = pd.DataFrame.from_dict(b2m_year_data, orient='index').reset_index()\n",
    "b2m_year_data = b2m_year_data.rename(columns={'index':'Year', 0:'Count'})\n",
    "b2m_year_data = b2m_year_data.sort_values(by = ['Year'])\n",
    "print(b2m_year_data)"
   ]
  },
  {
   "cell_type": "code",
   "execution_count": 13,
   "metadata": {},
   "outputs": [],
   "source": [
    "# Cleaning pubmed data\n",
    "pub_year_data = pub_year_data.iloc[115:-1,:]\n",
    "pub_year_data = pub_year_data.reset_index(drop = True)"
   ]
  },
  {
   "cell_type": "code",
   "execution_count": 14,
   "metadata": {},
   "outputs": [
    {
     "name": "stdout",
     "output_type": "stream",
     "text": [
      "    Year    Count\n",
      "0   1997   313743\n",
      "1   1998   329438\n",
      "2   1999   340740\n",
      "3   2000   373439\n",
      "4   2001   388963\n",
      "5   2002   405519\n",
      "6   2003   426752\n",
      "7   2004   459362\n",
      "8   2005   492511\n",
      "9   2006   521278\n",
      "10  2007   548061\n",
      "11  2008   585286\n",
      "12  2009   618504\n",
      "13  2010   653739\n",
      "14  2011   702139\n",
      "15  2012   765156\n",
      "16  2013   809074\n",
      "17  2014   850568\n",
      "18  2015   876117\n",
      "19  2016   896208\n",
      "20  2017   907250\n",
      "21  2018   959228\n",
      "22  2019   999175\n",
      "23  2020  1132241\n",
      "24  2021  1277048\n",
      "25  2022  1324650\n",
      "26  2023  1302390\n"
     ]
    }
   ],
   "source": [
    "print(pub_year_data)"
   ]
  },
  {
   "cell_type": "code",
   "execution_count": 15,
   "metadata": {},
   "outputs": [
    {
     "data": {
      "text/plain": [
       "<function matplotlib.pyplot.show(close=None, block=None)>"
      ]
     },
     "execution_count": 15,
     "metadata": {},
     "output_type": "execute_result"
    },
    {
     "data": {
      "image/png": "[encoded data removed]",
      "text/plain": [
       "<Figure size 640x480 with 1 Axes>"
      ]
     },
     "metadata": {},
     "output_type": "display_data"
    }
   ],
   "source": [
    "# Plot for total papers published\n",
    "col = ['teal', 'black']\n",
    "fig = plt.figure()  #Setting colour to match presentation\n",
    "fig.patch.set_facecolor('#fffbf0')\n",
    "ax = plt.axes()\n",
    "ax.set_facecolor('#fffbf0')\n",
    "\n",
    "plt.plot(pub_year_data['Year'], pub_year_data['Count'], c = 'teal') #Plot\n",
    "plt.plot(b2m_year_data['Year'],b2m_year_data['Count'], c = 'black') \n",
    "\n",
    "plt.xlabel('Year') # Labels\n",
    "plt.ylabel('Number of Papers')\n",
    "plt.title('Number of B2M papers and Total Papers Published to PubMed')\n",
    "\n",
    "plt.show"
   ]
  },
  {
   "cell_type": "code",
   "execution_count": 16,
   "metadata": {},
   "outputs": [],
   "source": [
    "#Ratio calculation\n",
    "year_ratio = b2m_year_data.Count.div(pub_year_data.Count)"
   ]
  },
  {
   "cell_type": "code",
   "execution_count": 17,
   "metadata": {},
   "outputs": [
    {
     "name": "stdout",
     "output_type": "stream",
     "text": [
      "0     0.000010\n",
      "1     0.000015\n",
      "2     0.000006\n",
      "3     0.000005\n",
      "4     0.000023\n",
      "5     0.000002\n",
      "6     0.000009\n",
      "7     0.000017\n",
      "8     0.000010\n",
      "9     0.000021\n",
      "10    0.000024\n",
      "11    0.000026\n",
      "12    0.000029\n",
      "13    0.000018\n",
      "14    0.000040\n",
      "15    0.000033\n",
      "16    0.000047\n",
      "17    0.000049\n",
      "18    0.000055\n",
      "19    0.000049\n",
      "20    0.000040\n",
      "21    0.000040\n",
      "22    0.000045\n",
      "23    0.000032\n",
      "24    0.000042\n",
      "25    0.000048\n",
      "26    0.000047\n",
      "Name: Count, dtype: float64\n"
     ]
    }
   ],
   "source": [
    "print(year_ratio)"
   ]
  },
  {
   "cell_type": "code",
   "execution_count": 18,
   "metadata": {},
   "outputs": [
    {
     "data": {
      "text/plain": [
       "<function matplotlib.pyplot.show(close=None, block=None)>"
      ]
     },
     "execution_count": 18,
     "metadata": {},
     "output_type": "execute_result"
    },
    {
     "data": {
      "image/png": "[encoded data removed]",
      "text/plain": [
       "<Figure size 640x480 with 1 Axes>"
      ]
     },
     "metadata": {},
     "output_type": "display_data"
    }
   ],
   "source": [
    "#plot for above data\n",
    "fig = plt.figure()  #Setting colour to match presentation\n",
    "fig.patch.set_facecolor('#fffbf0')\n",
    "ax = plt.axes()\n",
    "ax.set_facecolor('#fffbf0')\n",
    "\n",
    "plt.scatter(pub_year_data['Year'], year_ratio, color = 'teal') #Plot\n",
    "\n",
    "plt.xlabel('Year') # Labels\n",
    "plt.ylabel('Ratio')\n",
    "plt.title('Ratio of B2M papers to Total Papers Published')\n",
    "\n",
    "plt.show\n"
   ]
  },
  {
   "cell_type": "code",
   "execution_count": 19,
   "metadata": {},
   "outputs": [
    {
     "name": "stdout",
     "output_type": "stream",
     "text": [
      "       PMID  AuthorN AuthorForename AuthorLastname AuthorInitials  \\\n",
      "0  10575721        1              E      Nerkowski              E   \n",
      "1  10575721        2              P          Calas              P   \n",
      "2  10575721        3              A        Mouttet              A   \n",
      "3  10617805        1              M      Esslimani              M   \n",
      "4  10617805        2              I          Serre              I   \n",
      "\n",
      "                                   AuthorAffiliation  \n",
      "0                Equipe B2M, ENSAM, Aix-en-Provence.  \n",
      "1                                                NaN  \n",
      "2                                                NaN  \n",
      "3  Service d'Anatomie Pathologique, Hôpital Gui d...  \n",
      "4                                                NaN  \n"
     ]
    }
   ],
   "source": [
    "#Authors working together\n",
    "authors = pd.read_csv('/Users/callumrobinson/Documents/Masters/Skills/Group 2/authors.B2M.csv')\n",
    "print(authors.head())"
   ]
  },
  {
   "cell_type": "code",
   "execution_count": 20,
   "metadata": {},
   "outputs": [
    {
     "name": "stdout",
     "output_type": "stream",
     "text": [
      "0             E Nerkowski\n",
      "1                 P Calas\n",
      "2               A Mouttet\n",
      "3             M Esslimani\n",
      "4                 I Serre\n",
      "              ...        \n",
      "5792         Rekha Sharma\n",
      "5793        Upasna Sharma\n",
      "5794        Pooja Chhabra\n",
      "5795              M A Mir\n",
      "5796    Manoj Kumar Singh\n",
      "Length: 5797, dtype: object\n"
     ]
    }
   ],
   "source": [
    "#creating full name column\n",
    "AuthorFullname = authors['AuthorForename'] + ' ' + authors['AuthorLastname']\n",
    "print(AuthorFullname)"
   ]
  },
  {
   "cell_type": "code",
   "execution_count": 21,
   "metadata": {},
   "outputs": [
    {
     "name": "stdout",
     "output_type": "stream",
     "text": [
      "       PMID  AuthorN AuthorForename AuthorLastname AuthorFullname  \\\n",
      "0  10575721        1              E      Nerkowski    E Nerkowski   \n",
      "1  10575721        2              P          Calas        P Calas   \n",
      "2  10575721        3              A        Mouttet      A Mouttet   \n",
      "3  10617805        1              M      Esslimani    M Esslimani   \n",
      "4  10617805        2              I          Serre        I Serre   \n",
      "\n",
      "  AuthorInitials                                  AuthorAffiliation  \n",
      "0              E                Equipe B2M, ENSAM, Aix-en-Provence.  \n",
      "1              P                                                NaN  \n",
      "2              A                                                NaN  \n",
      "3              M  Service d'Anatomie Pathologique, Hôpital Gui d...  \n",
      "4              I                                                NaN  \n"
     ]
    }
   ],
   "source": [
    "#adding full name column\n",
    "authors.insert(4, 'AuthorFullname', AuthorFullname)\n",
    "print(authors.head())"
   ]
  },
  {
   "cell_type": "code",
   "execution_count": 22,
   "metadata": {},
   "outputs": [],
   "source": [
    "#Function to create node columns\n",
    "def df_to_folded_edgelist(df, node_id_col='node_id', fold_id_cols=['fold_attribute']):\n",
    "        \n",
    "    df_list = []\n",
    "    df_orig = df.copy()\n",
    "    \n",
    "    #group the node ids by the fold attribute columns\n",
    "\n",
    "    for i, f in df.groupby(fold_id_cols)[node_id_col]:\n",
    "        \n",
    "        # get the combinations of authors\n",
    "        for x, y in itertools.combinations(f, 2):\n",
    "\n",
    "            # add the pair and the first index from that group to a list\n",
    "\n",
    "            df_list.append([x, y, f.first_valid_index()])\n",
    "\n",
    "\n",
    "    #convert to dataframe\n",
    "    df = pd.DataFrame(df_list, columns=['node_1', 'node_2', 'orig_index']) \n",
    "    \n",
    "    #merge the original data so each edge now has all the other columns        \n",
    "    edgelist = df.merge(df_orig, how='left', left_on='orig_index', right_index=True)\n",
    "\n",
    "    #drop the unnecessary columns\n",
    "    edgelist.drop(columns=['orig_index', node_id_col], inplace=True)\n",
    "        \n",
    "    return edgelist"
   ]
  },
  {
   "cell_type": "code",
   "execution_count": 23,
   "metadata": {},
   "outputs": [
    {
     "name": "stdout",
     "output_type": "stream",
     "text": [
      "        node_1     node_2\n",
      "0  E Nerkowski    P Calas\n",
      "1  E Nerkowski  A Mouttet\n",
      "2      P Calas  A Mouttet\n",
      "3  M Esslimani    I Serre\n",
      "4  M Esslimani  M Granier\n"
     ]
    }
   ],
   "source": [
    "#Only keeping relevant data\n",
    "edgelist = df_to_folded_edgelist(authors, node_id_col='AuthorFullname', fold_id_cols='PMID')\n",
    "edgelist = edgelist.drop(columns = ['AuthorInitials', 'AuthorN', 'AuthorForename', 'AuthorLastname', 'AuthorAffiliation', 'PMID'])\n",
    "print(edgelist.head())"
   ]
  },
  {
   "cell_type": "code",
   "execution_count": 24,
   "metadata": {},
   "outputs": [],
   "source": [
    "#adding weights\n",
    "authlist = edgelist.groupby(edgelist.columns.tolist()).size().reset_index().\\\n",
    "    rename(columns={0:'weights'})\n",
    "auth_sort = authlist.sort_values('weights', ascending = False)"
   ]
  },
  {
   "cell_type": "code",
   "execution_count": 25,
   "metadata": {},
   "outputs": [
    {
     "name": "stdout",
     "output_type": "stream",
     "text": [
      "                        node_1                     node_2  weights\n",
      "21784        Meredith C Foster             Andrew S Levey        5\n",
      "18282           Lesley A Inker               Josef Coresh        4\n",
      "21187    Marília Cardoso Smith               Moises Cohen        4\n",
      "5102   Carlos Vicente Andreoli               Moises Cohen        4\n",
      "5100   Carlos Vicente Andreoli             Benno Ejnisman        4\n",
      "...                        ...                        ...      ...\n",
      "3888                  Bin Meng               Xianhuo Wang        3\n",
      "5101   Carlos Vicente Andreoli      Marília Cardoso Smith        3\n",
      "21184    Marília Cardoso Smith  Alberto de Castro Pochini        3\n",
      "33038               Xiuying Li                 Qiwei Yang        3\n",
      "5099   Carlos Vicente Andreoli  Alberto de Castro Pochini        3\n",
      "\n",
      "[62 rows x 3 columns]\n"
     ]
    }
   ],
   "source": [
    "#sorting data\n",
    "auth_efficient = auth_sort[auth_sort['weights'] > 2]\n",
    "print(auth_efficient)"
   ]
  },
  {
   "cell_type": "code",
   "execution_count": 26,
   "metadata": {},
   "outputs": [
    {
     "name": "stdout",
     "output_type": "stream",
     "text": [
      "Warning: When  cdn_resources is 'local' jupyter notebook has issues displaying graphics on chrome/safari. Use cdn_resources='in_line' or cdn_resources='remote' if you have issues viewing graphics in a notebook.\n",
      "auth_efficient.html\n"
     ]
    },
    {
     "data": {
      "text/html": [
       "\n",
       "        <iframe\n",
       "            width=\"100%\"\n",
       "            height=\"600px\"\n",
       "            src=\"auth_efficient.html\"\n",
       "            frameborder=\"0\"\n",
       "            allowfullscreen\n",
       "            \n",
       "        ></iframe>\n",
       "        "
      ],
      "text/plain": [
       "<IPython.lib.display.IFrame at 0x1769fa710>"
      ]
     },
     "execution_count": 26,
     "metadata": {},
     "output_type": "execute_result"
    }
   ],
   "source": [
    "#network plot (readable)\n",
    "G = nx.from_pandas_edgelist(auth_efficient,\n",
    "                            source='node_1',\n",
    "                            target='node_2',\n",
    "                            edge_attr = 'weights')\n",
    "net = Network(notebook = True, bgcolor = '#fffbf0', font_color = 'black')\n",
    "net.from_nx(G)\n",
    "\n",
    "net.show('auth_efficient.html')"
   ]
  },
  {
   "cell_type": "code",
   "execution_count": 27,
   "metadata": {},
   "outputs": [
    {
     "name": "stdout",
     "output_type": "stream",
     "text": [
      "                        node_1                     node_2  weights\n",
      "21784        Meredith C Foster             Andrew S Levey        5\n",
      "18282           Lesley A Inker               Josef Coresh        4\n",
      "21187    Marília Cardoso Smith               Moises Cohen        4\n",
      "5102   Carlos Vicente Andreoli               Moises Cohen        4\n",
      "5100   Carlos Vicente Andreoli             Benno Ejnisman        4\n",
      "...                        ...                        ...      ...\n",
      "3888                  Bin Meng               Xianhuo Wang        3\n",
      "5101   Carlos Vicente Andreoli      Marília Cardoso Smith        3\n",
      "21184    Marília Cardoso Smith  Alberto de Castro Pochini        3\n",
      "33038               Xiuying Li                 Qiwei Yang        3\n",
      "5099   Carlos Vicente Andreoli  Alberto de Castro Pochini        3\n",
      "\n",
      "[62 rows x 3 columns]\n"
     ]
    }
   ],
   "source": [
    "#adding more data\n",
    "auth_less_efficient = auth_sort[auth_sort['weights'] > 1]\n",
    "print(auth_efficient)"
   ]
  },
  {
   "cell_type": "code",
   "execution_count": 28,
   "metadata": {},
   "outputs": [
    {
     "name": "stdout",
     "output_type": "stream",
     "text": [
      "Warning: When  cdn_resources is 'local' jupyter notebook has issues displaying graphics on chrome/safari. Use cdn_resources='in_line' or cdn_resources='remote' if you have issues viewing graphics in a notebook.\n",
      "auth_less_efficient.html\n"
     ]
    },
    {
     "data": {
      "text/html": [
       "\n",
       "        <iframe\n",
       "            width=\"100%\"\n",
       "            height=\"600px\"\n",
       "            src=\"auth_less_efficient.html\"\n",
       "            frameborder=\"0\"\n",
       "            allowfullscreen\n",
       "            \n",
       "        ></iframe>\n",
       "        "
      ],
      "text/plain": [
       "<IPython.lib.display.IFrame at 0x17653c050>"
      ]
     },
     "execution_count": 28,
     "metadata": {},
     "output_type": "execute_result"
    }
   ],
   "source": [
    "#network plot(unreadable dynamic centre)\n",
    "G = nx.from_pandas_edgelist(auth_less_efficient,\n",
    "                            source='node_1',\n",
    "                            target='node_2',\n",
    "                            edge_attr = 'weights')\n",
    "net = Network(notebook = True, bgcolor = '#fffbf0', font_color = 'black')\n",
    "net.from_nx(G)\n",
    "net.show_buttons()\n",
    "net.show('auth_less_efficient.html')"
   ]
  },
  {
   "cell_type": "code",
   "execution_count": 29,
   "metadata": {},
   "outputs": [
    {
     "data": {
      "text/html": [
       "<div>\n",
       "<style scoped>\n",
       "    .dataframe tbody tr th:only-of-type {\n",
       "        vertical-align: middle;\n",
       "    }\n",
       "\n",
       "    .dataframe tbody tr th {\n",
       "        vertical-align: top;\n",
       "    }\n",
       "\n",
       "    .dataframe thead th {\n",
       "        text-align: right;\n",
       "    }\n",
       "</style>\n",
       "<table border=\"1\" class=\"dataframe\">\n",
       "  <thead>\n",
       "    <tr style=\"text-align: right;\">\n",
       "      <th></th>\n",
       "      <th>Count</th>\n",
       "      <th>Relevant</th>\n",
       "      <th>Percentage (%)</th>\n",
       "    </tr>\n",
       "    <tr>\n",
       "      <th>Year</th>\n",
       "      <th></th>\n",
       "      <th></th>\n",
       "      <th></th>\n",
       "    </tr>\n",
       "  </thead>\n",
       "  <tbody>\n",
       "    <tr>\n",
       "      <th>1997</th>\n",
       "      <td>313743</td>\n",
       "      <td>2</td>\n",
       "      <td>0.000637</td>\n",
       "    </tr>\n",
       "    <tr>\n",
       "      <th>1998</th>\n",
       "      <td>329438</td>\n",
       "      <td>1</td>\n",
       "      <td>0.000304</td>\n",
       "    </tr>\n",
       "    <tr>\n",
       "      <th>1999</th>\n",
       "      <td>340740</td>\n",
       "      <td>3</td>\n",
       "      <td>0.000880</td>\n",
       "    </tr>\n",
       "    <tr>\n",
       "      <th>2000</th>\n",
       "      <td>373439</td>\n",
       "      <td>5</td>\n",
       "      <td>0.001339</td>\n",
       "    </tr>\n",
       "    <tr>\n",
       "      <th>2001</th>\n",
       "      <td>388963</td>\n",
       "      <td>2</td>\n",
       "      <td>0.000514</td>\n",
       "    </tr>\n",
       "    <tr>\n",
       "      <th>2002</th>\n",
       "      <td>405519</td>\n",
       "      <td>9</td>\n",
       "      <td>0.002219</td>\n",
       "    </tr>\n",
       "    <tr>\n",
       "      <th>2003</th>\n",
       "      <td>426752</td>\n",
       "      <td>4</td>\n",
       "      <td>0.000937</td>\n",
       "    </tr>\n",
       "    <tr>\n",
       "      <th>2004</th>\n",
       "      <td>459362</td>\n",
       "      <td>8</td>\n",
       "      <td>0.001742</td>\n",
       "    </tr>\n",
       "    <tr>\n",
       "      <th>2005</th>\n",
       "      <td>492511</td>\n",
       "      <td>5</td>\n",
       "      <td>0.001015</td>\n",
       "    </tr>\n",
       "    <tr>\n",
       "      <th>2006</th>\n",
       "      <td>521278</td>\n",
       "      <td>11</td>\n",
       "      <td>0.002110</td>\n",
       "    </tr>\n",
       "    <tr>\n",
       "      <th>2007</th>\n",
       "      <td>548061</td>\n",
       "      <td>13</td>\n",
       "      <td>0.002372</td>\n",
       "    </tr>\n",
       "    <tr>\n",
       "      <th>2008</th>\n",
       "      <td>585286</td>\n",
       "      <td>15</td>\n",
       "      <td>0.002563</td>\n",
       "    </tr>\n",
       "    <tr>\n",
       "      <th>2009</th>\n",
       "      <td>618504</td>\n",
       "      <td>18</td>\n",
       "      <td>0.002910</td>\n",
       "    </tr>\n",
       "    <tr>\n",
       "      <th>2010</th>\n",
       "      <td>653739</td>\n",
       "      <td>12</td>\n",
       "      <td>0.001836</td>\n",
       "    </tr>\n",
       "    <tr>\n",
       "      <th>2011</th>\n",
       "      <td>702139</td>\n",
       "      <td>28</td>\n",
       "      <td>0.003988</td>\n",
       "    </tr>\n",
       "    <tr>\n",
       "      <th>2012</th>\n",
       "      <td>765156</td>\n",
       "      <td>25</td>\n",
       "      <td>0.003267</td>\n",
       "    </tr>\n",
       "    <tr>\n",
       "      <th>2013</th>\n",
       "      <td>809074</td>\n",
       "      <td>38</td>\n",
       "      <td>0.004697</td>\n",
       "    </tr>\n",
       "    <tr>\n",
       "      <th>2014</th>\n",
       "      <td>850568</td>\n",
       "      <td>42</td>\n",
       "      <td>0.004938</td>\n",
       "    </tr>\n",
       "    <tr>\n",
       "      <th>2015</th>\n",
       "      <td>876117</td>\n",
       "      <td>48</td>\n",
       "      <td>0.005479</td>\n",
       "    </tr>\n",
       "    <tr>\n",
       "      <th>2016</th>\n",
       "      <td>896208</td>\n",
       "      <td>44</td>\n",
       "      <td>0.004910</td>\n",
       "    </tr>\n",
       "    <tr>\n",
       "      <th>2017</th>\n",
       "      <td>907250</td>\n",
       "      <td>36</td>\n",
       "      <td>0.003968</td>\n",
       "    </tr>\n",
       "    <tr>\n",
       "      <th>2018</th>\n",
       "      <td>959228</td>\n",
       "      <td>38</td>\n",
       "      <td>0.003962</td>\n",
       "    </tr>\n",
       "    <tr>\n",
       "      <th>2019</th>\n",
       "      <td>999175</td>\n",
       "      <td>45</td>\n",
       "      <td>0.004504</td>\n",
       "    </tr>\n",
       "    <tr>\n",
       "      <th>2020</th>\n",
       "      <td>1132241</td>\n",
       "      <td>36</td>\n",
       "      <td>0.003180</td>\n",
       "    </tr>\n",
       "    <tr>\n",
       "      <th>2021</th>\n",
       "      <td>1277048</td>\n",
       "      <td>53</td>\n",
       "      <td>0.004150</td>\n",
       "    </tr>\n",
       "    <tr>\n",
       "      <th>2022</th>\n",
       "      <td>1324650</td>\n",
       "      <td>63</td>\n",
       "      <td>0.004756</td>\n",
       "    </tr>\n",
       "    <tr>\n",
       "      <th>2023</th>\n",
       "      <td>1302390</td>\n",
       "      <td>61</td>\n",
       "      <td>0.004684</td>\n",
       "    </tr>\n",
       "  </tbody>\n",
       "</table>\n",
       "</div>"
      ],
      "text/plain": [
       "        Count  Relevant  Percentage (%)\n",
       "Year                                   \n",
       "1997   313743         2        0.000637\n",
       "1998   329438         1        0.000304\n",
       "1999   340740         3        0.000880\n",
       "2000   373439         5        0.001339\n",
       "2001   388963         2        0.000514\n",
       "2002   405519         9        0.002219\n",
       "2003   426752         4        0.000937\n",
       "2004   459362         8        0.001742\n",
       "2005   492511         5        0.001015\n",
       "2006   521278        11        0.002110\n",
       "2007   548061        13        0.002372\n",
       "2008   585286        15        0.002563\n",
       "2009   618504        18        0.002910\n",
       "2010   653739        12        0.001836\n",
       "2011   702139        28        0.003988\n",
       "2012   765156        25        0.003267\n",
       "2013   809074        38        0.004697\n",
       "2014   850568        42        0.004938\n",
       "2015   876117        48        0.005479\n",
       "2016   896208        44        0.004910\n",
       "2017   907250        36        0.003968\n",
       "2018   959228        38        0.003962\n",
       "2019   999175        45        0.004504\n",
       "2020  1132241        36        0.003180\n",
       "2021  1277048        53        0.004150\n",
       "2022  1324650        63        0.004756\n",
       "2023  1302390        61        0.004684"
      ]
     },
     "metadata": {},
     "output_type": "display_data"
    }
   ],
   "source": [
    "#General Trends\n",
    "summed_articles = sk_data.groupby('Year').count()\n",
    "\n",
    "portion_articles = pub_year_data.merge(summed_articles, on='Year')\n",
    "portion_articles = portion_articles[['Year', 'Count', 'PMID']]\n",
    "portion_articles = portion_articles.rename({'PMID':'Relevant'},axis=1)\n",
    "portion_articles['Percentage (%)'] = ((portion_articles['Relevant']/portion_articles['Count'])*100)\n",
    "portion_articles = portion_articles.set_index('Year')\n",
    "ipd.display(portion_articles)"
   ]
  },
  {
   "cell_type": "code",
   "execution_count": 30,
   "metadata": {},
   "outputs": [
    {
     "data": {
      "image/png": "[encoded data removed]",
      "text/plain": [
       "<Figure size 640x480 with 2 Axes>"
      ]
     },
     "metadata": {},
     "output_type": "display_data"
    }
   ],
   "source": [
    "fig, ax1 = plt.subplots()\n",
    "ax2=ax1.twinx()\n",
    "\n",
    "portion_articles.Relevant.plot(kind='line', color='#26a69a', ax=ax1, label='Count')\n",
    "ax1.tick_params(axis='y', labelcolor='black')\n",
    "portion_articles['Percentage (%)'].plot(kind='line', color='black', ax=ax2, label='Percentage')\n",
    "ax2.tick_params(labelcolor='black')\n",
    "plot_1 = ax1.set_ylabel('Count of published work related to B2M', color='black')\n",
    "plot_2 = ax2.set_ylabel('Percentage of published work related to B2M (%)', color='black')\n",
    "lines1, labels1 = ax1.get_legend_handles_labels()\n",
    "lines2, labels2 = ax2.get_legend_handles_labels()\n",
    "ax1.legend(lines1+lines2, labels1+labels2, loc=4, facecolor='#fffbf0')\n",
    "ax1.patch.set_facecolor('#fffbf0')\n",
    "fig.patch.set_facecolor('#fffbf0')"
   ]
  },
  {
   "cell_type": "code",
   "execution_count": 31,
   "metadata": {},
   "outputs": [
    {
     "data": {
      "text/html": [
       "<div>\n",
       "<style scoped>\n",
       "    .dataframe tbody tr th:only-of-type {\n",
       "        vertical-align: middle;\n",
       "    }\n",
       "\n",
       "    .dataframe tbody tr th {\n",
       "        vertical-align: top;\n",
       "    }\n",
       "\n",
       "    .dataframe thead th {\n",
       "        text-align: right;\n",
       "    }\n",
       "</style>\n",
       "<table border=\"1\" class=\"dataframe\">\n",
       "  <thead>\n",
       "    <tr style=\"text-align: right;\">\n",
       "      <th></th>\n",
       "      <th>Count</th>\n",
       "      <th>Relevant</th>\n",
       "      <th>Percentage (%)</th>\n",
       "      <th>Cumulative</th>\n",
       "      <th>Year Count</th>\n",
       "      <th>Rate</th>\n",
       "    </tr>\n",
       "    <tr>\n",
       "      <th>Year</th>\n",
       "      <th></th>\n",
       "      <th></th>\n",
       "      <th></th>\n",
       "      <th></th>\n",
       "      <th></th>\n",
       "      <th></th>\n",
       "    </tr>\n",
       "  </thead>\n",
       "  <tbody>\n",
       "    <tr>\n",
       "      <th>1997</th>\n",
       "      <td>313743</td>\n",
       "      <td>2</td>\n",
       "      <td>0.000637</td>\n",
       "      <td>2</td>\n",
       "      <td>1</td>\n",
       "      <td>2.000000</td>\n",
       "    </tr>\n",
       "    <tr>\n",
       "      <th>1998</th>\n",
       "      <td>329438</td>\n",
       "      <td>1</td>\n",
       "      <td>0.000304</td>\n",
       "      <td>3</td>\n",
       "      <td>2</td>\n",
       "      <td>1.500000</td>\n",
       "    </tr>\n",
       "    <tr>\n",
       "      <th>1999</th>\n",
       "      <td>340740</td>\n",
       "      <td>3</td>\n",
       "      <td>0.000880</td>\n",
       "      <td>6</td>\n",
       "      <td>3</td>\n",
       "      <td>2.000000</td>\n",
       "    </tr>\n",
       "    <tr>\n",
       "      <th>2000</th>\n",
       "      <td>373439</td>\n",
       "      <td>5</td>\n",
       "      <td>0.001339</td>\n",
       "      <td>11</td>\n",
       "      <td>4</td>\n",
       "      <td>2.750000</td>\n",
       "    </tr>\n",
       "    <tr>\n",
       "      <th>2001</th>\n",
       "      <td>388963</td>\n",
       "      <td>2</td>\n",
       "      <td>0.000514</td>\n",
       "      <td>13</td>\n",
       "      <td>5</td>\n",
       "      <td>2.600000</td>\n",
       "    </tr>\n",
       "    <tr>\n",
       "      <th>2002</th>\n",
       "      <td>405519</td>\n",
       "      <td>9</td>\n",
       "      <td>0.002219</td>\n",
       "      <td>22</td>\n",
       "      <td>6</td>\n",
       "      <td>3.666667</td>\n",
       "    </tr>\n",
       "    <tr>\n",
       "      <th>2003</th>\n",
       "      <td>426752</td>\n",
       "      <td>4</td>\n",
       "      <td>0.000937</td>\n",
       "      <td>26</td>\n",
       "      <td>7</td>\n",
       "      <td>3.714286</td>\n",
       "    </tr>\n",
       "    <tr>\n",
       "      <th>2004</th>\n",
       "      <td>459362</td>\n",
       "      <td>8</td>\n",
       "      <td>0.001742</td>\n",
       "      <td>34</td>\n",
       "      <td>8</td>\n",
       "      <td>4.250000</td>\n",
       "    </tr>\n",
       "    <tr>\n",
       "      <th>2005</th>\n",
       "      <td>492511</td>\n",
       "      <td>5</td>\n",
       "      <td>0.001015</td>\n",
       "      <td>39</td>\n",
       "      <td>9</td>\n",
       "      <td>4.333333</td>\n",
       "    </tr>\n",
       "    <tr>\n",
       "      <th>2006</th>\n",
       "      <td>521278</td>\n",
       "      <td>11</td>\n",
       "      <td>0.002110</td>\n",
       "      <td>50</td>\n",
       "      <td>10</td>\n",
       "      <td>5.000000</td>\n",
       "    </tr>\n",
       "    <tr>\n",
       "      <th>2007</th>\n",
       "      <td>548061</td>\n",
       "      <td>13</td>\n",
       "      <td>0.002372</td>\n",
       "      <td>63</td>\n",
       "      <td>11</td>\n",
       "      <td>5.727273</td>\n",
       "    </tr>\n",
       "    <tr>\n",
       "      <th>2008</th>\n",
       "      <td>585286</td>\n",
       "      <td>15</td>\n",
       "      <td>0.002563</td>\n",
       "      <td>78</td>\n",
       "      <td>12</td>\n",
       "      <td>6.500000</td>\n",
       "    </tr>\n",
       "    <tr>\n",
       "      <th>2009</th>\n",
       "      <td>618504</td>\n",
       "      <td>18</td>\n",
       "      <td>0.002910</td>\n",
       "      <td>96</td>\n",
       "      <td>13</td>\n",
       "      <td>7.384615</td>\n",
       "    </tr>\n",
       "    <tr>\n",
       "      <th>2010</th>\n",
       "      <td>653739</td>\n",
       "      <td>12</td>\n",
       "      <td>0.001836</td>\n",
       "      <td>108</td>\n",
       "      <td>14</td>\n",
       "      <td>7.714286</td>\n",
       "    </tr>\n",
       "    <tr>\n",
       "      <th>2011</th>\n",
       "      <td>702139</td>\n",
       "      <td>28</td>\n",
       "      <td>0.003988</td>\n",
       "      <td>136</td>\n",
       "      <td>15</td>\n",
       "      <td>9.066667</td>\n",
       "    </tr>\n",
       "    <tr>\n",
       "      <th>2012</th>\n",
       "      <td>765156</td>\n",
       "      <td>25</td>\n",
       "      <td>0.003267</td>\n",
       "      <td>161</td>\n",
       "      <td>16</td>\n",
       "      <td>10.062500</td>\n",
       "    </tr>\n",
       "    <tr>\n",
       "      <th>2013</th>\n",
       "      <td>809074</td>\n",
       "      <td>38</td>\n",
       "      <td>0.004697</td>\n",
       "      <td>199</td>\n",
       "      <td>17</td>\n",
       "      <td>11.705882</td>\n",
       "    </tr>\n",
       "    <tr>\n",
       "      <th>2014</th>\n",
       "      <td>850568</td>\n",
       "      <td>42</td>\n",
       "      <td>0.004938</td>\n",
       "      <td>241</td>\n",
       "      <td>18</td>\n",
       "      <td>13.388889</td>\n",
       "    </tr>\n",
       "    <tr>\n",
       "      <th>2015</th>\n",
       "      <td>876117</td>\n",
       "      <td>48</td>\n",
       "      <td>0.005479</td>\n",
       "      <td>289</td>\n",
       "      <td>19</td>\n",
       "      <td>15.210526</td>\n",
       "    </tr>\n",
       "    <tr>\n",
       "      <th>2016</th>\n",
       "      <td>896208</td>\n",
       "      <td>44</td>\n",
       "      <td>0.004910</td>\n",
       "      <td>333</td>\n",
       "      <td>20</td>\n",
       "      <td>16.650000</td>\n",
       "    </tr>\n",
       "    <tr>\n",
       "      <th>2017</th>\n",
       "      <td>907250</td>\n",
       "      <td>36</td>\n",
       "      <td>0.003968</td>\n",
       "      <td>369</td>\n",
       "      <td>21</td>\n",
       "      <td>17.571429</td>\n",
       "    </tr>\n",
       "    <tr>\n",
       "      <th>2018</th>\n",
       "      <td>959228</td>\n",
       "      <td>38</td>\n",
       "      <td>0.003962</td>\n",
       "      <td>407</td>\n",
       "      <td>22</td>\n",
       "      <td>18.500000</td>\n",
       "    </tr>\n",
       "    <tr>\n",
       "      <th>2019</th>\n",
       "      <td>999175</td>\n",
       "      <td>45</td>\n",
       "      <td>0.004504</td>\n",
       "      <td>452</td>\n",
       "      <td>23</td>\n",
       "      <td>19.652174</td>\n",
       "    </tr>\n",
       "    <tr>\n",
       "      <th>2020</th>\n",
       "      <td>1132241</td>\n",
       "      <td>36</td>\n",
       "      <td>0.003180</td>\n",
       "      <td>488</td>\n",
       "      <td>24</td>\n",
       "      <td>20.333333</td>\n",
       "    </tr>\n",
       "    <tr>\n",
       "      <th>2021</th>\n",
       "      <td>1277048</td>\n",
       "      <td>53</td>\n",
       "      <td>0.004150</td>\n",
       "      <td>541</td>\n",
       "      <td>25</td>\n",
       "      <td>21.640000</td>\n",
       "    </tr>\n",
       "    <tr>\n",
       "      <th>2022</th>\n",
       "      <td>1324650</td>\n",
       "      <td>63</td>\n",
       "      <td>0.004756</td>\n",
       "      <td>604</td>\n",
       "      <td>26</td>\n",
       "      <td>23.230769</td>\n",
       "    </tr>\n",
       "    <tr>\n",
       "      <th>2023</th>\n",
       "      <td>1302390</td>\n",
       "      <td>61</td>\n",
       "      <td>0.004684</td>\n",
       "      <td>665</td>\n",
       "      <td>27</td>\n",
       "      <td>24.629630</td>\n",
       "    </tr>\n",
       "  </tbody>\n",
       "</table>\n",
       "</div>"
      ],
      "text/plain": [
       "        Count  Relevant  Percentage (%)  Cumulative  Year Count       Rate\n",
       "Year                                                                      \n",
       "1997   313743         2        0.000637           2           1   2.000000\n",
       "1998   329438         1        0.000304           3           2   1.500000\n",
       "1999   340740         3        0.000880           6           3   2.000000\n",
       "2000   373439         5        0.001339          11           4   2.750000\n",
       "2001   388963         2        0.000514          13           5   2.600000\n",
       "2002   405519         9        0.002219          22           6   3.666667\n",
       "2003   426752         4        0.000937          26           7   3.714286\n",
       "2004   459362         8        0.001742          34           8   4.250000\n",
       "2005   492511         5        0.001015          39           9   4.333333\n",
       "2006   521278        11        0.002110          50          10   5.000000\n",
       "2007   548061        13        0.002372          63          11   5.727273\n",
       "2008   585286        15        0.002563          78          12   6.500000\n",
       "2009   618504        18        0.002910          96          13   7.384615\n",
       "2010   653739        12        0.001836         108          14   7.714286\n",
       "2011   702139        28        0.003988         136          15   9.066667\n",
       "2012   765156        25        0.003267         161          16  10.062500\n",
       "2013   809074        38        0.004697         199          17  11.705882\n",
       "2014   850568        42        0.004938         241          18  13.388889\n",
       "2015   876117        48        0.005479         289          19  15.210526\n",
       "2016   896208        44        0.004910         333          20  16.650000\n",
       "2017   907250        36        0.003968         369          21  17.571429\n",
       "2018   959228        38        0.003962         407          22  18.500000\n",
       "2019   999175        45        0.004504         452          23  19.652174\n",
       "2020  1132241        36        0.003180         488          24  20.333333\n",
       "2021  1277048        53        0.004150         541          25  21.640000\n",
       "2022  1324650        63        0.004756         604          26  23.230769\n",
       "2023  1302390        61        0.004684         665          27  24.629630"
      ]
     },
     "metadata": {},
     "output_type": "display_data"
    },
    {
     "data": {
      "image/png": "[encoded data removed]",
      "text/plain": [
       "<Figure size 640x480 with 2 Axes>"
      ]
     },
     "metadata": {},
     "output_type": "display_data"
    }
   ],
   "source": [
    "portion_articles['Cumulative'] = portion_articles['Relevant'].cumsum()\n",
    "portion_articles['Year Count'] = range(1,len(portion_articles)+1)\n",
    "portion_articles['Rate'] = portion_articles['Cumulative']/portion_articles['Year Count']\n",
    "ipd.display(portion_articles)\n",
    "\n",
    "fig, ax1 = plt.subplots()\n",
    "ax2 = ax1.twinx()\n",
    "#fb8c00\n",
    "portion_articles.Cumulative.plot(kind='line', color='#26a69a', label='Cumulative sum', ax=ax1)\n",
    "portion_articles.loc[2018:].Cumulative.plot(kind='line', color='#fb8c00', label='_nolegend_', ax=ax1)\n",
    "ax1.set_ylabel('Cumulative sum of B2M-related publications', color='black')\n",
    "ax1.patch.set_facecolor('#fffbf0')\n",
    "ax1\n",
    "portion_articles['Rate'].plot(kind='line', color='black', label='Mean rate adjusted by year', ax=ax2)\n",
    "portion_articles.loc[2018:].Rate.plot(kind='line', color='#fb8c00', label='_nolegend_', ax=ax2)\n",
    "ax2.set_ylabel('Mean rate of publications per year (adjusted per year)')\n",
    "lines1, labels1 = ax1.get_legend_handles_labels()\n",
    "lines2, labels2 = ax2.get_legend_handles_labels()\n",
    "ax1.legend(lines1+lines2, labels1+labels2, loc=4, facecolor='#fffbf0')\n",
    "fig.patch.set_facecolor('#fffbf0')"
   ]
  },
  {
   "cell_type": "code",
   "execution_count": 32,
   "metadata": {},
   "outputs": [
    {
     "name": "stderr",
     "output_type": "stream",
     "text": [
      "[nltk_data] Downloading package punkt to\n",
      "[nltk_data]     /Users/callumrobinson/nltk_data...\n",
      "[nltk_data]   Package punkt is already up-to-date!\n",
      "[nltk_data] Downloading package stopwords to\n",
      "[nltk_data]     /Users/callumrobinson/nltk_data...\n",
      "[nltk_data]   Package stopwords is already up-to-date!\n"
     ]
    },
    {
     "data": {
      "text/html": [
       "<div>\n",
       "<style scoped>\n",
       "    .dataframe tbody tr th:only-of-type {\n",
       "        vertical-align: middle;\n",
       "    }\n",
       "\n",
       "    .dataframe tbody tr th {\n",
       "        vertical-align: top;\n",
       "    }\n",
       "\n",
       "    .dataframe thead th {\n",
       "        text-align: right;\n",
       "    }\n",
       "</style>\n",
       "<table border=\"1\" class=\"dataframe\">\n",
       "  <thead>\n",
       "    <tr style=\"text-align: right;\">\n",
       "      <th></th>\n",
       "      <th>Words</th>\n",
       "      <th>Frequency</th>\n",
       "    </tr>\n",
       "  </thead>\n",
       "  <tbody>\n",
       "    <tr>\n",
       "      <th>0</th>\n",
       "      <td>genes</td>\n",
       "      <td>1271</td>\n",
       "    </tr>\n",
       "    <tr>\n",
       "      <th>1</th>\n",
       "      <td>b2m</td>\n",
       "      <td>1239</td>\n",
       "    </tr>\n",
       "    <tr>\n",
       "      <th>2</th>\n",
       "      <td>expression</td>\n",
       "      <td>1101</td>\n",
       "    </tr>\n",
       "    <tr>\n",
       "      <th>3</th>\n",
       "      <td>gene</td>\n",
       "      <td>766</td>\n",
       "    </tr>\n",
       "    <tr>\n",
       "      <th>4</th>\n",
       "      <td>reference</td>\n",
       "      <td>686</td>\n",
       "    </tr>\n",
       "    <tr>\n",
       "      <th>5</th>\n",
       "      <td>patients</td>\n",
       "      <td>682</td>\n",
       "    </tr>\n",
       "    <tr>\n",
       "      <th>6</th>\n",
       "      <td>cells</td>\n",
       "      <td>589</td>\n",
       "    </tr>\n",
       "    <tr>\n",
       "      <th>7</th>\n",
       "      <td>%</td>\n",
       "      <td>510</td>\n",
       "    </tr>\n",
       "    <tr>\n",
       "      <th>8</th>\n",
       "      <td>study</td>\n",
       "      <td>471</td>\n",
       "    </tr>\n",
       "    <tr>\n",
       "      <th>9</th>\n",
       "      <td>cell</td>\n",
       "      <td>414</td>\n",
       "    </tr>\n",
       "    <tr>\n",
       "      <th>10</th>\n",
       "      <td>0</td>\n",
       "      <td>399</td>\n",
       "    </tr>\n",
       "    <tr>\n",
       "      <th>11</th>\n",
       "      <td>analysis</td>\n",
       "      <td>392</td>\n",
       "    </tr>\n",
       "    <tr>\n",
       "      <th>12</th>\n",
       "      <td>using</td>\n",
       "      <td>391</td>\n",
       "    </tr>\n",
       "    <tr>\n",
       "      <th>13</th>\n",
       "      <td>used</td>\n",
       "      <td>389</td>\n",
       "    </tr>\n",
       "    <tr>\n",
       "      <th>14</th>\n",
       "      <td>levels</td>\n",
       "      <td>363</td>\n",
       "    </tr>\n",
       "    <tr>\n",
       "      <th>15</th>\n",
       "      <td>cancer</td>\n",
       "      <td>287</td>\n",
       "    </tr>\n",
       "    <tr>\n",
       "      <th>16</th>\n",
       "      <td>results</td>\n",
       "      <td>284</td>\n",
       "    </tr>\n",
       "    <tr>\n",
       "      <th>17</th>\n",
       "      <td>p</td>\n",
       "      <td>275</td>\n",
       "    </tr>\n",
       "    <tr>\n",
       "      <th>18</th>\n",
       "      <td>gapdh</td>\n",
       "      <td>267</td>\n",
       "    </tr>\n",
       "    <tr>\n",
       "      <th>19</th>\n",
       "      <td>immune</td>\n",
       "      <td>266</td>\n",
       "    </tr>\n",
       "  </tbody>\n",
       "</table>\n",
       "</div>"
      ],
      "text/plain": [
       "         Words  Frequency\n",
       "0        genes       1271\n",
       "1          b2m       1239\n",
       "2   expression       1101\n",
       "3         gene        766\n",
       "4    reference        686\n",
       "5     patients        682\n",
       "6        cells        589\n",
       "7            %        510\n",
       "8        study        471\n",
       "9         cell        414\n",
       "10           0        399\n",
       "11    analysis        392\n",
       "12       using        391\n",
       "13        used        389\n",
       "14      levels        363\n",
       "15      cancer        287\n",
       "16     results        284\n",
       "17           p        275\n",
       "18       gapdh        267\n",
       "19      immune        266"
      ]
     },
     "metadata": {},
     "output_type": "display_data"
    }
   ],
   "source": [
    "nltk.download('punkt')\n",
    "nltk.download('stopwords')\n",
    "\n",
    "keywords = nltk.tokenize.word_tokenize(sk_data.Abstract.str.lower().str.replace(',',' ').str.replace('.',' ').str.replace('(',' ').str.replace(')',' ').str.cat(sep=' '))\n",
    "word_dist = nltk.FreqDist(keywords)\n",
    "stopwords = nltk.corpus.stopwords.words('english')\n",
    "non_stop_dist = nltk.FreqDist(i for i in keywords if i not in stopwords)\n",
    "\n",
    "common_words = pd.DataFrame(non_stop_dist.most_common(20), columns=['Words', 'Frequency'])\n",
    "\n",
    "ipd.display(common_words)"
   ]
  },
  {
   "cell_type": "code",
   "execution_count": 33,
   "metadata": {},
   "outputs": [],
   "source": [
    "# journals\n",
    "impact_factors = pd.read_csv('/Users/callumrobinson/Documents/Masters/Skills/Group 2/journal if.csv')"
   ]
  },
  {
   "cell_type": "code",
   "execution_count": 34,
   "metadata": {},
   "outputs": [
    {
     "data": {
      "text/plain": [
       "<Figure size 1500x1200 with 0 Axes>"
      ]
     },
     "metadata": {},
     "output_type": "display_data"
    },
    {
     "data": {
      "image/png": "[encoded data removed]",
      "text/plain": [
       "<Figure size 1500x1000 with 1 Axes>"
      ]
     },
     "metadata": {},
     "output_type": "display_data"
    }
   ],
   "source": [
    "# Counting the number of publications for each journal\n",
    "journal_counts = sk_data['Journal'].value_counts()\n",
    "\n",
    "# Filtered journals with publication count greater than 6\n",
    "journal_counts_filtered = journal_counts[journal_counts > 6]\n",
    "\n",
    "# bar graph to visualize the number of publications by journal\n",
    "plt.figure(figsize=(15, 12))\n",
    "fig, ax = plt.subplots(figsize=(15, 10))\n",
    "\n",
    "# Setting background colors for the figure and axes\n",
    "fig.set_facecolor('#fffbf0')\n",
    "ax.set_facecolor('#fffbf0')\n",
    "\n",
    "# Plotting the bar graph with counts on top\n",
    "bars = journal_counts_filtered.plot(kind='bar', color='#26a69a')\n",
    "\n",
    "# Set graph title and labels\n",
    "plt.title('Number of Publications by Journal')\n",
    "plt.xlabel('Journal')\n",
    "plt.ylabel('Number of Publications')\n",
    "plt.xticks(rotation=45, ha='right')\n",
    "\n",
    "# Annotate each bar with its count on top\n",
    "for bar in bars.patches:\n",
    "    yval = bar.get_height()\n",
    "    plt.text(bar.get_x() + bar.get_width() / 2, yval + 0.1, round(yval, 1), ha='center', va='bottom')\n",
    "\n",
    "# Adjust layout and display the graph\n",
    "plt.tight_layout()\n",
    "plt.show()"
   ]
  },
  {
   "cell_type": "code",
   "execution_count": 35,
   "metadata": {},
   "outputs": [
    {
     "data": {
      "image/png": "[encoded data removed]",
      "text/plain": [
       "<Figure size 1500x1000 with 1 Axes>"
      ]
     },
     "metadata": {},
     "output_type": "display_data"
    }
   ],
   "source": [
    "# Set the starting year for analysis\n",
    "start_year = 2019\n",
    "\n",
    "# Define the number of years for analysis\n",
    "years_for_analysis = 5\n",
    "\n",
    "# Filtering articles for the last 5 years\n",
    "df_last_5_years = sk_data[(sk_data['Year'] >= start_year) & (sk_data['Year'] <= start_year + years_for_analysis - 1)]\n",
    "\n",
    "# Counting the number of publications for each journal in the last 5 years\n",
    "journal_counts_last_5_years = df_last_5_years['Journal'].value_counts()\n",
    "\n",
    "# Filter journals with publication count greater than 3\n",
    "journal_counts_last_5_years = journal_counts_last_5_years[journal_counts_last_5_years > 3]\n",
    "\n",
    "# horizontal bar graph to visualize the number of publications by journal\n",
    "fig, ax = plt.subplots(figsize=(15, 10))\n",
    "\n",
    "# Set background colors for the figure and axes\n",
    "fig.set_facecolor('#fffbf0')\n",
    "ax.set_facecolor('#fffbf0')\n",
    "\n",
    "# Plot the horizontal bar graph with counts on the left\n",
    "bars = journal_counts_last_5_years.plot(kind='barh', color='#26a69a')\n",
    "\n",
    "# Set graph title and labels\n",
    "plt.title(f'Number of Publications by Journal in Last 5 Years (2019-2023)', fontsize=15)\n",
    "plt.ylabel('Journal', fontsize=15)\n",
    "plt.xlabel('Number of Publications', fontsize=15)\n",
    "plt.xticks(fontsize=15)\n",
    "plt.yticks(fontsize=15)\n",
    "\n",
    "# Annotate each bar with its count on the left\n",
    "for bar in bars.patches:\n",
    "    xval = bar.get_width()\n",
    "    plt.text(xval + 0.1, bar.get_y() + bar.get_height() / 2, round(xval, 1), ha='left', va='center')\n",
    "\n",
    "# Adjust layout and display the graph\n",
    "plt.tight_layout()\n",
    "plt.show()"
   ]
  },
  {
   "cell_type": "code",
   "execution_count": 36,
   "metadata": {},
   "outputs": [
    {
     "data": {
      "image/png": "[encoded data removed]",
      "text/plain": [
       "<Figure size 1500x1000 with 1 Axes>"
      ]
     },
     "metadata": {},
     "output_type": "display_data"
    }
   ],
   "source": [
    "# Creating a subplot with a specified size\n",
    "fig, ax = plt.subplots(figsize=(15, 10))\n",
    "\n",
    "# Set background colors for the figure and axes\n",
    "fig.set_facecolor('#fffbf0')\n",
    "ax.set_facecolor('#fffbf0')\n",
    "\n",
    "# horizontal bar graph to display impact factors by journal\n",
    "bars = plt.barh(impact_factors['Journal'], impact_factors['Impact Factor'], color='#26a69a')\n",
    "\n",
    "# Setting labels and title for the graph\n",
    "plt.xlabel('Impact Factor', fontsize=20)\n",
    "plt.ylabel('Journal', fontsize=20)\n",
    "plt.title('Journal Impact Factors', fontsize=20)\n",
    "\n",
    "# Adjust layout and font sizes\n",
    "plt.tight_layout()\n",
    "plt.xticks(fontsize=20)\n",
    "plt.yticks(fontsize=20)\n",
    "\n",
    "# Annotate each bar with its value on the left\n",
    "for bar in bars.patches:\n",
    "    xval = bar.get_width()\n",
    "    plt.text(xval + 0.1, bar.get_y() + bar.get_height() / 2, round(xval, 1), ha='left', va='center')\n",
    "\n",
    "# Display the graph\n",
    "plt.show()\n"
   ]
  },
  {
   "cell_type": "code",
   "execution_count": 37,
   "metadata": {},
   "outputs": [
    {
     "data": {
      "text/plain": [
       "{'genes': 9.439510966610648,\n",
       " 'cells': 8.970853564001398,\n",
       " 'b2m': 8.787109196110048,\n",
       " 'cell': 8.291773537198793,\n",
       " 'patients': 7.705324887490901,\n",
       " 'expression': 7.102419559006374,\n",
       " 'immune': 6.8516071950007955,\n",
       " 'gene': 6.5425798252805185,\n",
       " 'reference': 6.110472825333649,\n",
       " 'hla': 6.0569682914128755,\n",
       " 'cancer': 4.852975809340803,\n",
       " 'tumor': 4.6617282962272615,\n",
       " 'study': 4.5462631719108035,\n",
       " 'microglobulin': 4.250248047011071,\n",
       " 'pd': 4.1765367213679125,\n",
       " 'high': 4.066646191444004,\n",
       " 'analysis': 4.006285154675793,\n",
       " 'associated': 3.968595398084387,\n",
       " 'using': 3.9126565931043924,\n",
       " 'protein': 3.865816599759232,\n",
       " 'mutations': 3.820235138428765,\n",
       " 'disease': 3.662175760317604,\n",
       " 'human': 3.654639934473354,\n",
       " 'beta': 3.560143751978223,\n",
       " 'proteins': 3.473054785440355,\n",
       " 'class': 3.4482151799699676,\n",
       " 'based': 3.4112400382907673,\n",
       " 'clinical': 3.273944460126116,\n",
       " 'treatment': 3.253900255551818,\n",
       " 'mhc': 3.1647730882234693,\n",
       " 'kidney': 3.130056707493503,\n",
       " 'related': 3.044539627410103,\n",
       " 'levels': 3.0067693259504487,\n",
       " 'samples': 2.929489749161822,\n",
       " 'response': 2.9133786083423763,\n",
       " 'used': 2.8860278822053913,\n",
       " 'data': 2.8842205827686027,\n",
       " 'including': 2.860186927591933,\n",
       " 'stable': 2.766851277875664,\n",
       " 'studies': 2.7424110607240477,\n",
       " 'cases': 2.738312550852222,\n",
       " 'qpcr': 2.6669361522054444,\n",
       " 'biomarkers': 2.6633503096156272,\n",
       " 'allogeneic': 2.6456812733523716,\n",
       " 'lymphoma': 2.618792922735286,\n",
       " 'car': 2.613449167855765,\n",
       " 'gapdh': 2.599684828392034,\n",
       " 'mortality': 2.575543999926591,\n",
       " 'actb': 2.572243819206245,\n",
       " 'results': 2.564382676251699}"
      ]
     },
     "execution_count": 37,
     "metadata": {},
     "output_type": "execute_result"
    }
   ],
   "source": [
    "# we used TF-IDF (Term Frequency-Inverse Document Frequency) Vectorizer to convert text data into numerical format.\n",
    "# it helps us understand the importance of each word in a document relative to a collection of documents (corpus).\n",
    "\n",
    "# TF-IDF consists of two parts:\n",
    "# 1. Term Frequency (TF): It measures how often a word appears in a document.\n",
    "# 2. Inverse Document Frequency (IDF): It measures how unique a word is across multiple documents.\n",
    "\n",
    "# TF-IDF Vectorizer transforms the abstracts of scientific articles into numerical vectors, capturing the importance of each word\n",
    "\n",
    "\n",
    "# Creating a TfidfVectorizer with English stop words and case conversion\n",
    "tfidf_vectorizer = TfidfVectorizer(stop_words='english', lowercase=True)\n",
    "\n",
    "# Fit and transform abstracts to obtain the TF-IDF matrix\n",
    "tfidf_matrix = tfidf_vectorizer.fit_transform(df_last_5_years['Abstract'])\n",
    "\n",
    "# feature names (words) from the vectorizer\n",
    "feature_names = tfidf_vectorizer.get_feature_names_out()\n",
    "\n",
    "# Creating a DataFrame from the TF-IDF matrix with feature names as columns\n",
    "tfidf_df = pd.DataFrame(data=tfidf_matrix.toarray(), columns=feature_names)\n",
    "\n",
    "# Sum the TF-IDF values for each term across all abstracts\n",
    "term_importance = tfidf_df.sum(axis=0)\n",
    "\n",
    "# # To get the frequency count for each term\n",
    "# term_frequency = df_last_5_years['Abstract'].apply(lambda x: pd.Series(x.split())).stack().value_counts()\n",
    "\n",
    "# term_stats_df = pd.DataFrame({\n",
    "#     'TF-IDF': term_importance,\n",
    "#     'Frequency': term_frequency\n",
    "# })\n",
    "\n",
    "# sorted_terms = term_stats_df.sort_values(by='TF-IDF', ascending=False)\n",
    "\n",
    "\n",
    "# Sorting the terms by TF-IDF values in descending order\n",
    "sorted_terms = term_importance.sort_values(ascending=False)\n",
    "\n",
    "# top 50 terms and converting them to a dictionary\n",
    "top_technical_terms = sorted_terms.head(50).to_dict()\n",
    "\n",
    "#sorted_terms = term_importance.sort_values(ascending=False)\n",
    "\n",
    "#top_technical_terms = sorted_terms.head(20)\n",
    "top_technical_terms\n",
    "\n",
    "\n"
   ]
  },
  {
   "cell_type": "code",
   "execution_count": 38,
   "metadata": {},
   "outputs": [
    {
     "data": {
      "image/png": "[encoded data removed]",
      "text/plain": [
       "<Figure size 1000x600 with 1 Axes>"
      ]
     },
     "metadata": {},
     "output_type": "display_data"
    }
   ],
   "source": [
    "# Defining the number of top terms to display\n",
    "num_terms_to_display = 10\n",
    "\n",
    "# Selecting the top technical terms based on TF-IDF values\n",
    "top_technical_terms = sorted_terms.head(num_terms_to_display)\n",
    "\n",
    "# Creating a DataFrame from the top terms with 'Frequency' as the column name\n",
    "heatmap_data = pd.DataFrame(top_technical_terms, columns=['Frequency'])\n",
    "\n",
    "# Creating a heatmap using seaborn library\n",
    "plt.figure(figsize=(10, 6))\n",
    "sns.heatmap(heatmap_data.transpose(), cmap='YlGnBu', annot=True, fmt='g', cbar=False)\n",
    "plt.title('Top Technical Terms Heatmap Based on TF-IDF Frequency Counts')\n",
    "plt.xlabel('Technical Term')\n",
    "plt.ylabel('Frequency')\n",
    "plt.xticks(rotation=45, ha='right')\n",
    "plt.tight_layout()\n",
    "\n",
    "plt.show()\n"
   ]
  },
  {
   "cell_type": "code",
   "execution_count": 39,
   "metadata": {},
   "outputs": [
    {
     "data": {
      "text/html": [
       "<div>\n",
       "<style scoped>\n",
       "    .dataframe tbody tr th:only-of-type {\n",
       "        vertical-align: middle;\n",
       "    }\n",
       "\n",
       "    .dataframe tbody tr th {\n",
       "        vertical-align: top;\n",
       "    }\n",
       "\n",
       "    .dataframe thead th {\n",
       "        text-align: right;\n",
       "    }\n",
       "</style>\n",
       "<table border=\"1\" class=\"dataframe\">\n",
       "  <thead>\n",
       "    <tr style=\"text-align: right;\">\n",
       "      <th></th>\n",
       "      <th>PMID</th>\n",
       "      <th>Title</th>\n",
       "      <th>Abstract</th>\n",
       "      <th>ISSN</th>\n",
       "      <th>Journal</th>\n",
       "      <th>Location</th>\n",
       "      <th>Year</th>\n",
       "      <th>FirstAuthorForename</th>\n",
       "      <th>FirstAuthorLastname</th>\n",
       "      <th>FirstAuthorInitials</th>\n",
       "      <th>FirstAuthorAffiliation</th>\n",
       "    </tr>\n",
       "  </thead>\n",
       "  <tbody>\n",
       "    <tr>\n",
       "      <th>0</th>\n",
       "      <td>10575721</td>\n",
       "      <td>[Computer-assisted preoperative planning of knee replacement arthroplasty].</td>\n",
       "      <td>The general configuration of replaced knee is difficult to anticipate because of the large number of geometrical parameters related to morphology, prosthetic implants and pre-operative choices (such as ligament release). This article features the studies achieved in order to create a decision aiding computer tool dedicated to total knee prosthesis. METHOD AND MODEL: We have built a geometrical modelling of the physiological knee and prosthesis elements association. A numerical processing through biomechanical laws permitted to simulate the geometrical and mechanical behaviour of the whole for different flexing angle.</td>\n",
       "      <td>0035-1040</td>\n",
       "      <td>Revue de chirurgie orthopedique et reparatrice de l'appareil moteur</td>\n",
       "      <td>(85) 591-600</td>\n",
       "      <td>1999</td>\n",
       "      <td>E</td>\n",
       "      <td>Nerkowski</td>\n",
       "      <td>E</td>\n",
       "      <td>Equipe B2M, ENSAM, Aix-en-Provence.</td>\n",
       "    </tr>\n",
       "    <tr>\n",
       "      <th>1</th>\n",
       "      <td>10617805</td>\n",
       "      <td>[Urogenital amyloidosis: clinico-pathological study of 8 cases].</td>\n",
       "      <td>Amyloidosis of the genito-urinary tract is uncommon. We report 8 cases, often misdiagnosed as a neoplastic process (6/8). Amyloidosis was localized in the bladder (3 cases), in the ureter (1 case) and in the prostate and/or seminal vesicles (4 cases). The amyloid protein was characterized in 7 cases by immunohistochemistry. Among the bladder and ureter amyloidosis, 2 cases were classified as AL lambda amyloidosis and one case as AA amyloidosis in a patient with long history of chronic arthritis. In the fourth case, the deposits could not be identified. Nevertheless an AL amyloidosis might be suggested. Two cases of prostate and/or seminal vesicles amyloidosis were stained with an anti-B2M antibody, in hemodialyzed patients. The 2 others, positive with the anti-Transthyretina antibody, were classified as senile amyloidosis. This small series illustrated the heterogeneous pathogenic types of amyloidosis in the urogenital tract and emphasized the interest of immunohistochemistry to identify the chemical composition of these deposits.</td>\n",
       "      <td>0242-6498</td>\n",
       "      <td>Annales de pathologie</td>\n",
       "      <td>(19) 487-91</td>\n",
       "      <td>1999</td>\n",
       "      <td>M</td>\n",
       "      <td>Esslimani</td>\n",
       "      <td>M</td>\n",
       "      <td>Service d'Anatomie Pathologique, Hôpital Gui de Chauliac, 34295 Montpellier Cedex 5.</td>\n",
       "    </tr>\n",
       "    <tr>\n",
       "      <th>2</th>\n",
       "      <td>10656443</td>\n",
       "      <td>Serum beta-2 microglobulin levels are a significant prognostic factor in Philadelphia chromosome-positive chronic myelogenous leukemia.</td>\n",
       "      <td>Our objective was to investigate the prognostic significance of serum beta-2 microglobulin (B2M) levels among patients with chronic myelogenous leukemia (CML). All patients with Philadelphia chromosome-positive early chronic phase CML (i.e., within 1 year of diagnosis) treated with IFN alpha-based therapy at the M. D. Anderson Cancer Center between 1980 and 1997, in whom pretreatment B2M levels were available, were investigated. Two hundred one patients were evaluable. Their median B2M was 2.2 mg/dl (range, 1.1-20 mg/dl). Serum B2M levels were associated with other variables of prognostic significance, including age, spleen size, WBC count, percentage of peripheral and marrow blasts, and percentage of marrow basophils. Patients with B2M levels &gt;2.9 mg/dl (ie., the upper quartile of the distribution) had a significantly lower rate of major cytogenetic response compared to those in the lower three quartiles (20 versus 52%; P &lt; 0.01). They also had a shorter survival, with a 5-year survival rate of 48%, compared with 75% for those in the lower quartiles (P = 0.01). High B2M levels (&gt;2.9 mg/dl) could identify a group of patients with an adverse outcome within patients in stage I disease (P = 0.02). Results for patients in stages 2-4 were inconclusive because of the small number of patients in these groups. We conclude that serum B2M levels are an important, and probably independent, prognostic factor for patients with CML in early chronic phase treated with IFN-based therapy.</td>\n",
       "      <td>1078-0432</td>\n",
       "      <td>Clinical cancer research : an official journal of the American Association for Cancer Research</td>\n",
       "      <td>(6) 147-52</td>\n",
       "      <td>2000</td>\n",
       "      <td>J</td>\n",
       "      <td>Rodriguez</td>\n",
       "      <td>J</td>\n",
       "      <td>Department of Leukemia, University of Texas M.D. Anderson Cancer Center, Houston 77030, USA.</td>\n",
       "    </tr>\n",
       "    <tr>\n",
       "      <th>3</th>\n",
       "      <td>10790290</td>\n",
       "      <td>Exposure of Daudi cells to low-frequency magnetic fields does not elevate MYC steady-state mRNA levels.</td>\n",
       "      <td>The effect of extremely low-frequency electromagnetic field (ELF EMF) exposures to human health has been widely debated. Epidemiological studies have found a possible correlation between increased cancer incidence and environmental ELF EMF exposures. Results from in vitro studies performed to examine the possible underlying bioeffects of ELF EMFs have varied greatly. Reported effects range from robust and reproducible effects to undetectable. In this study, Daudi cells were exposed to 60 Hz magnetic fields for 20, 40 or 60 min at flux densities of 12.5, 50, 100 or 500 microT. Exposures were performed in the Regional ELF-EMF Exposure Facility (Rockville, MD) to minimize variables that might contribute to a false positive effect. Exposures included sham/sham, exposed/sham or sham/exposed, and were performed with blinding with respect to type of exposure. 12-O-Tetradecanoylphorbol-13-acetate (TPA) treatment was used as a positive control. Total cellular RNA was isolated using a single-step technique. Human MYC expression was measured by northern blot hybridization as an indicator of the responsiveness of Daudi cells to experimental conditions. Beta-2-microglobulin (B2M) expression was measured simultaneously as an internal control. Exposure to a 60 Hz magnetic field did not significantly alter MYC expression in Daudi cells under any of the exposure conditions.</td>\n",
       "      <td>0033-7587</td>\n",
       "      <td>Radiation research</td>\n",
       "      <td>(153) 663-9</td>\n",
       "      <td>2000</td>\n",
       "      <td>C A</td>\n",
       "      <td>Morehouse</td>\n",
       "      <td>CA</td>\n",
       "      <td>FDA Center for Devices and Radiological Health, Rockville, Maryland 20850, USA.</td>\n",
       "    </tr>\n",
       "    <tr>\n",
       "      <th>4</th>\n",
       "      <td>10793017</td>\n",
       "      <td>Effects of dialyzer reuse on the permeability of low-flux membranes.</td>\n",
       "      <td>Little attention has been given to the effects of reuse on the permeability of low-flux membranes, especially regarding middle molecules. We studied two different types of low-flux membranes at reuses 0, 6, and 12 in five patients undergoing hemodialysis with the following combinations of membrane and sterilant: cellulose diacetate membrane and formaldehyde, polysulfone membrane and formaldehyde, cellulose diacetate membrane and peracetic acid, and polysulfone and peracetic acid. The permeability of the membranes was assessed through the hydraulic ultrafiltration coefficient (K(UF)), sieving coefficient for beta(2)-microglobulin (B2M), and vitamin B(12) and albumin concentrations in ultrafiltrate. After 12 reuses, total cell volume (TCV) tended to be reduced in both cellulose diacetate and polysulfone dialyzers irrespective of the sterilant used, but significance was only found for the first set of dialyzers. Cellulose diacetate dialyzers reprocessed with either formaldehyde or peracetic acid showed an important reduction in K(UF) (31% [P &lt; 0.05] and 23% [P &lt; 0.05], respectively). A significant elevation in K(UF) was found in polysulfone membranes reprocessed with peracetic acid (41%; P &lt; 0.05), but no alterations in K(UF) were found in polysulfone membranes reprocessed with formaldehyde. Cellulose diacetate membranes were intrinsically more permeable to B2M than polysulfone membranes (sieving coefficient, 6. 85 +/- 2.53 versus 0.04 +/- 0.02 x 10(-2); P &lt; 0.001), which was not modified by any of the sterilants. Vitamin B(12) levels in ultrafiltrate decreased to an undetectable level in four of five samples collected after 12 reuses in polysulfone membranes reprocessed with peracetic acid (90 +/- 71 to 3 +/- 8 pg/mL; P &lt; 0. 05 versus reuse 0). Albumin leakage occurred in two of five samples after the 12th reuse, but only in polysulfone membranes reprocessed with peracetic acid. Our findings suggest that reuse of low-flux polysulfone dialyzers reprocessed with peracetic acid is associated with structural damage of the membrane and a reduced permeability to middle molecules.</td>\n",
       "      <td>1523-6838</td>\n",
       "      <td>American journal of kidney diseases : the official journal of the National Kidney Foundation</td>\n",
       "      <td>(35) 839-44</td>\n",
       "      <td>2000</td>\n",
       "      <td>J P</td>\n",
       "      <td>Matos</td>\n",
       "      <td>JP</td>\n",
       "      <td>Department of Internal Medicine, Division of Nephrology, and Department of Pathology, Universidade Federal Fluminense, Niterói, Rio de Janeiro, Brazil.</td>\n",
       "    </tr>\n",
       "    <tr>\n",
       "      <th>...</th>\n",
       "      <td>...</td>\n",
       "      <td>...</td>\n",
       "      <td>...</td>\n",
       "      <td>...</td>\n",
       "      <td>...</td>\n",
       "      <td>...</td>\n",
       "      <td>...</td>\n",
       "      <td>...</td>\n",
       "      <td>...</td>\n",
       "      <td>...</td>\n",
       "      <td>...</td>\n",
       "    </tr>\n",
       "    <tr>\n",
       "      <th>660</th>\n",
       "      <td>37889281</td>\n",
       "      <td>Artificial intelligence in early detection and prediction of pediatric/neonatal acute kidney injury: current status and future directions.</td>\n",
       "      <td>Acute kidney injury (AKI) has a significant impact on the short-term and long-term clinical outcomes of pediatric and neonatal patients, and it is imperative in these populations to mitigate the pathways leading to AKI and be prepared for early diagnosis and treatment intervention of established AKI. Recently, artificial intelligence (AI) has provided more advent predictive models for early detection/prediction of AKI utilizing machine learning (ML). By providing strong detail and evidence from risk scores and electronic alerts, this review outlines a comprehensive and holistic insight into the current state of AI in AKI in pediatric/neonatal patients. In the pediatric population, AI models including XGBoost, logistic regression, support vector machines, decision trees, naïve Bayes, and risk stratification scores (Renal Angina Index (RAI), Nephrotoxic Injury Negated by Just-in-time Action (NINJA)) have shown success in predicting AKI using variables like serum creatinine, urine output, and electronic health record (EHR) alerts. Similarly, in the neonatal population, using the \"Baby NINJA\" model showed a decrease in nephrotoxic medication exposure by 42%, the rate of AKI by 78%, and the number of days with AKI by 68%. Furthermore, the \"STARZ\" risk stratification AI model showed a predictive ability of AKI within 7 days of NICU admission of AUC 0.93 and AUC of 0.96 in the validation and derivation cohorts, respectively. Many studies have reported the superiority of using biomarkers to predict AKI in pediatric patients and neonates as well. Future directions include the application of AI along with biomarkers (NGAL, CysC, OPN, IL-18, B2M, etc.) in a Labelbox configuration to create a more robust and accurate model for predicting and detecting pediatric/neonatal AKI.</td>\n",
       "      <td>1432-198X</td>\n",
       "      <td>Pediatric nephrology (Berlin, Germany)</td>\n",
       "      <td>10.1007/s00467-023-06191-7</td>\n",
       "      <td>2023</td>\n",
       "      <td>Rupesh</td>\n",
       "      <td>Raina</td>\n",
       "      <td>R</td>\n",
       "      <td>Akron Nephrology Associates/Cleveland Clinic Akron General Medical Center, Akron, OH, USA. rraina@akronchildrens.org.</td>\n",
       "    </tr>\n",
       "    <tr>\n",
       "      <th>661</th>\n",
       "      <td>37972698</td>\n",
       "      <td>Screening the optimal housekeeping genes (HKGs) of placenta tissues by RNA-sequence and qRT-PCR throughout gestation in goat (Capra Hircus).</td>\n",
       "      <td>Selection of stable housekeeping genes (HKGs) is very important for accurate calculation of relative expression levels of target genes by quantitative real-time polymerase chain reaction (qRT-PCR). At present, the appropriate HKGs have not been identified in placental tissues throughout the pregnancy of the goat. In our study, 20 HKGs were tentatively selected from RNA-seq data and previous reports. The cycle threshold (Ct) of HKGs was determined by qRT-PCR in trophoblast membrane and cotyledon villus collected from 38 Dazu Black goats on gestation days of 20, 25, 30, 45, 60, 90, 120, and 150 (birth). The expression stability of the HKGs was analyzed by geNorm, Normfinder, Bestkeeper and Delta Ct algorithms, and comprehensively evaluated by ReFinder and ComprFinder. In addition, the optimal HKGs were further verified by placenta-specific genes (SPP1, VEGFA and PAG6). The 16 candidate HKGs (except POP4, TBP, RNF10, UBC) showed a qualified Ct value, less than 28. Among them, YWHAZ, EIF3K and PPIB showed the most stable expression in placental tissues during early, mid-late pregnancy and postpartum, but the least stable expression was B2M at early and mid-late stage, and PPIB at postpartum. After comprehensive analysis, RPLP0, EIF3K and YWHAZ were found to be the most stable placental HKGs throughout pregnancy. The classical HKGs, ACTB, GAPDH and 18S RNA have unstable expressions and even ranked at the bottom of the list from comprehensive index, suggesting an inappropriate for target gene normalization. Taken together, our study confirmed that YWHAZ, EIF3K, HMBS and RPLP0 may be the optimal HKGs in goat placenta at different stage of pregnancy, which provided a valuable reference of HKGs on functional gene expression detection for further research on placenta development and growth in ruminants.</td>\n",
       "      <td>1879-0038</td>\n",
       "      <td>Gene</td>\n",
       "      <td>(895) 147966</td>\n",
       "      <td>2023</td>\n",
       "      <td>Nanjian</td>\n",
       "      <td>Luo</td>\n",
       "      <td>N</td>\n",
       "      <td>School of Preclinical Medicine, Zunyi Medical University, Zunyi 563000, China; College of Animal Science and Technology, Southwest University, Chongqing 400715, China.</td>\n",
       "    </tr>\n",
       "    <tr>\n",
       "      <th>662</th>\n",
       "      <td>38048169</td>\n",
       "      <td>Proteomics Analysis of Serum Reveals Potential Biomarkers for Heart Failure Patients with Phlegm-Blood Stasis Syndrome.</td>\n",
       "      <td>Heart failure (HF), a complex clinical syndrome, has become a global burden on health and economics around the world. Phlegm-blood stasis syndrome, one of the Traditional Chinese Medicine (TCM) syndrome differentiation, is the core pathogenesis dynamically throughout the occurrence, development, and prognosis of HF. Biomarkers having high sensitivity and specificity are highly demanded to facilitate the accurate differentiation of HF patients with phlegm-blood stasis syndrome. In the present study, serum samples were collected from 20 healthy controls and 40 HF patients (20 with and 20 without phlegm-blood stasis syndrome). We implemented data-independent acquisition mass spectrometry (DIA-MS) for discovery and parallel reaction monitoring (PRM) for validation of biomarkers for heart failure with phlegm-blood stasis syndrome. A total of 84 different proteins were found in the HF with phlegm-blood stasis syndrome (HF-TY) group compared with healthy controls. 37 candidate proteins were selected for the PRM assay, and five validated proteins with high sensitivity and specificity, including insulin-like growth factor-binding protein 4 (IGFBP4), β-2-microglobulin (B2M), dystroglycan (DAG1), immunoglobulin J chain (JCHAIN), and kallikrein B1 (KLKB1), were considered potential biomarkers for heart failure patients with phlegm-blood stasis syndrome. Newly identified biomarkers might provide insights into the diagnosis and treatment of HF with TCM syndrome differentiation.</td>\n",
       "      <td>1535-3907</td>\n",
       "      <td>Journal of proteome research</td>\n",
       "      <td>10.1021/acs.jproteome.3c00537</td>\n",
       "      <td>2023</td>\n",
       "      <td>Taohua</td>\n",
       "      <td>Lan</td>\n",
       "      <td>T</td>\n",
       "      <td>State Key Laboratory of Dampness Syndrome of Chinese Medicine, The Second Affiliated Hospital of Guangzhou University of Chinese Medicine, Guangzhou 510020, China.</td>\n",
       "    </tr>\n",
       "    <tr>\n",
       "      <th>663</th>\n",
       "      <td>38053293</td>\n",
       "      <td>Highly efficient genome editing via CRISPR-Cas9 ribonucleoprotein (RNP) delivery in mesenchymal stem cells.</td>\n",
       "      <td>The CRISPR-Cas9 system has significantly advanced regenerative medicine research by enabling genome editing in stem cells. Due to their desirable properties, mesenchymal stem cells (MSCs) have recently emerged as highly promising therapeutic agents, which properties include differentiation abilit and cytokine production. While CRISPR-Cas9 technology is applied to develop MSC-based therapeutics, MSCs exhibit inefficient genome editing, and susceptibility to plasmid DNA. In this study, we compared and optimized plasmid DNA and RNP approaches for efficient genome engineering in MSCs. The RNP-mediated approach enabled genome editing with high indel frequency and low cytotoxicity in MSCs. By utilizing Cas9 RNPs, we successfully generated B2M-knockout MSCs, which reduced T-cell differentiation, and improved MSC survival. Furthermore, this approach enhanced the immunomodulatory effect of IFN-r priming. These findings indicate that the RNP-mediated engineering of MSC genomes can achieve high efficiency, and engineered MSCs offer potential as a promising therapeutic strategy.</td>\n",
       "      <td>1976-670X</td>\n",
       "      <td>BMB reports</td>\n",
       "      <td>5981</td>\n",
       "      <td>2023</td>\n",
       "      <td>A Reum</td>\n",
       "      <td>Han</td>\n",
       "      <td>AR</td>\n",
       "      <td>NaN</td>\n",
       "    </tr>\n",
       "    <tr>\n",
       "      <th>664</th>\n",
       "      <td>38092161</td>\n",
       "      <td>Identification and validation of stable reference genes for expression profiling of target genes in diverse ovine tissues.</td>\n",
       "      <td>Quantitative PCR (qPCR) is a widely-used technique for quantifying the expression of target genes across various tissues, as well as under different pathological and physiological conditions. One of the challenges associated with this method is the need to identify optimal reference genes (RGs) that maintain consistent expression levels under diverse experimental settings, thereby ensuring accurate biological interpretation. In this study, we conducted a thorough analysis of 18 candidate RGs (ACTB, BACH1, B2M, GAPDH, HMBS, HPRT1, PGK1, PPIA, PPIB, RPLP0, RPL19, RPS9, RPS15, RPS28, SDHA, TBP, UXT, and YWHAZ) across 10 ovine tissues (muscle, skin, kidney, liver, intestine, rumen, lung, testis, heart, and spleen) obtained from five individual sheep. We aimed to identify genes with stable expression across these tissues. A literature-based survey helped us shortlist candidate genes representing various functional classes from multiple livestock species. We employed four algorithms: geNorm, NormFinder, BestKeeper, and Delta Ct (ΔCt), to rank these genes based on their stability. A consistent trend in the rankings was observed across these different algorithms. RefFinder was then used for a comprehensive ranking, integrating the outputs from the various methods. ACTB, PPIB, BACH1, and B2M emerged as the most stable RGs, while RPS9, RPS15, and PGK1 displayed variable expression. We validated our findings through qPCR analysis of four target genes (ACTN2, CRYAB, DLK1, and TRIM54) in the skin samples from two different sheep breeds. Based on these results, we recommend ACTB, PPIB, BACH1, and B2M as reliable internal control genes for qPCR experiments involving diverse ovine tissues.</td>\n",
       "      <td>1879-0038</td>\n",
       "      <td>Gene</td>\n",
       "      <td>S0378-1119(23)00908-3</td>\n",
       "      <td>2023</td>\n",
       "      <td>Mahanthi</td>\n",
       "      <td>Vasu</td>\n",
       "      <td>M</td>\n",
       "      <td>ICAR-National Bureau of Animal Genetic Resources, Karnal; ICAR-National Dairy Research Institute, Karnal.</td>\n",
       "    </tr>\n",
       "  </tbody>\n",
       "</table>\n",
       "<p>665 rows × 11 columns</p>\n",
       "</div>"
      ],
      "text/plain": [
       "         PMID  \\\n",
       "0    10575721   \n",
       "1    10617805   \n",
       "2    10656443   \n",
       "3    10790290   \n",
       "4    10793017   \n",
       "..        ...   \n",
       "660  37889281   \n",
       "661  37972698   \n",
       "662  38048169   \n",
       "663  38053293   \n",
       "664  38092161   \n",
       "\n",
       "                                                                                                                                            Title  \\\n",
       "0                                                                     [Computer-assisted preoperative planning of knee replacement arthroplasty].   \n",
       "1                                                                                [Urogenital amyloidosis: clinico-pathological study of 8 cases].   \n",
       "2         Serum beta-2 microglobulin levels are a significant prognostic factor in Philadelphia chromosome-positive chronic myelogenous leukemia.   \n",
       "3                                         Exposure of Daudi cells to low-frequency magnetic fields does not elevate MYC steady-state mRNA levels.   \n",
       "4                                                                            Effects of dialyzer reuse on the permeability of low-flux membranes.   \n",
       "..                                                                                                                                            ...   \n",
       "660    Artificial intelligence in early detection and prediction of pediatric/neonatal acute kidney injury: current status and future directions.   \n",
       "661  Screening the optimal housekeeping genes (HKGs) of placenta tissues by RNA-sequence and qRT-PCR throughout gestation in goat (Capra Hircus).   \n",
       "662                       Proteomics Analysis of Serum Reveals Potential Biomarkers for Heart Failure Patients with Phlegm-Blood Stasis Syndrome.   \n",
       "663                                   Highly efficient genome editing via CRISPR-Cas9 ribonucleoprotein (RNP) delivery in mesenchymal stem cells.   \n",
       "664                    Identification and validation of stable reference genes for expression profiling of target genes in diverse ovine tissues.   \n",
       "\n",
       "                                                                                                                                                                                                                                                                                                                                                                                                                                                                                                                                                                                                                                                                                                                                                                                                                                                                                                                                                                                                                                                                                                                                                                                                                                                                                                                                                                                                                                                                                                                                                                                                                                                                                                                                                                                                                                                                                                                                                                                                                                                                                                                                                                                         Abstract  \\\n",
       "0                                                                                                                                                                                                                                                                                                                                                                                                                                                                                                                                                                                                                                                                                                                                                                                                                                                                                                                                                                                                                                                                                                                                                                                                                                                                                                                                                                                                                                                                                                                                                The general configuration of replaced knee is difficult to anticipate because of the large number of geometrical parameters related to morphology, prosthetic implants and pre-operative choices (such as ligament release). This article features the studies achieved in order to create a decision aiding computer tool dedicated to total knee prosthesis. METHOD AND MODEL: We have built a geometrical modelling of the physiological knee and prosthesis elements association. A numerical processing through biomechanical laws permitted to simulate the geometrical and mechanical behaviour of the whole for different flexing angle.   \n",
       "1                                                                                                                                                                                                                                                                                                                                                                                                                                                                                                                                                                                                                                                                                                                                                                                                                                                                                                                                                                                                                                                                                                          Amyloidosis of the genito-urinary tract is uncommon. We report 8 cases, often misdiagnosed as a neoplastic process (6/8). Amyloidosis was localized in the bladder (3 cases), in the ureter (1 case) and in the prostate and/or seminal vesicles (4 cases). The amyloid protein was characterized in 7 cases by immunohistochemistry. Among the bladder and ureter amyloidosis, 2 cases were classified as AL lambda amyloidosis and one case as AA amyloidosis in a patient with long history of chronic arthritis. In the fourth case, the deposits could not be identified. Nevertheless an AL amyloidosis might be suggested. Two cases of prostate and/or seminal vesicles amyloidosis were stained with an anti-B2M antibody, in hemodialyzed patients. The 2 others, positive with the anti-Transthyretina antibody, were classified as senile amyloidosis. This small series illustrated the heterogeneous pathogenic types of amyloidosis in the urogenital tract and emphasized the interest of immunohistochemistry to identify the chemical composition of these deposits.   \n",
       "2                                                                                                                                                                                                                                                                                                                                                                                                                                                                                                                                                                                                                                        Our objective was to investigate the prognostic significance of serum beta-2 microglobulin (B2M) levels among patients with chronic myelogenous leukemia (CML). All patients with Philadelphia chromosome-positive early chronic phase CML (i.e., within 1 year of diagnosis) treated with IFN alpha-based therapy at the M. D. Anderson Cancer Center between 1980 and 1997, in whom pretreatment B2M levels were available, were investigated. Two hundred one patients were evaluable. Their median B2M was 2.2 mg/dl (range, 1.1-20 mg/dl). Serum B2M levels were associated with other variables of prognostic significance, including age, spleen size, WBC count, percentage of peripheral and marrow blasts, and percentage of marrow basophils. Patients with B2M levels >2.9 mg/dl (ie., the upper quartile of the distribution) had a significantly lower rate of major cytogenetic response compared to those in the lower three quartiles (20 versus 52%; P < 0.01). They also had a shorter survival, with a 5-year survival rate of 48%, compared with 75% for those in the lower quartiles (P = 0.01). High B2M levels (>2.9 mg/dl) could identify a group of patients with an adverse outcome within patients in stage I disease (P = 0.02). Results for patients in stages 2-4 were inconclusive because of the small number of patients in these groups. We conclude that serum B2M levels are an important, and probably independent, prognostic factor for patients with CML in early chronic phase treated with IFN-based therapy.   \n",
       "3                                                                                                                                                                                                                                                                                                                                                                                                                                                                                                                                                                                                                                                                                                                                                             The effect of extremely low-frequency electromagnetic field (ELF EMF) exposures to human health has been widely debated. Epidemiological studies have found a possible correlation between increased cancer incidence and environmental ELF EMF exposures. Results from in vitro studies performed to examine the possible underlying bioeffects of ELF EMFs have varied greatly. Reported effects range from robust and reproducible effects to undetectable. In this study, Daudi cells were exposed to 60 Hz magnetic fields for 20, 40 or 60 min at flux densities of 12.5, 50, 100 or 500 microT. Exposures were performed in the Regional ELF-EMF Exposure Facility (Rockville, MD) to minimize variables that might contribute to a false positive effect. Exposures included sham/sham, exposed/sham or sham/exposed, and were performed with blinding with respect to type of exposure. 12-O-Tetradecanoylphorbol-13-acetate (TPA) treatment was used as a positive control. Total cellular RNA was isolated using a single-step technique. Human MYC expression was measured by northern blot hybridization as an indicator of the responsiveness of Daudi cells to experimental conditions. Beta-2-microglobulin (B2M) expression was measured simultaneously as an internal control. Exposure to a 60 Hz magnetic field did not significantly alter MYC expression in Daudi cells under any of the exposure conditions.   \n",
       "4    Little attention has been given to the effects of reuse on the permeability of low-flux membranes, especially regarding middle molecules. We studied two different types of low-flux membranes at reuses 0, 6, and 12 in five patients undergoing hemodialysis with the following combinations of membrane and sterilant: cellulose diacetate membrane and formaldehyde, polysulfone membrane and formaldehyde, cellulose diacetate membrane and peracetic acid, and polysulfone and peracetic acid. The permeability of the membranes was assessed through the hydraulic ultrafiltration coefficient (K(UF)), sieving coefficient for beta(2)-microglobulin (B2M), and vitamin B(12) and albumin concentrations in ultrafiltrate. After 12 reuses, total cell volume (TCV) tended to be reduced in both cellulose diacetate and polysulfone dialyzers irrespective of the sterilant used, but significance was only found for the first set of dialyzers. Cellulose diacetate dialyzers reprocessed with either formaldehyde or peracetic acid showed an important reduction in K(UF) (31% [P < 0.05] and 23% [P < 0.05], respectively). A significant elevation in K(UF) was found in polysulfone membranes reprocessed with peracetic acid (41%; P < 0.05), but no alterations in K(UF) were found in polysulfone membranes reprocessed with formaldehyde. Cellulose diacetate membranes were intrinsically more permeable to B2M than polysulfone membranes (sieving coefficient, 6. 85 +/- 2.53 versus 0.04 +/- 0.02 x 10(-2); P < 0.001), which was not modified by any of the sterilants. Vitamin B(12) levels in ultrafiltrate decreased to an undetectable level in four of five samples collected after 12 reuses in polysulfone membranes reprocessed with peracetic acid (90 +/- 71 to 3 +/- 8 pg/mL; P < 0. 05 versus reuse 0). Albumin leakage occurred in two of five samples after the 12th reuse, but only in polysulfone membranes reprocessed with peracetic acid. Our findings suggest that reuse of low-flux polysulfone dialyzers reprocessed with peracetic acid is associated with structural damage of the membrane and a reduced permeability to middle molecules.   \n",
       "..                                                                                                                                                                                                                                                                                                                                                                                                                                                                                                                                                                                                                                                                                                                                                                                                                                                                                                                                                                                                                                                                                                                                                                                                                                                                                                                                                                                                                                                                                                                                                                                                                                                                                                                                                                                                                                                                                                                                                                                                                                                                                                                                                                                            ...   \n",
       "660                                                                                                                                                                                                                                                                                                                             Acute kidney injury (AKI) has a significant impact on the short-term and long-term clinical outcomes of pediatric and neonatal patients, and it is imperative in these populations to mitigate the pathways leading to AKI and be prepared for early diagnosis and treatment intervention of established AKI. Recently, artificial intelligence (AI) has provided more advent predictive models for early detection/prediction of AKI utilizing machine learning (ML). By providing strong detail and evidence from risk scores and electronic alerts, this review outlines a comprehensive and holistic insight into the current state of AI in AKI in pediatric/neonatal patients. In the pediatric population, AI models including XGBoost, logistic regression, support vector machines, decision trees, naïve Bayes, and risk stratification scores (Renal Angina Index (RAI), Nephrotoxic Injury Negated by Just-in-time Action (NINJA)) have shown success in predicting AKI using variables like serum creatinine, urine output, and electronic health record (EHR) alerts. Similarly, in the neonatal population, using the \"Baby NINJA\" model showed a decrease in nephrotoxic medication exposure by 42%, the rate of AKI by 78%, and the number of days with AKI by 68%. Furthermore, the \"STARZ\" risk stratification AI model showed a predictive ability of AKI within 7 days of NICU admission of AUC 0.93 and AUC of 0.96 in the validation and derivation cohorts, respectively. Many studies have reported the superiority of using biomarkers to predict AKI in pediatric patients and neonates as well. Future directions include the application of AI along with biomarkers (NGAL, CysC, OPN, IL-18, B2M, etc.) in a Labelbox configuration to create a more robust and accurate model for predicting and detecting pediatric/neonatal AKI.   \n",
       "661                                                                                                                                                                                                                                                                                              Selection of stable housekeeping genes (HKGs) is very important for accurate calculation of relative expression levels of target genes by quantitative real-time polymerase chain reaction (qRT-PCR). At present, the appropriate HKGs have not been identified in placental tissues throughout the pregnancy of the goat. In our study, 20 HKGs were tentatively selected from RNA-seq data and previous reports. The cycle threshold (Ct) of HKGs was determined by qRT-PCR in trophoblast membrane and cotyledon villus collected from 38 Dazu Black goats on gestation days of 20, 25, 30, 45, 60, 90, 120, and 150 (birth). The expression stability of the HKGs was analyzed by geNorm, Normfinder, Bestkeeper and Delta Ct algorithms, and comprehensively evaluated by ReFinder and ComprFinder. In addition, the optimal HKGs were further verified by placenta-specific genes (SPP1, VEGFA and PAG6). The 16 candidate HKGs (except POP4, TBP, RNF10, UBC) showed a qualified Ct value, less than 28. Among them, YWHAZ, EIF3K and PPIB showed the most stable expression in placental tissues during early, mid-late pregnancy and postpartum, but the least stable expression was B2M at early and mid-late stage, and PPIB at postpartum. After comprehensive analysis, RPLP0, EIF3K and YWHAZ were found to be the most stable placental HKGs throughout pregnancy. The classical HKGs, ACTB, GAPDH and 18S RNA have unstable expressions and even ranked at the bottom of the list from comprehensive index, suggesting an inappropriate for target gene normalization. Taken together, our study confirmed that YWHAZ, EIF3K, HMBS and RPLP0 may be the optimal HKGs in goat placenta at different stage of pregnancy, which provided a valuable reference of HKGs on functional gene expression detection for further research on placenta development and growth in ruminants.   \n",
       "662                                                                                                                                                                                                                                                                                                                                                                                                                                                                                                                                                                                                                                              Heart failure (HF), a complex clinical syndrome, has become a global burden on health and economics around the world. Phlegm-blood stasis syndrome, one of the Traditional Chinese Medicine (TCM) syndrome differentiation, is the core pathogenesis dynamically throughout the occurrence, development, and prognosis of HF. Biomarkers having high sensitivity and specificity are highly demanded to facilitate the accurate differentiation of HF patients with phlegm-blood stasis syndrome. In the present study, serum samples were collected from 20 healthy controls and 40 HF patients (20 with and 20 without phlegm-blood stasis syndrome). We implemented data-independent acquisition mass spectrometry (DIA-MS) for discovery and parallel reaction monitoring (PRM) for validation of biomarkers for heart failure with phlegm-blood stasis syndrome. A total of 84 different proteins were found in the HF with phlegm-blood stasis syndrome (HF-TY) group compared with healthy controls. 37 candidate proteins were selected for the PRM assay, and five validated proteins with high sensitivity and specificity, including insulin-like growth factor-binding protein 4 (IGFBP4), β-2-microglobulin (B2M), dystroglycan (DAG1), immunoglobulin J chain (JCHAIN), and kallikrein B1 (KLKB1), were considered potential biomarkers for heart failure patients with phlegm-blood stasis syndrome. Newly identified biomarkers might provide insights into the diagnosis and treatment of HF with TCM syndrome differentiation.   \n",
       "663                                                                                                                                                                                                                                                                                                                                                                                                                                                                                                                                                                                                                                                                                                                                                                                                                                                                                                                                                                                                                                                                   The CRISPR-Cas9 system has significantly advanced regenerative medicine research by enabling genome editing in stem cells. Due to their desirable properties, mesenchymal stem cells (MSCs) have recently emerged as highly promising therapeutic agents, which properties include differentiation abilit and cytokine production. While CRISPR-Cas9 technology is applied to develop MSC-based therapeutics, MSCs exhibit inefficient genome editing, and susceptibility to plasmid DNA. In this study, we compared and optimized plasmid DNA and RNP approaches for efficient genome engineering in MSCs. The RNP-mediated approach enabled genome editing with high indel frequency and low cytotoxicity in MSCs. By utilizing Cas9 RNPs, we successfully generated B2M-knockout MSCs, which reduced T-cell differentiation, and improved MSC survival. Furthermore, this approach enhanced the immunomodulatory effect of IFN-r priming. These findings indicate that the RNP-mediated engineering of MSC genomes can achieve high efficiency, and engineered MSCs offer potential as a promising therapeutic strategy.   \n",
       "664                                                                                                                                                                                                                                                                                                                                                                                                                        Quantitative PCR (qPCR) is a widely-used technique for quantifying the expression of target genes across various tissues, as well as under different pathological and physiological conditions. One of the challenges associated with this method is the need to identify optimal reference genes (RGs) that maintain consistent expression levels under diverse experimental settings, thereby ensuring accurate biological interpretation. In this study, we conducted a thorough analysis of 18 candidate RGs (ACTB, BACH1, B2M, GAPDH, HMBS, HPRT1, PGK1, PPIA, PPIB, RPLP0, RPL19, RPS9, RPS15, RPS28, SDHA, TBP, UXT, and YWHAZ) across 10 ovine tissues (muscle, skin, kidney, liver, intestine, rumen, lung, testis, heart, and spleen) obtained from five individual sheep. We aimed to identify genes with stable expression across these tissues. A literature-based survey helped us shortlist candidate genes representing various functional classes from multiple livestock species. We employed four algorithms: geNorm, NormFinder, BestKeeper, and Delta Ct (ΔCt), to rank these genes based on their stability. A consistent trend in the rankings was observed across these different algorithms. RefFinder was then used for a comprehensive ranking, integrating the outputs from the various methods. ACTB, PPIB, BACH1, and B2M emerged as the most stable RGs, while RPS9, RPS15, and PGK1 displayed variable expression. We validated our findings through qPCR analysis of four target genes (ACTN2, CRYAB, DLK1, and TRIM54) in the skin samples from two different sheep breeds. Based on these results, we recommend ACTB, PPIB, BACH1, and B2M as reliable internal control genes for qPCR experiments involving diverse ovine tissues.   \n",
       "\n",
       "          ISSN  \\\n",
       "0    0035-1040   \n",
       "1    0242-6498   \n",
       "2    1078-0432   \n",
       "3    0033-7587   \n",
       "4    1523-6838   \n",
       "..         ...   \n",
       "660  1432-198X   \n",
       "661  1879-0038   \n",
       "662  1535-3907   \n",
       "663  1976-670X   \n",
       "664  1879-0038   \n",
       "\n",
       "                                                                                            Journal  \\\n",
       "0                               Revue de chirurgie orthopedique et reparatrice de l'appareil moteur   \n",
       "1                                                                             Annales de pathologie   \n",
       "2    Clinical cancer research : an official journal of the American Association for Cancer Research   \n",
       "3                                                                                Radiation research   \n",
       "4      American journal of kidney diseases : the official journal of the National Kidney Foundation   \n",
       "..                                                                                              ...   \n",
       "660                                                          Pediatric nephrology (Berlin, Germany)   \n",
       "661                                                                                            Gene   \n",
       "662                                                                    Journal of proteome research   \n",
       "663                                                                                     BMB reports   \n",
       "664                                                                                            Gene   \n",
       "\n",
       "                          Location  Year FirstAuthorForename  \\\n",
       "0                     (85) 591-600  1999                   E   \n",
       "1                      (19) 487-91  1999                   M   \n",
       "2                       (6) 147-52  2000                   J   \n",
       "3                      (153) 663-9  2000                 C A   \n",
       "4                      (35) 839-44  2000                 J P   \n",
       "..                             ...   ...                 ...   \n",
       "660     10.1007/s00467-023-06191-7  2023              Rupesh   \n",
       "661                   (895) 147966  2023             Nanjian   \n",
       "662  10.1021/acs.jproteome.3c00537  2023              Taohua   \n",
       "663                           5981  2023              A Reum   \n",
       "664          S0378-1119(23)00908-3  2023            Mahanthi   \n",
       "\n",
       "    FirstAuthorLastname FirstAuthorInitials  \\\n",
       "0             Nerkowski                   E   \n",
       "1             Esslimani                   M   \n",
       "2             Rodriguez                   J   \n",
       "3             Morehouse                  CA   \n",
       "4                 Matos                  JP   \n",
       "..                  ...                 ...   \n",
       "660               Raina                   R   \n",
       "661                 Luo                   N   \n",
       "662                 Lan                   T   \n",
       "663                 Han                  AR   \n",
       "664                Vasu                   M   \n",
       "\n",
       "                                                                                                                                                      FirstAuthorAffiliation  \n",
       "0                                                                                                                                        Equipe B2M, ENSAM, Aix-en-Provence.  \n",
       "1                                                                                       Service d'Anatomie Pathologique, Hôpital Gui de Chauliac, 34295 Montpellier Cedex 5.  \n",
       "2                                                                               Department of Leukemia, University of Texas M.D. Anderson Cancer Center, Houston 77030, USA.  \n",
       "3                                                                                            FDA Center for Devices and Radiological Health, Rockville, Maryland 20850, USA.  \n",
       "4                    Department of Internal Medicine, Division of Nephrology, and Department of Pathology, Universidade Federal Fluminense, Niterói, Rio de Janeiro, Brazil.  \n",
       "..                                                                                                                                                                       ...  \n",
       "660                                                    Akron Nephrology Associates/Cleveland Clinic Akron General Medical Center, Akron, OH, USA. rraina@akronchildrens.org.  \n",
       "661  School of Preclinical Medicine, Zunyi Medical University, Zunyi 563000, China; College of Animal Science and Technology, Southwest University, Chongqing 400715, China.  \n",
       "662      State Key Laboratory of Dampness Syndrome of Chinese Medicine, The Second Affiliated Hospital of Guangzhou University of Chinese Medicine, Guangzhou 510020, China.  \n",
       "663                                                                                                                                                                      NaN  \n",
       "664                                                                ICAR-National Bureau of Animal Genetic Resources, Karnal; ICAR-National Dairy Research Institute, Karnal.  \n",
       "\n",
       "[665 rows x 11 columns]"
      ]
     },
     "metadata": {},
     "output_type": "display_data"
    },
    {
     "data": {
      "text/html": [
       "<div>\n",
       "<style scoped>\n",
       "    .dataframe tbody tr th:only-of-type {\n",
       "        vertical-align: middle;\n",
       "    }\n",
       "\n",
       "    .dataframe tbody tr th {\n",
       "        vertical-align: top;\n",
       "    }\n",
       "\n",
       "    .dataframe thead th {\n",
       "        text-align: right;\n",
       "    }\n",
       "</style>\n",
       "<table border=\"1\" class=\"dataframe\">\n",
       "  <thead>\n",
       "    <tr style=\"text-align: right;\">\n",
       "      <th></th>\n",
       "      <th>PMID</th>\n",
       "      <th>AuthorN</th>\n",
       "      <th>AuthorForename</th>\n",
       "      <th>AuthorLastname</th>\n",
       "      <th>AuthorInitials</th>\n",
       "      <th>AuthorAffiliation</th>\n",
       "    </tr>\n",
       "  </thead>\n",
       "  <tbody>\n",
       "    <tr>\n",
       "      <th>0</th>\n",
       "      <td>10575721</td>\n",
       "      <td>1</td>\n",
       "      <td>E</td>\n",
       "      <td>Nerkowski</td>\n",
       "      <td>E</td>\n",
       "      <td>Equipe B2M, ENSAM, Aix-en-Provence.</td>\n",
       "    </tr>\n",
       "    <tr>\n",
       "      <th>1</th>\n",
       "      <td>10575721</td>\n",
       "      <td>2</td>\n",
       "      <td>P</td>\n",
       "      <td>Calas</td>\n",
       "      <td>P</td>\n",
       "      <td>NaN</td>\n",
       "    </tr>\n",
       "    <tr>\n",
       "      <th>2</th>\n",
       "      <td>10575721</td>\n",
       "      <td>3</td>\n",
       "      <td>A</td>\n",
       "      <td>Mouttet</td>\n",
       "      <td>A</td>\n",
       "      <td>NaN</td>\n",
       "    </tr>\n",
       "    <tr>\n",
       "      <th>3</th>\n",
       "      <td>10617805</td>\n",
       "      <td>1</td>\n",
       "      <td>M</td>\n",
       "      <td>Esslimani</td>\n",
       "      <td>M</td>\n",
       "      <td>Service d'Anatomie Pathologique, Hôpital Gui de Chauliac, 34295 Montpellier Cedex 5.</td>\n",
       "    </tr>\n",
       "    <tr>\n",
       "      <th>4</th>\n",
       "      <td>10617805</td>\n",
       "      <td>2</td>\n",
       "      <td>I</td>\n",
       "      <td>Serre</td>\n",
       "      <td>I</td>\n",
       "      <td>NaN</td>\n",
       "    </tr>\n",
       "    <tr>\n",
       "      <th>...</th>\n",
       "      <td>...</td>\n",
       "      <td>...</td>\n",
       "      <td>...</td>\n",
       "      <td>...</td>\n",
       "      <td>...</td>\n",
       "      <td>...</td>\n",
       "    </tr>\n",
       "    <tr>\n",
       "      <th>5792</th>\n",
       "      <td>38092161</td>\n",
       "      <td>6</td>\n",
       "      <td>Rekha</td>\n",
       "      <td>Sharma</td>\n",
       "      <td>R</td>\n",
       "      <td>ICAR-National Bureau of Animal Genetic Resources, Karnal.</td>\n",
       "    </tr>\n",
       "    <tr>\n",
       "      <th>5793</th>\n",
       "      <td>38092161</td>\n",
       "      <td>7</td>\n",
       "      <td>Upasna</td>\n",
       "      <td>Sharma</td>\n",
       "      <td>U</td>\n",
       "      <td>ICAR-National Bureau of Animal Genetic Resources, Karnal.</td>\n",
       "    </tr>\n",
       "    <tr>\n",
       "      <th>5794</th>\n",
       "      <td>38092161</td>\n",
       "      <td>8</td>\n",
       "      <td>Pooja</td>\n",
       "      <td>Chhabra</td>\n",
       "      <td>P</td>\n",
       "      <td>ICAR-National Bureau of Animal Genetic Resources, Karnal.</td>\n",
       "    </tr>\n",
       "    <tr>\n",
       "      <th>5795</th>\n",
       "      <td>38092161</td>\n",
       "      <td>9</td>\n",
       "      <td>M A</td>\n",
       "      <td>Mir</td>\n",
       "      <td>MA</td>\n",
       "      <td>Shere Kashmir University of Agricultural Sciences and Technology, Aulestang, Shuhama, Kashmir.</td>\n",
       "    </tr>\n",
       "    <tr>\n",
       "      <th>5796</th>\n",
       "      <td>38092161</td>\n",
       "      <td>10</td>\n",
       "      <td>Manoj</td>\n",
       "      <td>Kumar Singh</td>\n",
       "      <td>M</td>\n",
       "      <td>ICAR-Central Institute for Research on Goats, Makhdoom, Mathura.</td>\n",
       "    </tr>\n",
       "  </tbody>\n",
       "</table>\n",
       "<p>5797 rows × 6 columns</p>\n",
       "</div>"
      ],
      "text/plain": [
       "          PMID  AuthorN AuthorForename AuthorLastname AuthorInitials  \\\n",
       "0     10575721        1              E      Nerkowski              E   \n",
       "1     10575721        2              P          Calas              P   \n",
       "2     10575721        3              A        Mouttet              A   \n",
       "3     10617805        1              M      Esslimani              M   \n",
       "4     10617805        2              I          Serre              I   \n",
       "...        ...      ...            ...            ...            ...   \n",
       "5792  38092161        6          Rekha         Sharma              R   \n",
       "5793  38092161        7         Upasna         Sharma              U   \n",
       "5794  38092161        8          Pooja        Chhabra              P   \n",
       "5795  38092161        9            M A            Mir             MA   \n",
       "5796  38092161       10          Manoj    Kumar Singh              M   \n",
       "\n",
       "                                                                                   AuthorAffiliation  \n",
       "0                                                                Equipe B2M, ENSAM, Aix-en-Provence.  \n",
       "1                                                                                                NaN  \n",
       "2                                                                                                NaN  \n",
       "3               Service d'Anatomie Pathologique, Hôpital Gui de Chauliac, 34295 Montpellier Cedex 5.  \n",
       "4                                                                                                NaN  \n",
       "...                                                                                              ...  \n",
       "5792                                       ICAR-National Bureau of Animal Genetic Resources, Karnal.  \n",
       "5793                                       ICAR-National Bureau of Animal Genetic Resources, Karnal.  \n",
       "5794                                       ICAR-National Bureau of Animal Genetic Resources, Karnal.  \n",
       "5795  Shere Kashmir University of Agricultural Sciences and Technology, Aulestang, Shuhama, Kashmir.  \n",
       "5796                                ICAR-Central Institute for Research on Goats, Makhdoom, Mathura.  \n",
       "\n",
       "[5797 rows x 6 columns]"
      ]
     },
     "metadata": {},
     "output_type": "display_data"
    },
    {
     "data": {
      "text/html": [
       "<div>\n",
       "<style scoped>\n",
       "    .dataframe tbody tr th:only-of-type {\n",
       "        vertical-align: middle;\n",
       "    }\n",
       "\n",
       "    .dataframe tbody tr th {\n",
       "        vertical-align: top;\n",
       "    }\n",
       "\n",
       "    .dataframe thead th {\n",
       "        text-align: right;\n",
       "    }\n",
       "</style>\n",
       "<table border=\"1\" class=\"dataframe\">\n",
       "  <thead>\n",
       "    <tr style=\"text-align: right;\">\n",
       "      <th></th>\n",
       "      <th>Year</th>\n",
       "      <th>Count</th>\n",
       "    </tr>\n",
       "  </thead>\n",
       "  <tbody>\n",
       "    <tr>\n",
       "      <th>0</th>\n",
       "      <td>1799</td>\n",
       "      <td>1</td>\n",
       "    </tr>\n",
       "    <tr>\n",
       "      <th>1</th>\n",
       "      <td>1801</td>\n",
       "      <td>1</td>\n",
       "    </tr>\n",
       "    <tr>\n",
       "      <th>2</th>\n",
       "      <td>1802</td>\n",
       "      <td>1</td>\n",
       "    </tr>\n",
       "    <tr>\n",
       "      <th>3</th>\n",
       "      <td>1805</td>\n",
       "      <td>1</td>\n",
       "    </tr>\n",
       "    <tr>\n",
       "      <th>4</th>\n",
       "      <td>1866</td>\n",
       "      <td>1</td>\n",
       "    </tr>\n",
       "    <tr>\n",
       "      <th>...</th>\n",
       "      <td>...</td>\n",
       "      <td>...</td>\n",
       "    </tr>\n",
       "    <tr>\n",
       "      <th>138</th>\n",
       "      <td>2020</td>\n",
       "      <td>1132241</td>\n",
       "    </tr>\n",
       "    <tr>\n",
       "      <th>139</th>\n",
       "      <td>2021</td>\n",
       "      <td>1277048</td>\n",
       "    </tr>\n",
       "    <tr>\n",
       "      <th>140</th>\n",
       "      <td>2022</td>\n",
       "      <td>1324650</td>\n",
       "    </tr>\n",
       "    <tr>\n",
       "      <th>141</th>\n",
       "      <td>2023</td>\n",
       "      <td>1302390</td>\n",
       "    </tr>\n",
       "    <tr>\n",
       "      <th>142</th>\n",
       "      <td>2024</td>\n",
       "      <td>15611</td>\n",
       "    </tr>\n",
       "  </tbody>\n",
       "</table>\n",
       "<p>143 rows × 2 columns</p>\n",
       "</div>"
      ],
      "text/plain": [
       "     Year    Count\n",
       "0    1799        1\n",
       "1    1801        1\n",
       "2    1802        1\n",
       "3    1805        1\n",
       "4    1866        1\n",
       "..    ...      ...\n",
       "138  2020  1132241\n",
       "139  2021  1277048\n",
       "140  2022  1324650\n",
       "141  2023  1302390\n",
       "142  2024    15611\n",
       "\n",
       "[143 rows x 2 columns]"
      ]
     },
     "metadata": {},
     "output_type": "display_data"
    },
    {
     "name": "stdout",
     "output_type": "stream",
     "text": [
      "Common information of the Article dataset: \n",
      "--------------------------\n",
      "<class 'pandas.core.frame.DataFrame'>\n",
      "RangeIndex: 665 entries, 0 to 664\n",
      "Data columns (total 11 columns):\n",
      " #   Column                  Non-Null Count  Dtype \n",
      "---  ------                  --------------  ----- \n",
      " 0   PMID                    665 non-null    int64 \n",
      " 1   Title                   665 non-null    object\n",
      " 2   Abstract                665 non-null    object\n",
      " 3   ISSN                    665 non-null    object\n",
      " 4   Journal                 665 non-null    object\n",
      " 5   Location                665 non-null    object\n",
      " 6   Year                    665 non-null    int64 \n",
      " 7   FirstAuthorForename     665 non-null    object\n",
      " 8   FirstAuthorLastname     665 non-null    object\n",
      " 9   FirstAuthorInitials     665 non-null    object\n",
      " 10  FirstAuthorAffiliation  659 non-null    object\n",
      "dtypes: int64(2), object(9)\n",
      "memory usage: 57.3+ KB\n",
      "--------------------------\n",
      "The NaN vaues in the Article dataset is: \n",
      "--------------------------\n",
      "The NaN vaues in the Authors dataset is: \n",
      "-------------------------------\n",
      "The NaN vaues in the paper count dataset is: \n",
      "--------------------------\n",
      "<class 'pandas.core.frame.DataFrame'>\n",
      "Index: 659 entries, 0 to 664\n",
      "Data columns (total 11 columns):\n",
      " #   Column                  Non-Null Count  Dtype \n",
      "---  ------                  --------------  ----- \n",
      " 0   PMID                    659 non-null    int64 \n",
      " 1   Title                   659 non-null    object\n",
      " 2   Abstract                659 non-null    object\n",
      " 3   ISSN                    659 non-null    object\n",
      " 4   Journal                 659 non-null    object\n",
      " 5   Location                659 non-null    object\n",
      " 6   Year                    659 non-null    int64 \n",
      " 7   FirstAuthorForename     659 non-null    object\n",
      " 8   FirstAuthorLastname     659 non-null    object\n",
      " 9   FirstAuthorInitials     659 non-null    object\n",
      " 10  FirstAuthorAffiliation  659 non-null    object\n",
      "dtypes: int64(2), object(9)\n",
      "memory usage: 61.8+ KB\n"
     ]
    },
    {
     "data": {
      "text/html": [
       "<div>\n",
       "<style scoped>\n",
       "    .dataframe tbody tr th:only-of-type {\n",
       "        vertical-align: middle;\n",
       "    }\n",
       "\n",
       "    .dataframe tbody tr th {\n",
       "        vertical-align: top;\n",
       "    }\n",
       "\n",
       "    .dataframe thead th {\n",
       "        text-align: right;\n",
       "    }\n",
       "</style>\n",
       "<table border=\"1\" class=\"dataframe\">\n",
       "  <thead>\n",
       "    <tr style=\"text-align: right;\">\n",
       "      <th></th>\n",
       "      <th>PMID</th>\n",
       "      <th>ISSN</th>\n",
       "      <th>Journal</th>\n",
       "      <th>Year</th>\n",
       "      <th>FirstAuthorForename</th>\n",
       "      <th>FirstAuthorLastname</th>\n",
       "      <th>FirstAuthorAffiliation</th>\n",
       "    </tr>\n",
       "  </thead>\n",
       "  <tbody>\n",
       "    <tr>\n",
       "      <th>0</th>\n",
       "      <td>10575721</td>\n",
       "      <td>0035-1040</td>\n",
       "      <td>Revue de chirurgie orthopedique et reparatrice de l'appareil moteur</td>\n",
       "      <td>1999</td>\n",
       "      <td>E</td>\n",
       "      <td>Nerkowski</td>\n",
       "      <td>Equipe B2M, ENSAM, Aix-en-Provence.</td>\n",
       "    </tr>\n",
       "    <tr>\n",
       "      <th>1</th>\n",
       "      <td>10617805</td>\n",
       "      <td>0242-6498</td>\n",
       "      <td>Annales de pathologie</td>\n",
       "      <td>1999</td>\n",
       "      <td>M</td>\n",
       "      <td>Esslimani</td>\n",
       "      <td>Service d'Anatomie Pathologique, Hôpital Gui de Chauliac, 34295 Montpellier Cedex 5.</td>\n",
       "    </tr>\n",
       "    <tr>\n",
       "      <th>2</th>\n",
       "      <td>10656443</td>\n",
       "      <td>1078-0432</td>\n",
       "      <td>Clinical cancer research : an official journal of the American Association for Cancer Research</td>\n",
       "      <td>2000</td>\n",
       "      <td>J</td>\n",
       "      <td>Rodriguez</td>\n",
       "      <td>Department of Leukemia, University of Texas M.D. Anderson Cancer Center, Houston 77030, USA.</td>\n",
       "    </tr>\n",
       "    <tr>\n",
       "      <th>3</th>\n",
       "      <td>10790290</td>\n",
       "      <td>0033-7587</td>\n",
       "      <td>Radiation research</td>\n",
       "      <td>2000</td>\n",
       "      <td>C A</td>\n",
       "      <td>Morehouse</td>\n",
       "      <td>FDA Center for Devices and Radiological Health, Rockville, Maryland 20850, USA.</td>\n",
       "    </tr>\n",
       "    <tr>\n",
       "      <th>4</th>\n",
       "      <td>10793017</td>\n",
       "      <td>1523-6838</td>\n",
       "      <td>American journal of kidney diseases : the official journal of the National Kidney Foundation</td>\n",
       "      <td>2000</td>\n",
       "      <td>J P</td>\n",
       "      <td>Matos</td>\n",
       "      <td>Department of Internal Medicine, Division of Nephrology, and Department of Pathology, Universidade Federal Fluminense, Niterói, Rio de Janeiro, Brazil.</td>\n",
       "    </tr>\n",
       "    <tr>\n",
       "      <th>...</th>\n",
       "      <td>...</td>\n",
       "      <td>...</td>\n",
       "      <td>...</td>\n",
       "      <td>...</td>\n",
       "      <td>...</td>\n",
       "      <td>...</td>\n",
       "      <td>...</td>\n",
       "    </tr>\n",
       "    <tr>\n",
       "      <th>659</th>\n",
       "      <td>37874452</td>\n",
       "      <td>2509-2723</td>\n",
       "      <td>GeroScience</td>\n",
       "      <td>2023</td>\n",
       "      <td>Diana I</td>\n",
       "      <td>Aparicio-Bautista</td>\n",
       "      <td>Laboratorio de Estructura de Proteínas, Instituto Nacional de Medicina Genómica (INMEGEN), 14610, Ciudad de Mexico, Mexico.</td>\n",
       "    </tr>\n",
       "    <tr>\n",
       "      <th>660</th>\n",
       "      <td>37889281</td>\n",
       "      <td>1432-198X</td>\n",
       "      <td>Pediatric nephrology (Berlin, Germany)</td>\n",
       "      <td>2023</td>\n",
       "      <td>Rupesh</td>\n",
       "      <td>Raina</td>\n",
       "      <td>Akron Nephrology Associates/Cleveland Clinic Akron General Medical Center, Akron, OH, USA. rraina@akronchildrens.org.</td>\n",
       "    </tr>\n",
       "    <tr>\n",
       "      <th>661</th>\n",
       "      <td>37972698</td>\n",
       "      <td>1879-0038</td>\n",
       "      <td>Gene</td>\n",
       "      <td>2023</td>\n",
       "      <td>Nanjian</td>\n",
       "      <td>Luo</td>\n",
       "      <td>School of Preclinical Medicine, Zunyi Medical University, Zunyi 563000, China; College of Animal Science and Technology, Southwest University, Chongqing 400715, China.</td>\n",
       "    </tr>\n",
       "    <tr>\n",
       "      <th>662</th>\n",
       "      <td>38048169</td>\n",
       "      <td>1535-3907</td>\n",
       "      <td>Journal of proteome research</td>\n",
       "      <td>2023</td>\n",
       "      <td>Taohua</td>\n",
       "      <td>Lan</td>\n",
       "      <td>State Key Laboratory of Dampness Syndrome of Chinese Medicine, The Second Affiliated Hospital of Guangzhou University of Chinese Medicine, Guangzhou 510020, China.</td>\n",
       "    </tr>\n",
       "    <tr>\n",
       "      <th>664</th>\n",
       "      <td>38092161</td>\n",
       "      <td>1879-0038</td>\n",
       "      <td>Gene</td>\n",
       "      <td>2023</td>\n",
       "      <td>Mahanthi</td>\n",
       "      <td>Vasu</td>\n",
       "      <td>ICAR-National Bureau of Animal Genetic Resources, Karnal; ICAR-National Dairy Research Institute, Karnal.</td>\n",
       "    </tr>\n",
       "  </tbody>\n",
       "</table>\n",
       "<p>659 rows × 7 columns</p>\n",
       "</div>"
      ],
      "text/plain": [
       "         PMID       ISSN  \\\n",
       "0    10575721  0035-1040   \n",
       "1    10617805  0242-6498   \n",
       "2    10656443  1078-0432   \n",
       "3    10790290  0033-7587   \n",
       "4    10793017  1523-6838   \n",
       "..        ...        ...   \n",
       "659  37874452  2509-2723   \n",
       "660  37889281  1432-198X   \n",
       "661  37972698  1879-0038   \n",
       "662  38048169  1535-3907   \n",
       "664  38092161  1879-0038   \n",
       "\n",
       "                                                                                            Journal  \\\n",
       "0                               Revue de chirurgie orthopedique et reparatrice de l'appareil moteur   \n",
       "1                                                                             Annales de pathologie   \n",
       "2    Clinical cancer research : an official journal of the American Association for Cancer Research   \n",
       "3                                                                                Radiation research   \n",
       "4      American journal of kidney diseases : the official journal of the National Kidney Foundation   \n",
       "..                                                                                              ...   \n",
       "659                                                                                     GeroScience   \n",
       "660                                                          Pediatric nephrology (Berlin, Germany)   \n",
       "661                                                                                            Gene   \n",
       "662                                                                    Journal of proteome research   \n",
       "664                                                                                            Gene   \n",
       "\n",
       "     Year FirstAuthorForename FirstAuthorLastname  \\\n",
       "0    1999                   E           Nerkowski   \n",
       "1    1999                   M           Esslimani   \n",
       "2    2000                   J           Rodriguez   \n",
       "3    2000                 C A           Morehouse   \n",
       "4    2000                 J P               Matos   \n",
       "..    ...                 ...                 ...   \n",
       "659  2023             Diana I   Aparicio-Bautista   \n",
       "660  2023              Rupesh               Raina   \n",
       "661  2023             Nanjian                 Luo   \n",
       "662  2023              Taohua                 Lan   \n",
       "664  2023            Mahanthi                Vasu   \n",
       "\n",
       "                                                                                                                                                      FirstAuthorAffiliation  \n",
       "0                                                                                                                                        Equipe B2M, ENSAM, Aix-en-Provence.  \n",
       "1                                                                                       Service d'Anatomie Pathologique, Hôpital Gui de Chauliac, 34295 Montpellier Cedex 5.  \n",
       "2                                                                               Department of Leukemia, University of Texas M.D. Anderson Cancer Center, Houston 77030, USA.  \n",
       "3                                                                                            FDA Center for Devices and Radiological Health, Rockville, Maryland 20850, USA.  \n",
       "4                    Department of Internal Medicine, Division of Nephrology, and Department of Pathology, Universidade Federal Fluminense, Niterói, Rio de Janeiro, Brazil.  \n",
       "..                                                                                                                                                                       ...  \n",
       "659                                              Laboratorio de Estructura de Proteínas, Instituto Nacional de Medicina Genómica (INMEGEN), 14610, Ciudad de Mexico, Mexico.  \n",
       "660                                                    Akron Nephrology Associates/Cleveland Clinic Akron General Medical Center, Akron, OH, USA. rraina@akronchildrens.org.  \n",
       "661  School of Preclinical Medicine, Zunyi Medical University, Zunyi 563000, China; College of Animal Science and Technology, Southwest University, Chongqing 400715, China.  \n",
       "662      State Key Laboratory of Dampness Syndrome of Chinese Medicine, The Second Affiliated Hospital of Guangzhou University of Chinese Medicine, Guangzhou 510020, China.  \n",
       "664                                                                ICAR-National Bureau of Animal Genetic Resources, Karnal; ICAR-National Dairy Research Institute, Karnal.  \n",
       "\n",
       "[659 rows x 7 columns]"
      ]
     },
     "metadata": {},
     "output_type": "display_data"
    },
    {
     "data": {
      "text/html": [
       "<div>\n",
       "<style scoped>\n",
       "    .dataframe tbody tr th:only-of-type {\n",
       "        vertical-align: middle;\n",
       "    }\n",
       "\n",
       "    .dataframe tbody tr th {\n",
       "        vertical-align: top;\n",
       "    }\n",
       "\n",
       "    .dataframe thead th {\n",
       "        text-align: right;\n",
       "    }\n",
       "</style>\n",
       "<table border=\"1\" class=\"dataframe\">\n",
       "  <thead>\n",
       "    <tr style=\"text-align: right;\">\n",
       "      <th></th>\n",
       "      <th>PMID</th>\n",
       "      <th>ISSN</th>\n",
       "      <th>Journal</th>\n",
       "      <th>Year</th>\n",
       "      <th>FirstAuthorForename</th>\n",
       "      <th>FirstAuthorLastname</th>\n",
       "      <th>FirstAuthorAffiliation</th>\n",
       "      <th>AuthorName</th>\n",
       "    </tr>\n",
       "  </thead>\n",
       "  <tbody>\n",
       "    <tr>\n",
       "      <th>0</th>\n",
       "      <td>10575721</td>\n",
       "      <td>0035-1040</td>\n",
       "      <td>Revue de chirurgie orthopedique et reparatrice de l'appareil moteur</td>\n",
       "      <td>1999</td>\n",
       "      <td>E</td>\n",
       "      <td>Nerkowski</td>\n",
       "      <td>Equipe B2M, ENSAM, Aix-en-Provence.</td>\n",
       "      <td>E Nerkowski</td>\n",
       "    </tr>\n",
       "    <tr>\n",
       "      <th>1</th>\n",
       "      <td>10617805</td>\n",
       "      <td>0242-6498</td>\n",
       "      <td>Annales de pathologie</td>\n",
       "      <td>1999</td>\n",
       "      <td>M</td>\n",
       "      <td>Esslimani</td>\n",
       "      <td>Service d'Anatomie Pathologique, Hôpital Gui de Chauliac, 34295 Montpellier Cedex 5.</td>\n",
       "      <td>M Esslimani</td>\n",
       "    </tr>\n",
       "    <tr>\n",
       "      <th>2</th>\n",
       "      <td>10656443</td>\n",
       "      <td>1078-0432</td>\n",
       "      <td>Clinical cancer research : an official journal of the American Association for Cancer Research</td>\n",
       "      <td>2000</td>\n",
       "      <td>J</td>\n",
       "      <td>Rodriguez</td>\n",
       "      <td>Department of Leukemia, University of Texas M.D. Anderson Cancer Center, Houston 77030, USA.</td>\n",
       "      <td>J Rodriguez</td>\n",
       "    </tr>\n",
       "    <tr>\n",
       "      <th>3</th>\n",
       "      <td>10790290</td>\n",
       "      <td>0033-7587</td>\n",
       "      <td>Radiation research</td>\n",
       "      <td>2000</td>\n",
       "      <td>C A</td>\n",
       "      <td>Morehouse</td>\n",
       "      <td>FDA Center for Devices and Radiological Health, Rockville, Maryland 20850, USA.</td>\n",
       "      <td>C A Morehouse</td>\n",
       "    </tr>\n",
       "    <tr>\n",
       "      <th>4</th>\n",
       "      <td>10793017</td>\n",
       "      <td>1523-6838</td>\n",
       "      <td>American journal of kidney diseases : the official journal of the National Kidney Foundation</td>\n",
       "      <td>2000</td>\n",
       "      <td>J P</td>\n",
       "      <td>Matos</td>\n",
       "      <td>Department of Internal Medicine, Division of Nephrology, and Department of Pathology, Universidade Federal Fluminense, Niterói, Rio de Janeiro, Brazil.</td>\n",
       "      <td>J P Matos</td>\n",
       "    </tr>\n",
       "    <tr>\n",
       "      <th>...</th>\n",
       "      <td>...</td>\n",
       "      <td>...</td>\n",
       "      <td>...</td>\n",
       "      <td>...</td>\n",
       "      <td>...</td>\n",
       "      <td>...</td>\n",
       "      <td>...</td>\n",
       "      <td>...</td>\n",
       "    </tr>\n",
       "    <tr>\n",
       "      <th>659</th>\n",
       "      <td>37874452</td>\n",
       "      <td>2509-2723</td>\n",
       "      <td>GeroScience</td>\n",
       "      <td>2023</td>\n",
       "      <td>Diana I</td>\n",
       "      <td>Aparicio-Bautista</td>\n",
       "      <td>Laboratorio de Estructura de Proteínas, Instituto Nacional de Medicina Genómica (INMEGEN), 14610, Ciudad de Mexico, Mexico.</td>\n",
       "      <td>Diana I Aparicio-Bautista</td>\n",
       "    </tr>\n",
       "    <tr>\n",
       "      <th>660</th>\n",
       "      <td>37889281</td>\n",
       "      <td>1432-198X</td>\n",
       "      <td>Pediatric nephrology (Berlin, Germany)</td>\n",
       "      <td>2023</td>\n",
       "      <td>Rupesh</td>\n",
       "      <td>Raina</td>\n",
       "      <td>Akron Nephrology Associates/Cleveland Clinic Akron General Medical Center, Akron, OH, USA. rraina@akronchildrens.org.</td>\n",
       "      <td>Rupesh Raina</td>\n",
       "    </tr>\n",
       "    <tr>\n",
       "      <th>661</th>\n",
       "      <td>37972698</td>\n",
       "      <td>1879-0038</td>\n",
       "      <td>Gene</td>\n",
       "      <td>2023</td>\n",
       "      <td>Nanjian</td>\n",
       "      <td>Luo</td>\n",
       "      <td>School of Preclinical Medicine, Zunyi Medical University, Zunyi 563000, China; College of Animal Science and Technology, Southwest University, Chongqing 400715, China.</td>\n",
       "      <td>Nanjian Luo</td>\n",
       "    </tr>\n",
       "    <tr>\n",
       "      <th>662</th>\n",
       "      <td>38048169</td>\n",
       "      <td>1535-3907</td>\n",
       "      <td>Journal of proteome research</td>\n",
       "      <td>2023</td>\n",
       "      <td>Taohua</td>\n",
       "      <td>Lan</td>\n",
       "      <td>State Key Laboratory of Dampness Syndrome of Chinese Medicine, The Second Affiliated Hospital of Guangzhou University of Chinese Medicine, Guangzhou 510020, China.</td>\n",
       "      <td>Taohua Lan</td>\n",
       "    </tr>\n",
       "    <tr>\n",
       "      <th>664</th>\n",
       "      <td>38092161</td>\n",
       "      <td>1879-0038</td>\n",
       "      <td>Gene</td>\n",
       "      <td>2023</td>\n",
       "      <td>Mahanthi</td>\n",
       "      <td>Vasu</td>\n",
       "      <td>ICAR-National Bureau of Animal Genetic Resources, Karnal; ICAR-National Dairy Research Institute, Karnal.</td>\n",
       "      <td>Mahanthi Vasu</td>\n",
       "    </tr>\n",
       "  </tbody>\n",
       "</table>\n",
       "<p>659 rows × 8 columns</p>\n",
       "</div>"
      ],
      "text/plain": [
       "         PMID       ISSN  \\\n",
       "0    10575721  0035-1040   \n",
       "1    10617805  0242-6498   \n",
       "2    10656443  1078-0432   \n",
       "3    10790290  0033-7587   \n",
       "4    10793017  1523-6838   \n",
       "..        ...        ...   \n",
       "659  37874452  2509-2723   \n",
       "660  37889281  1432-198X   \n",
       "661  37972698  1879-0038   \n",
       "662  38048169  1535-3907   \n",
       "664  38092161  1879-0038   \n",
       "\n",
       "                                                                                            Journal  \\\n",
       "0                               Revue de chirurgie orthopedique et reparatrice de l'appareil moteur   \n",
       "1                                                                             Annales de pathologie   \n",
       "2    Clinical cancer research : an official journal of the American Association for Cancer Research   \n",
       "3                                                                                Radiation research   \n",
       "4      American journal of kidney diseases : the official journal of the National Kidney Foundation   \n",
       "..                                                                                              ...   \n",
       "659                                                                                     GeroScience   \n",
       "660                                                          Pediatric nephrology (Berlin, Germany)   \n",
       "661                                                                                            Gene   \n",
       "662                                                                    Journal of proteome research   \n",
       "664                                                                                            Gene   \n",
       "\n",
       "     Year FirstAuthorForename FirstAuthorLastname  \\\n",
       "0    1999                   E           Nerkowski   \n",
       "1    1999                   M           Esslimani   \n",
       "2    2000                   J           Rodriguez   \n",
       "3    2000                 C A           Morehouse   \n",
       "4    2000                 J P               Matos   \n",
       "..    ...                 ...                 ...   \n",
       "659  2023             Diana I   Aparicio-Bautista   \n",
       "660  2023              Rupesh               Raina   \n",
       "661  2023             Nanjian                 Luo   \n",
       "662  2023              Taohua                 Lan   \n",
       "664  2023            Mahanthi                Vasu   \n",
       "\n",
       "                                                                                                                                                      FirstAuthorAffiliation  \\\n",
       "0                                                                                                                                        Equipe B2M, ENSAM, Aix-en-Provence.   \n",
       "1                                                                                       Service d'Anatomie Pathologique, Hôpital Gui de Chauliac, 34295 Montpellier Cedex 5.   \n",
       "2                                                                               Department of Leukemia, University of Texas M.D. Anderson Cancer Center, Houston 77030, USA.   \n",
       "3                                                                                            FDA Center for Devices and Radiological Health, Rockville, Maryland 20850, USA.   \n",
       "4                    Department of Internal Medicine, Division of Nephrology, and Department of Pathology, Universidade Federal Fluminense, Niterói, Rio de Janeiro, Brazil.   \n",
       "..                                                                                                                                                                       ...   \n",
       "659                                              Laboratorio de Estructura de Proteínas, Instituto Nacional de Medicina Genómica (INMEGEN), 14610, Ciudad de Mexico, Mexico.   \n",
       "660                                                    Akron Nephrology Associates/Cleveland Clinic Akron General Medical Center, Akron, OH, USA. rraina@akronchildrens.org.   \n",
       "661  School of Preclinical Medicine, Zunyi Medical University, Zunyi 563000, China; College of Animal Science and Technology, Southwest University, Chongqing 400715, China.   \n",
       "662      State Key Laboratory of Dampness Syndrome of Chinese Medicine, The Second Affiliated Hospital of Guangzhou University of Chinese Medicine, Guangzhou 510020, China.   \n",
       "664                                                                ICAR-National Bureau of Animal Genetic Resources, Karnal; ICAR-National Dairy Research Institute, Karnal.   \n",
       "\n",
       "                    AuthorName  \n",
       "0                  E Nerkowski  \n",
       "1                  M Esslimani  \n",
       "2                  J Rodriguez  \n",
       "3                C A Morehouse  \n",
       "4                    J P Matos  \n",
       "..                         ...  \n",
       "659  Diana I Aparicio-Bautista  \n",
       "660               Rupesh Raina  \n",
       "661                Nanjian Luo  \n",
       "662                 Taohua Lan  \n",
       "664              Mahanthi Vasu  \n",
       "\n",
       "[659 rows x 8 columns]"
      ]
     },
     "metadata": {},
     "output_type": "display_data"
    },
    {
     "data": {
      "text/html": [
       "<div>\n",
       "<style scoped>\n",
       "    .dataframe tbody tr th:only-of-type {\n",
       "        vertical-align: middle;\n",
       "    }\n",
       "\n",
       "    .dataframe tbody tr th {\n",
       "        vertical-align: top;\n",
       "    }\n",
       "\n",
       "    .dataframe thead th {\n",
       "        text-align: right;\n",
       "    }\n",
       "</style>\n",
       "<table border=\"1\" class=\"dataframe\">\n",
       "  <thead>\n",
       "    <tr style=\"text-align: right;\">\n",
       "      <th></th>\n",
       "      <th>PMID</th>\n",
       "      <th>ISSN</th>\n",
       "      <th>Journal</th>\n",
       "      <th>Year</th>\n",
       "      <th>FirstAuthorAffiliation</th>\n",
       "      <th>AuthorName</th>\n",
       "    </tr>\n",
       "  </thead>\n",
       "  <tbody>\n",
       "    <tr>\n",
       "      <th>0</th>\n",
       "      <td>10575721</td>\n",
       "      <td>0035-1040</td>\n",
       "      <td>Revue de chirurgie orthopedique et reparatrice de l'appareil moteur</td>\n",
       "      <td>1999</td>\n",
       "      <td>Equipe B2M, ENSAM, Aix-en-Provence.</td>\n",
       "      <td>E Nerkowski</td>\n",
       "    </tr>\n",
       "    <tr>\n",
       "      <th>1</th>\n",
       "      <td>10617805</td>\n",
       "      <td>0242-6498</td>\n",
       "      <td>Annales de pathologie</td>\n",
       "      <td>1999</td>\n",
       "      <td>Service d'Anatomie Pathologique, Hôpital Gui de Chauliac, 34295 Montpellier Cedex 5.</td>\n",
       "      <td>M Esslimani</td>\n",
       "    </tr>\n",
       "    <tr>\n",
       "      <th>2</th>\n",
       "      <td>10656443</td>\n",
       "      <td>1078-0432</td>\n",
       "      <td>Clinical cancer research : an official journal of the American Association for Cancer Research</td>\n",
       "      <td>2000</td>\n",
       "      <td>Department of Leukemia, University of Texas M.D. Anderson Cancer Center, Houston 77030, USA.</td>\n",
       "      <td>J Rodriguez</td>\n",
       "    </tr>\n",
       "    <tr>\n",
       "      <th>3</th>\n",
       "      <td>10790290</td>\n",
       "      <td>0033-7587</td>\n",
       "      <td>Radiation research</td>\n",
       "      <td>2000</td>\n",
       "      <td>FDA Center for Devices and Radiological Health, Rockville, Maryland 20850, USA.</td>\n",
       "      <td>C A Morehouse</td>\n",
       "    </tr>\n",
       "    <tr>\n",
       "      <th>4</th>\n",
       "      <td>10793017</td>\n",
       "      <td>1523-6838</td>\n",
       "      <td>American journal of kidney diseases : the official journal of the National Kidney Foundation</td>\n",
       "      <td>2000</td>\n",
       "      <td>Department of Internal Medicine, Division of Nephrology, and Department of Pathology, Universidade Federal Fluminense, Niterói, Rio de Janeiro, Brazil.</td>\n",
       "      <td>J P Matos</td>\n",
       "    </tr>\n",
       "    <tr>\n",
       "      <th>...</th>\n",
       "      <td>...</td>\n",
       "      <td>...</td>\n",
       "      <td>...</td>\n",
       "      <td>...</td>\n",
       "      <td>...</td>\n",
       "      <td>...</td>\n",
       "    </tr>\n",
       "    <tr>\n",
       "      <th>659</th>\n",
       "      <td>37874452</td>\n",
       "      <td>2509-2723</td>\n",
       "      <td>GeroScience</td>\n",
       "      <td>2023</td>\n",
       "      <td>Laboratorio de Estructura de Proteínas, Instituto Nacional de Medicina Genómica (INMEGEN), 14610, Ciudad de Mexico, Mexico.</td>\n",
       "      <td>Diana I Aparicio-Bautista</td>\n",
       "    </tr>\n",
       "    <tr>\n",
       "      <th>660</th>\n",
       "      <td>37889281</td>\n",
       "      <td>1432-198X</td>\n",
       "      <td>Pediatric nephrology (Berlin, Germany)</td>\n",
       "      <td>2023</td>\n",
       "      <td>Akron Nephrology Associates/Cleveland Clinic Akron General Medical Center, Akron, OH, USA. rraina@akronchildrens.org.</td>\n",
       "      <td>Rupesh Raina</td>\n",
       "    </tr>\n",
       "    <tr>\n",
       "      <th>661</th>\n",
       "      <td>37972698</td>\n",
       "      <td>1879-0038</td>\n",
       "      <td>Gene</td>\n",
       "      <td>2023</td>\n",
       "      <td>School of Preclinical Medicine, Zunyi Medical University, Zunyi 563000, China; College of Animal Science and Technology, Southwest University, Chongqing 400715, China.</td>\n",
       "      <td>Nanjian Luo</td>\n",
       "    </tr>\n",
       "    <tr>\n",
       "      <th>662</th>\n",
       "      <td>38048169</td>\n",
       "      <td>1535-3907</td>\n",
       "      <td>Journal of proteome research</td>\n",
       "      <td>2023</td>\n",
       "      <td>State Key Laboratory of Dampness Syndrome of Chinese Medicine, The Second Affiliated Hospital of Guangzhou University of Chinese Medicine, Guangzhou 510020, China.</td>\n",
       "      <td>Taohua Lan</td>\n",
       "    </tr>\n",
       "    <tr>\n",
       "      <th>664</th>\n",
       "      <td>38092161</td>\n",
       "      <td>1879-0038</td>\n",
       "      <td>Gene</td>\n",
       "      <td>2023</td>\n",
       "      <td>ICAR-National Bureau of Animal Genetic Resources, Karnal; ICAR-National Dairy Research Institute, Karnal.</td>\n",
       "      <td>Mahanthi Vasu</td>\n",
       "    </tr>\n",
       "  </tbody>\n",
       "</table>\n",
       "<p>659 rows × 6 columns</p>\n",
       "</div>"
      ],
      "text/plain": [
       "         PMID       ISSN  \\\n",
       "0    10575721  0035-1040   \n",
       "1    10617805  0242-6498   \n",
       "2    10656443  1078-0432   \n",
       "3    10790290  0033-7587   \n",
       "4    10793017  1523-6838   \n",
       "..        ...        ...   \n",
       "659  37874452  2509-2723   \n",
       "660  37889281  1432-198X   \n",
       "661  37972698  1879-0038   \n",
       "662  38048169  1535-3907   \n",
       "664  38092161  1879-0038   \n",
       "\n",
       "                                                                                            Journal  \\\n",
       "0                               Revue de chirurgie orthopedique et reparatrice de l'appareil moteur   \n",
       "1                                                                             Annales de pathologie   \n",
       "2    Clinical cancer research : an official journal of the American Association for Cancer Research   \n",
       "3                                                                                Radiation research   \n",
       "4      American journal of kidney diseases : the official journal of the National Kidney Foundation   \n",
       "..                                                                                              ...   \n",
       "659                                                                                     GeroScience   \n",
       "660                                                          Pediatric nephrology (Berlin, Germany)   \n",
       "661                                                                                            Gene   \n",
       "662                                                                    Journal of proteome research   \n",
       "664                                                                                            Gene   \n",
       "\n",
       "     Year  \\\n",
       "0    1999   \n",
       "1    1999   \n",
       "2    2000   \n",
       "3    2000   \n",
       "4    2000   \n",
       "..    ...   \n",
       "659  2023   \n",
       "660  2023   \n",
       "661  2023   \n",
       "662  2023   \n",
       "664  2023   \n",
       "\n",
       "                                                                                                                                                      FirstAuthorAffiliation  \\\n",
       "0                                                                                                                                        Equipe B2M, ENSAM, Aix-en-Provence.   \n",
       "1                                                                                       Service d'Anatomie Pathologique, Hôpital Gui de Chauliac, 34295 Montpellier Cedex 5.   \n",
       "2                                                                               Department of Leukemia, University of Texas M.D. Anderson Cancer Center, Houston 77030, USA.   \n",
       "3                                                                                            FDA Center for Devices and Radiological Health, Rockville, Maryland 20850, USA.   \n",
       "4                    Department of Internal Medicine, Division of Nephrology, and Department of Pathology, Universidade Federal Fluminense, Niterói, Rio de Janeiro, Brazil.   \n",
       "..                                                                                                                                                                       ...   \n",
       "659                                              Laboratorio de Estructura de Proteínas, Instituto Nacional de Medicina Genómica (INMEGEN), 14610, Ciudad de Mexico, Mexico.   \n",
       "660                                                    Akron Nephrology Associates/Cleveland Clinic Akron General Medical Center, Akron, OH, USA. rraina@akronchildrens.org.   \n",
       "661  School of Preclinical Medicine, Zunyi Medical University, Zunyi 563000, China; College of Animal Science and Technology, Southwest University, Chongqing 400715, China.   \n",
       "662      State Key Laboratory of Dampness Syndrome of Chinese Medicine, The Second Affiliated Hospital of Guangzhou University of Chinese Medicine, Guangzhou 510020, China.   \n",
       "664                                                                ICAR-National Bureau of Animal Genetic Resources, Karnal; ICAR-National Dairy Research Institute, Karnal.   \n",
       "\n",
       "                    AuthorName  \n",
       "0                  E Nerkowski  \n",
       "1                  M Esslimani  \n",
       "2                  J Rodriguez  \n",
       "3                C A Morehouse  \n",
       "4                    J P Matos  \n",
       "..                         ...  \n",
       "659  Diana I Aparicio-Bautista  \n",
       "660               Rupesh Raina  \n",
       "661                Nanjian Luo  \n",
       "662                 Taohua Lan  \n",
       "664              Mahanthi Vasu  \n",
       "\n",
       "[659 rows x 6 columns]"
      ]
     },
     "metadata": {},
     "output_type": "display_data"
    },
    {
     "data": {
      "text/html": [
       "<div>\n",
       "<style scoped>\n",
       "    .dataframe tbody tr th:only-of-type {\n",
       "        vertical-align: middle;\n",
       "    }\n",
       "\n",
       "    .dataframe tbody tr th {\n",
       "        vertical-align: top;\n",
       "    }\n",
       "\n",
       "    .dataframe thead th {\n",
       "        text-align: right;\n",
       "    }\n",
       "</style>\n",
       "<table border=\"1\" class=\"dataframe\">\n",
       "  <thead>\n",
       "    <tr style=\"text-align: right;\">\n",
       "      <th></th>\n",
       "      <th>PMID</th>\n",
       "      <th>FirstAuthorAffiliation</th>\n",
       "    </tr>\n",
       "  </thead>\n",
       "  <tbody>\n",
       "    <tr>\n",
       "      <th>0</th>\n",
       "      <td>10575721</td>\n",
       "      <td>Equipe B2M, ENSAM, Aix-en-Provence.</td>\n",
       "    </tr>\n",
       "    <tr>\n",
       "      <th>1</th>\n",
       "      <td>10617805</td>\n",
       "      <td>Service d'Anatomie Pathologique, Hôpital Gui de Chauliac, 34295 Montpellier Cedex 5.</td>\n",
       "    </tr>\n",
       "    <tr>\n",
       "      <th>2</th>\n",
       "      <td>10656443</td>\n",
       "      <td>Department of Leukemia, University of Texas M.D. Anderson Cancer Center, Houston 77030, USA.</td>\n",
       "    </tr>\n",
       "    <tr>\n",
       "      <th>3</th>\n",
       "      <td>10790290</td>\n",
       "      <td>FDA Center for Devices and Radiological Health, Rockville, Maryland 20850, USA.</td>\n",
       "    </tr>\n",
       "    <tr>\n",
       "      <th>4</th>\n",
       "      <td>10793017</td>\n",
       "      <td>Department of Internal Medicine, Division of Nephrology, and Department of Pathology, Universidade Federal Fluminense, Niterói, Rio de Janeiro, Brazil.</td>\n",
       "    </tr>\n",
       "    <tr>\n",
       "      <th>...</th>\n",
       "      <td>...</td>\n",
       "      <td>...</td>\n",
       "    </tr>\n",
       "    <tr>\n",
       "      <th>659</th>\n",
       "      <td>37874452</td>\n",
       "      <td>Laboratorio de Estructura de Proteínas, Instituto Nacional de Medicina Genómica (INMEGEN), 14610, Ciudad de Mexico, Mexico.</td>\n",
       "    </tr>\n",
       "    <tr>\n",
       "      <th>660</th>\n",
       "      <td>37889281</td>\n",
       "      <td>Akron Nephrology Associates/Cleveland Clinic Akron General Medical Center, Akron, OH, USA. rraina@akronchildrens.org.</td>\n",
       "    </tr>\n",
       "    <tr>\n",
       "      <th>661</th>\n",
       "      <td>37972698</td>\n",
       "      <td>School of Preclinical Medicine, Zunyi Medical University, Zunyi 563000, China; College of Animal Science and Technology, Southwest University, Chongqing 400715, China.</td>\n",
       "    </tr>\n",
       "    <tr>\n",
       "      <th>662</th>\n",
       "      <td>38048169</td>\n",
       "      <td>State Key Laboratory of Dampness Syndrome of Chinese Medicine, The Second Affiliated Hospital of Guangzhou University of Chinese Medicine, Guangzhou 510020, China.</td>\n",
       "    </tr>\n",
       "    <tr>\n",
       "      <th>664</th>\n",
       "      <td>38092161</td>\n",
       "      <td>ICAR-National Bureau of Animal Genetic Resources, Karnal; ICAR-National Dairy Research Institute, Karnal.</td>\n",
       "    </tr>\n",
       "  </tbody>\n",
       "</table>\n",
       "<p>659 rows × 2 columns</p>\n",
       "</div>"
      ],
      "text/plain": [
       "         PMID  \\\n",
       "0    10575721   \n",
       "1    10617805   \n",
       "2    10656443   \n",
       "3    10790290   \n",
       "4    10793017   \n",
       "..        ...   \n",
       "659  37874452   \n",
       "660  37889281   \n",
       "661  37972698   \n",
       "662  38048169   \n",
       "664  38092161   \n",
       "\n",
       "                                                                                                                                                      FirstAuthorAffiliation  \n",
       "0                                                                                                                                        Equipe B2M, ENSAM, Aix-en-Provence.  \n",
       "1                                                                                       Service d'Anatomie Pathologique, Hôpital Gui de Chauliac, 34295 Montpellier Cedex 5.  \n",
       "2                                                                               Department of Leukemia, University of Texas M.D. Anderson Cancer Center, Houston 77030, USA.  \n",
       "3                                                                                            FDA Center for Devices and Radiological Health, Rockville, Maryland 20850, USA.  \n",
       "4                    Department of Internal Medicine, Division of Nephrology, and Department of Pathology, Universidade Federal Fluminense, Niterói, Rio de Janeiro, Brazil.  \n",
       "..                                                                                                                                                                       ...  \n",
       "659                                              Laboratorio de Estructura de Proteínas, Instituto Nacional de Medicina Genómica (INMEGEN), 14610, Ciudad de Mexico, Mexico.  \n",
       "660                                                    Akron Nephrology Associates/Cleveland Clinic Akron General Medical Center, Akron, OH, USA. rraina@akronchildrens.org.  \n",
       "661  School of Preclinical Medicine, Zunyi Medical University, Zunyi 563000, China; College of Animal Science and Technology, Southwest University, Chongqing 400715, China.  \n",
       "662      State Key Laboratory of Dampness Syndrome of Chinese Medicine, The Second Affiliated Hospital of Guangzhou University of Chinese Medicine, Guangzhou 510020, China.  \n",
       "664                                                                ICAR-National Bureau of Animal Genetic Resources, Karnal; ICAR-National Dairy Research Institute, Karnal.  \n",
       "\n",
       "[659 rows x 2 columns]"
      ]
     },
     "metadata": {},
     "output_type": "display_data"
    },
    {
     "data": {
      "text/html": [
       "<div>\n",
       "<style scoped>\n",
       "    .dataframe tbody tr th:only-of-type {\n",
       "        vertical-align: middle;\n",
       "    }\n",
       "\n",
       "    .dataframe tbody tr th {\n",
       "        vertical-align: top;\n",
       "    }\n",
       "\n",
       "    .dataframe thead th {\n",
       "        text-align: right;\n",
       "    }\n",
       "</style>\n",
       "<table border=\"1\" class=\"dataframe\">\n",
       "  <thead>\n",
       "    <tr style=\"text-align: right;\">\n",
       "      <th></th>\n",
       "      <th>PMID</th>\n",
       "    </tr>\n",
       "    <tr>\n",
       "      <th>FirstAuthorAffiliation</th>\n",
       "      <th></th>\n",
       "    </tr>\n",
       "  </thead>\n",
       "  <tbody>\n",
       "    <tr>\n",
       "      <th>\"Angelo Nocivelli\" Institute of Molecular Medicine, Division of Gynecologic Oncology, University of Brescia, Brescia, Italy.</th>\n",
       "      <td>1</td>\n",
       "    </tr>\n",
       "    <tr>\n",
       "      <th>1 Department of Medicine, Indiana University School of Medicine , Indianapolis, Indiana.</th>\n",
       "      <td>1</td>\n",
       "    </tr>\n",
       "    <tr>\n",
       "      <th>1 Department of Pharmacology and Toxicology, Rutgers, The State University of New Jersey, Ernest Mario School of Pharmacy, Piscataway, NJ 08854, USA.</th>\n",
       "      <td>1</td>\n",
       "    </tr>\n",
       "    <tr>\n",
       "      <th>1 Division of Maternal-Fetal Medicine, Department of Obstetrics &amp; Gynecology, University of North Carolina School of Medicine, University of North Carolina at Chapel Hill, Chapel Hill, NC, USA.</th>\n",
       "      <td>1</td>\n",
       "    </tr>\n",
       "    <tr>\n",
       "      <th>1 Institute of Animal Sciences, Chinese Academy of Agricultural Sciences , Beijing, 100193, China .</th>\n",
       "      <td>1</td>\n",
       "    </tr>\n",
       "    <tr>\n",
       "      <th>...</th>\n",
       "      <td>...</td>\n",
       "    </tr>\n",
       "    <tr>\n",
       "      <th>a Department of Anatomy and Neurobiology , Graduate School of Medicine, Nippon Medical School , Bunkyo-ku , Tokyo , Japan.</th>\n",
       "      <td>1</td>\n",
       "    </tr>\n",
       "    <tr>\n",
       "      <th>a Laboratory of Oncology/Hematology and Transplantation , Institute of Biomedical Research, IIB Sant Pau , Barcelona , Spain.</th>\n",
       "      <td>1</td>\n",
       "    </tr>\n",
       "    <tr>\n",
       "      <th>a Laboratory on Thymus Research, Oswaldo Cruz Institute , Oswaldo Cruz Foundation , Rio de Janeiro , Brazil.</th>\n",
       "      <td>1</td>\n",
       "    </tr>\n",
       "    <tr>\n",
       "      <th>a Wallenberg Laboratory for Cardiovascular Research, Institute of Medicine, University of Gothenburg , Gothenburg , Sweden.</th>\n",
       "      <td>1</td>\n",
       "    </tr>\n",
       "    <tr>\n",
       "      <th>†Diabetes and Obesity Center of Excellence and ‡Kidney Research Institute, Department of Medicine, University of Washington, 850 Republican Street, Seattle, Washington 98195, United States.</th>\n",
       "      <td>1</td>\n",
       "    </tr>\n",
       "  </tbody>\n",
       "</table>\n",
       "<p>655 rows × 1 columns</p>\n",
       "</div>"
      ],
      "text/plain": [
       "                                                                                                                                                                                                   PMID\n",
       "FirstAuthorAffiliation                                                                                                                                                                                 \n",
       "\"Angelo Nocivelli\" Institute of Molecular Medicine, Division of Gynecologic Oncology, University of Brescia, Brescia, Italy.                                                                          1\n",
       "1 Department of Medicine, Indiana University School of Medicine , Indianapolis, Indiana.                                                                                                              1\n",
       "1 Department of Pharmacology and Toxicology, Rutgers, The State University of New Jersey, Ernest Mario School of Pharmacy, Piscataway, NJ 08854, USA.                                                 1\n",
       "1 Division of Maternal-Fetal Medicine, Department of Obstetrics & Gynecology, University of North Carolina School of Medicine, University of North Carolina at Chapel Hill, Chapel Hill, NC, USA.     1\n",
       "1 Institute of Animal Sciences, Chinese Academy of Agricultural Sciences , Beijing, 100193, China .                                                                                                   1\n",
       "...                                                                                                                                                                                                 ...\n",
       "a Department of Anatomy and Neurobiology , Graduate School of Medicine, Nippon Medical School , Bunkyo-ku , Tokyo , Japan.                                                                            1\n",
       "a Laboratory of Oncology/Hematology and Transplantation , Institute of Biomedical Research, IIB Sant Pau , Barcelona , Spain.                                                                         1\n",
       "a Laboratory on Thymus Research, Oswaldo Cruz Institute , Oswaldo Cruz Foundation , Rio de Janeiro , Brazil.                                                                                          1\n",
       "a Wallenberg Laboratory for Cardiovascular Research, Institute of Medicine, University of Gothenburg , Gothenburg , Sweden.                                                                           1\n",
       "†Diabetes and Obesity Center of Excellence and ‡Kidney Research Institute, Department of Medicine, University of Washington, 850 Republican Street, Seattle, Washington 98195, United States.         1\n",
       "\n",
       "[655 rows x 1 columns]"
      ]
     },
     "metadata": {},
     "output_type": "display_data"
    },
    {
     "data": {
      "text/html": [
       "<div>\n",
       "<style scoped>\n",
       "    .dataframe tbody tr th:only-of-type {\n",
       "        vertical-align: middle;\n",
       "    }\n",
       "\n",
       "    .dataframe tbody tr th {\n",
       "        vertical-align: top;\n",
       "    }\n",
       "\n",
       "    .dataframe thead th {\n",
       "        text-align: right;\n",
       "    }\n",
       "</style>\n",
       "<table border=\"1\" class=\"dataframe\">\n",
       "  <thead>\n",
       "    <tr style=\"text-align: right;\">\n",
       "      <th></th>\n",
       "      <th>0</th>\n",
       "      <th>1</th>\n",
       "      <th>2</th>\n",
       "    </tr>\n",
       "  </thead>\n",
       "  <tbody>\n",
       "    <tr>\n",
       "      <th>0</th>\n",
       "      <td>Equipe B2M</td>\n",
       "      <td>ENSAM</td>\n",
       "      <td>Aix-en-Provence.</td>\n",
       "    </tr>\n",
       "    <tr>\n",
       "      <th>1</th>\n",
       "      <td>Service d'Anatomie Pathologique</td>\n",
       "      <td>Hôpital Gui de Chauliac</td>\n",
       "      <td>34295 Montpellier Cedex 5.</td>\n",
       "    </tr>\n",
       "    <tr>\n",
       "      <th>2</th>\n",
       "      <td>Department of Leukemia, University of Texas M.D. Anderson Cancer Center</td>\n",
       "      <td>Houston 77030</td>\n",
       "      <td>USA.</td>\n",
       "    </tr>\n",
       "    <tr>\n",
       "      <th>3</th>\n",
       "      <td>FDA Center for Devices and Radiological Health, Rockville</td>\n",
       "      <td>Maryland 20850</td>\n",
       "      <td>USA.</td>\n",
       "    </tr>\n",
       "    <tr>\n",
       "      <th>4</th>\n",
       "      <td>Department of Internal Medicine, Division of Nephrology, and Department of Pathology, Universidade Federal Fluminense, Niterói</td>\n",
       "      <td>Rio de Janeiro</td>\n",
       "      <td>Brazil.</td>\n",
       "    </tr>\n",
       "    <tr>\n",
       "      <th>...</th>\n",
       "      <td>...</td>\n",
       "      <td>...</td>\n",
       "      <td>...</td>\n",
       "    </tr>\n",
       "    <tr>\n",
       "      <th>659</th>\n",
       "      <td>Laboratorio de Estructura de Proteínas, Instituto Nacional de Medicina Genómica (INMEGEN), 14610</td>\n",
       "      <td>Ciudad de Mexico</td>\n",
       "      <td>Mexico.</td>\n",
       "    </tr>\n",
       "    <tr>\n",
       "      <th>660</th>\n",
       "      <td>Akron Nephrology Associates/Cleveland Clinic Akron General Medical Center, Akron</td>\n",
       "      <td>OH</td>\n",
       "      <td>USA. rraina@akronchildrens.org.</td>\n",
       "    </tr>\n",
       "    <tr>\n",
       "      <th>661</th>\n",
       "      <td>School of Preclinical Medicine, Zunyi Medical University, Zunyi 563000, China; College of Animal Science and Technology, Southwest University</td>\n",
       "      <td>Chongqing 400715</td>\n",
       "      <td>China.</td>\n",
       "    </tr>\n",
       "    <tr>\n",
       "      <th>662</th>\n",
       "      <td>State Key Laboratory of Dampness Syndrome of Chinese Medicine, The Second Affiliated Hospital of Guangzhou University of Chinese Medicine</td>\n",
       "      <td>Guangzhou 510020</td>\n",
       "      <td>China.</td>\n",
       "    </tr>\n",
       "    <tr>\n",
       "      <th>664</th>\n",
       "      <td>ICAR-National Bureau of Animal Genetic Resources</td>\n",
       "      <td>Karnal; ICAR-National Dairy Research Institute</td>\n",
       "      <td>Karnal.</td>\n",
       "    </tr>\n",
       "  </tbody>\n",
       "</table>\n",
       "<p>659 rows × 3 columns</p>\n",
       "</div>"
      ],
      "text/plain": [
       "                                                                                                                                                 0  \\\n",
       "0                                                                                                                                       Equipe B2M   \n",
       "1                                                                                                                  Service d'Anatomie Pathologique   \n",
       "2                                                                          Department of Leukemia, University of Texas M.D. Anderson Cancer Center   \n",
       "3                                                                                        FDA Center for Devices and Radiological Health, Rockville   \n",
       "4                   Department of Internal Medicine, Division of Nephrology, and Department of Pathology, Universidade Federal Fluminense, Niterói   \n",
       "..                                                                                                                                             ...   \n",
       "659                                               Laboratorio de Estructura de Proteínas, Instituto Nacional de Medicina Genómica (INMEGEN), 14610   \n",
       "660                                                               Akron Nephrology Associates/Cleveland Clinic Akron General Medical Center, Akron   \n",
       "661  School of Preclinical Medicine, Zunyi Medical University, Zunyi 563000, China; College of Animal Science and Technology, Southwest University   \n",
       "662      State Key Laboratory of Dampness Syndrome of Chinese Medicine, The Second Affiliated Hospital of Guangzhou University of Chinese Medicine   \n",
       "664                                                                                               ICAR-National Bureau of Animal Genetic Resources   \n",
       "\n",
       "                                                   1  \\\n",
       "0                                              ENSAM   \n",
       "1                            Hôpital Gui de Chauliac   \n",
       "2                                      Houston 77030   \n",
       "3                                     Maryland 20850   \n",
       "4                                     Rio de Janeiro   \n",
       "..                                               ...   \n",
       "659                                 Ciudad de Mexico   \n",
       "660                                               OH   \n",
       "661                                 Chongqing 400715   \n",
       "662                                 Guangzhou 510020   \n",
       "664   Karnal; ICAR-National Dairy Research Institute   \n",
       "\n",
       "                                    2  \n",
       "0                    Aix-en-Provence.  \n",
       "1          34295 Montpellier Cedex 5.  \n",
       "2                                USA.  \n",
       "3                                USA.  \n",
       "4                             Brazil.  \n",
       "..                                ...  \n",
       "659                           Mexico.  \n",
       "660   USA. rraina@akronchildrens.org.  \n",
       "661                            China.  \n",
       "662                            China.  \n",
       "664                           Karnal.  \n",
       "\n",
       "[659 rows x 3 columns]"
      ]
     },
     "metadata": {},
     "output_type": "display_data"
    },
    {
     "data": {
      "text/html": [
       "<div>\n",
       "<style scoped>\n",
       "    .dataframe tbody tr th:only-of-type {\n",
       "        vertical-align: middle;\n",
       "    }\n",
       "\n",
       "    .dataframe tbody tr th {\n",
       "        vertical-align: top;\n",
       "    }\n",
       "\n",
       "    .dataframe thead th {\n",
       "        text-align: right;\n",
       "    }\n",
       "</style>\n",
       "<table border=\"1\" class=\"dataframe\">\n",
       "  <thead>\n",
       "    <tr style=\"text-align: right;\">\n",
       "      <th></th>\n",
       "      <th>PMID</th>\n",
       "      <th>ISSN</th>\n",
       "      <th>Journal</th>\n",
       "      <th>Year</th>\n",
       "      <th>FirstAuthorAffiliation</th>\n",
       "      <th>AuthorName</th>\n",
       "      <th>CountryName</th>\n",
       "    </tr>\n",
       "  </thead>\n",
       "  <tbody>\n",
       "    <tr>\n",
       "      <th>0</th>\n",
       "      <td>10575721</td>\n",
       "      <td>0035-1040</td>\n",
       "      <td>Revue de chirurgie orthopedique et reparatrice de l'appareil moteur</td>\n",
       "      <td>1999</td>\n",
       "      <td>Equipe B2M, ENSAM, Aix-en-Provence.</td>\n",
       "      <td>E Nerkowski</td>\n",
       "      <td>Aix-en-Provence.</td>\n",
       "    </tr>\n",
       "    <tr>\n",
       "      <th>1</th>\n",
       "      <td>10617805</td>\n",
       "      <td>0242-6498</td>\n",
       "      <td>Annales de pathologie</td>\n",
       "      <td>1999</td>\n",
       "      <td>Service d'Anatomie Pathologique, Hôpital Gui de Chauliac, 34295 Montpellier Cedex 5.</td>\n",
       "      <td>M Esslimani</td>\n",
       "      <td>34295 Montpellier Cedex 5.</td>\n",
       "    </tr>\n",
       "    <tr>\n",
       "      <th>2</th>\n",
       "      <td>10656443</td>\n",
       "      <td>1078-0432</td>\n",
       "      <td>Clinical cancer research : an official journal of the American Association for Cancer Research</td>\n",
       "      <td>2000</td>\n",
       "      <td>Department of Leukemia, University of Texas M.D. Anderson Cancer Center, Houston 77030, USA.</td>\n",
       "      <td>J Rodriguez</td>\n",
       "      <td>USA.</td>\n",
       "    </tr>\n",
       "    <tr>\n",
       "      <th>3</th>\n",
       "      <td>10790290</td>\n",
       "      <td>0033-7587</td>\n",
       "      <td>Radiation research</td>\n",
       "      <td>2000</td>\n",
       "      <td>FDA Center for Devices and Radiological Health, Rockville, Maryland 20850, USA.</td>\n",
       "      <td>C A Morehouse</td>\n",
       "      <td>USA.</td>\n",
       "    </tr>\n",
       "    <tr>\n",
       "      <th>4</th>\n",
       "      <td>10793017</td>\n",
       "      <td>1523-6838</td>\n",
       "      <td>American journal of kidney diseases : the official journal of the National Kidney Foundation</td>\n",
       "      <td>2000</td>\n",
       "      <td>Department of Internal Medicine, Division of Nephrology, and Department of Pathology, Universidade Federal Fluminense, Niterói, Rio de Janeiro, Brazil.</td>\n",
       "      <td>J P Matos</td>\n",
       "      <td>Brazil.</td>\n",
       "    </tr>\n",
       "    <tr>\n",
       "      <th>...</th>\n",
       "      <td>...</td>\n",
       "      <td>...</td>\n",
       "      <td>...</td>\n",
       "      <td>...</td>\n",
       "      <td>...</td>\n",
       "      <td>...</td>\n",
       "      <td>...</td>\n",
       "    </tr>\n",
       "    <tr>\n",
       "      <th>659</th>\n",
       "      <td>37874452</td>\n",
       "      <td>2509-2723</td>\n",
       "      <td>GeroScience</td>\n",
       "      <td>2023</td>\n",
       "      <td>Laboratorio de Estructura de Proteínas, Instituto Nacional de Medicina Genómica (INMEGEN), 14610, Ciudad de Mexico, Mexico.</td>\n",
       "      <td>Diana I Aparicio-Bautista</td>\n",
       "      <td>Mexico.</td>\n",
       "    </tr>\n",
       "    <tr>\n",
       "      <th>660</th>\n",
       "      <td>37889281</td>\n",
       "      <td>1432-198X</td>\n",
       "      <td>Pediatric nephrology (Berlin, Germany)</td>\n",
       "      <td>2023</td>\n",
       "      <td>Akron Nephrology Associates/Cleveland Clinic Akron General Medical Center, Akron, OH, USA. rraina@akronchildrens.org.</td>\n",
       "      <td>Rupesh Raina</td>\n",
       "      <td>USA. rraina@akronchildrens.org.</td>\n",
       "    </tr>\n",
       "    <tr>\n",
       "      <th>661</th>\n",
       "      <td>37972698</td>\n",
       "      <td>1879-0038</td>\n",
       "      <td>Gene</td>\n",
       "      <td>2023</td>\n",
       "      <td>School of Preclinical Medicine, Zunyi Medical University, Zunyi 563000, China; College of Animal Science and Technology, Southwest University, Chongqing 400715, China.</td>\n",
       "      <td>Nanjian Luo</td>\n",
       "      <td>China.</td>\n",
       "    </tr>\n",
       "    <tr>\n",
       "      <th>662</th>\n",
       "      <td>38048169</td>\n",
       "      <td>1535-3907</td>\n",
       "      <td>Journal of proteome research</td>\n",
       "      <td>2023</td>\n",
       "      <td>State Key Laboratory of Dampness Syndrome of Chinese Medicine, The Second Affiliated Hospital of Guangzhou University of Chinese Medicine, Guangzhou 510020, China.</td>\n",
       "      <td>Taohua Lan</td>\n",
       "      <td>China.</td>\n",
       "    </tr>\n",
       "    <tr>\n",
       "      <th>664</th>\n",
       "      <td>38092161</td>\n",
       "      <td>1879-0038</td>\n",
       "      <td>Gene</td>\n",
       "      <td>2023</td>\n",
       "      <td>ICAR-National Bureau of Animal Genetic Resources, Karnal; ICAR-National Dairy Research Institute, Karnal.</td>\n",
       "      <td>Mahanthi Vasu</td>\n",
       "      <td>Karnal.</td>\n",
       "    </tr>\n",
       "  </tbody>\n",
       "</table>\n",
       "<p>659 rows × 7 columns</p>\n",
       "</div>"
      ],
      "text/plain": [
       "         PMID       ISSN  \\\n",
       "0    10575721  0035-1040   \n",
       "1    10617805  0242-6498   \n",
       "2    10656443  1078-0432   \n",
       "3    10790290  0033-7587   \n",
       "4    10793017  1523-6838   \n",
       "..        ...        ...   \n",
       "659  37874452  2509-2723   \n",
       "660  37889281  1432-198X   \n",
       "661  37972698  1879-0038   \n",
       "662  38048169  1535-3907   \n",
       "664  38092161  1879-0038   \n",
       "\n",
       "                                                                                            Journal  \\\n",
       "0                               Revue de chirurgie orthopedique et reparatrice de l'appareil moteur   \n",
       "1                                                                             Annales de pathologie   \n",
       "2    Clinical cancer research : an official journal of the American Association for Cancer Research   \n",
       "3                                                                                Radiation research   \n",
       "4      American journal of kidney diseases : the official journal of the National Kidney Foundation   \n",
       "..                                                                                              ...   \n",
       "659                                                                                     GeroScience   \n",
       "660                                                          Pediatric nephrology (Berlin, Germany)   \n",
       "661                                                                                            Gene   \n",
       "662                                                                    Journal of proteome research   \n",
       "664                                                                                            Gene   \n",
       "\n",
       "     Year  \\\n",
       "0    1999   \n",
       "1    1999   \n",
       "2    2000   \n",
       "3    2000   \n",
       "4    2000   \n",
       "..    ...   \n",
       "659  2023   \n",
       "660  2023   \n",
       "661  2023   \n",
       "662  2023   \n",
       "664  2023   \n",
       "\n",
       "                                                                                                                                                      FirstAuthorAffiliation  \\\n",
       "0                                                                                                                                        Equipe B2M, ENSAM, Aix-en-Provence.   \n",
       "1                                                                                       Service d'Anatomie Pathologique, Hôpital Gui de Chauliac, 34295 Montpellier Cedex 5.   \n",
       "2                                                                               Department of Leukemia, University of Texas M.D. Anderson Cancer Center, Houston 77030, USA.   \n",
       "3                                                                                            FDA Center for Devices and Radiological Health, Rockville, Maryland 20850, USA.   \n",
       "4                    Department of Internal Medicine, Division of Nephrology, and Department of Pathology, Universidade Federal Fluminense, Niterói, Rio de Janeiro, Brazil.   \n",
       "..                                                                                                                                                                       ...   \n",
       "659                                              Laboratorio de Estructura de Proteínas, Instituto Nacional de Medicina Genómica (INMEGEN), 14610, Ciudad de Mexico, Mexico.   \n",
       "660                                                    Akron Nephrology Associates/Cleveland Clinic Akron General Medical Center, Akron, OH, USA. rraina@akronchildrens.org.   \n",
       "661  School of Preclinical Medicine, Zunyi Medical University, Zunyi 563000, China; College of Animal Science and Technology, Southwest University, Chongqing 400715, China.   \n",
       "662      State Key Laboratory of Dampness Syndrome of Chinese Medicine, The Second Affiliated Hospital of Guangzhou University of Chinese Medicine, Guangzhou 510020, China.   \n",
       "664                                                                ICAR-National Bureau of Animal Genetic Resources, Karnal; ICAR-National Dairy Research Institute, Karnal.   \n",
       "\n",
       "                    AuthorName                       CountryName  \n",
       "0                  E Nerkowski                  Aix-en-Provence.  \n",
       "1                  M Esslimani        34295 Montpellier Cedex 5.  \n",
       "2                  J Rodriguez                              USA.  \n",
       "3                C A Morehouse                              USA.  \n",
       "4                    J P Matos                           Brazil.  \n",
       "..                         ...                               ...  \n",
       "659  Diana I Aparicio-Bautista                           Mexico.  \n",
       "660               Rupesh Raina   USA. rraina@akronchildrens.org.  \n",
       "661                Nanjian Luo                            China.  \n",
       "662                 Taohua Lan                            China.  \n",
       "664              Mahanthi Vasu                           Karnal.  \n",
       "\n",
       "[659 rows x 7 columns]"
      ]
     },
     "metadata": {},
     "output_type": "display_data"
    },
    {
     "data": {
      "text/html": [
       "<div>\n",
       "<style scoped>\n",
       "    .dataframe tbody tr th:only-of-type {\n",
       "        vertical-align: middle;\n",
       "    }\n",
       "\n",
       "    .dataframe tbody tr th {\n",
       "        vertical-align: top;\n",
       "    }\n",
       "\n",
       "    .dataframe thead th {\n",
       "        text-align: right;\n",
       "    }\n",
       "</style>\n",
       "<table border=\"1\" class=\"dataframe\">\n",
       "  <thead>\n",
       "    <tr style=\"text-align: right;\">\n",
       "      <th></th>\n",
       "      <th>0</th>\n",
       "      <th>1</th>\n",
       "    </tr>\n",
       "  </thead>\n",
       "  <tbody>\n",
       "    <tr>\n",
       "      <th>0</th>\n",
       "      <td>Aix-en-Provence</td>\n",
       "      <td></td>\n",
       "    </tr>\n",
       "    <tr>\n",
       "      <th>1</th>\n",
       "      <td>34295 Montpellier Cedex 5</td>\n",
       "      <td></td>\n",
       "    </tr>\n",
       "    <tr>\n",
       "      <th>2</th>\n",
       "      <td>USA</td>\n",
       "      <td></td>\n",
       "    </tr>\n",
       "    <tr>\n",
       "      <th>3</th>\n",
       "      <td>USA</td>\n",
       "      <td></td>\n",
       "    </tr>\n",
       "    <tr>\n",
       "      <th>4</th>\n",
       "      <td>Brazil</td>\n",
       "      <td></td>\n",
       "    </tr>\n",
       "    <tr>\n",
       "      <th>...</th>\n",
       "      <td>...</td>\n",
       "      <td>...</td>\n",
       "    </tr>\n",
       "    <tr>\n",
       "      <th>659</th>\n",
       "      <td>Mexico</td>\n",
       "      <td></td>\n",
       "    </tr>\n",
       "    <tr>\n",
       "      <th>660</th>\n",
       "      <td>USA</td>\n",
       "      <td>rraina@akronchildrens.org.</td>\n",
       "    </tr>\n",
       "    <tr>\n",
       "      <th>661</th>\n",
       "      <td>China</td>\n",
       "      <td></td>\n",
       "    </tr>\n",
       "    <tr>\n",
       "      <th>662</th>\n",
       "      <td>China</td>\n",
       "      <td></td>\n",
       "    </tr>\n",
       "    <tr>\n",
       "      <th>664</th>\n",
       "      <td>Karnal</td>\n",
       "      <td></td>\n",
       "    </tr>\n",
       "  </tbody>\n",
       "</table>\n",
       "<p>659 rows × 2 columns</p>\n",
       "</div>"
      ],
      "text/plain": [
       "                              0                            1\n",
       "0               Aix-en-Provence                             \n",
       "1     34295 Montpellier Cedex 5                             \n",
       "2                           USA                             \n",
       "3                           USA                             \n",
       "4                        Brazil                             \n",
       "..                          ...                          ...\n",
       "659                      Mexico                             \n",
       "660                         USA   rraina@akronchildrens.org.\n",
       "661                       China                             \n",
       "662                       China                             \n",
       "664                      Karnal                             \n",
       "\n",
       "[659 rows x 2 columns]"
      ]
     },
     "metadata": {},
     "output_type": "display_data"
    },
    {
     "data": {
      "text/html": [
       "<div>\n",
       "<style scoped>\n",
       "    .dataframe tbody tr th:only-of-type {\n",
       "        vertical-align: middle;\n",
       "    }\n",
       "\n",
       "    .dataframe tbody tr th {\n",
       "        vertical-align: top;\n",
       "    }\n",
       "\n",
       "    .dataframe thead th {\n",
       "        text-align: right;\n",
       "    }\n",
       "</style>\n",
       "<table border=\"1\" class=\"dataframe\">\n",
       "  <thead>\n",
       "    <tr style=\"text-align: right;\">\n",
       "      <th></th>\n",
       "      <th>PMID</th>\n",
       "      <th>ISSN</th>\n",
       "      <th>Journal</th>\n",
       "      <th>Year</th>\n",
       "      <th>FirstAuthorAffiliation</th>\n",
       "      <th>AuthorName</th>\n",
       "      <th>AffiliationCountry</th>\n",
       "    </tr>\n",
       "  </thead>\n",
       "  <tbody>\n",
       "    <tr>\n",
       "      <th>0</th>\n",
       "      <td>10575721</td>\n",
       "      <td>0035-1040</td>\n",
       "      <td>Revue de chirurgie orthopedique et reparatrice de l'appareil moteur</td>\n",
       "      <td>1999</td>\n",
       "      <td>Equipe B2M, ENSAM, Aix-en-Provence.</td>\n",
       "      <td>E Nerkowski</td>\n",
       "      <td>Aix-en-Provence</td>\n",
       "    </tr>\n",
       "    <tr>\n",
       "      <th>1</th>\n",
       "      <td>10617805</td>\n",
       "      <td>0242-6498</td>\n",
       "      <td>Annales de pathologie</td>\n",
       "      <td>1999</td>\n",
       "      <td>Service d'Anatomie Pathologique, Hôpital Gui de Chauliac, 34295 Montpellier Cedex 5.</td>\n",
       "      <td>M Esslimani</td>\n",
       "      <td>34295 Montpellier Cedex 5</td>\n",
       "    </tr>\n",
       "    <tr>\n",
       "      <th>2</th>\n",
       "      <td>10656443</td>\n",
       "      <td>1078-0432</td>\n",
       "      <td>Clinical cancer research : an official journal of the American Association for Cancer Research</td>\n",
       "      <td>2000</td>\n",
       "      <td>Department of Leukemia, University of Texas M.D. Anderson Cancer Center, Houston 77030, USA.</td>\n",
       "      <td>J Rodriguez</td>\n",
       "      <td>USA</td>\n",
       "    </tr>\n",
       "    <tr>\n",
       "      <th>3</th>\n",
       "      <td>10790290</td>\n",
       "      <td>0033-7587</td>\n",
       "      <td>Radiation research</td>\n",
       "      <td>2000</td>\n",
       "      <td>FDA Center for Devices and Radiological Health, Rockville, Maryland 20850, USA.</td>\n",
       "      <td>C A Morehouse</td>\n",
       "      <td>USA</td>\n",
       "    </tr>\n",
       "    <tr>\n",
       "      <th>4</th>\n",
       "      <td>10793017</td>\n",
       "      <td>1523-6838</td>\n",
       "      <td>American journal of kidney diseases : the official journal of the National Kidney Foundation</td>\n",
       "      <td>2000</td>\n",
       "      <td>Department of Internal Medicine, Division of Nephrology, and Department of Pathology, Universidade Federal Fluminense, Niterói, Rio de Janeiro, Brazil.</td>\n",
       "      <td>J P Matos</td>\n",
       "      <td>Brazil</td>\n",
       "    </tr>\n",
       "    <tr>\n",
       "      <th>...</th>\n",
       "      <td>...</td>\n",
       "      <td>...</td>\n",
       "      <td>...</td>\n",
       "      <td>...</td>\n",
       "      <td>...</td>\n",
       "      <td>...</td>\n",
       "      <td>...</td>\n",
       "    </tr>\n",
       "    <tr>\n",
       "      <th>659</th>\n",
       "      <td>37874452</td>\n",
       "      <td>2509-2723</td>\n",
       "      <td>GeroScience</td>\n",
       "      <td>2023</td>\n",
       "      <td>Laboratorio de Estructura de Proteínas, Instituto Nacional de Medicina Genómica (INMEGEN), 14610, Ciudad de Mexico, Mexico.</td>\n",
       "      <td>Diana I Aparicio-Bautista</td>\n",
       "      <td>Mexico</td>\n",
       "    </tr>\n",
       "    <tr>\n",
       "      <th>660</th>\n",
       "      <td>37889281</td>\n",
       "      <td>1432-198X</td>\n",
       "      <td>Pediatric nephrology (Berlin, Germany)</td>\n",
       "      <td>2023</td>\n",
       "      <td>Akron Nephrology Associates/Cleveland Clinic Akron General Medical Center, Akron, OH, USA. rraina@akronchildrens.org.</td>\n",
       "      <td>Rupesh Raina</td>\n",
       "      <td>USA</td>\n",
       "    </tr>\n",
       "    <tr>\n",
       "      <th>661</th>\n",
       "      <td>37972698</td>\n",
       "      <td>1879-0038</td>\n",
       "      <td>Gene</td>\n",
       "      <td>2023</td>\n",
       "      <td>School of Preclinical Medicine, Zunyi Medical University, Zunyi 563000, China; College of Animal Science and Technology, Southwest University, Chongqing 400715, China.</td>\n",
       "      <td>Nanjian Luo</td>\n",
       "      <td>China</td>\n",
       "    </tr>\n",
       "    <tr>\n",
       "      <th>662</th>\n",
       "      <td>38048169</td>\n",
       "      <td>1535-3907</td>\n",
       "      <td>Journal of proteome research</td>\n",
       "      <td>2023</td>\n",
       "      <td>State Key Laboratory of Dampness Syndrome of Chinese Medicine, The Second Affiliated Hospital of Guangzhou University of Chinese Medicine, Guangzhou 510020, China.</td>\n",
       "      <td>Taohua Lan</td>\n",
       "      <td>China</td>\n",
       "    </tr>\n",
       "    <tr>\n",
       "      <th>664</th>\n",
       "      <td>38092161</td>\n",
       "      <td>1879-0038</td>\n",
       "      <td>Gene</td>\n",
       "      <td>2023</td>\n",
       "      <td>ICAR-National Bureau of Animal Genetic Resources, Karnal; ICAR-National Dairy Research Institute, Karnal.</td>\n",
       "      <td>Mahanthi Vasu</td>\n",
       "      <td>Karnal</td>\n",
       "    </tr>\n",
       "  </tbody>\n",
       "</table>\n",
       "<p>659 rows × 7 columns</p>\n",
       "</div>"
      ],
      "text/plain": [
       "         PMID       ISSN  \\\n",
       "0    10575721  0035-1040   \n",
       "1    10617805  0242-6498   \n",
       "2    10656443  1078-0432   \n",
       "3    10790290  0033-7587   \n",
       "4    10793017  1523-6838   \n",
       "..        ...        ...   \n",
       "659  37874452  2509-2723   \n",
       "660  37889281  1432-198X   \n",
       "661  37972698  1879-0038   \n",
       "662  38048169  1535-3907   \n",
       "664  38092161  1879-0038   \n",
       "\n",
       "                                                                                            Journal  \\\n",
       "0                               Revue de chirurgie orthopedique et reparatrice de l'appareil moteur   \n",
       "1                                                                             Annales de pathologie   \n",
       "2    Clinical cancer research : an official journal of the American Association for Cancer Research   \n",
       "3                                                                                Radiation research   \n",
       "4      American journal of kidney diseases : the official journal of the National Kidney Foundation   \n",
       "..                                                                                              ...   \n",
       "659                                                                                     GeroScience   \n",
       "660                                                          Pediatric nephrology (Berlin, Germany)   \n",
       "661                                                                                            Gene   \n",
       "662                                                                    Journal of proteome research   \n",
       "664                                                                                            Gene   \n",
       "\n",
       "     Year  \\\n",
       "0    1999   \n",
       "1    1999   \n",
       "2    2000   \n",
       "3    2000   \n",
       "4    2000   \n",
       "..    ...   \n",
       "659  2023   \n",
       "660  2023   \n",
       "661  2023   \n",
       "662  2023   \n",
       "664  2023   \n",
       "\n",
       "                                                                                                                                                      FirstAuthorAffiliation  \\\n",
       "0                                                                                                                                        Equipe B2M, ENSAM, Aix-en-Provence.   \n",
       "1                                                                                       Service d'Anatomie Pathologique, Hôpital Gui de Chauliac, 34295 Montpellier Cedex 5.   \n",
       "2                                                                               Department of Leukemia, University of Texas M.D. Anderson Cancer Center, Houston 77030, USA.   \n",
       "3                                                                                            FDA Center for Devices and Radiological Health, Rockville, Maryland 20850, USA.   \n",
       "4                    Department of Internal Medicine, Division of Nephrology, and Department of Pathology, Universidade Federal Fluminense, Niterói, Rio de Janeiro, Brazil.   \n",
       "..                                                                                                                                                                       ...   \n",
       "659                                              Laboratorio de Estructura de Proteínas, Instituto Nacional de Medicina Genómica (INMEGEN), 14610, Ciudad de Mexico, Mexico.   \n",
       "660                                                    Akron Nephrology Associates/Cleveland Clinic Akron General Medical Center, Akron, OH, USA. rraina@akronchildrens.org.   \n",
       "661  School of Preclinical Medicine, Zunyi Medical University, Zunyi 563000, China; College of Animal Science and Technology, Southwest University, Chongqing 400715, China.   \n",
       "662      State Key Laboratory of Dampness Syndrome of Chinese Medicine, The Second Affiliated Hospital of Guangzhou University of Chinese Medicine, Guangzhou 510020, China.   \n",
       "664                                                                ICAR-National Bureau of Animal Genetic Resources, Karnal; ICAR-National Dairy Research Institute, Karnal.   \n",
       "\n",
       "                    AuthorName          AffiliationCountry  \n",
       "0                  E Nerkowski             Aix-en-Provence  \n",
       "1                  M Esslimani   34295 Montpellier Cedex 5  \n",
       "2                  J Rodriguez                         USA  \n",
       "3                C A Morehouse                         USA  \n",
       "4                    J P Matos                      Brazil  \n",
       "..                         ...                         ...  \n",
       "659  Diana I Aparicio-Bautista                      Mexico  \n",
       "660               Rupesh Raina                         USA  \n",
       "661                Nanjian Luo                       China  \n",
       "662                 Taohua Lan                       China  \n",
       "664              Mahanthi Vasu                      Karnal  \n",
       "\n",
       "[659 rows x 7 columns]"
      ]
     },
     "metadata": {},
     "output_type": "display_data"
    },
    {
     "data": {
      "application/vnd.plotly.v1+json": {
       "config": {
        "plotlyServerURL": "https://plot.ly"
       },
       "data": [
        {
         "coloraxis": "coloraxis",
         "geo": "geo",
         "hovertemplate": "AffiliationCountry=%{location}<br>PMID=%{z}<extra></extra>",
         "locationmode": "country names",
         "locations": [
          " 34295 Montpellier Cedex 5",
          " AZ",
          " Aix-en-Provence",
          " Australia",
          " Austria",
          " Bangladesh",
          " Belgium",
          " Braga;",
          " Brazil",
          " CA",
          " California",
          " Canada",
          " Canada M5S 1A8",
          " China",
          " China ",
          " China (mainland)",
          " China 200433",
          " Colombia",
          " Colorado",
          " Connecticut",
          " Cuba",
          " Czech Republic",
          " Denmark",
          " Egypt",
          " Egypt E-mail : amkhairy90@hotmail",
          " England",
          " España",
          " Estonia",
          " Florida",
          " France",
          " Germany",
          " Germany ",
          " Graduate School of Medicine",
          " Greece",
          " Hungary",
          " Hyderabad-500030 India",
          " IND",
          " IR Iran",
          " India",
          " Indiana",
          " Iran",
          " Ireland",
          " Israel",
          " Italy",
          " Japan",
          " Kanagawa 251-8555 Japan",
          " Karnal",
          " Korea",
          " Kuala Lumpur",
          " Lithuania",
          " Louisiana",
          " Ltd",
          " MA",
          " MO",
          " Malaysia",
          " Massachusetts",
          " Mexico",
          " Minnesota",
          " Monserrato (CA)",
          " N1G 2W1",
          " NY",
          " NY;",
          " Nevada",
          " New York",
          " New Zealand",
          " Norway",
          " Ohio",
          " P",
          " PR China",
          " People's Republic of China",
          " People's Republic of China ",
          " Peoples' Republic of China",
          " Poland",
          " Portugal",
          " Qatar",
          " ROC",
          " Republic of China",
          " Republic of Korea",
          " Rodrigue",
          " Rouen",
          " Russia",
          " Saga 849-8501;",
          " Saudi Arabia",
          " Serbia",
          " Slovakia",
          " Slovenia",
          " South Africa",
          " South Korea",
          " Spain",
          " Sri Lanka",
          " Sweden",
          " Sweden;",
          " Switzerland",
          " São Paulo",
          " Taiwan",
          " Taiwan (R",
          " Tanzania",
          " Texas",
          " Thailand",
          " The Gambia",
          " The Netherlands",
          " The University of Tokyo",
          " Turkey",
          " UK",
          " USA",
          " UT",
          " United Kingdom",
          " United States",
          " United States of America",
          " Varese",
          " Vietnam",
          " Yonsei University",
          " acoliveira@iconcologia",
          " alexandm@med",
          " bp156@columbia",
          " matthias",
          " the Netherlands",
          " yk@genodigm",
          "Ireland",
          "Republic of Ireland"
         ],
         "name": "",
         "type": "choropleth",
         "z": [
          1,
          1,
          1,
          8,
          6,
          2,
          6,
          1,
          22,
          1,
          3,
          8,
          1,
          100,
          3,
          1,
          1,
          1,
          1,
          1,
          1,
          2,
          13,
          3,
          1,
          1,
          1,
          1,
          1,
          18,
          32,
          1,
          1,
          7,
          1,
          1,
          1,
          1,
          22,
          1,
          10,
          4,
          3,
          17,
          17,
          1,
          1,
          4,
          1,
          1,
          1,
          1,
          6,
          1,
          1,
          1,
          1,
          2,
          1,
          1,
          1,
          1,
          1,
          2,
          2,
          1,
          1,
          8,
          9,
          7,
          1,
          1,
          13,
          4,
          1,
          1,
          1,
          10,
          1,
          1,
          3,
          1,
          1,
          2,
          1,
          1,
          2,
          4,
          18,
          1,
          8,
          1,
          6,
          1,
          6,
          1,
          1,
          1,
          4,
          1,
          10,
          1,
          7,
          14,
          96,
          1,
          8,
          5,
          5,
          1,
          1,
          1,
          1,
          1,
          1,
          1,
          1,
          1,
          1,
          1
         ]
        }
       ],
       "layout": {
        "coloraxis": {
         "colorbar": {
          "title": {
           "text": "PMID"
          }
         },
         "colorscale": [
          [
           0,
           "#0d0887"
          ],
          [
           0.1111111111111111,
           "#46039f"
          ],
          [
           0.2222222222222222,
           "#7201a8"
          ],
          [
           0.3333333333333333,
           "#9c179e"
          ],
          [
           0.4444444444444444,
           "#bd3786"
          ],
          [
           0.5555555555555556,
           "#d8576b"
          ],
          [
           0.6666666666666666,
           "#ed7953"
          ],
          [
           0.7777777777777778,
           "#fb9f3a"
          ],
          [
           0.8888888888888888,
           "#fdca26"
          ],
          [
           1,
           "#f0f921"
          ]
         ]
        },
        "geo": {
         "center": {},
         "domain": {
          "x": [
           0,
           1
          ],
          "y": [
           0,
           1
          ]
         }
        },
        "height": 800,
        "legend": {
         "tracegroupgap": 0
        },
        "template": {
         "data": {
          "bar": [
           {
            "error_x": {
             "color": "#2a3f5f"
            },
            "error_y": {
             "color": "#2a3f5f"
            },
            "marker": {
             "line": {
              "color": "#E5ECF6",
              "width": 0.5
             },
             "pattern": {
              "fillmode": "overlay",
              "size": 10,
              "solidity": 0.2
             }
            },
            "type": "bar"
           }
          ],
          "barpolar": [
           {
            "marker": {
             "line": {
              "color": "#E5ECF6",
              "width": 0.5
             },
             "pattern": {
              "fillmode": "overlay",
              "size": 10,
              "solidity": 0.2
             }
            },
            "type": "barpolar"
           }
          ],
          "carpet": [
           {
            "aaxis": {
             "endlinecolor": "#2a3f5f",
             "gridcolor": "white",
             "linecolor": "white",
             "minorgridcolor": "white",
             "startlinecolor": "#2a3f5f"
            },
            "baxis": {
             "endlinecolor": "#2a3f5f",
             "gridcolor": "white",
             "linecolor": "white",
             "minorgridcolor": "white",
             "startlinecolor": "#2a3f5f"
            },
            "type": "carpet"
           }
          ],
          "choropleth": [
           {
            "colorbar": {
             "outlinewidth": 0,
             "ticks": ""
            },
            "type": "choropleth"
           }
          ],
          "contour": [
           {
            "colorbar": {
             "outlinewidth": 0,
             "ticks": ""
            },
            "colorscale": [
             [
              0,
              "#0d0887"
             ],
             [
              0.1111111111111111,
              "#46039f"
             ],
             [
              0.2222222222222222,
              "#7201a8"
             ],
             [
              0.3333333333333333,
              "#9c179e"
             ],
             [
              0.4444444444444444,
              "#bd3786"
             ],
             [
              0.5555555555555556,
              "#d8576b"
             ],
             [
              0.6666666666666666,
              "#ed7953"
             ],
             [
              0.7777777777777778,
              "#fb9f3a"
             ],
             [
              0.8888888888888888,
              "#fdca26"
             ],
             [
              1,
              "#f0f921"
             ]
            ],
            "type": "contour"
           }
          ],
          "contourcarpet": [
           {
            "colorbar": {
             "outlinewidth": 0,
             "ticks": ""
            },
            "type": "contourcarpet"
           }
          ],
          "heatmap": [
           {
            "colorbar": {
             "outlinewidth": 0,
             "ticks": ""
            },
            "colorscale": [
             [
              0,
              "#0d0887"
             ],
             [
              0.1111111111111111,
              "#46039f"
             ],
             [
              0.2222222222222222,
              "#7201a8"
             ],
             [
              0.3333333333333333,
              "#9c179e"
             ],
             [
              0.4444444444444444,
              "#bd3786"
             ],
             [
              0.5555555555555556,
              "#d8576b"
             ],
             [
              0.6666666666666666,
              "#ed7953"
             ],
             [
              0.7777777777777778,
              "#fb9f3a"
             ],
             [
              0.8888888888888888,
              "#fdca26"
             ],
             [
              1,
              "#f0f921"
             ]
            ],
            "type": "heatmap"
           }
          ],
          "heatmapgl": [
           {
            "colorbar": {
             "outlinewidth": 0,
             "ticks": ""
            },
            "colorscale": [
             [
              0,
              "#0d0887"
             ],
             [
              0.1111111111111111,
              "#46039f"
             ],
             [
              0.2222222222222222,
              "#7201a8"
             ],
             [
              0.3333333333333333,
              "#9c179e"
             ],
             [
              0.4444444444444444,
              "#bd3786"
             ],
             [
              0.5555555555555556,
              "#d8576b"
             ],
             [
              0.6666666666666666,
              "#ed7953"
             ],
             [
              0.7777777777777778,
              "#fb9f3a"
             ],
             [
              0.8888888888888888,
              "#fdca26"
             ],
             [
              1,
              "#f0f921"
             ]
            ],
            "type": "heatmapgl"
           }
          ],
          "histogram": [
           {
            "marker": {
             "pattern": {
              "fillmode": "overlay",
              "size": 10,
              "solidity": 0.2
             }
            },
            "type": "histogram"
           }
          ],
          "histogram2d": [
           {
            "colorbar": {
             "outlinewidth": 0,
             "ticks": ""
            },
            "colorscale": [
             [
              0,
              "#0d0887"
             ],
             [
              0.1111111111111111,
              "#46039f"
             ],
             [
              0.2222222222222222,
              "#7201a8"
             ],
             [
              0.3333333333333333,
              "#9c179e"
             ],
             [
              0.4444444444444444,
              "#bd3786"
             ],
             [
              0.5555555555555556,
              "#d8576b"
             ],
             [
              0.6666666666666666,
              "#ed7953"
             ],
             [
              0.7777777777777778,
              "#fb9f3a"
             ],
             [
              0.8888888888888888,
              "#fdca26"
             ],
             [
              1,
              "#f0f921"
             ]
            ],
            "type": "histogram2d"
           }
          ],
          "histogram2dcontour": [
           {
            "colorbar": {
             "outlinewidth": 0,
             "ticks": ""
            },
            "colorscale": [
             [
              0,
              "#0d0887"
             ],
             [
              0.1111111111111111,
              "#46039f"
             ],
             [
              0.2222222222222222,
              "#7201a8"
             ],
             [
              0.3333333333333333,
              "#9c179e"
             ],
             [
              0.4444444444444444,
              "#bd3786"
             ],
             [
              0.5555555555555556,
              "#d8576b"
             ],
             [
              0.6666666666666666,
              "#ed7953"
             ],
             [
              0.7777777777777778,
              "#fb9f3a"
             ],
             [
              0.8888888888888888,
              "#fdca26"
             ],
             [
              1,
              "#f0f921"
             ]
            ],
            "type": "histogram2dcontour"
           }
          ],
          "mesh3d": [
           {
            "colorbar": {
             "outlinewidth": 0,
             "ticks": ""
            },
            "type": "mesh3d"
           }
          ],
          "parcoords": [
           {
            "line": {
             "colorbar": {
              "outlinewidth": 0,
              "ticks": ""
             }
            },
            "type": "parcoords"
           }
          ],
          "pie": [
           {
            "automargin": true,
            "type": "pie"
           }
          ],
          "scatter": [
           {
            "fillpattern": {
             "fillmode": "overlay",
             "size": 10,
             "solidity": 0.2
            },
            "type": "scatter"
           }
          ],
          "scatter3d": [
           {
            "line": {
             "colorbar": {
              "outlinewidth": 0,
              "ticks": ""
             }
            },
            "marker": {
             "colorbar": {
              "outlinewidth": 0,
              "ticks": ""
             }
            },
            "type": "scatter3d"
           }
          ],
          "scattercarpet": [
           {
            "marker": {
             "colorbar": {
              "outlinewidth": 0,
              "ticks": ""
             }
            },
            "type": "scattercarpet"
           }
          ],
          "scattergeo": [
           {
            "marker": {
             "colorbar": {
              "outlinewidth": 0,
              "ticks": ""
             }
            },
            "type": "scattergeo"
           }
          ],
          "scattergl": [
           {
            "marker": {
             "colorbar": {
              "outlinewidth": 0,
              "ticks": ""
             }
            },
            "type": "scattergl"
           }
          ],
          "scattermapbox": [
           {
            "marker": {
             "colorbar": {
              "outlinewidth": 0,
              "ticks": ""
             }
            },
            "type": "scattermapbox"
           }
          ],
          "scatterpolar": [
           {
            "marker": {
             "colorbar": {
              "outlinewidth": 0,
              "ticks": ""
             }
            },
            "type": "scatterpolar"
           }
          ],
          "scatterpolargl": [
           {
            "marker": {
             "colorbar": {
              "outlinewidth": 0,
              "ticks": ""
             }
            },
            "type": "scatterpolargl"
           }
          ],
          "scatterternary": [
           {
            "marker": {
             "colorbar": {
              "outlinewidth": 0,
              "ticks": ""
             }
            },
            "type": "scatterternary"
           }
          ],
          "surface": [
           {
            "colorbar": {
             "outlinewidth": 0,
             "ticks": ""
            },
            "colorscale": [
             [
              0,
              "#0d0887"
             ],
             [
              0.1111111111111111,
              "#46039f"
             ],
             [
              0.2222222222222222,
              "#7201a8"
             ],
             [
              0.3333333333333333,
              "#9c179e"
             ],
             [
              0.4444444444444444,
              "#bd3786"
             ],
             [
              0.5555555555555556,
              "#d8576b"
             ],
             [
              0.6666666666666666,
              "#ed7953"
             ],
             [
              0.7777777777777778,
              "#fb9f3a"
             ],
             [
              0.8888888888888888,
              "#fdca26"
             ],
             [
              1,
              "#f0f921"
             ]
            ],
            "type": "surface"
           }
          ],
          "table": [
           {
            "cells": {
             "fill": {
              "color": "#EBF0F8"
             },
             "line": {
              "color": "white"
             }
            },
            "header": {
             "fill": {
              "color": "#C8D4E3"
             },
             "line": {
              "color": "white"
             }
            },
            "type": "table"
           }
          ]
         },
         "layout": {
          "annotationdefaults": {
           "arrowcolor": "#2a3f5f",
           "arrowhead": 0,
           "arrowwidth": 1
          },
          "autotypenumbers": "strict",
          "coloraxis": {
           "colorbar": {
            "outlinewidth": 0,
            "ticks": ""
           }
          },
          "colorscale": {
           "diverging": [
            [
             0,
             "#8e0152"
            ],
            [
             0.1,
             "#c51b7d"
            ],
            [
             0.2,
             "#de77ae"
            ],
            [
             0.3,
             "#f1b6da"
            ],
            [
             0.4,
             "#fde0ef"
            ],
            [
             0.5,
             "#f7f7f7"
            ],
            [
             0.6,
             "#e6f5d0"
            ],
            [
             0.7,
             "#b8e186"
            ],
            [
             0.8,
             "#7fbc41"
            ],
            [
             0.9,
             "#4d9221"
            ],
            [
             1,
             "#276419"
            ]
           ],
           "sequential": [
            [
             0,
             "#0d0887"
            ],
            [
             0.1111111111111111,
             "#46039f"
            ],
            [
             0.2222222222222222,
             "#7201a8"
            ],
            [
             0.3333333333333333,
             "#9c179e"
            ],
            [
             0.4444444444444444,
             "#bd3786"
            ],
            [
             0.5555555555555556,
             "#d8576b"
            ],
            [
             0.6666666666666666,
             "#ed7953"
            ],
            [
             0.7777777777777778,
             "#fb9f3a"
            ],
            [
             0.8888888888888888,
             "#fdca26"
            ],
            [
             1,
             "#f0f921"
            ]
           ],
           "sequentialminus": [
            [
             0,
             "#0d0887"
            ],
            [
             0.1111111111111111,
             "#46039f"
            ],
            [
             0.2222222222222222,
             "#7201a8"
            ],
            [
             0.3333333333333333,
             "#9c179e"
            ],
            [
             0.4444444444444444,
             "#bd3786"
            ],
            [
             0.5555555555555556,
             "#d8576b"
            ],
            [
             0.6666666666666666,
             "#ed7953"
            ],
            [
             0.7777777777777778,
             "#fb9f3a"
            ],
            [
             0.8888888888888888,
             "#fdca26"
            ],
            [
             1,
             "#f0f921"
            ]
           ]
          },
          "colorway": [
           "#636efa",
           "#EF553B",
           "#00cc96",
           "#ab63fa",
           "#FFA15A",
           "#19d3f3",
           "#FF6692",
           "#B6E880",
           "#FF97FF",
           "#FECB52"
          ],
          "font": {
           "color": "#2a3f5f"
          },
          "geo": {
           "bgcolor": "white",
           "lakecolor": "white",
           "landcolor": "#E5ECF6",
           "showlakes": true,
           "showland": true,
           "subunitcolor": "white"
          },
          "hoverlabel": {
           "align": "left"
          },
          "hovermode": "closest",
          "mapbox": {
           "style": "light"
          },
          "paper_bgcolor": "white",
          "plot_bgcolor": "#E5ECF6",
          "polar": {
           "angularaxis": {
            "gridcolor": "white",
            "linecolor": "white",
            "ticks": ""
           },
           "bgcolor": "#E5ECF6",
           "radialaxis": {
            "gridcolor": "white",
            "linecolor": "white",
            "ticks": ""
           }
          },
          "scene": {
           "xaxis": {
            "backgroundcolor": "#E5ECF6",
            "gridcolor": "white",
            "gridwidth": 2,
            "linecolor": "white",
            "showbackground": true,
            "ticks": "",
            "zerolinecolor": "white"
           },
           "yaxis": {
            "backgroundcolor": "#E5ECF6",
            "gridcolor": "white",
            "gridwidth": 2,
            "linecolor": "white",
            "showbackground": true,
            "ticks": "",
            "zerolinecolor": "white"
           },
           "zaxis": {
            "backgroundcolor": "#E5ECF6",
            "gridcolor": "white",
            "gridwidth": 2,
            "linecolor": "white",
            "showbackground": true,
            "ticks": "",
            "zerolinecolor": "white"
           }
          },
          "shapedefaults": {
           "line": {
            "color": "#2a3f5f"
           }
          },
          "ternary": {
           "aaxis": {
            "gridcolor": "white",
            "linecolor": "white",
            "ticks": ""
           },
           "baxis": {
            "gridcolor": "white",
            "linecolor": "white",
            "ticks": ""
           },
           "bgcolor": "#E5ECF6",
           "caxis": {
            "gridcolor": "white",
            "linecolor": "white",
            "ticks": ""
           }
          },
          "title": {
           "x": 0.05
          },
          "xaxis": {
           "automargin": true,
           "gridcolor": "white",
           "linecolor": "white",
           "ticks": "",
           "title": {
            "standoff": 15
           },
           "zerolinecolor": "white",
           "zerolinewidth": 2
          },
          "yaxis": {
           "automargin": true,
           "gridcolor": "white",
           "linecolor": "white",
           "ticks": "",
           "title": {
            "standoff": 15
           },
           "zerolinecolor": "white",
           "zerolinewidth": 2
          }
         }
        },
        "title": {
         "text": "No. of papers represents Biological targets published by PubMed from various countries:"
        },
        "width": 800
       }
      }
     },
     "metadata": {},
     "output_type": "display_data"
    },
    {
     "data": {
      "text/html": [
       "<div>\n",
       "<style scoped>\n",
       "    .dataframe tbody tr th:only-of-type {\n",
       "        vertical-align: middle;\n",
       "    }\n",
       "\n",
       "    .dataframe tbody tr th {\n",
       "        vertical-align: top;\n",
       "    }\n",
       "\n",
       "    .dataframe thead th {\n",
       "        text-align: right;\n",
       "    }\n",
       "</style>\n",
       "<table border=\"1\" class=\"dataframe\">\n",
       "  <thead>\n",
       "    <tr style=\"text-align: right;\">\n",
       "      <th></th>\n",
       "      <th>AffiliationCountry</th>\n",
       "      <th>PMID</th>\n",
       "    </tr>\n",
       "  </thead>\n",
       "  <tbody>\n",
       "    <tr>\n",
       "      <th>13</th>\n",
       "      <td>China</td>\n",
       "      <td>100</td>\n",
       "    </tr>\n",
       "    <tr>\n",
       "      <th>104</th>\n",
       "      <td>USA</td>\n",
       "      <td>96</td>\n",
       "    </tr>\n",
       "    <tr>\n",
       "      <th>30</th>\n",
       "      <td>Germany</td>\n",
       "      <td>32</td>\n",
       "    </tr>\n",
       "    <tr>\n",
       "      <th>8</th>\n",
       "      <td>Brazil</td>\n",
       "      <td>22</td>\n",
       "    </tr>\n",
       "    <tr>\n",
       "      <th>38</th>\n",
       "      <td>India</td>\n",
       "      <td>22</td>\n",
       "    </tr>\n",
       "  </tbody>\n",
       "</table>\n",
       "</div>"
      ],
      "text/plain": [
       "    AffiliationCountry  PMID\n",
       "13               China   100\n",
       "104                USA    96\n",
       "30             Germany    32\n",
       "8               Brazil    22\n",
       "38               India    22"
      ]
     },
     "metadata": {},
     "output_type": "display_data"
    },
    {
     "data": {
      "application/vnd.plotly.v1+json": {
       "config": {
        "plotlyServerURL": "https://plot.ly"
       },
       "data": [
        {
         "alignmentgroup": "True",
         "cliponaxis": false,
         "hovertemplate": "AffiliationCountry=%{x}<br>PMID=%{marker.color}<extra></extra>",
         "legendgroup": "",
         "marker": {
          "color": [
           100,
           96,
           32,
           22,
           22
          ],
          "coloraxis": "coloraxis",
          "pattern": {
           "shape": ""
          }
         },
         "name": "",
         "offsetgroup": "",
         "orientation": "v",
         "showlegend": false,
         "textangle": 0,
         "textfont": {
          "size": 20
         },
         "textposition": "outside",
         "texttemplate": "%{y:.2s}",
         "type": "bar",
         "x": [
          " China",
          " USA",
          " Germany",
          " Brazil",
          " India"
         ],
         "xaxis": "x",
         "y": [
          100,
          96,
          32,
          22,
          22
         ],
         "yaxis": "y"
        }
       ],
       "layout": {
        "barmode": "relative",
        "coloraxis": {
         "colorbar": {
          "title": {
           "text": "PMID"
          }
         },
         "colorscale": [
          [
           0,
           "#0d0887"
          ],
          [
           0.1111111111111111,
           "#46039f"
          ],
          [
           0.2222222222222222,
           "#7201a8"
          ],
          [
           0.3333333333333333,
           "#9c179e"
          ],
          [
           0.4444444444444444,
           "#bd3786"
          ],
          [
           0.5555555555555556,
           "#d8576b"
          ],
          [
           0.6666666666666666,
           "#ed7953"
          ],
          [
           0.7777777777777778,
           "#fb9f3a"
          ],
          [
           0.8888888888888888,
           "#fdca26"
          ],
          [
           1,
           "#f0f921"
          ]
         ]
        },
        "height": 400,
        "legend": {
         "tracegroupgap": 0
        },
        "template": {
         "data": {
          "bar": [
           {
            "error_x": {
             "color": "#2a3f5f"
            },
            "error_y": {
             "color": "#2a3f5f"
            },
            "marker": {
             "line": {
              "color": "#E5ECF6",
              "width": 0.5
             },
             "pattern": {
              "fillmode": "overlay",
              "size": 10,
              "solidity": 0.2
             }
            },
            "type": "bar"
           }
          ],
          "barpolar": [
           {
            "marker": {
             "line": {
              "color": "#E5ECF6",
              "width": 0.5
             },
             "pattern": {
              "fillmode": "overlay",
              "size": 10,
              "solidity": 0.2
             }
            },
            "type": "barpolar"
           }
          ],
          "carpet": [
           {
            "aaxis": {
             "endlinecolor": "#2a3f5f",
             "gridcolor": "white",
             "linecolor": "white",
             "minorgridcolor": "white",
             "startlinecolor": "#2a3f5f"
            },
            "baxis": {
             "endlinecolor": "#2a3f5f",
             "gridcolor": "white",
             "linecolor": "white",
             "minorgridcolor": "white",
             "startlinecolor": "#2a3f5f"
            },
            "type": "carpet"
           }
          ],
          "choropleth": [
           {
            "colorbar": {
             "outlinewidth": 0,
             "ticks": ""
            },
            "type": "choropleth"
           }
          ],
          "contour": [
           {
            "colorbar": {
             "outlinewidth": 0,
             "ticks": ""
            },
            "colorscale": [
             [
              0,
              "#0d0887"
             ],
             [
              0.1111111111111111,
              "#46039f"
             ],
             [
              0.2222222222222222,
              "#7201a8"
             ],
             [
              0.3333333333333333,
              "#9c179e"
             ],
             [
              0.4444444444444444,
              "#bd3786"
             ],
             [
              0.5555555555555556,
              "#d8576b"
             ],
             [
              0.6666666666666666,
              "#ed7953"
             ],
             [
              0.7777777777777778,
              "#fb9f3a"
             ],
             [
              0.8888888888888888,
              "#fdca26"
             ],
             [
              1,
              "#f0f921"
             ]
            ],
            "type": "contour"
           }
          ],
          "contourcarpet": [
           {
            "colorbar": {
             "outlinewidth": 0,
             "ticks": ""
            },
            "type": "contourcarpet"
           }
          ],
          "heatmap": [
           {
            "colorbar": {
             "outlinewidth": 0,
             "ticks": ""
            },
            "colorscale": [
             [
              0,
              "#0d0887"
             ],
             [
              0.1111111111111111,
              "#46039f"
             ],
             [
              0.2222222222222222,
              "#7201a8"
             ],
             [
              0.3333333333333333,
              "#9c179e"
             ],
             [
              0.4444444444444444,
              "#bd3786"
             ],
             [
              0.5555555555555556,
              "#d8576b"
             ],
             [
              0.6666666666666666,
              "#ed7953"
             ],
             [
              0.7777777777777778,
              "#fb9f3a"
             ],
             [
              0.8888888888888888,
              "#fdca26"
             ],
             [
              1,
              "#f0f921"
             ]
            ],
            "type": "heatmap"
           }
          ],
          "heatmapgl": [
           {
            "colorbar": {
             "outlinewidth": 0,
             "ticks": ""
            },
            "colorscale": [
             [
              0,
              "#0d0887"
             ],
             [
              0.1111111111111111,
              "#46039f"
             ],
             [
              0.2222222222222222,
              "#7201a8"
             ],
             [
              0.3333333333333333,
              "#9c179e"
             ],
             [
              0.4444444444444444,
              "#bd3786"
             ],
             [
              0.5555555555555556,
              "#d8576b"
             ],
             [
              0.6666666666666666,
              "#ed7953"
             ],
             [
              0.7777777777777778,
              "#fb9f3a"
             ],
             [
              0.8888888888888888,
              "#fdca26"
             ],
             [
              1,
              "#f0f921"
             ]
            ],
            "type": "heatmapgl"
           }
          ],
          "histogram": [
           {
            "marker": {
             "pattern": {
              "fillmode": "overlay",
              "size": 10,
              "solidity": 0.2
             }
            },
            "type": "histogram"
           }
          ],
          "histogram2d": [
           {
            "colorbar": {
             "outlinewidth": 0,
             "ticks": ""
            },
            "colorscale": [
             [
              0,
              "#0d0887"
             ],
             [
              0.1111111111111111,
              "#46039f"
             ],
             [
              0.2222222222222222,
              "#7201a8"
             ],
             [
              0.3333333333333333,
              "#9c179e"
             ],
             [
              0.4444444444444444,
              "#bd3786"
             ],
             [
              0.5555555555555556,
              "#d8576b"
             ],
             [
              0.6666666666666666,
              "#ed7953"
             ],
             [
              0.7777777777777778,
              "#fb9f3a"
             ],
             [
              0.8888888888888888,
              "#fdca26"
             ],
             [
              1,
              "#f0f921"
             ]
            ],
            "type": "histogram2d"
           }
          ],
          "histogram2dcontour": [
           {
            "colorbar": {
             "outlinewidth": 0,
             "ticks": ""
            },
            "colorscale": [
             [
              0,
              "#0d0887"
             ],
             [
              0.1111111111111111,
              "#46039f"
             ],
             [
              0.2222222222222222,
              "#7201a8"
             ],
             [
              0.3333333333333333,
              "#9c179e"
             ],
             [
              0.4444444444444444,
              "#bd3786"
             ],
             [
              0.5555555555555556,
              "#d8576b"
             ],
             [
              0.6666666666666666,
              "#ed7953"
             ],
             [
              0.7777777777777778,
              "#fb9f3a"
             ],
             [
              0.8888888888888888,
              "#fdca26"
             ],
             [
              1,
              "#f0f921"
             ]
            ],
            "type": "histogram2dcontour"
           }
          ],
          "mesh3d": [
           {
            "colorbar": {
             "outlinewidth": 0,
             "ticks": ""
            },
            "type": "mesh3d"
           }
          ],
          "parcoords": [
           {
            "line": {
             "colorbar": {
              "outlinewidth": 0,
              "ticks": ""
             }
            },
            "type": "parcoords"
           }
          ],
          "pie": [
           {
            "automargin": true,
            "type": "pie"
           }
          ],
          "scatter": [
           {
            "fillpattern": {
             "fillmode": "overlay",
             "size": 10,
             "solidity": 0.2
            },
            "type": "scatter"
           }
          ],
          "scatter3d": [
           {
            "line": {
             "colorbar": {
              "outlinewidth": 0,
              "ticks": ""
             }
            },
            "marker": {
             "colorbar": {
              "outlinewidth": 0,
              "ticks": ""
             }
            },
            "type": "scatter3d"
           }
          ],
          "scattercarpet": [
           {
            "marker": {
             "colorbar": {
              "outlinewidth": 0,
              "ticks": ""
             }
            },
            "type": "scattercarpet"
           }
          ],
          "scattergeo": [
           {
            "marker": {
             "colorbar": {
              "outlinewidth": 0,
              "ticks": ""
             }
            },
            "type": "scattergeo"
           }
          ],
          "scattergl": [
           {
            "marker": {
             "colorbar": {
              "outlinewidth": 0,
              "ticks": ""
             }
            },
            "type": "scattergl"
           }
          ],
          "scattermapbox": [
           {
            "marker": {
             "colorbar": {
              "outlinewidth": 0,
              "ticks": ""
             }
            },
            "type": "scattermapbox"
           }
          ],
          "scatterpolar": [
           {
            "marker": {
             "colorbar": {
              "outlinewidth": 0,
              "ticks": ""
             }
            },
            "type": "scatterpolar"
           }
          ],
          "scatterpolargl": [
           {
            "marker": {
             "colorbar": {
              "outlinewidth": 0,
              "ticks": ""
             }
            },
            "type": "scatterpolargl"
           }
          ],
          "scatterternary": [
           {
            "marker": {
             "colorbar": {
              "outlinewidth": 0,
              "ticks": ""
             }
            },
            "type": "scatterternary"
           }
          ],
          "surface": [
           {
            "colorbar": {
             "outlinewidth": 0,
             "ticks": ""
            },
            "colorscale": [
             [
              0,
              "#0d0887"
             ],
             [
              0.1111111111111111,
              "#46039f"
             ],
             [
              0.2222222222222222,
              "#7201a8"
             ],
             [
              0.3333333333333333,
              "#9c179e"
             ],
             [
              0.4444444444444444,
              "#bd3786"
             ],
             [
              0.5555555555555556,
              "#d8576b"
             ],
             [
              0.6666666666666666,
              "#ed7953"
             ],
             [
              0.7777777777777778,
              "#fb9f3a"
             ],
             [
              0.8888888888888888,
              "#fdca26"
             ],
             [
              1,
              "#f0f921"
             ]
            ],
            "type": "surface"
           }
          ],
          "table": [
           {
            "cells": {
             "fill": {
              "color": "#EBF0F8"
             },
             "line": {
              "color": "white"
             }
            },
            "header": {
             "fill": {
              "color": "#C8D4E3"
             },
             "line": {
              "color": "white"
             }
            },
            "type": "table"
           }
          ]
         },
         "layout": {
          "annotationdefaults": {
           "arrowcolor": "#2a3f5f",
           "arrowhead": 0,
           "arrowwidth": 1
          },
          "autotypenumbers": "strict",
          "coloraxis": {
           "colorbar": {
            "outlinewidth": 0,
            "ticks": ""
           }
          },
          "colorscale": {
           "diverging": [
            [
             0,
             "#8e0152"
            ],
            [
             0.1,
             "#c51b7d"
            ],
            [
             0.2,
             "#de77ae"
            ],
            [
             0.3,
             "#f1b6da"
            ],
            [
             0.4,
             "#fde0ef"
            ],
            [
             0.5,
             "#f7f7f7"
            ],
            [
             0.6,
             "#e6f5d0"
            ],
            [
             0.7,
             "#b8e186"
            ],
            [
             0.8,
             "#7fbc41"
            ],
            [
             0.9,
             "#4d9221"
            ],
            [
             1,
             "#276419"
            ]
           ],
           "sequential": [
            [
             0,
             "#0d0887"
            ],
            [
             0.1111111111111111,
             "#46039f"
            ],
            [
             0.2222222222222222,
             "#7201a8"
            ],
            [
             0.3333333333333333,
             "#9c179e"
            ],
            [
             0.4444444444444444,
             "#bd3786"
            ],
            [
             0.5555555555555556,
             "#d8576b"
            ],
            [
             0.6666666666666666,
             "#ed7953"
            ],
            [
             0.7777777777777778,
             "#fb9f3a"
            ],
            [
             0.8888888888888888,
             "#fdca26"
            ],
            [
             1,
             "#f0f921"
            ]
           ],
           "sequentialminus": [
            [
             0,
             "#0d0887"
            ],
            [
             0.1111111111111111,
             "#46039f"
            ],
            [
             0.2222222222222222,
             "#7201a8"
            ],
            [
             0.3333333333333333,
             "#9c179e"
            ],
            [
             0.4444444444444444,
             "#bd3786"
            ],
            [
             0.5555555555555556,
             "#d8576b"
            ],
            [
             0.6666666666666666,
             "#ed7953"
            ],
            [
             0.7777777777777778,
             "#fb9f3a"
            ],
            [
             0.8888888888888888,
             "#fdca26"
            ],
            [
             1,
             "#f0f921"
            ]
           ]
          },
          "colorway": [
           "#636efa",
           "#EF553B",
           "#00cc96",
           "#ab63fa",
           "#FFA15A",
           "#19d3f3",
           "#FF6692",
           "#B6E880",
           "#FF97FF",
           "#FECB52"
          ],
          "font": {
           "color": "#2a3f5f"
          },
          "geo": {
           "bgcolor": "white",
           "lakecolor": "white",
           "landcolor": "#E5ECF6",
           "showlakes": true,
           "showland": true,
           "subunitcolor": "white"
          },
          "hoverlabel": {
           "align": "left"
          },
          "hovermode": "closest",
          "mapbox": {
           "style": "light"
          },
          "paper_bgcolor": "white",
          "plot_bgcolor": "#E5ECF6",
          "polar": {
           "angularaxis": {
            "gridcolor": "white",
            "linecolor": "white",
            "ticks": ""
           },
           "bgcolor": "#E5ECF6",
           "radialaxis": {
            "gridcolor": "white",
            "linecolor": "white",
            "ticks": ""
           }
          },
          "scene": {
           "xaxis": {
            "backgroundcolor": "#E5ECF6",
            "gridcolor": "white",
            "gridwidth": 2,
            "linecolor": "white",
            "showbackground": true,
            "ticks": "",
            "zerolinecolor": "white"
           },
           "yaxis": {
            "backgroundcolor": "#E5ECF6",
            "gridcolor": "white",
            "gridwidth": 2,
            "linecolor": "white",
            "showbackground": true,
            "ticks": "",
            "zerolinecolor": "white"
           },
           "zaxis": {
            "backgroundcolor": "#E5ECF6",
            "gridcolor": "white",
            "gridwidth": 2,
            "linecolor": "white",
            "showbackground": true,
            "ticks": "",
            "zerolinecolor": "white"
           }
          },
          "shapedefaults": {
           "line": {
            "color": "#2a3f5f"
           }
          },
          "ternary": {
           "aaxis": {
            "gridcolor": "white",
            "linecolor": "white",
            "ticks": ""
           },
           "baxis": {
            "gridcolor": "white",
            "linecolor": "white",
            "ticks": ""
           },
           "bgcolor": "#E5ECF6",
           "caxis": {
            "gridcolor": "white",
            "linecolor": "white",
            "ticks": ""
           }
          },
          "title": {
           "x": 0.05
          },
          "xaxis": {
           "automargin": true,
           "gridcolor": "white",
           "linecolor": "white",
           "ticks": "",
           "title": {
            "standoff": 15
           },
           "zerolinecolor": "white",
           "zerolinewidth": 2
          },
          "yaxis": {
           "automargin": true,
           "gridcolor": "white",
           "linecolor": "white",
           "ticks": "",
           "title": {
            "standoff": 15
           },
           "zerolinecolor": "white",
           "zerolinewidth": 2
          }
         }
        },
        "title": {
         "text": "Top 5 countries to publish more Biological target papers: "
        },
        "xaxis": {
         "anchor": "y",
         "domain": [
          0,
          1
         ],
         "title": {
          "text": "AffiliationCountry"
         }
        },
        "yaxis": {
         "anchor": "x",
         "domain": [
          0,
          1
         ],
         "title": {
          "text": "PMID"
         }
        }
       }
      }
     },
     "metadata": {},
     "output_type": "display_data"
    },
    {
     "data": {
      "text/html": [
       "<div>\n",
       "<style scoped>\n",
       "    .dataframe tbody tr th:only-of-type {\n",
       "        vertical-align: middle;\n",
       "    }\n",
       "\n",
       "    .dataframe tbody tr th {\n",
       "        vertical-align: top;\n",
       "    }\n",
       "\n",
       "    .dataframe thead th {\n",
       "        text-align: right;\n",
       "    }\n",
       "</style>\n",
       "<table border=\"1\" class=\"dataframe\">\n",
       "  <thead>\n",
       "    <tr style=\"text-align: right;\">\n",
       "      <th></th>\n",
       "      <th>Year</th>\n",
       "      <th>PMID</th>\n",
       "    </tr>\n",
       "  </thead>\n",
       "  <tbody>\n",
       "    <tr>\n",
       "      <th>0</th>\n",
       "      <td>1999</td>\n",
       "      <td>10575721</td>\n",
       "    </tr>\n",
       "    <tr>\n",
       "      <th>1</th>\n",
       "      <td>1999</td>\n",
       "      <td>10617805</td>\n",
       "    </tr>\n",
       "    <tr>\n",
       "      <th>2</th>\n",
       "      <td>2000</td>\n",
       "      <td>10656443</td>\n",
       "    </tr>\n",
       "    <tr>\n",
       "      <th>3</th>\n",
       "      <td>2000</td>\n",
       "      <td>10790290</td>\n",
       "    </tr>\n",
       "    <tr>\n",
       "      <th>4</th>\n",
       "      <td>2000</td>\n",
       "      <td>10793017</td>\n",
       "    </tr>\n",
       "    <tr>\n",
       "      <th>...</th>\n",
       "      <td>...</td>\n",
       "      <td>...</td>\n",
       "    </tr>\n",
       "    <tr>\n",
       "      <th>659</th>\n",
       "      <td>2023</td>\n",
       "      <td>37874452</td>\n",
       "    </tr>\n",
       "    <tr>\n",
       "      <th>660</th>\n",
       "      <td>2023</td>\n",
       "      <td>37889281</td>\n",
       "    </tr>\n",
       "    <tr>\n",
       "      <th>661</th>\n",
       "      <td>2023</td>\n",
       "      <td>37972698</td>\n",
       "    </tr>\n",
       "    <tr>\n",
       "      <th>662</th>\n",
       "      <td>2023</td>\n",
       "      <td>38048169</td>\n",
       "    </tr>\n",
       "    <tr>\n",
       "      <th>664</th>\n",
       "      <td>2023</td>\n",
       "      <td>38092161</td>\n",
       "    </tr>\n",
       "  </tbody>\n",
       "</table>\n",
       "<p>659 rows × 2 columns</p>\n",
       "</div>"
      ],
      "text/plain": [
       "     Year      PMID\n",
       "0    1999  10575721\n",
       "1    1999  10617805\n",
       "2    2000  10656443\n",
       "3    2000  10790290\n",
       "4    2000  10793017\n",
       "..    ...       ...\n",
       "659  2023  37874452\n",
       "660  2023  37889281\n",
       "661  2023  37972698\n",
       "662  2023  38048169\n",
       "664  2023  38092161\n",
       "\n",
       "[659 rows x 2 columns]"
      ]
     },
     "metadata": {},
     "output_type": "display_data"
    },
    {
     "data": {
      "text/html": [
       "<div>\n",
       "<style scoped>\n",
       "    .dataframe tbody tr th:only-of-type {\n",
       "        vertical-align: middle;\n",
       "    }\n",
       "\n",
       "    .dataframe tbody tr th {\n",
       "        vertical-align: top;\n",
       "    }\n",
       "\n",
       "    .dataframe thead th {\n",
       "        text-align: right;\n",
       "    }\n",
       "</style>\n",
       "<table border=\"1\" class=\"dataframe\">\n",
       "  <thead>\n",
       "    <tr style=\"text-align: right;\">\n",
       "      <th></th>\n",
       "      <th>Year</th>\n",
       "      <th>PMID</th>\n",
       "    </tr>\n",
       "  </thead>\n",
       "  <tbody>\n",
       "    <tr>\n",
       "      <th>0</th>\n",
       "      <td>1997</td>\n",
       "      <td>2</td>\n",
       "    </tr>\n",
       "    <tr>\n",
       "      <th>1</th>\n",
       "      <td>1998</td>\n",
       "      <td>1</td>\n",
       "    </tr>\n",
       "    <tr>\n",
       "      <th>2</th>\n",
       "      <td>1999</td>\n",
       "      <td>3</td>\n",
       "    </tr>\n",
       "    <tr>\n",
       "      <th>3</th>\n",
       "      <td>2000</td>\n",
       "      <td>5</td>\n",
       "    </tr>\n",
       "    <tr>\n",
       "      <th>4</th>\n",
       "      <td>2001</td>\n",
       "      <td>2</td>\n",
       "    </tr>\n",
       "    <tr>\n",
       "      <th>5</th>\n",
       "      <td>2002</td>\n",
       "      <td>9</td>\n",
       "    </tr>\n",
       "    <tr>\n",
       "      <th>6</th>\n",
       "      <td>2003</td>\n",
       "      <td>4</td>\n",
       "    </tr>\n",
       "    <tr>\n",
       "      <th>7</th>\n",
       "      <td>2004</td>\n",
       "      <td>8</td>\n",
       "    </tr>\n",
       "    <tr>\n",
       "      <th>8</th>\n",
       "      <td>2005</td>\n",
       "      <td>5</td>\n",
       "    </tr>\n",
       "    <tr>\n",
       "      <th>9</th>\n",
       "      <td>2006</td>\n",
       "      <td>11</td>\n",
       "    </tr>\n",
       "    <tr>\n",
       "      <th>10</th>\n",
       "      <td>2007</td>\n",
       "      <td>12</td>\n",
       "    </tr>\n",
       "    <tr>\n",
       "      <th>11</th>\n",
       "      <td>2008</td>\n",
       "      <td>15</td>\n",
       "    </tr>\n",
       "    <tr>\n",
       "      <th>12</th>\n",
       "      <td>2009</td>\n",
       "      <td>18</td>\n",
       "    </tr>\n",
       "    <tr>\n",
       "      <th>13</th>\n",
       "      <td>2010</td>\n",
       "      <td>12</td>\n",
       "    </tr>\n",
       "    <tr>\n",
       "      <th>14</th>\n",
       "      <td>2011</td>\n",
       "      <td>28</td>\n",
       "    </tr>\n",
       "    <tr>\n",
       "      <th>15</th>\n",
       "      <td>2012</td>\n",
       "      <td>25</td>\n",
       "    </tr>\n",
       "    <tr>\n",
       "      <th>16</th>\n",
       "      <td>2013</td>\n",
       "      <td>37</td>\n",
       "    </tr>\n",
       "    <tr>\n",
       "      <th>17</th>\n",
       "      <td>2014</td>\n",
       "      <td>42</td>\n",
       "    </tr>\n",
       "    <tr>\n",
       "      <th>18</th>\n",
       "      <td>2015</td>\n",
       "      <td>47</td>\n",
       "    </tr>\n",
       "    <tr>\n",
       "      <th>19</th>\n",
       "      <td>2016</td>\n",
       "      <td>43</td>\n",
       "    </tr>\n",
       "    <tr>\n",
       "      <th>20</th>\n",
       "      <td>2017</td>\n",
       "      <td>36</td>\n",
       "    </tr>\n",
       "    <tr>\n",
       "      <th>21</th>\n",
       "      <td>2018</td>\n",
       "      <td>38</td>\n",
       "    </tr>\n",
       "    <tr>\n",
       "      <th>22</th>\n",
       "      <td>2019</td>\n",
       "      <td>45</td>\n",
       "    </tr>\n",
       "    <tr>\n",
       "      <th>23</th>\n",
       "      <td>2020</td>\n",
       "      <td>36</td>\n",
       "    </tr>\n",
       "    <tr>\n",
       "      <th>24</th>\n",
       "      <td>2021</td>\n",
       "      <td>53</td>\n",
       "    </tr>\n",
       "    <tr>\n",
       "      <th>25</th>\n",
       "      <td>2022</td>\n",
       "      <td>63</td>\n",
       "    </tr>\n",
       "    <tr>\n",
       "      <th>26</th>\n",
       "      <td>2023</td>\n",
       "      <td>59</td>\n",
       "    </tr>\n",
       "  </tbody>\n",
       "</table>\n",
       "</div>"
      ],
      "text/plain": [
       "    Year  PMID\n",
       "0   1997     2\n",
       "1   1998     1\n",
       "2   1999     3\n",
       "3   2000     5\n",
       "4   2001     2\n",
       "5   2002     9\n",
       "6   2003     4\n",
       "7   2004     8\n",
       "8   2005     5\n",
       "9   2006    11\n",
       "10  2007    12\n",
       "11  2008    15\n",
       "12  2009    18\n",
       "13  2010    12\n",
       "14  2011    28\n",
       "15  2012    25\n",
       "16  2013    37\n",
       "17  2014    42\n",
       "18  2015    47\n",
       "19  2016    43\n",
       "20  2017    36\n",
       "21  2018    38\n",
       "22  2019    45\n",
       "23  2020    36\n",
       "24  2021    53\n",
       "25  2022    63\n",
       "26  2023    59"
      ]
     },
     "metadata": {},
     "output_type": "display_data"
    },
    {
     "data": {
      "text/html": [
       "<div>\n",
       "<style scoped>\n",
       "    .dataframe tbody tr th:only-of-type {\n",
       "        vertical-align: middle;\n",
       "    }\n",
       "\n",
       "    .dataframe tbody tr th {\n",
       "        vertical-align: top;\n",
       "    }\n",
       "\n",
       "    .dataframe thead th {\n",
       "        text-align: right;\n",
       "    }\n",
       "</style>\n",
       "<table border=\"1\" class=\"dataframe\">\n",
       "  <thead>\n",
       "    <tr style=\"text-align: right;\">\n",
       "      <th></th>\n",
       "      <th>Year</th>\n",
       "      <th>Count</th>\n",
       "    </tr>\n",
       "  </thead>\n",
       "  <tbody>\n",
       "    <tr>\n",
       "      <th>0</th>\n",
       "      <td>1799</td>\n",
       "      <td>1</td>\n",
       "    </tr>\n",
       "    <tr>\n",
       "      <th>1</th>\n",
       "      <td>1801</td>\n",
       "      <td>1</td>\n",
       "    </tr>\n",
       "    <tr>\n",
       "      <th>2</th>\n",
       "      <td>1802</td>\n",
       "      <td>1</td>\n",
       "    </tr>\n",
       "    <tr>\n",
       "      <th>3</th>\n",
       "      <td>1805</td>\n",
       "      <td>1</td>\n",
       "    </tr>\n",
       "    <tr>\n",
       "      <th>4</th>\n",
       "      <td>1866</td>\n",
       "      <td>1</td>\n",
       "    </tr>\n",
       "    <tr>\n",
       "      <th>...</th>\n",
       "      <td>...</td>\n",
       "      <td>...</td>\n",
       "    </tr>\n",
       "    <tr>\n",
       "      <th>138</th>\n",
       "      <td>2020</td>\n",
       "      <td>1132241</td>\n",
       "    </tr>\n",
       "    <tr>\n",
       "      <th>139</th>\n",
       "      <td>2021</td>\n",
       "      <td>1277048</td>\n",
       "    </tr>\n",
       "    <tr>\n",
       "      <th>140</th>\n",
       "      <td>2022</td>\n",
       "      <td>1324650</td>\n",
       "    </tr>\n",
       "    <tr>\n",
       "      <th>141</th>\n",
       "      <td>2023</td>\n",
       "      <td>1302390</td>\n",
       "    </tr>\n",
       "    <tr>\n",
       "      <th>142</th>\n",
       "      <td>2024</td>\n",
       "      <td>15611</td>\n",
       "    </tr>\n",
       "  </tbody>\n",
       "</table>\n",
       "<p>143 rows × 2 columns</p>\n",
       "</div>"
      ],
      "text/plain": [
       "     Year    Count\n",
       "0    1799        1\n",
       "1    1801        1\n",
       "2    1802        1\n",
       "3    1805        1\n",
       "4    1866        1\n",
       "..    ...      ...\n",
       "138  2020  1132241\n",
       "139  2021  1277048\n",
       "140  2022  1324650\n",
       "141  2023  1302390\n",
       "142  2024    15611\n",
       "\n",
       "[143 rows x 2 columns]"
      ]
     },
     "metadata": {},
     "output_type": "display_data"
    },
    {
     "data": {
      "text/html": [
       "<div>\n",
       "<style scoped>\n",
       "    .dataframe tbody tr th:only-of-type {\n",
       "        vertical-align: middle;\n",
       "    }\n",
       "\n",
       "    .dataframe tbody tr th {\n",
       "        vertical-align: top;\n",
       "    }\n",
       "\n",
       "    .dataframe thead th {\n",
       "        text-align: right;\n",
       "    }\n",
       "</style>\n",
       "<table border=\"1\" class=\"dataframe\">\n",
       "  <thead>\n",
       "    <tr style=\"text-align: right;\">\n",
       "      <th></th>\n",
       "      <th>Year</th>\n",
       "      <th>Count</th>\n",
       "    </tr>\n",
       "  </thead>\n",
       "  <tbody>\n",
       "    <tr>\n",
       "      <th>115</th>\n",
       "      <td>1997</td>\n",
       "      <td>313743</td>\n",
       "    </tr>\n",
       "    <tr>\n",
       "      <th>116</th>\n",
       "      <td>1998</td>\n",
       "      <td>329438</td>\n",
       "    </tr>\n",
       "    <tr>\n",
       "      <th>117</th>\n",
       "      <td>1999</td>\n",
       "      <td>340740</td>\n",
       "    </tr>\n",
       "    <tr>\n",
       "      <th>118</th>\n",
       "      <td>2000</td>\n",
       "      <td>373439</td>\n",
       "    </tr>\n",
       "    <tr>\n",
       "      <th>119</th>\n",
       "      <td>2001</td>\n",
       "      <td>388963</td>\n",
       "    </tr>\n",
       "    <tr>\n",
       "      <th>120</th>\n",
       "      <td>2002</td>\n",
       "      <td>405519</td>\n",
       "    </tr>\n",
       "    <tr>\n",
       "      <th>121</th>\n",
       "      <td>2003</td>\n",
       "      <td>426752</td>\n",
       "    </tr>\n",
       "    <tr>\n",
       "      <th>122</th>\n",
       "      <td>2004</td>\n",
       "      <td>459362</td>\n",
       "    </tr>\n",
       "    <tr>\n",
       "      <th>123</th>\n",
       "      <td>2005</td>\n",
       "      <td>492511</td>\n",
       "    </tr>\n",
       "    <tr>\n",
       "      <th>124</th>\n",
       "      <td>2006</td>\n",
       "      <td>521278</td>\n",
       "    </tr>\n",
       "    <tr>\n",
       "      <th>125</th>\n",
       "      <td>2007</td>\n",
       "      <td>548061</td>\n",
       "    </tr>\n",
       "    <tr>\n",
       "      <th>126</th>\n",
       "      <td>2008</td>\n",
       "      <td>585286</td>\n",
       "    </tr>\n",
       "    <tr>\n",
       "      <th>127</th>\n",
       "      <td>2009</td>\n",
       "      <td>618504</td>\n",
       "    </tr>\n",
       "    <tr>\n",
       "      <th>128</th>\n",
       "      <td>2010</td>\n",
       "      <td>653739</td>\n",
       "    </tr>\n",
       "    <tr>\n",
       "      <th>129</th>\n",
       "      <td>2011</td>\n",
       "      <td>702139</td>\n",
       "    </tr>\n",
       "    <tr>\n",
       "      <th>130</th>\n",
       "      <td>2012</td>\n",
       "      <td>765156</td>\n",
       "    </tr>\n",
       "    <tr>\n",
       "      <th>131</th>\n",
       "      <td>2013</td>\n",
       "      <td>809074</td>\n",
       "    </tr>\n",
       "    <tr>\n",
       "      <th>132</th>\n",
       "      <td>2014</td>\n",
       "      <td>850568</td>\n",
       "    </tr>\n",
       "    <tr>\n",
       "      <th>133</th>\n",
       "      <td>2015</td>\n",
       "      <td>876117</td>\n",
       "    </tr>\n",
       "    <tr>\n",
       "      <th>134</th>\n",
       "      <td>2016</td>\n",
       "      <td>896208</td>\n",
       "    </tr>\n",
       "    <tr>\n",
       "      <th>135</th>\n",
       "      <td>2017</td>\n",
       "      <td>907250</td>\n",
       "    </tr>\n",
       "    <tr>\n",
       "      <th>136</th>\n",
       "      <td>2018</td>\n",
       "      <td>959228</td>\n",
       "    </tr>\n",
       "    <tr>\n",
       "      <th>137</th>\n",
       "      <td>2019</td>\n",
       "      <td>999175</td>\n",
       "    </tr>\n",
       "    <tr>\n",
       "      <th>138</th>\n",
       "      <td>2020</td>\n",
       "      <td>1132241</td>\n",
       "    </tr>\n",
       "    <tr>\n",
       "      <th>139</th>\n",
       "      <td>2021</td>\n",
       "      <td>1277048</td>\n",
       "    </tr>\n",
       "    <tr>\n",
       "      <th>140</th>\n",
       "      <td>2022</td>\n",
       "      <td>1324650</td>\n",
       "    </tr>\n",
       "    <tr>\n",
       "      <th>141</th>\n",
       "      <td>2023</td>\n",
       "      <td>1302390</td>\n",
       "    </tr>\n",
       "  </tbody>\n",
       "</table>\n",
       "</div>"
      ],
      "text/plain": [
       "     Year    Count\n",
       "115  1997   313743\n",
       "116  1998   329438\n",
       "117  1999   340740\n",
       "118  2000   373439\n",
       "119  2001   388963\n",
       "120  2002   405519\n",
       "121  2003   426752\n",
       "122  2004   459362\n",
       "123  2005   492511\n",
       "124  2006   521278\n",
       "125  2007   548061\n",
       "126  2008   585286\n",
       "127  2009   618504\n",
       "128  2010   653739\n",
       "129  2011   702139\n",
       "130  2012   765156\n",
       "131  2013   809074\n",
       "132  2014   850568\n",
       "133  2015   876117\n",
       "134  2016   896208\n",
       "135  2017   907250\n",
       "136  2018   959228\n",
       "137  2019   999175\n",
       "138  2020  1132241\n",
       "139  2021  1277048\n",
       "140  2022  1324650\n",
       "141  2023  1302390"
      ]
     },
     "metadata": {},
     "output_type": "display_data"
    },
    {
     "data": {
      "application/vnd.plotly.v1+json": {
       "config": {
        "plotlyServerURL": "https://plot.ly"
       },
       "data": [
        {
         "alignmentgroup": "True",
         "cliponaxis": false,
         "hovertemplate": "Year=%{x}<br>Total No. of publications=%{marker.color}<extra></extra>",
         "legendgroup": "",
         "marker": {
          "color": [
           313743,
           329438,
           340740,
           373439,
           388963,
           405519,
           426752,
           459362,
           492511,
           521278,
           548061,
           585286,
           618504,
           653739,
           702139,
           765156,
           809074,
           850568,
           876117,
           896208,
           907250,
           959228,
           999175,
           1132241,
           1277048,
           1324650,
           1302390
          ],
          "coloraxis": "coloraxis",
          "pattern": {
           "shape": ""
          }
         },
         "name": "",
         "offsetgroup": "",
         "orientation": "v",
         "showlegend": false,
         "textangle": 0,
         "textfont": {
          "size": 20
         },
         "textposition": "outside",
         "texttemplate": "%{y:.2s}",
         "type": "bar",
         "x": [
          1997,
          1998,
          1999,
          2000,
          2001,
          2002,
          2003,
          2004,
          2005,
          2006,
          2007,
          2008,
          2009,
          2010,
          2011,
          2012,
          2013,
          2014,
          2015,
          2016,
          2017,
          2018,
          2019,
          2020,
          2021,
          2022,
          2023
         ],
         "xaxis": "x",
         "y": [
          313743,
          329438,
          340740,
          373439,
          388963,
          405519,
          426752,
          459362,
          492511,
          521278,
          548061,
          585286,
          618504,
          653739,
          702139,
          765156,
          809074,
          850568,
          876117,
          896208,
          907250,
          959228,
          999175,
          1132241,
          1277048,
          1324650,
          1302390
         ],
         "yaxis": "y"
        }
       ],
       "layout": {
        "barmode": "relative",
        "coloraxis": {
         "colorbar": {
          "title": {
           "text": "Total No. of publications"
          }
         },
         "colorscale": [
          [
           0,
           "#0d0887"
          ],
          [
           0.1111111111111111,
           "#46039f"
          ],
          [
           0.2222222222222222,
           "#7201a8"
          ],
          [
           0.3333333333333333,
           "#9c179e"
          ],
          [
           0.4444444444444444,
           "#bd3786"
          ],
          [
           0.5555555555555556,
           "#d8576b"
          ],
          [
           0.6666666666666666,
           "#ed7953"
          ],
          [
           0.7777777777777778,
           "#fb9f3a"
          ],
          [
           0.8888888888888888,
           "#fdca26"
          ],
          [
           1,
           "#f0f921"
          ]
         ]
        },
        "height": 400,
        "legend": {
         "tracegroupgap": 0
        },
        "template": {
         "data": {
          "bar": [
           {
            "error_x": {
             "color": "#2a3f5f"
            },
            "error_y": {
             "color": "#2a3f5f"
            },
            "marker": {
             "line": {
              "color": "#E5ECF6",
              "width": 0.5
             },
             "pattern": {
              "fillmode": "overlay",
              "size": 10,
              "solidity": 0.2
             }
            },
            "type": "bar"
           }
          ],
          "barpolar": [
           {
            "marker": {
             "line": {
              "color": "#E5ECF6",
              "width": 0.5
             },
             "pattern": {
              "fillmode": "overlay",
              "size": 10,
              "solidity": 0.2
             }
            },
            "type": "barpolar"
           }
          ],
          "carpet": [
           {
            "aaxis": {
             "endlinecolor": "#2a3f5f",
             "gridcolor": "white",
             "linecolor": "white",
             "minorgridcolor": "white",
             "startlinecolor": "#2a3f5f"
            },
            "baxis": {
             "endlinecolor": "#2a3f5f",
             "gridcolor": "white",
             "linecolor": "white",
             "minorgridcolor": "white",
             "startlinecolor": "#2a3f5f"
            },
            "type": "carpet"
           }
          ],
          "choropleth": [
           {
            "colorbar": {
             "outlinewidth": 0,
             "ticks": ""
            },
            "type": "choropleth"
           }
          ],
          "contour": [
           {
            "colorbar": {
             "outlinewidth": 0,
             "ticks": ""
            },
            "colorscale": [
             [
              0,
              "#0d0887"
             ],
             [
              0.1111111111111111,
              "#46039f"
             ],
             [
              0.2222222222222222,
              "#7201a8"
             ],
             [
              0.3333333333333333,
              "#9c179e"
             ],
             [
              0.4444444444444444,
              "#bd3786"
             ],
             [
              0.5555555555555556,
              "#d8576b"
             ],
             [
              0.6666666666666666,
              "#ed7953"
             ],
             [
              0.7777777777777778,
              "#fb9f3a"
             ],
             [
              0.8888888888888888,
              "#fdca26"
             ],
             [
              1,
              "#f0f921"
             ]
            ],
            "type": "contour"
           }
          ],
          "contourcarpet": [
           {
            "colorbar": {
             "outlinewidth": 0,
             "ticks": ""
            },
            "type": "contourcarpet"
           }
          ],
          "heatmap": [
           {
            "colorbar": {
             "outlinewidth": 0,
             "ticks": ""
            },
            "colorscale": [
             [
              0,
              "#0d0887"
             ],
             [
              0.1111111111111111,
              "#46039f"
             ],
             [
              0.2222222222222222,
              "#7201a8"
             ],
             [
              0.3333333333333333,
              "#9c179e"
             ],
             [
              0.4444444444444444,
              "#bd3786"
             ],
             [
              0.5555555555555556,
              "#d8576b"
             ],
             [
              0.6666666666666666,
              "#ed7953"
             ],
             [
              0.7777777777777778,
              "#fb9f3a"
             ],
             [
              0.8888888888888888,
              "#fdca26"
             ],
             [
              1,
              "#f0f921"
             ]
            ],
            "type": "heatmap"
           }
          ],
          "heatmapgl": [
           {
            "colorbar": {
             "outlinewidth": 0,
             "ticks": ""
            },
            "colorscale": [
             [
              0,
              "#0d0887"
             ],
             [
              0.1111111111111111,
              "#46039f"
             ],
             [
              0.2222222222222222,
              "#7201a8"
             ],
             [
              0.3333333333333333,
              "#9c179e"
             ],
             [
              0.4444444444444444,
              "#bd3786"
             ],
             [
              0.5555555555555556,
              "#d8576b"
             ],
             [
              0.6666666666666666,
              "#ed7953"
             ],
             [
              0.7777777777777778,
              "#fb9f3a"
             ],
             [
              0.8888888888888888,
              "#fdca26"
             ],
             [
              1,
              "#f0f921"
             ]
            ],
            "type": "heatmapgl"
           }
          ],
          "histogram": [
           {
            "marker": {
             "pattern": {
              "fillmode": "overlay",
              "size": 10,
              "solidity": 0.2
             }
            },
            "type": "histogram"
           }
          ],
          "histogram2d": [
           {
            "colorbar": {
             "outlinewidth": 0,
             "ticks": ""
            },
            "colorscale": [
             [
              0,
              "#0d0887"
             ],
             [
              0.1111111111111111,
              "#46039f"
             ],
             [
              0.2222222222222222,
              "#7201a8"
             ],
             [
              0.3333333333333333,
              "#9c179e"
             ],
             [
              0.4444444444444444,
              "#bd3786"
             ],
             [
              0.5555555555555556,
              "#d8576b"
             ],
             [
              0.6666666666666666,
              "#ed7953"
             ],
             [
              0.7777777777777778,
              "#fb9f3a"
             ],
             [
              0.8888888888888888,
              "#fdca26"
             ],
             [
              1,
              "#f0f921"
             ]
            ],
            "type": "histogram2d"
           }
          ],
          "histogram2dcontour": [
           {
            "colorbar": {
             "outlinewidth": 0,
             "ticks": ""
            },
            "colorscale": [
             [
              0,
              "#0d0887"
             ],
             [
              0.1111111111111111,
              "#46039f"
             ],
             [
              0.2222222222222222,
              "#7201a8"
             ],
             [
              0.3333333333333333,
              "#9c179e"
             ],
             [
              0.4444444444444444,
              "#bd3786"
             ],
             [
              0.5555555555555556,
              "#d8576b"
             ],
             [
              0.6666666666666666,
              "#ed7953"
             ],
             [
              0.7777777777777778,
              "#fb9f3a"
             ],
             [
              0.8888888888888888,
              "#fdca26"
             ],
             [
              1,
              "#f0f921"
             ]
            ],
            "type": "histogram2dcontour"
           }
          ],
          "mesh3d": [
           {
            "colorbar": {
             "outlinewidth": 0,
             "ticks": ""
            },
            "type": "mesh3d"
           }
          ],
          "parcoords": [
           {
            "line": {
             "colorbar": {
              "outlinewidth": 0,
              "ticks": ""
             }
            },
            "type": "parcoords"
           }
          ],
          "pie": [
           {
            "automargin": true,
            "type": "pie"
           }
          ],
          "scatter": [
           {
            "fillpattern": {
             "fillmode": "overlay",
             "size": 10,
             "solidity": 0.2
            },
            "type": "scatter"
           }
          ],
          "scatter3d": [
           {
            "line": {
             "colorbar": {
              "outlinewidth": 0,
              "ticks": ""
             }
            },
            "marker": {
             "colorbar": {
              "outlinewidth": 0,
              "ticks": ""
             }
            },
            "type": "scatter3d"
           }
          ],
          "scattercarpet": [
           {
            "marker": {
             "colorbar": {
              "outlinewidth": 0,
              "ticks": ""
             }
            },
            "type": "scattercarpet"
           }
          ],
          "scattergeo": [
           {
            "marker": {
             "colorbar": {
              "outlinewidth": 0,
              "ticks": ""
             }
            },
            "type": "scattergeo"
           }
          ],
          "scattergl": [
           {
            "marker": {
             "colorbar": {
              "outlinewidth": 0,
              "ticks": ""
             }
            },
            "type": "scattergl"
           }
          ],
          "scattermapbox": [
           {
            "marker": {
             "colorbar": {
              "outlinewidth": 0,
              "ticks": ""
             }
            },
            "type": "scattermapbox"
           }
          ],
          "scatterpolar": [
           {
            "marker": {
             "colorbar": {
              "outlinewidth": 0,
              "ticks": ""
             }
            },
            "type": "scatterpolar"
           }
          ],
          "scatterpolargl": [
           {
            "marker": {
             "colorbar": {
              "outlinewidth": 0,
              "ticks": ""
             }
            },
            "type": "scatterpolargl"
           }
          ],
          "scatterternary": [
           {
            "marker": {
             "colorbar": {
              "outlinewidth": 0,
              "ticks": ""
             }
            },
            "type": "scatterternary"
           }
          ],
          "surface": [
           {
            "colorbar": {
             "outlinewidth": 0,
             "ticks": ""
            },
            "colorscale": [
             [
              0,
              "#0d0887"
             ],
             [
              0.1111111111111111,
              "#46039f"
             ],
             [
              0.2222222222222222,
              "#7201a8"
             ],
             [
              0.3333333333333333,
              "#9c179e"
             ],
             [
              0.4444444444444444,
              "#bd3786"
             ],
             [
              0.5555555555555556,
              "#d8576b"
             ],
             [
              0.6666666666666666,
              "#ed7953"
             ],
             [
              0.7777777777777778,
              "#fb9f3a"
             ],
             [
              0.8888888888888888,
              "#fdca26"
             ],
             [
              1,
              "#f0f921"
             ]
            ],
            "type": "surface"
           }
          ],
          "table": [
           {
            "cells": {
             "fill": {
              "color": "#EBF0F8"
             },
             "line": {
              "color": "white"
             }
            },
            "header": {
             "fill": {
              "color": "#C8D4E3"
             },
             "line": {
              "color": "white"
             }
            },
            "type": "table"
           }
          ]
         },
         "layout": {
          "annotationdefaults": {
           "arrowcolor": "#2a3f5f",
           "arrowhead": 0,
           "arrowwidth": 1
          },
          "autotypenumbers": "strict",
          "coloraxis": {
           "colorbar": {
            "outlinewidth": 0,
            "ticks": ""
           }
          },
          "colorscale": {
           "diverging": [
            [
             0,
             "#8e0152"
            ],
            [
             0.1,
             "#c51b7d"
            ],
            [
             0.2,
             "#de77ae"
            ],
            [
             0.3,
             "#f1b6da"
            ],
            [
             0.4,
             "#fde0ef"
            ],
            [
             0.5,
             "#f7f7f7"
            ],
            [
             0.6,
             "#e6f5d0"
            ],
            [
             0.7,
             "#b8e186"
            ],
            [
             0.8,
             "#7fbc41"
            ],
            [
             0.9,
             "#4d9221"
            ],
            [
             1,
             "#276419"
            ]
           ],
           "sequential": [
            [
             0,
             "#0d0887"
            ],
            [
             0.1111111111111111,
             "#46039f"
            ],
            [
             0.2222222222222222,
             "#7201a8"
            ],
            [
             0.3333333333333333,
             "#9c179e"
            ],
            [
             0.4444444444444444,
             "#bd3786"
            ],
            [
             0.5555555555555556,
             "#d8576b"
            ],
            [
             0.6666666666666666,
             "#ed7953"
            ],
            [
             0.7777777777777778,
             "#fb9f3a"
            ],
            [
             0.8888888888888888,
             "#fdca26"
            ],
            [
             1,
             "#f0f921"
            ]
           ],
           "sequentialminus": [
            [
             0,
             "#0d0887"
            ],
            [
             0.1111111111111111,
             "#46039f"
            ],
            [
             0.2222222222222222,
             "#7201a8"
            ],
            [
             0.3333333333333333,
             "#9c179e"
            ],
            [
             0.4444444444444444,
             "#bd3786"
            ],
            [
             0.5555555555555556,
             "#d8576b"
            ],
            [
             0.6666666666666666,
             "#ed7953"
            ],
            [
             0.7777777777777778,
             "#fb9f3a"
            ],
            [
             0.8888888888888888,
             "#fdca26"
            ],
            [
             1,
             "#f0f921"
            ]
           ]
          },
          "colorway": [
           "#636efa",
           "#EF553B",
           "#00cc96",
           "#ab63fa",
           "#FFA15A",
           "#19d3f3",
           "#FF6692",
           "#B6E880",
           "#FF97FF",
           "#FECB52"
          ],
          "font": {
           "color": "#2a3f5f"
          },
          "geo": {
           "bgcolor": "white",
           "lakecolor": "white",
           "landcolor": "#E5ECF6",
           "showlakes": true,
           "showland": true,
           "subunitcolor": "white"
          },
          "hoverlabel": {
           "align": "left"
          },
          "hovermode": "closest",
          "mapbox": {
           "style": "light"
          },
          "paper_bgcolor": "white",
          "plot_bgcolor": "#E5ECF6",
          "polar": {
           "angularaxis": {
            "gridcolor": "white",
            "linecolor": "white",
            "ticks": ""
           },
           "bgcolor": "#E5ECF6",
           "radialaxis": {
            "gridcolor": "white",
            "linecolor": "white",
            "ticks": ""
           }
          },
          "scene": {
           "xaxis": {
            "backgroundcolor": "#E5ECF6",
            "gridcolor": "white",
            "gridwidth": 2,
            "linecolor": "white",
            "showbackground": true,
            "ticks": "",
            "zerolinecolor": "white"
           },
           "yaxis": {
            "backgroundcolor": "#E5ECF6",
            "gridcolor": "white",
            "gridwidth": 2,
            "linecolor": "white",
            "showbackground": true,
            "ticks": "",
            "zerolinecolor": "white"
           },
           "zaxis": {
            "backgroundcolor": "#E5ECF6",
            "gridcolor": "white",
            "gridwidth": 2,
            "linecolor": "white",
            "showbackground": true,
            "ticks": "",
            "zerolinecolor": "white"
           }
          },
          "shapedefaults": {
           "line": {
            "color": "#2a3f5f"
           }
          },
          "ternary": {
           "aaxis": {
            "gridcolor": "white",
            "linecolor": "white",
            "ticks": ""
           },
           "baxis": {
            "gridcolor": "white",
            "linecolor": "white",
            "ticks": ""
           },
           "bgcolor": "#E5ECF6",
           "caxis": {
            "gridcolor": "white",
            "linecolor": "white",
            "ticks": ""
           }
          },
          "title": {
           "x": 0.05
          },
          "xaxis": {
           "automargin": true,
           "gridcolor": "white",
           "linecolor": "white",
           "ticks": "",
           "title": {
            "standoff": 15
           },
           "zerolinecolor": "white",
           "zerolinewidth": 2
          },
          "yaxis": {
           "automargin": true,
           "gridcolor": "white",
           "linecolor": "white",
           "ticks": "",
           "title": {
            "standoff": 15
           },
           "zerolinecolor": "white",
           "zerolinewidth": 2
          }
         }
        },
        "title": {
         "text": "Total number of papers in PubMed in each year"
        },
        "xaxis": {
         "anchor": "y",
         "domain": [
          0,
          1
         ],
         "title": {
          "text": "Year"
         }
        },
        "yaxis": {
         "anchor": "x",
         "domain": [
          0,
          1
         ],
         "title": {
          "text": "Total No. of publications"
         }
        }
       }
      }
     },
     "metadata": {},
     "output_type": "display_data"
    },
    {
     "data": {
      "application/vnd.plotly.v1+json": {
       "config": {
        "plotlyServerURL": "https://plot.ly"
       },
       "data": [
        {
         "alignmentgroup": "True",
         "hovertemplate": "Year=%{x}<br>Total No. of publications=%{y}<extra></extra>",
         "legendgroup": "",
         "marker": {
          "color": "#636efa",
          "pattern": {
           "shape": ""
          }
         },
         "name": "",
         "offsetgroup": "",
         "orientation": "v",
         "showlegend": false,
         "textposition": "auto",
         "texttemplate": "%{y:.2s}",
         "type": "bar",
         "x": [
          1997,
          1998,
          1999,
          2000,
          2001,
          2002,
          2003,
          2004,
          2005,
          2006,
          2007,
          2008,
          2009,
          2010,
          2011,
          2012,
          2013,
          2014,
          2015,
          2016,
          2017,
          2018,
          2019,
          2020,
          2021,
          2022,
          2023
         ],
         "xaxis": "x",
         "y": [
          2,
          1,
          3,
          5,
          2,
          9,
          4,
          8,
          5,
          11,
          12,
          15,
          18,
          12,
          28,
          25,
          37,
          42,
          47,
          43,
          36,
          38,
          45,
          36,
          53,
          63,
          59
         ],
         "yaxis": "y"
        }
       ],
       "layout": {
        "barmode": "relative",
        "height": 400,
        "legend": {
         "tracegroupgap": 0
        },
        "template": {
         "data": {
          "bar": [
           {
            "error_x": {
             "color": "#2a3f5f"
            },
            "error_y": {
             "color": "#2a3f5f"
            },
            "marker": {
             "line": {
              "color": "#E5ECF6",
              "width": 0.5
             },
             "pattern": {
              "fillmode": "overlay",
              "size": 10,
              "solidity": 0.2
             }
            },
            "type": "bar"
           }
          ],
          "barpolar": [
           {
            "marker": {
             "line": {
              "color": "#E5ECF6",
              "width": 0.5
             },
             "pattern": {
              "fillmode": "overlay",
              "size": 10,
              "solidity": 0.2
             }
            },
            "type": "barpolar"
           }
          ],
          "carpet": [
           {
            "aaxis": {
             "endlinecolor": "#2a3f5f",
             "gridcolor": "white",
             "linecolor": "white",
             "minorgridcolor": "white",
             "startlinecolor": "#2a3f5f"
            },
            "baxis": {
             "endlinecolor": "#2a3f5f",
             "gridcolor": "white",
             "linecolor": "white",
             "minorgridcolor": "white",
             "startlinecolor": "#2a3f5f"
            },
            "type": "carpet"
           }
          ],
          "choropleth": [
           {
            "colorbar": {
             "outlinewidth": 0,
             "ticks": ""
            },
            "type": "choropleth"
           }
          ],
          "contour": [
           {
            "colorbar": {
             "outlinewidth": 0,
             "ticks": ""
            },
            "colorscale": [
             [
              0,
              "#0d0887"
             ],
             [
              0.1111111111111111,
              "#46039f"
             ],
             [
              0.2222222222222222,
              "#7201a8"
             ],
             [
              0.3333333333333333,
              "#9c179e"
             ],
             [
              0.4444444444444444,
              "#bd3786"
             ],
             [
              0.5555555555555556,
              "#d8576b"
             ],
             [
              0.6666666666666666,
              "#ed7953"
             ],
             [
              0.7777777777777778,
              "#fb9f3a"
             ],
             [
              0.8888888888888888,
              "#fdca26"
             ],
             [
              1,
              "#f0f921"
             ]
            ],
            "type": "contour"
           }
          ],
          "contourcarpet": [
           {
            "colorbar": {
             "outlinewidth": 0,
             "ticks": ""
            },
            "type": "contourcarpet"
           }
          ],
          "heatmap": [
           {
            "colorbar": {
             "outlinewidth": 0,
             "ticks": ""
            },
            "colorscale": [
             [
              0,
              "#0d0887"
             ],
             [
              0.1111111111111111,
              "#46039f"
             ],
             [
              0.2222222222222222,
              "#7201a8"
             ],
             [
              0.3333333333333333,
              "#9c179e"
             ],
             [
              0.4444444444444444,
              "#bd3786"
             ],
             [
              0.5555555555555556,
              "#d8576b"
             ],
             [
              0.6666666666666666,
              "#ed7953"
             ],
             [
              0.7777777777777778,
              "#fb9f3a"
             ],
             [
              0.8888888888888888,
              "#fdca26"
             ],
             [
              1,
              "#f0f921"
             ]
            ],
            "type": "heatmap"
           }
          ],
          "heatmapgl": [
           {
            "colorbar": {
             "outlinewidth": 0,
             "ticks": ""
            },
            "colorscale": [
             [
              0,
              "#0d0887"
             ],
             [
              0.1111111111111111,
              "#46039f"
             ],
             [
              0.2222222222222222,
              "#7201a8"
             ],
             [
              0.3333333333333333,
              "#9c179e"
             ],
             [
              0.4444444444444444,
              "#bd3786"
             ],
             [
              0.5555555555555556,
              "#d8576b"
             ],
             [
              0.6666666666666666,
              "#ed7953"
             ],
             [
              0.7777777777777778,
              "#fb9f3a"
             ],
             [
              0.8888888888888888,
              "#fdca26"
             ],
             [
              1,
              "#f0f921"
             ]
            ],
            "type": "heatmapgl"
           }
          ],
          "histogram": [
           {
            "marker": {
             "pattern": {
              "fillmode": "overlay",
              "size": 10,
              "solidity": 0.2
             }
            },
            "type": "histogram"
           }
          ],
          "histogram2d": [
           {
            "colorbar": {
             "outlinewidth": 0,
             "ticks": ""
            },
            "colorscale": [
             [
              0,
              "#0d0887"
             ],
             [
              0.1111111111111111,
              "#46039f"
             ],
             [
              0.2222222222222222,
              "#7201a8"
             ],
             [
              0.3333333333333333,
              "#9c179e"
             ],
             [
              0.4444444444444444,
              "#bd3786"
             ],
             [
              0.5555555555555556,
              "#d8576b"
             ],
             [
              0.6666666666666666,
              "#ed7953"
             ],
             [
              0.7777777777777778,
              "#fb9f3a"
             ],
             [
              0.8888888888888888,
              "#fdca26"
             ],
             [
              1,
              "#f0f921"
             ]
            ],
            "type": "histogram2d"
           }
          ],
          "histogram2dcontour": [
           {
            "colorbar": {
             "outlinewidth": 0,
             "ticks": ""
            },
            "colorscale": [
             [
              0,
              "#0d0887"
             ],
             [
              0.1111111111111111,
              "#46039f"
             ],
             [
              0.2222222222222222,
              "#7201a8"
             ],
             [
              0.3333333333333333,
              "#9c179e"
             ],
             [
              0.4444444444444444,
              "#bd3786"
             ],
             [
              0.5555555555555556,
              "#d8576b"
             ],
             [
              0.6666666666666666,
              "#ed7953"
             ],
             [
              0.7777777777777778,
              "#fb9f3a"
             ],
             [
              0.8888888888888888,
              "#fdca26"
             ],
             [
              1,
              "#f0f921"
             ]
            ],
            "type": "histogram2dcontour"
           }
          ],
          "mesh3d": [
           {
            "colorbar": {
             "outlinewidth": 0,
             "ticks": ""
            },
            "type": "mesh3d"
           }
          ],
          "parcoords": [
           {
            "line": {
             "colorbar": {
              "outlinewidth": 0,
              "ticks": ""
             }
            },
            "type": "parcoords"
           }
          ],
          "pie": [
           {
            "automargin": true,
            "type": "pie"
           }
          ],
          "scatter": [
           {
            "fillpattern": {
             "fillmode": "overlay",
             "size": 10,
             "solidity": 0.2
            },
            "type": "scatter"
           }
          ],
          "scatter3d": [
           {
            "line": {
             "colorbar": {
              "outlinewidth": 0,
              "ticks": ""
             }
            },
            "marker": {
             "colorbar": {
              "outlinewidth": 0,
              "ticks": ""
             }
            },
            "type": "scatter3d"
           }
          ],
          "scattercarpet": [
           {
            "marker": {
             "colorbar": {
              "outlinewidth": 0,
              "ticks": ""
             }
            },
            "type": "scattercarpet"
           }
          ],
          "scattergeo": [
           {
            "marker": {
             "colorbar": {
              "outlinewidth": 0,
              "ticks": ""
             }
            },
            "type": "scattergeo"
           }
          ],
          "scattergl": [
           {
            "marker": {
             "colorbar": {
              "outlinewidth": 0,
              "ticks": ""
             }
            },
            "type": "scattergl"
           }
          ],
          "scattermapbox": [
           {
            "marker": {
             "colorbar": {
              "outlinewidth": 0,
              "ticks": ""
             }
            },
            "type": "scattermapbox"
           }
          ],
          "scatterpolar": [
           {
            "marker": {
             "colorbar": {
              "outlinewidth": 0,
              "ticks": ""
             }
            },
            "type": "scatterpolar"
           }
          ],
          "scatterpolargl": [
           {
            "marker": {
             "colorbar": {
              "outlinewidth": 0,
              "ticks": ""
             }
            },
            "type": "scatterpolargl"
           }
          ],
          "scatterternary": [
           {
            "marker": {
             "colorbar": {
              "outlinewidth": 0,
              "ticks": ""
             }
            },
            "type": "scatterternary"
           }
          ],
          "surface": [
           {
            "colorbar": {
             "outlinewidth": 0,
             "ticks": ""
            },
            "colorscale": [
             [
              0,
              "#0d0887"
             ],
             [
              0.1111111111111111,
              "#46039f"
             ],
             [
              0.2222222222222222,
              "#7201a8"
             ],
             [
              0.3333333333333333,
              "#9c179e"
             ],
             [
              0.4444444444444444,
              "#bd3786"
             ],
             [
              0.5555555555555556,
              "#d8576b"
             ],
             [
              0.6666666666666666,
              "#ed7953"
             ],
             [
              0.7777777777777778,
              "#fb9f3a"
             ],
             [
              0.8888888888888888,
              "#fdca26"
             ],
             [
              1,
              "#f0f921"
             ]
            ],
            "type": "surface"
           }
          ],
          "table": [
           {
            "cells": {
             "fill": {
              "color": "#EBF0F8"
             },
             "line": {
              "color": "white"
             }
            },
            "header": {
             "fill": {
              "color": "#C8D4E3"
             },
             "line": {
              "color": "white"
             }
            },
            "type": "table"
           }
          ]
         },
         "layout": {
          "annotationdefaults": {
           "arrowcolor": "#2a3f5f",
           "arrowhead": 0,
           "arrowwidth": 1
          },
          "autotypenumbers": "strict",
          "coloraxis": {
           "colorbar": {
            "outlinewidth": 0,
            "ticks": ""
           }
          },
          "colorscale": {
           "diverging": [
            [
             0,
             "#8e0152"
            ],
            [
             0.1,
             "#c51b7d"
            ],
            [
             0.2,
             "#de77ae"
            ],
            [
             0.3,
             "#f1b6da"
            ],
            [
             0.4,
             "#fde0ef"
            ],
            [
             0.5,
             "#f7f7f7"
            ],
            [
             0.6,
             "#e6f5d0"
            ],
            [
             0.7,
             "#b8e186"
            ],
            [
             0.8,
             "#7fbc41"
            ],
            [
             0.9,
             "#4d9221"
            ],
            [
             1,
             "#276419"
            ]
           ],
           "sequential": [
            [
             0,
             "#0d0887"
            ],
            [
             0.1111111111111111,
             "#46039f"
            ],
            [
             0.2222222222222222,
             "#7201a8"
            ],
            [
             0.3333333333333333,
             "#9c179e"
            ],
            [
             0.4444444444444444,
             "#bd3786"
            ],
            [
             0.5555555555555556,
             "#d8576b"
            ],
            [
             0.6666666666666666,
             "#ed7953"
            ],
            [
             0.7777777777777778,
             "#fb9f3a"
            ],
            [
             0.8888888888888888,
             "#fdca26"
            ],
            [
             1,
             "#f0f921"
            ]
           ],
           "sequentialminus": [
            [
             0,
             "#0d0887"
            ],
            [
             0.1111111111111111,
             "#46039f"
            ],
            [
             0.2222222222222222,
             "#7201a8"
            ],
            [
             0.3333333333333333,
             "#9c179e"
            ],
            [
             0.4444444444444444,
             "#bd3786"
            ],
            [
             0.5555555555555556,
             "#d8576b"
            ],
            [
             0.6666666666666666,
             "#ed7953"
            ],
            [
             0.7777777777777778,
             "#fb9f3a"
            ],
            [
             0.8888888888888888,
             "#fdca26"
            ],
            [
             1,
             "#f0f921"
            ]
           ]
          },
          "colorway": [
           "#636efa",
           "#EF553B",
           "#00cc96",
           "#ab63fa",
           "#FFA15A",
           "#19d3f3",
           "#FF6692",
           "#B6E880",
           "#FF97FF",
           "#FECB52"
          ],
          "font": {
           "color": "#2a3f5f"
          },
          "geo": {
           "bgcolor": "white",
           "lakecolor": "white",
           "landcolor": "#E5ECF6",
           "showlakes": true,
           "showland": true,
           "subunitcolor": "white"
          },
          "hoverlabel": {
           "align": "left"
          },
          "hovermode": "closest",
          "mapbox": {
           "style": "light"
          },
          "paper_bgcolor": "white",
          "plot_bgcolor": "#E5ECF6",
          "polar": {
           "angularaxis": {
            "gridcolor": "white",
            "linecolor": "white",
            "ticks": ""
           },
           "bgcolor": "#E5ECF6",
           "radialaxis": {
            "gridcolor": "white",
            "linecolor": "white",
            "ticks": ""
           }
          },
          "scene": {
           "xaxis": {
            "backgroundcolor": "#E5ECF6",
            "gridcolor": "white",
            "gridwidth": 2,
            "linecolor": "white",
            "showbackground": true,
            "ticks": "",
            "zerolinecolor": "white"
           },
           "yaxis": {
            "backgroundcolor": "#E5ECF6",
            "gridcolor": "white",
            "gridwidth": 2,
            "linecolor": "white",
            "showbackground": true,
            "ticks": "",
            "zerolinecolor": "white"
           },
           "zaxis": {
            "backgroundcolor": "#E5ECF6",
            "gridcolor": "white",
            "gridwidth": 2,
            "linecolor": "white",
            "showbackground": true,
            "ticks": "",
            "zerolinecolor": "white"
           }
          },
          "shapedefaults": {
           "line": {
            "color": "#2a3f5f"
           }
          },
          "ternary": {
           "aaxis": {
            "gridcolor": "white",
            "linecolor": "white",
            "ticks": ""
           },
           "baxis": {
            "gridcolor": "white",
            "linecolor": "white",
            "ticks": ""
           },
           "bgcolor": "#E5ECF6",
           "caxis": {
            "gridcolor": "white",
            "linecolor": "white",
            "ticks": ""
           }
          },
          "title": {
           "x": 0.05
          },
          "xaxis": {
           "automargin": true,
           "gridcolor": "white",
           "linecolor": "white",
           "ticks": "",
           "title": {
            "standoff": 15
           },
           "zerolinecolor": "white",
           "zerolinewidth": 2
          },
          "yaxis": {
           "automargin": true,
           "gridcolor": "white",
           "linecolor": "white",
           "ticks": "",
           "title": {
            "standoff": 15
           },
           "zerolinecolor": "white",
           "zerolinewidth": 2
          }
         }
        },
        "title": {
         "text": "Total number of papers that mentions the Biological Target"
        },
        "xaxis": {
         "anchor": "y",
         "domain": [
          0,
          1
         ],
         "title": {
          "text": "Year"
         }
        },
        "yaxis": {
         "anchor": "x",
         "domain": [
          0,
          1
         ],
         "title": {
          "text": "Total No. of publications"
         }
        }
       }
      }
     },
     "metadata": {},
     "output_type": "display_data"
    }
   ],
   "source": [
    "#Importing some important libraries for further use\n",
    "\n",
    "#Reading the csv files\n",
    "\n",
    "article_df = pd.read_csv('/Users/callumrobinson/Documents/Masters/Skills/Group 2/articles.B2M.csv')\n",
    "authors_df = pd.read_csv(\"/Users/callumrobinson/Documents/Masters/Skills/Group 2/authors.B2M.csv\")\n",
    "pap_counts_df = pd.read_csv(\"/Users/callumrobinson/Documents/Masters/Skills/Group 2/paper_counts.csv\")\n",
    "# displaying the articles dataframe for understanding the dataset\n",
    "\n",
    "pd.set_option('display.max_colwidth', None) # for maximise the column width to see whole text of a particular column.\n",
    "\n",
    "display(article_df)\n",
    "#display(article_df[[\"FirstAuthorAffiliation\"]])\n",
    "\n",
    "display(authors_df)\n",
    "display(pap_counts_df)\n",
    "article_df.head(6)\n",
    "authors_df.head(20)\n",
    "#Checking the dataframe information and NaN values\n",
    "\n",
    "print(\"Common information of the Article dataset: \")\n",
    "print(\"--------------------------\")\n",
    "article_df.info()\n",
    "print(\"--------------------------\")\n",
    "print(\"The NaN vaues in the Article dataset is: \")\n",
    "print(\"--------------------------\")\n",
    "article_df.isna().sum()\n",
    "print(\"The NaN vaues in the Authors dataset is: \")\n",
    "print(\"-------------------------------\")\n",
    "authors_df.isna().sum()\n",
    "print(\"The NaN vaues in the paper count dataset is: \")\n",
    "print(\"--------------------------\")\n",
    "pap_counts_df.isna().sum()\n",
    "#Checking the frequency of categorical values in the Article dataset\n",
    "\n",
    "article_df.describe(exclude = [np.number])\n",
    "# Droping out the rows that have N/A in Affiliation from the Article dataset\n",
    "droped_article_df  = article_df.dropna(subset = ['FirstAuthorAffiliation'])\n",
    "\n",
    "droped_article_df.info()\n",
    "\n",
    "## Top5 contributing institutions:\n",
    "#Droping unnecessary columns\n",
    "\n",
    "inst_1 = droped_article_df.drop(['Title','Abstract','Location','FirstAuthorInitials'], axis = 1) \n",
    "display(inst_1)\n",
    "\n",
    "#Concatinating the Authors name:\n",
    "inst_1['AuthorName'] = inst_1['FirstAuthorForename'].map(str) + ' ' + inst_1['FirstAuthorLastname'].map(str)\n",
    "\n",
    "display(inst_1)\n",
    "#Droping the unnecessary two columns\n",
    "\n",
    "inst_2 = inst_1.drop(['FirstAuthorForename','FirstAuthorLastname'], axis = 1) \n",
    "display(inst_2)\n",
    "inst_2.describe(exclude = [np.number])\n",
    "\n",
    "# Making a dataframe for further visuaisation\n",
    "\n",
    "inst_3 = inst_2[[\"PMID\", \"FirstAuthorAffiliation\"]]\n",
    "\n",
    "\n",
    "display(inst_3)\n",
    "inst_4 = inst_3.groupby([\"FirstAuthorAffiliation\"]).count()\n",
    "\n",
    "display(inst_4)\n",
    "# Splitting the adress column\n",
    "inst_5 = inst_3.FirstAuthorAffiliation.str.rsplit(',', n = 2, expand = True)\n",
    "\n",
    "display(inst_5)\n",
    "#Storing the country column into a dataframe\n",
    "a  = pd.DataFrame(inst_5[2])\n",
    "a.columns = [\"CountryName\"] #Assigining a name to colmn\n",
    "inst_6 = inst_2.join(a) # Joining with the another dataframe at the start\n",
    "display(inst_6)\n",
    "inst_7 = inst_6[\"CountryName\"].str.split('.', n = 1, expand = True) # Spliting again for removing email-id for more accrate country name\n",
    "display(inst_7)\n",
    "b  = pd.DataFrame(inst_7[0]) # Storing a country into a blank dataframe\n",
    "b.columns = [\"AffiliationCountry\"] # Again assigning the contry name\n",
    "inst_8 = inst_2.join(b) # Joining with main dataframe from a start of this task\n",
    "display(inst_8)\n",
    "inst_9 = inst_8[['PMID','AffiliationCountry']] # Storing two columns for further visualisations\n",
    "\n",
    "inst_10 = inst_9.groupby(['AffiliationCountry']).count().reset_index() # Grouping the country names\n",
    "#inst_10[\"PMID\"].columns = [\"Number of Publications\"]\n",
    "#display(inst_10)\n",
    "# Making a Choropleth map \n",
    "\n",
    "figure = px.choropleth(inst_10.reset_index(), locations = 'AffiliationCountry', locationmode= 'country names' ,\n",
    "                       color = 'PMID', width = 800, height = 800, title = \"No. of papers represents Biological targets published by PubMed from various countries:\")\n",
    "\n",
    "figure.show()\n",
    "\n",
    "inst_11 = inst_10.nlargest(5, 'PMID') # Finding a largest value in total publications\n",
    "display(inst_11)\n",
    "\n",
    "# Making a bar chart for Top 5 contributing countries\n",
    "fig = px.bar(inst_11, x='AffiliationCountry', y='PMID', labels={'Count':'Total No. of publications'}, height=400, title = \"Top 5 countries to publish more Biological target papers: \", text_auto='.2s', color = 'PMID')\n",
    "fig.update_traces(textfont_size=20, textangle=0, textposition=\"outside\", cliponaxis=False)\n",
    "fig.show()\n",
    "### Count of Number of papers published by PubMed and count of Biological target papers publications by PubMed\n",
    "proportion = inst_2[[\"Year\",\"PMID\"]] # taking a two columns from main dataset\n",
    "\n",
    "display(proportion)\n",
    "proportion1 = proportion.groupby([\"Year\"]).count().reset_index() # Groupby by year\n",
    "\n",
    "display(proportion1)\n",
    "proportion2 = pap_counts_df # Again adding a columns from the main dataset to the variable\n",
    "\n",
    "display(proportion2)\n",
    "proportion3 = proportion2.iloc[115:142,:] # By indexing finding the data from 1997-2023\n",
    "\n",
    "display(proportion3)\n",
    "# Bar chart plot for visualisation\n",
    "\n",
    "fig = px.bar(proportion3, x='Year', y='Count', labels={'Count':'Total No. of publications'}, height=400, title = \"Total number of papers in PubMed in each year\", text_auto='.2s', color = 'Count')\n",
    "fig.update_traces(textfont_size=20, textangle=0, textposition=\"outside\", cliponaxis=False)\n",
    "fig.show()\n",
    "# Another Bar chart plot for visualisation\n",
    "\n",
    "fig = px.bar(proportion1, x='Year', y='PMID', labels={'PMID':'Total No. of publications'}, height=400, title = \"Total number of papers that mentions the Biological Target\", text_auto='.2s')\n",
    "fig.show()\n"
   ]
  }
 ],
 "metadata": {
  "kernelspec": {
   "display_name": "Python 3",
   "language": "python",
   "name": "python3"
  },
  "language_info": {
   "codemirror_mode": {
    "name": "ipython",
    "version": 3
   },
   "file_extension": ".py",
   "mimetype": "text/x-python",
   "name": "python",
   "nbconvert_exporter": "python",
   "pygments_lexer": "ipython3",
   "version": "3.11.5"
  },
  "orig_nbformat": 4
 },
 "nbformat": 4,
 "nbformat_minor": 2
}
